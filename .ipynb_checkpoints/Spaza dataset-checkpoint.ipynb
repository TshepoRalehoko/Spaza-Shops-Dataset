{
 "cells": [
  {
   "cell_type": "markdown",
   "id": "d9c3d11f",
   "metadata": {},
   "source": [
    "## Spaza Dataset: Cleaning and Visualisation\n",
    "_Author: Tshepo Ralehoko_ \\\n",
    "_Date: 29 July 2023_"
   ]
  },
  {
   "cell_type": "code",
   "execution_count": null,
   "id": "14d7fec6",
   "metadata": {},
   "outputs": [],
   "source": [
    "#### Ob"
   ]
  },
  {
   "cell_type": "code",
   "execution_count": 1,
   "id": "c57ead31",
   "metadata": {},
   "outputs": [],
   "source": [
    "# loading the requisite modules\n",
    "import numpy as np\n",
    "import pandas as pd\n",
    "import openpyxl as xls\n",
    "import datetime as dt"
   ]
  },
  {
   "cell_type": "code",
   "execution_count": 2,
   "id": "388f920f",
   "metadata": {},
   "outputs": [],
   "source": [
    "# loading the dataset into the notebook\n",
    "df=pd.read_excel(io=r'C:\\Users\\rtral\\Datasets\\Spaza data\\Spaza data.xlsx', sheet_name='Data Set 1')\n",
    "\n",
    "# loading the second sheet into the notebook\n",
    "ref_sheet=pd.read_excel(io=r'C:\\Users\\rtral\\Datasets\\Spaza data\\Spaza data.xlsx', sheet_name='Reference Sheet', header=[0],skiprows=[1,2])"
   ]
  },
  {
   "cell_type": "code",
   "execution_count": 3,
   "id": "a12a1cd6",
   "metadata": {},
   "outputs": [
    {
     "data": {
      "text/html": [
       "<div>\n",
       "<style scoped>\n",
       "    .dataframe tbody tr th:only-of-type {\n",
       "        vertical-align: middle;\n",
       "    }\n",
       "\n",
       "    .dataframe tbody tr th {\n",
       "        vertical-align: top;\n",
       "    }\n",
       "\n",
       "    .dataframe thead th {\n",
       "        text-align: right;\n",
       "    }\n",
       "</style>\n",
       "<table border=\"1\" class=\"dataframe\">\n",
       "  <thead>\n",
       "    <tr style=\"text-align: right;\">\n",
       "      <th></th>\n",
       "      <th>PAYLOAD_OBJECTID</th>\n",
       "      <th>COMPLETED_AT</th>\n",
       "      <th>JOBBER_ID</th>\n",
       "      <th>spaza_location</th>\n",
       "      <th>spaza_type</th>\n",
       "      <th>spaza_type_1</th>\n",
       "      <th>role</th>\n",
       "      <th>Role_1</th>\n",
       "      <th>nationality</th>\n",
       "      <th>number_of_spazas</th>\n",
       "      <th>spaza_age</th>\n",
       "      <th>Spaza_age_1</th>\n",
       "      <th>deposit_frequency</th>\n",
       "      <th>stock_frequency</th>\n",
       "      <th>stock_frequency_1</th>\n",
       "      <th>stock_orders_-_day</th>\n",
       "      <th>buying_group/stokvel</th>\n",
       "      <th>credit</th>\n",
       "      <th>store_items</th>\n",
       "      <th>shelving</th>\n",
       "      <th>shelving_1</th>\n",
       "      <th>store_fridges</th>\n",
       "      <th>till_points</th>\n",
       "      <th>till_points_1</th>\n",
       "      <th>supplier_support</th>\n",
       "      <th>supplier_support_1</th>\n",
       "      <th>weekly_ode_amount</th>\n",
       "      <th>monthly_sales</th>\n",
       "      <th>brands_in-store</th>\n",
       "      <th>0_Supplier_wholesalers</th>\n",
       "      <th>0_Order %_wholesalers</th>\n",
       "      <th>1_Supplier_wholesalers</th>\n",
       "      <th>1_Order %_wholesalers</th>\n",
       "      <th>2_Supplier_wholesalers</th>\n",
       "      <th>2_Order %_wholesalers</th>\n",
       "      <th>till_slip_submission - visit 1</th>\n",
       "      <th>till_slip_submission - visit 2</th>\n",
       "    </tr>\n",
       "  </thead>\n",
       "  <tbody>\n",
       "    <tr>\n",
       "      <th>0</th>\n",
       "      <td>10825571</td>\n",
       "      <td>2021-11-05 09:00:43.023531+00:00</td>\n",
       "      <td>439383</td>\n",
       "      <td>CHEAPEST SUPERMARKET -29.6979692867153 31.0703980922699</td>\n",
       "      <td>2: Gated (can't walk into the Spaza)</td>\n",
       "      <td>2</td>\n",
       "      <td>1: Shop Keeper</td>\n",
       "      <td>1</td>\n",
       "      <td>1</td>\n",
       "      <td>1</td>\n",
       "      <td>3: 3 - 4 years</td>\n",
       "      <td>3</td>\n",
       "      <td>2</td>\n",
       "      <td>5: When I need stock</td>\n",
       "      <td>5</td>\n",
       "      <td>[\"8\"]</td>\n",
       "      <td>1</td>\n",
       "      <td>1</td>\n",
       "      <td>[\"2\", \"3\", \"4\", \"7\", \"8\", \"10\"]</td>\n",
       "      <td>1: All products have a shelf/ display area</td>\n",
       "      <td>1</td>\n",
       "      <td>2: 1-2 fridges</td>\n",
       "      <td>1: Cash only till point</td>\n",
       "      <td>1</td>\n",
       "      <td>1: Yes</td>\n",
       "      <td>1</td>\n",
       "      <td>30 000</td>\n",
       "      <td>60 000</td>\n",
       "      <td>[\"2\", \"4\", \"5\", \"6\", \"8\", \"9\", \"10\", \"11\", \"12\", \"13\", \"14\", \"18\", \"19\", \"20\", \"21\", \"24\", \"26\", \"33\", \"34\", \"35\", \"36\"]</td>\n",
       "      <td>GATE RITE</td>\n",
       "      <td>100</td>\n",
       "      <td>NaN</td>\n",
       "      <td>0</td>\n",
       "      <td>NaN</td>\n",
       "      <td>0</td>\n",
       "      <td>2: 1 slip</td>\n",
       "      <td>2: 1 slip</td>\n",
       "    </tr>\n",
       "    <tr>\n",
       "      <th>1</th>\n",
       "      <td>10737966</td>\n",
       "      <td>2021-10-30 10:57:07.889638+00:00</td>\n",
       "      <td>439383</td>\n",
       "      <td>MULE TUCK SHOP -29.6538965880754 31.0678124427795</td>\n",
       "      <td>2: Gated (can't walk into the Spaza)</td>\n",
       "      <td>2</td>\n",
       "      <td>2: Shop Owner</td>\n",
       "      <td>2</td>\n",
       "      <td>1</td>\n",
       "      <td>1</td>\n",
       "      <td>2: 1 - 2 years</td>\n",
       "      <td>2</td>\n",
       "      <td>3</td>\n",
       "      <td>5: When I need stock</td>\n",
       "      <td>5</td>\n",
       "      <td>[\"8\"]</td>\n",
       "      <td>1</td>\n",
       "      <td>1</td>\n",
       "      <td>[\"2\", \"3\", \"4\", \"7\", \"8\"]</td>\n",
       "      <td>2: Some products are on the shelves, some products are on the floor</td>\n",
       "      <td>2</td>\n",
       "      <td>2: 1-2 fridges</td>\n",
       "      <td>1: Cash only till point</td>\n",
       "      <td>1</td>\n",
       "      <td>1: Yes</td>\n",
       "      <td>1</td>\n",
       "      <td>21 000</td>\n",
       "      <td>30 000</td>\n",
       "      <td>[\"2\", \"3\", \"4\", \"5\", \"6\", \"8\", \"10\", \"11\", \"12\", \"13\", \"20\", \"21\", \"24\", \"33\", \"34\", \"35\"]</td>\n",
       "      <td>GATERITE</td>\n",
       "      <td>100</td>\n",
       "      <td>NaN</td>\n",
       "      <td>0</td>\n",
       "      <td>NaN</td>\n",
       "      <td>0</td>\n",
       "      <td>2: 1 slip</td>\n",
       "      <td>2: 1 slip</td>\n",
       "    </tr>\n",
       "  </tbody>\n",
       "</table>\n",
       "</div>"
      ],
      "text/plain": [
       "   PAYLOAD_OBJECTID                      COMPLETED_AT  JOBBER_ID  \\\n",
       "0          10825571  2021-11-05 09:00:43.023531+00:00     439383   \n",
       "1          10737966  2021-10-30 10:57:07.889638+00:00     439383   \n",
       "\n",
       "                                            spaza_location  \\\n",
       "0  CHEAPEST SUPERMARKET -29.6979692867153 31.0703980922699   \n",
       "1        MULE TUCK SHOP -29.6538965880754 31.0678124427795   \n",
       "\n",
       "                             spaza_type  spaza_type_1            role  Role_1  \\\n",
       "0  2: Gated (can't walk into the Spaza)             2  1: Shop Keeper       1   \n",
       "1  2: Gated (can't walk into the Spaza)             2   2: Shop Owner       2   \n",
       "\n",
       "  nationality number_of_spazas       spaza_age  Spaza_age_1 deposit_frequency  \\\n",
       "0           1                1  3: 3 - 4 years            3                 2   \n",
       "1           1                1  2: 1 - 2 years            2                 3   \n",
       "\n",
       "        stock_frequency  stock_frequency_1 stock_orders_-_day  \\\n",
       "0  5: When I need stock                  5              [\"8\"]   \n",
       "1  5: When I need stock                  5              [\"8\"]   \n",
       "\n",
       "   buying_group/stokvel  credit                      store_items  \\\n",
       "0                     1       1  [\"2\", \"3\", \"4\", \"7\", \"8\", \"10\"]   \n",
       "1                     1       1        [\"2\", \"3\", \"4\", \"7\", \"8\"]   \n",
       "\n",
       "                                                              shelving  \\\n",
       "0                           1: All products have a shelf/ display area   \n",
       "1  2: Some products are on the shelves, some products are on the floor   \n",
       "\n",
       "   shelving_1   store_fridges              till_points  till_points_1  \\\n",
       "0           1  2: 1-2 fridges  1: Cash only till point              1   \n",
       "1           2  2: 1-2 fridges  1: Cash only till point              1   \n",
       "\n",
       "  supplier_support  supplier_support_1 weekly_ode_amount monthly_sales  \\\n",
       "0           1: Yes                   1            30 000        60 000   \n",
       "1           1: Yes                   1            21 000        30 000   \n",
       "\n",
       "                                                                                                            brands_in-store  \\\n",
       "0  [\"2\", \"4\", \"5\", \"6\", \"8\", \"9\", \"10\", \"11\", \"12\", \"13\", \"14\", \"18\", \"19\", \"20\", \"21\", \"24\", \"26\", \"33\", \"34\", \"35\", \"36\"]   \n",
       "1                                [\"2\", \"3\", \"4\", \"5\", \"6\", \"8\", \"10\", \"11\", \"12\", \"13\", \"20\", \"21\", \"24\", \"33\", \"34\", \"35\"]   \n",
       "\n",
       "  0_Supplier_wholesalers  0_Order %_wholesalers 1_Supplier_wholesalers  \\\n",
       "0             GATE RITE                     100                    NaN   \n",
       "1               GATERITE                    100                    NaN   \n",
       "\n",
       "   1_Order %_wholesalers 2_Supplier_wholesalers  2_Order %_wholesalers  \\\n",
       "0                      0                    NaN                      0   \n",
       "1                      0                    NaN                      0   \n",
       "\n",
       "  till_slip_submission - visit 1 till_slip_submission - visit 2  \n",
       "0                      2: 1 slip                      2: 1 slip  \n",
       "1                      2: 1 slip                      2: 1 slip  "
      ]
     },
     "execution_count": 3,
     "metadata": {},
     "output_type": "execute_result"
    }
   ],
   "source": [
    "# controlling the number of columns to be printed\n",
    "# controlling the column width\n",
    "pd.set_option('display.max_colwidth', None)\n",
    "pd.set_option('display.max_columns', None)\n",
    "\n",
    "# inspecting the first few observations\n",
    "df.head(n=2)"
   ]
  },
  {
   "cell_type": "code",
   "execution_count": 4,
   "id": "b7ed6902",
   "metadata": {},
   "outputs": [],
   "source": [
    "# cleaning column names\n",
    "# small letters, remove white spaces etc\n",
    "df.columns=df.columns.str.strip()\n",
    "df.columns=df.columns.str.lower()\n",
    "df.columns=df.columns.str.replace(' ','_')"
   ]
  },
  {
   "cell_type": "code",
   "execution_count": 5,
   "id": "040dbc8a",
   "metadata": {},
   "outputs": [
    {
     "data": {
      "text/plain": [
       "Index(['payload_objectid', 'completed_at', 'jobber_id', 'spaza_location',\n",
       "       'spaza_type', 'spaza_type_1', 'role', 'role_1', 'nationality',\n",
       "       'number_of_spazas', 'spaza_age', 'spaza_age_1', 'deposit_frequency',\n",
       "       'stock_frequency', 'stock_frequency_1', 'stock_orders_-_day',\n",
       "       'buying_group/stokvel', 'credit', 'store_items', 'shelving',\n",
       "       'shelving_1', 'store_fridges', 'till_points', 'till_points_1',\n",
       "       'supplier_support', 'supplier_support_1', 'weekly_ode_amount',\n",
       "       'monthly_sales', 'brands_in-store', '0_supplier_wholesalers',\n",
       "       '0_order_%_wholesalers', '1_supplier_wholesalers',\n",
       "       '1_order_%_wholesalers', '2_supplier_wholesalers',\n",
       "       '2_order_%_wholesalers', 'till_slip_submission_-_visit_1',\n",
       "       'till_slip_submission_-_visit_2'],\n",
       "      dtype='object')"
      ]
     },
     "execution_count": 5,
     "metadata": {},
     "output_type": "execute_result"
    }
   ],
   "source": [
    "# column names\n",
    "df.columns"
   ]
  },
  {
   "cell_type": "code",
   "execution_count": 6,
   "id": "40f26c58",
   "metadata": {},
   "outputs": [],
   "source": [
    "# adding new columns\n",
    "# date completed\n",
    "df['date_completed']=df['completed_at'].apply(lambda x: x[0:10])\n",
    "\n",
    "#time completed\n",
    "df['time_completed']=df['completed_at'].apply(lambda x: x[10:16])\n"
   ]
  },
  {
   "cell_type": "code",
   "execution_count": 7,
   "id": "981c4ccc",
   "metadata": {},
   "outputs": [
    {
     "data": {
      "text/html": [
       "<div>\n",
       "<style scoped>\n",
       "    .dataframe tbody tr th:only-of-type {\n",
       "        vertical-align: middle;\n",
       "    }\n",
       "\n",
       "    .dataframe tbody tr th {\n",
       "        vertical-align: top;\n",
       "    }\n",
       "\n",
       "    .dataframe thead th {\n",
       "        text-align: right;\n",
       "    }\n",
       "</style>\n",
       "<table border=\"1\" class=\"dataframe\">\n",
       "  <thead>\n",
       "    <tr style=\"text-align: right;\">\n",
       "      <th></th>\n",
       "      <th>payload_objectid</th>\n",
       "      <th>completed_at</th>\n",
       "      <th>jobber_id</th>\n",
       "      <th>spaza_location</th>\n",
       "      <th>spaza_type</th>\n",
       "      <th>spaza_type_1</th>\n",
       "      <th>role</th>\n",
       "      <th>role_1</th>\n",
       "      <th>nationality</th>\n",
       "      <th>number_of_spazas</th>\n",
       "      <th>spaza_age</th>\n",
       "      <th>spaza_age_1</th>\n",
       "      <th>deposit_frequency</th>\n",
       "      <th>stock_frequency</th>\n",
       "      <th>stock_frequency_1</th>\n",
       "      <th>stock_orders_-_day</th>\n",
       "      <th>buying_group/stokvel</th>\n",
       "      <th>credit</th>\n",
       "      <th>store_items</th>\n",
       "      <th>shelving</th>\n",
       "      <th>shelving_1</th>\n",
       "      <th>store_fridges</th>\n",
       "      <th>till_points</th>\n",
       "      <th>till_points_1</th>\n",
       "      <th>supplier_support</th>\n",
       "      <th>supplier_support_1</th>\n",
       "      <th>weekly_ode_amount</th>\n",
       "      <th>monthly_sales</th>\n",
       "      <th>brands_in-store</th>\n",
       "      <th>0_supplier_wholesalers</th>\n",
       "      <th>0_order_%_wholesalers</th>\n",
       "      <th>1_supplier_wholesalers</th>\n",
       "      <th>1_order_%_wholesalers</th>\n",
       "      <th>2_supplier_wholesalers</th>\n",
       "      <th>2_order_%_wholesalers</th>\n",
       "      <th>till_slip_submission_-_visit_1</th>\n",
       "      <th>till_slip_submission_-_visit_2</th>\n",
       "      <th>date_completed</th>\n",
       "      <th>time_completed</th>\n",
       "    </tr>\n",
       "  </thead>\n",
       "  <tbody>\n",
       "    <tr>\n",
       "      <th>0</th>\n",
       "      <td>10825571</td>\n",
       "      <td>2021-11-05 09:00:43.023531+00:00</td>\n",
       "      <td>439383</td>\n",
       "      <td>CHEAPEST SUPERMARKET -29.6979692867153 31.0703980922699</td>\n",
       "      <td>2: Gated (can't walk into the Spaza)</td>\n",
       "      <td>2</td>\n",
       "      <td>1: Shop Keeper</td>\n",
       "      <td>1</td>\n",
       "      <td>1</td>\n",
       "      <td>1</td>\n",
       "      <td>3: 3 - 4 years</td>\n",
       "      <td>3</td>\n",
       "      <td>2</td>\n",
       "      <td>5: When I need stock</td>\n",
       "      <td>5</td>\n",
       "      <td>[\"8\"]</td>\n",
       "      <td>1</td>\n",
       "      <td>1</td>\n",
       "      <td>[\"2\", \"3\", \"4\", \"7\", \"8\", \"10\"]</td>\n",
       "      <td>1: All products have a shelf/ display area</td>\n",
       "      <td>1</td>\n",
       "      <td>2: 1-2 fridges</td>\n",
       "      <td>1: Cash only till point</td>\n",
       "      <td>1</td>\n",
       "      <td>1: Yes</td>\n",
       "      <td>1</td>\n",
       "      <td>30 000</td>\n",
       "      <td>60 000</td>\n",
       "      <td>[\"2\", \"4\", \"5\", \"6\", \"8\", \"9\", \"10\", \"11\", \"12\", \"13\", \"14\", \"18\", \"19\", \"20\", \"21\", \"24\", \"26\", \"33\", \"34\", \"35\", \"36\"]</td>\n",
       "      <td>GATE RITE</td>\n",
       "      <td>100</td>\n",
       "      <td>NaN</td>\n",
       "      <td>0</td>\n",
       "      <td>NaN</td>\n",
       "      <td>0</td>\n",
       "      <td>2: 1 slip</td>\n",
       "      <td>2: 1 slip</td>\n",
       "      <td>2021-11-05</td>\n",
       "      <td>09:00</td>\n",
       "    </tr>\n",
       "    <tr>\n",
       "      <th>1</th>\n",
       "      <td>10737966</td>\n",
       "      <td>2021-10-30 10:57:07.889638+00:00</td>\n",
       "      <td>439383</td>\n",
       "      <td>MULE TUCK SHOP -29.6538965880754 31.0678124427795</td>\n",
       "      <td>2: Gated (can't walk into the Spaza)</td>\n",
       "      <td>2</td>\n",
       "      <td>2: Shop Owner</td>\n",
       "      <td>2</td>\n",
       "      <td>1</td>\n",
       "      <td>1</td>\n",
       "      <td>2: 1 - 2 years</td>\n",
       "      <td>2</td>\n",
       "      <td>3</td>\n",
       "      <td>5: When I need stock</td>\n",
       "      <td>5</td>\n",
       "      <td>[\"8\"]</td>\n",
       "      <td>1</td>\n",
       "      <td>1</td>\n",
       "      <td>[\"2\", \"3\", \"4\", \"7\", \"8\"]</td>\n",
       "      <td>2: Some products are on the shelves, some products are on the floor</td>\n",
       "      <td>2</td>\n",
       "      <td>2: 1-2 fridges</td>\n",
       "      <td>1: Cash only till point</td>\n",
       "      <td>1</td>\n",
       "      <td>1: Yes</td>\n",
       "      <td>1</td>\n",
       "      <td>21 000</td>\n",
       "      <td>30 000</td>\n",
       "      <td>[\"2\", \"3\", \"4\", \"5\", \"6\", \"8\", \"10\", \"11\", \"12\", \"13\", \"20\", \"21\", \"24\", \"33\", \"34\", \"35\"]</td>\n",
       "      <td>GATERITE</td>\n",
       "      <td>100</td>\n",
       "      <td>NaN</td>\n",
       "      <td>0</td>\n",
       "      <td>NaN</td>\n",
       "      <td>0</td>\n",
       "      <td>2: 1 slip</td>\n",
       "      <td>2: 1 slip</td>\n",
       "      <td>2021-10-30</td>\n",
       "      <td>10:57</td>\n",
       "    </tr>\n",
       "  </tbody>\n",
       "</table>\n",
       "</div>"
      ],
      "text/plain": [
       "   payload_objectid                      completed_at  jobber_id  \\\n",
       "0          10825571  2021-11-05 09:00:43.023531+00:00     439383   \n",
       "1          10737966  2021-10-30 10:57:07.889638+00:00     439383   \n",
       "\n",
       "                                            spaza_location  \\\n",
       "0  CHEAPEST SUPERMARKET -29.6979692867153 31.0703980922699   \n",
       "1        MULE TUCK SHOP -29.6538965880754 31.0678124427795   \n",
       "\n",
       "                             spaza_type  spaza_type_1            role  role_1  \\\n",
       "0  2: Gated (can't walk into the Spaza)             2  1: Shop Keeper       1   \n",
       "1  2: Gated (can't walk into the Spaza)             2   2: Shop Owner       2   \n",
       "\n",
       "  nationality number_of_spazas       spaza_age  spaza_age_1 deposit_frequency  \\\n",
       "0           1                1  3: 3 - 4 years            3                 2   \n",
       "1           1                1  2: 1 - 2 years            2                 3   \n",
       "\n",
       "        stock_frequency  stock_frequency_1 stock_orders_-_day  \\\n",
       "0  5: When I need stock                  5              [\"8\"]   \n",
       "1  5: When I need stock                  5              [\"8\"]   \n",
       "\n",
       "   buying_group/stokvel  credit                      store_items  \\\n",
       "0                     1       1  [\"2\", \"3\", \"4\", \"7\", \"8\", \"10\"]   \n",
       "1                     1       1        [\"2\", \"3\", \"4\", \"7\", \"8\"]   \n",
       "\n",
       "                                                              shelving  \\\n",
       "0                           1: All products have a shelf/ display area   \n",
       "1  2: Some products are on the shelves, some products are on the floor   \n",
       "\n",
       "   shelving_1   store_fridges              till_points  till_points_1  \\\n",
       "0           1  2: 1-2 fridges  1: Cash only till point              1   \n",
       "1           2  2: 1-2 fridges  1: Cash only till point              1   \n",
       "\n",
       "  supplier_support  supplier_support_1 weekly_ode_amount monthly_sales  \\\n",
       "0           1: Yes                   1            30 000        60 000   \n",
       "1           1: Yes                   1            21 000        30 000   \n",
       "\n",
       "                                                                                                            brands_in-store  \\\n",
       "0  [\"2\", \"4\", \"5\", \"6\", \"8\", \"9\", \"10\", \"11\", \"12\", \"13\", \"14\", \"18\", \"19\", \"20\", \"21\", \"24\", \"26\", \"33\", \"34\", \"35\", \"36\"]   \n",
       "1                                [\"2\", \"3\", \"4\", \"5\", \"6\", \"8\", \"10\", \"11\", \"12\", \"13\", \"20\", \"21\", \"24\", \"33\", \"34\", \"35\"]   \n",
       "\n",
       "  0_supplier_wholesalers  0_order_%_wholesalers 1_supplier_wholesalers  \\\n",
       "0             GATE RITE                     100                    NaN   \n",
       "1               GATERITE                    100                    NaN   \n",
       "\n",
       "   1_order_%_wholesalers 2_supplier_wholesalers  2_order_%_wholesalers  \\\n",
       "0                      0                    NaN                      0   \n",
       "1                      0                    NaN                      0   \n",
       "\n",
       "  till_slip_submission_-_visit_1 till_slip_submission_-_visit_2  \\\n",
       "0                      2: 1 slip                      2: 1 slip   \n",
       "1                      2: 1 slip                      2: 1 slip   \n",
       "\n",
       "  date_completed time_completed  \n",
       "0     2021-11-05          09:00  \n",
       "1     2021-10-30          10:57  "
      ]
     },
     "execution_count": 7,
     "metadata": {},
     "output_type": "execute_result"
    }
   ],
   "source": [
    "df.head(n=2)"
   ]
  },
  {
   "cell_type": "code",
   "execution_count": 8,
   "id": "4f50454e",
   "metadata": {},
   "outputs": [
    {
     "data": {
      "text/html": [
       "<div>\n",
       "<style scoped>\n",
       "    .dataframe tbody tr th:only-of-type {\n",
       "        vertical-align: middle;\n",
       "    }\n",
       "\n",
       "    .dataframe tbody tr th {\n",
       "        vertical-align: top;\n",
       "    }\n",
       "\n",
       "    .dataframe thead th {\n",
       "        text-align: right;\n",
       "    }\n",
       "</style>\n",
       "<table border=\"1\" class=\"dataframe\">\n",
       "  <thead>\n",
       "    <tr style=\"text-align: right;\">\n",
       "      <th></th>\n",
       "      <th>payload_objectid</th>\n",
       "      <th>completed_at</th>\n",
       "      <th>jobber_id</th>\n",
       "      <th>spaza_location</th>\n",
       "      <th>spaza_type</th>\n",
       "      <th>spaza_type_1</th>\n",
       "      <th>role</th>\n",
       "      <th>role_1</th>\n",
       "      <th>nationality</th>\n",
       "      <th>number_of_spazas</th>\n",
       "      <th>spaza_age</th>\n",
       "      <th>spaza_age_1</th>\n",
       "      <th>deposit_frequency</th>\n",
       "      <th>stock_frequency</th>\n",
       "      <th>stock_frequency_1</th>\n",
       "      <th>stock_orders_-_day</th>\n",
       "      <th>buying_group/stokvel</th>\n",
       "      <th>credit</th>\n",
       "      <th>store_items</th>\n",
       "      <th>shelving</th>\n",
       "      <th>shelving_1</th>\n",
       "      <th>store_fridges</th>\n",
       "      <th>till_points</th>\n",
       "      <th>till_points_1</th>\n",
       "      <th>supplier_support</th>\n",
       "      <th>supplier_support_1</th>\n",
       "      <th>weekly_ode_amount</th>\n",
       "      <th>monthly_sales</th>\n",
       "      <th>brands_in-store</th>\n",
       "      <th>0_supplier_wholesalers</th>\n",
       "      <th>0_order_%_wholesalers</th>\n",
       "      <th>1_supplier_wholesalers</th>\n",
       "      <th>1_order_%_wholesalers</th>\n",
       "      <th>2_supplier_wholesalers</th>\n",
       "      <th>2_order_%_wholesalers</th>\n",
       "      <th>till_slip_submission_-_visit_1</th>\n",
       "      <th>till_slip_submission_-_visit_2</th>\n",
       "      <th>date_completed</th>\n",
       "      <th>time_completed</th>\n",
       "    </tr>\n",
       "  </thead>\n",
       "  <tbody>\n",
       "    <tr>\n",
       "      <th>199</th>\n",
       "      <td>10986938</td>\n",
       "      <td>2021-11-17 17:56:17.439732+00:00</td>\n",
       "      <td>869137</td>\n",
       "      <td>THANDO AND YENZO GENERAL DEALER -29.6039317 30.3782972</td>\n",
       "      <td>1: Walk-in (can walk into Spaza)</td>\n",
       "      <td>1</td>\n",
       "      <td>2: Shop Owner</td>\n",
       "      <td>2</td>\n",
       "      <td>Currently closed</td>\n",
       "      <td>Currently closed</td>\n",
       "      <td>1: Less than a year</td>\n",
       "      <td>1</td>\n",
       "      <td>Tho store is currently closed</td>\n",
       "      <td>5: When I need stock</td>\n",
       "      <td>5</td>\n",
       "      <td>[\"8\"]</td>\n",
       "      <td>1</td>\n",
       "      <td>1</td>\n",
       "      <td>[\"1\"]</td>\n",
       "      <td>3: Products do not have a specific space (all over)</td>\n",
       "      <td>3</td>\n",
       "      <td>1: 0 Fridges</td>\n",
       "      <td>1: Cash only till point</td>\n",
       "      <td>1</td>\n",
       "      <td>2: No</td>\n",
       "      <td>2</td>\n",
       "      <td>2000</td>\n",
       "      <td>12000</td>\n",
       "      <td>[\"1\"]</td>\n",
       "      <td>Phoenix cash and carry</td>\n",
       "      <td>100</td>\n",
       "      <td>NaN</td>\n",
       "      <td>0</td>\n",
       "      <td>NaN</td>\n",
       "      <td>0</td>\n",
       "      <td>2: 1 slip</td>\n",
       "      <td>1: No slip to submit</td>\n",
       "      <td>2021-11-17</td>\n",
       "      <td>17:56</td>\n",
       "    </tr>\n",
       "  </tbody>\n",
       "</table>\n",
       "</div>"
      ],
      "text/plain": [
       "     payload_objectid                      completed_at  jobber_id  \\\n",
       "199          10986938  2021-11-17 17:56:17.439732+00:00     869137   \n",
       "\n",
       "                                             spaza_location  \\\n",
       "199  THANDO AND YENZO GENERAL DEALER -29.6039317 30.3782972   \n",
       "\n",
       "                           spaza_type  spaza_type_1           role  role_1  \\\n",
       "199  1: Walk-in (can walk into Spaza)             1  2: Shop Owner       2   \n",
       "\n",
       "          nationality  number_of_spazas            spaza_age  spaza_age_1  \\\n",
       "199  Currently closed  Currently closed  1: Less than a year            1   \n",
       "\n",
       "                 deposit_frequency       stock_frequency  stock_frequency_1  \\\n",
       "199  Tho store is currently closed  5: When I need stock                  5   \n",
       "\n",
       "    stock_orders_-_day  buying_group/stokvel  credit store_items  \\\n",
       "199              [\"8\"]                     1       1       [\"1\"]   \n",
       "\n",
       "                                                shelving  shelving_1  \\\n",
       "199  3: Products do not have a specific space (all over)           3   \n",
       "\n",
       "    store_fridges              till_points  till_points_1 supplier_support  \\\n",
       "199  1: 0 Fridges  1: Cash only till point              1            2: No   \n",
       "\n",
       "     supplier_support_1 weekly_ode_amount monthly_sales brands_in-store  \\\n",
       "199                   2              2000         12000           [\"1\"]   \n",
       "\n",
       "     0_supplier_wholesalers  0_order_%_wholesalers 1_supplier_wholesalers  \\\n",
       "199  Phoenix cash and carry                    100                    NaN   \n",
       "\n",
       "     1_order_%_wholesalers 2_supplier_wholesalers  2_order_%_wholesalers  \\\n",
       "199                      0                    NaN                      0   \n",
       "\n",
       "    till_slip_submission_-_visit_1 till_slip_submission_-_visit_2  \\\n",
       "199                      2: 1 slip           1: No slip to submit   \n",
       "\n",
       "    date_completed time_completed  \n",
       "199     2021-11-17          17:56  "
      ]
     },
     "execution_count": 8,
     "metadata": {},
     "output_type": "execute_result"
    }
   ],
   "source": [
    "# printing the unique values of the deposit frequency column\n",
    "# the particular seems to be closed. therefore we remove the observation\n",
    "df['deposit_frequency'].unique()\n",
    "df.loc[df['deposit_frequency'] == 'Tho store is currently closed']"
   ]
  },
  {
   "cell_type": "code",
   "execution_count": 9,
   "id": "93bbf87f",
   "metadata": {},
   "outputs": [],
   "source": [
    "# removing the observation indicated above\n",
    "df=df.drop(df.loc[df['deposit_frequency'] == 'Tho store is currently closed'].index, inplace=False)"
   ]
  },
  {
   "cell_type": "code",
   "execution_count": 10,
   "id": "7c1155b1",
   "metadata": {},
   "outputs": [],
   "source": [
    "# extracting the latitude and longitude from the spaza location variable\n",
    "df['lon']=df['spaza_location'].str.split().str[-1]\n",
    "df['lat']=df['spaza_location'].str.split().str[-2]\n",
    "\n",
    "# extracting the spaza address from the spaza location variable\n",
    "# joining the physical address. leaving a space between each address detail\n",
    "df['spaza_name']=df['spaza_location'].apply(lambda x: ' '.join(x.split()[:-2]))"
   ]
  },
  {
   "cell_type": "code",
   "execution_count": 11,
   "id": "c971fb80",
   "metadata": {},
   "outputs": [],
   "source": [
    "# removing the white space between the colon and the string of interest in each column\n",
    "df['spaza_type']=df['spaza_type'].str.replace(': ', ':')\n",
    "\n",
    "# extract the character between a colon (:) and the first instance of a white space (\\s)\n",
    "df['spaza_type_descr']=df['spaza_type'].str.extract(':(.*?)\\s')"
   ]
  },
  {
   "cell_type": "code",
   "execution_count": 12,
   "id": "cd80aecb",
   "metadata": {},
   "outputs": [
    {
     "data": {
      "text/html": [
       "<div>\n",
       "<style scoped>\n",
       "    .dataframe tbody tr th:only-of-type {\n",
       "        vertical-align: middle;\n",
       "    }\n",
       "\n",
       "    .dataframe tbody tr th {\n",
       "        vertical-align: top;\n",
       "    }\n",
       "\n",
       "    .dataframe thead th {\n",
       "        text-align: right;\n",
       "    }\n",
       "</style>\n",
       "<table border=\"1\" class=\"dataframe\">\n",
       "  <thead>\n",
       "    <tr style=\"text-align: right;\">\n",
       "      <th></th>\n",
       "      <th>payload_objectid</th>\n",
       "      <th>completed_at</th>\n",
       "      <th>jobber_id</th>\n",
       "      <th>spaza_location</th>\n",
       "      <th>spaza_type</th>\n",
       "      <th>spaza_type_1</th>\n",
       "      <th>role</th>\n",
       "      <th>role_1</th>\n",
       "      <th>nationality</th>\n",
       "      <th>number_of_spazas</th>\n",
       "      <th>spaza_age</th>\n",
       "      <th>spaza_age_1</th>\n",
       "      <th>deposit_frequency</th>\n",
       "      <th>stock_frequency</th>\n",
       "      <th>stock_frequency_1</th>\n",
       "      <th>stock_orders_-_day</th>\n",
       "      <th>buying_group/stokvel</th>\n",
       "      <th>credit</th>\n",
       "      <th>store_items</th>\n",
       "      <th>shelving</th>\n",
       "      <th>shelving_1</th>\n",
       "      <th>store_fridges</th>\n",
       "      <th>till_points</th>\n",
       "      <th>till_points_1</th>\n",
       "      <th>supplier_support</th>\n",
       "      <th>supplier_support_1</th>\n",
       "      <th>weekly_ode_amount</th>\n",
       "      <th>monthly_sales</th>\n",
       "      <th>brands_in-store</th>\n",
       "      <th>0_supplier_wholesalers</th>\n",
       "      <th>0_order_%_wholesalers</th>\n",
       "      <th>1_supplier_wholesalers</th>\n",
       "      <th>1_order_%_wholesalers</th>\n",
       "      <th>2_supplier_wholesalers</th>\n",
       "      <th>2_order_%_wholesalers</th>\n",
       "      <th>till_slip_submission_-_visit_1</th>\n",
       "      <th>till_slip_submission_-_visit_2</th>\n",
       "      <th>date_completed</th>\n",
       "      <th>time_completed</th>\n",
       "      <th>lon</th>\n",
       "      <th>lat</th>\n",
       "      <th>spaza_name</th>\n",
       "      <th>spaza_type_descr</th>\n",
       "      <th>role_descr</th>\n",
       "    </tr>\n",
       "  </thead>\n",
       "  <tbody>\n",
       "    <tr>\n",
       "      <th>0</th>\n",
       "      <td>10825571</td>\n",
       "      <td>2021-11-05 09:00:43.023531+00:00</td>\n",
       "      <td>439383</td>\n",
       "      <td>CHEAPEST SUPERMARKET -29.6979692867153 31.0703980922699</td>\n",
       "      <td>2:Gated (can't walk into the Spaza)</td>\n",
       "      <td>2</td>\n",
       "      <td>1: Shop Keeper</td>\n",
       "      <td>1</td>\n",
       "      <td>1</td>\n",
       "      <td>1</td>\n",
       "      <td>3: 3 - 4 years</td>\n",
       "      <td>3</td>\n",
       "      <td>2</td>\n",
       "      <td>5: When I need stock</td>\n",
       "      <td>5</td>\n",
       "      <td>[\"8\"]</td>\n",
       "      <td>1</td>\n",
       "      <td>1</td>\n",
       "      <td>[\"2\", \"3\", \"4\", \"7\", \"8\", \"10\"]</td>\n",
       "      <td>1: All products have a shelf/ display area</td>\n",
       "      <td>1</td>\n",
       "      <td>2: 1-2 fridges</td>\n",
       "      <td>1: Cash only till point</td>\n",
       "      <td>1</td>\n",
       "      <td>1: Yes</td>\n",
       "      <td>1</td>\n",
       "      <td>30 000</td>\n",
       "      <td>60 000</td>\n",
       "      <td>[\"2\", \"4\", \"5\", \"6\", \"8\", \"9\", \"10\", \"11\", \"12\", \"13\", \"14\", \"18\", \"19\", \"20\", \"21\", \"24\", \"26\", \"33\", \"34\", \"35\", \"36\"]</td>\n",
       "      <td>GATE RITE</td>\n",
       "      <td>100</td>\n",
       "      <td>NaN</td>\n",
       "      <td>0</td>\n",
       "      <td>NaN</td>\n",
       "      <td>0</td>\n",
       "      <td>2: 1 slip</td>\n",
       "      <td>2: 1 slip</td>\n",
       "      <td>2021-11-05</td>\n",
       "      <td>09:00</td>\n",
       "      <td>31.0703980922699</td>\n",
       "      <td>-29.6979692867153</td>\n",
       "      <td>CHEAPEST SUPERMARKET</td>\n",
       "      <td>Gated</td>\n",
       "      <td>Shop Keeper</td>\n",
       "    </tr>\n",
       "    <tr>\n",
       "      <th>1</th>\n",
       "      <td>10737966</td>\n",
       "      <td>2021-10-30 10:57:07.889638+00:00</td>\n",
       "      <td>439383</td>\n",
       "      <td>MULE TUCK SHOP -29.6538965880754 31.0678124427795</td>\n",
       "      <td>2:Gated (can't walk into the Spaza)</td>\n",
       "      <td>2</td>\n",
       "      <td>2: Shop Owner</td>\n",
       "      <td>2</td>\n",
       "      <td>1</td>\n",
       "      <td>1</td>\n",
       "      <td>2: 1 - 2 years</td>\n",
       "      <td>2</td>\n",
       "      <td>3</td>\n",
       "      <td>5: When I need stock</td>\n",
       "      <td>5</td>\n",
       "      <td>[\"8\"]</td>\n",
       "      <td>1</td>\n",
       "      <td>1</td>\n",
       "      <td>[\"2\", \"3\", \"4\", \"7\", \"8\"]</td>\n",
       "      <td>2: Some products are on the shelves, some products are on the floor</td>\n",
       "      <td>2</td>\n",
       "      <td>2: 1-2 fridges</td>\n",
       "      <td>1: Cash only till point</td>\n",
       "      <td>1</td>\n",
       "      <td>1: Yes</td>\n",
       "      <td>1</td>\n",
       "      <td>21 000</td>\n",
       "      <td>30 000</td>\n",
       "      <td>[\"2\", \"3\", \"4\", \"5\", \"6\", \"8\", \"10\", \"11\", \"12\", \"13\", \"20\", \"21\", \"24\", \"33\", \"34\", \"35\"]</td>\n",
       "      <td>GATERITE</td>\n",
       "      <td>100</td>\n",
       "      <td>NaN</td>\n",
       "      <td>0</td>\n",
       "      <td>NaN</td>\n",
       "      <td>0</td>\n",
       "      <td>2: 1 slip</td>\n",
       "      <td>2: 1 slip</td>\n",
       "      <td>2021-10-30</td>\n",
       "      <td>10:57</td>\n",
       "      <td>31.0678124427795</td>\n",
       "      <td>-29.6538965880754</td>\n",
       "      <td>MULE TUCK SHOP</td>\n",
       "      <td>Gated</td>\n",
       "      <td>Shop Owner</td>\n",
       "    </tr>\n",
       "  </tbody>\n",
       "</table>\n",
       "</div>"
      ],
      "text/plain": [
       "   payload_objectid                      completed_at  jobber_id  \\\n",
       "0          10825571  2021-11-05 09:00:43.023531+00:00     439383   \n",
       "1          10737966  2021-10-30 10:57:07.889638+00:00     439383   \n",
       "\n",
       "                                            spaza_location  \\\n",
       "0  CHEAPEST SUPERMARKET -29.6979692867153 31.0703980922699   \n",
       "1        MULE TUCK SHOP -29.6538965880754 31.0678124427795   \n",
       "\n",
       "                            spaza_type  spaza_type_1            role  role_1  \\\n",
       "0  2:Gated (can't walk into the Spaza)             2  1: Shop Keeper       1   \n",
       "1  2:Gated (can't walk into the Spaza)             2   2: Shop Owner       2   \n",
       "\n",
       "  nationality number_of_spazas       spaza_age  spaza_age_1 deposit_frequency  \\\n",
       "0           1                1  3: 3 - 4 years            3                 2   \n",
       "1           1                1  2: 1 - 2 years            2                 3   \n",
       "\n",
       "        stock_frequency  stock_frequency_1 stock_orders_-_day  \\\n",
       "0  5: When I need stock                  5              [\"8\"]   \n",
       "1  5: When I need stock                  5              [\"8\"]   \n",
       "\n",
       "   buying_group/stokvel  credit                      store_items  \\\n",
       "0                     1       1  [\"2\", \"3\", \"4\", \"7\", \"8\", \"10\"]   \n",
       "1                     1       1        [\"2\", \"3\", \"4\", \"7\", \"8\"]   \n",
       "\n",
       "                                                              shelving  \\\n",
       "0                           1: All products have a shelf/ display area   \n",
       "1  2: Some products are on the shelves, some products are on the floor   \n",
       "\n",
       "   shelving_1   store_fridges              till_points  till_points_1  \\\n",
       "0           1  2: 1-2 fridges  1: Cash only till point              1   \n",
       "1           2  2: 1-2 fridges  1: Cash only till point              1   \n",
       "\n",
       "  supplier_support  supplier_support_1 weekly_ode_amount monthly_sales  \\\n",
       "0           1: Yes                   1            30 000        60 000   \n",
       "1           1: Yes                   1            21 000        30 000   \n",
       "\n",
       "                                                                                                            brands_in-store  \\\n",
       "0  [\"2\", \"4\", \"5\", \"6\", \"8\", \"9\", \"10\", \"11\", \"12\", \"13\", \"14\", \"18\", \"19\", \"20\", \"21\", \"24\", \"26\", \"33\", \"34\", \"35\", \"36\"]   \n",
       "1                                [\"2\", \"3\", \"4\", \"5\", \"6\", \"8\", \"10\", \"11\", \"12\", \"13\", \"20\", \"21\", \"24\", \"33\", \"34\", \"35\"]   \n",
       "\n",
       "  0_supplier_wholesalers  0_order_%_wholesalers 1_supplier_wholesalers  \\\n",
       "0             GATE RITE                     100                    NaN   \n",
       "1               GATERITE                    100                    NaN   \n",
       "\n",
       "   1_order_%_wholesalers 2_supplier_wholesalers  2_order_%_wholesalers  \\\n",
       "0                      0                    NaN                      0   \n",
       "1                      0                    NaN                      0   \n",
       "\n",
       "  till_slip_submission_-_visit_1 till_slip_submission_-_visit_2  \\\n",
       "0                      2: 1 slip                      2: 1 slip   \n",
       "1                      2: 1 slip                      2: 1 slip   \n",
       "\n",
       "  date_completed time_completed               lon                lat  \\\n",
       "0     2021-11-05          09:00  31.0703980922699  -29.6979692867153   \n",
       "1     2021-10-30          10:57  31.0678124427795  -29.6538965880754   \n",
       "\n",
       "             spaza_name spaza_type_descr   role_descr  \n",
       "0  CHEAPEST SUPERMARKET            Gated  Shop Keeper  \n",
       "1        MULE TUCK SHOP            Gated   Shop Owner  "
      ]
     },
     "execution_count": 12,
     "metadata": {},
     "output_type": "execute_result"
    }
   ],
   "source": [
    "# replacing any white space after the colon(:) with a colon (:)\n",
    "df['role_descr']=df['role'].str.replace(': ', ':')\n",
    "\n",
    "# extracting the last two characters in each row and the joining the two separate characters\n",
    "df['role_descr']=df['role'].apply(lambda x: ' '.join(x.split()[1:]))\n",
    "\n",
    "df.head(n = 2)"
   ]
  },
  {
   "cell_type": "code",
   "execution_count": 13,
   "id": "447d8f46",
   "metadata": {},
   "outputs": [
    {
     "data": {
      "text/plain": [
       "payload_objectid                   int64\n",
       "completed_at                      object\n",
       "jobber_id                          int64\n",
       "spaza_location                    object\n",
       "spaza_type                        object\n",
       "spaza_type_1                       int64\n",
       "role                              object\n",
       "role_1                             int64\n",
       "nationality                       object\n",
       "number_of_spazas                  object\n",
       "spaza_age                         object\n",
       "spaza_age_1                        int64\n",
       "deposit_frequency                 object\n",
       "stock_frequency                   object\n",
       "stock_frequency_1                  int64\n",
       "stock_orders_-_day                object\n",
       "buying_group/stokvel               int64\n",
       "credit                             int64\n",
       "store_items                       object\n",
       "shelving                          object\n",
       "shelving_1                         int64\n",
       "store_fridges                     object\n",
       "till_points                       object\n",
       "till_points_1                      int64\n",
       "supplier_support                  object\n",
       "supplier_support_1                 int64\n",
       "weekly_ode_amount                 object\n",
       "monthly_sales                     object\n",
       "brands_in-store                   object\n",
       "0_supplier_wholesalers            object\n",
       "0_order_%_wholesalers              int64\n",
       "1_supplier_wholesalers            object\n",
       "1_order_%_wholesalers              int64\n",
       "2_supplier_wholesalers            object\n",
       "2_order_%_wholesalers              int64\n",
       "till_slip_submission_-_visit_1    object\n",
       "till_slip_submission_-_visit_2    object\n",
       "date_completed                    object\n",
       "time_completed                    object\n",
       "lon                               object\n",
       "lat                               object\n",
       "spaza_name                        object\n",
       "spaza_type_descr                  object\n",
       "role_descr                        object\n",
       "dtype: object"
      ]
     },
     "execution_count": 13,
     "metadata": {},
     "output_type": "execute_result"
    }
   ],
   "source": [
    "# changing the variable type of nationality variable\n",
    "df['nationality']=df['nationality'].astype(str)\n",
    "\n",
    "# changing the variable type of deposit frequency variable\n",
    "df['deposit_frequency'] = df['deposit_frequency'].astype(str)\n",
    "df.dtypes"
   ]
  },
  {
   "cell_type": "code",
   "execution_count": 14,
   "id": "5071476e",
   "metadata": {},
   "outputs": [],
   "source": [
    "# adding nationality description\n",
    "df['nationality_descr']=df['nationality'].map({'1': 'Ethiopian', '2': 'Bangladeshi', '3': 'Somalian', '4': 'South_African', '5': 'Kenyan', '6': 'Indian', '7': 'Malawian', '9': 'Pakistani'})"
   ]
  },
  {
   "cell_type": "code",
   "execution_count": 15,
   "id": "275a1f72",
   "metadata": {},
   "outputs": [],
   "source": [
    "# adding a white space between the colon(:) and the number of years\n",
    "# this helps us to extract the string that we are looking for\n",
    "df['spaza_age']=df['spaza_age'].str.replace(':', ': ', regex=False)\n",
    "\n",
    "# extracting the string of interest\n",
    "df['spaza_age_descr']=df['spaza_age'].apply(lambda x: ' '.join(x.split()[1:]))"
   ]
  },
  {
   "cell_type": "code",
   "execution_count": 16,
   "id": "bc547824",
   "metadata": {},
   "outputs": [],
   "source": [
    "# adding a new column\n",
    "# this is a description of the deposit frequency\n",
    "df['deposit_freq_descr']=df['deposit_frequency'].map({'1': 'Daily', '2': 'Weekly', '3': 'Monthly','WHEN THERE IS A NEED.': 'when there is a need', 'WHENEVER I NEED TO': 'when there is a need', 'ANYTIME THERE IS A NEED.': 'when there is a need'})"
   ]
  },
  {
   "cell_type": "code",
   "execution_count": 17,
   "id": "5d8fb5c4",
   "metadata": {},
   "outputs": [],
   "source": [
    "# conveniently adding a white space after the colon (:)\n",
    "df['stock_frequency']=df['stock_frequency'].str.replace(':', ': ')\n",
    "\n",
    "# adding a new column by extracting the relevant string from stock_frequency\n",
    "df['stock_freq_descr']=df['stock_frequency'].apply(lambda x: ' '.join(x.split()[1:]))"
   ]
  },
  {
   "cell_type": "code",
   "execution_count": 18,
   "id": "1883f67d",
   "metadata": {},
   "outputs": [],
   "source": [
    "# adding a new column\n",
    "df['stock_orders_day_descr']=df['stock_orders_-_day'].replace(['\"1\"', '\"2\"', '\"3\"', '\"4\"', '\"5\"','\"6\"', '\"7\"', '\"8\"'], ['Mon', 'Tue', 'Wed', 'Thu' , 'Fri', 'Sat', 'Sun', 'when_needed'], regex=True)"
   ]
  },
  {
   "cell_type": "code",
   "execution_count": 19,
   "id": "b7e4c217",
   "metadata": {},
   "outputs": [],
   "source": [
    "# adding a new column\n",
    "df['items_sold']=df['store_items'].replace(['\"1\"', '\"2\"', '\"3\"', '\"4\"', '\"5\"', '\"6\"', '\"7\"', '\"8\"', '\"9\"', '\"10\"', '\"11\"', '\"12\"'], ['n_a', 'Electricity', 'freezer', 'perishables', 'cleaning_prods', 'medicine', 'feminine_hygiene_prods', 'baby_prods', 'general_items', 'hair_products', 'fast_food', 'has_atm_inside'], regex=True)"
   ]
  },
  {
   "cell_type": "code",
   "execution_count": 20,
   "id": "d7663d2d",
   "metadata": {},
   "outputs": [],
   "source": [
    "# adding a white space for convenience\n",
    "df['shelving']=df['shelving'].str.replace(':', ': ')\n",
    "\n",
    "# adding a new column\n",
    "df['shelving_descr']=df['shelving'].apply(lambda x: ' '.join(x.split()[1:]))"
   ]
  },
  {
   "cell_type": "code",
   "execution_count": 21,
   "id": "cc5103f8",
   "metadata": {},
   "outputs": [],
   "source": [
    "# adding a white space\n",
    "df['store_fridges']=df['store_fridges'].str.replace(':', ': ')\n",
    "\n",
    "# adding a new column\n",
    "df['no_of_fridges']=df['store_fridges'].apply(lambda x: ' '.join(x.split()[1:-1]))"
   ]
  },
  {
   "cell_type": "code",
   "execution_count": 22,
   "id": "6c0d1bab",
   "metadata": {},
   "outputs": [],
   "source": [
    "# adding a white space\n",
    "df['till_points']=df['till_points'].str.replace(':', ': ')\n",
    "\n",
    "# adding a new column\n",
    "df['methods_of_pay']=df['till_points'].apply(lambda x: ' '.join(x.split()[1:]))"
   ]
  },
  {
   "cell_type": "code",
   "execution_count": 23,
   "id": "ca9f54cd",
   "metadata": {},
   "outputs": [],
   "source": [
    "df['supplier_support']=df['supplier_support'].str.replace(':', ': ')\n",
    "\n",
    "df['supplier_support']=df['supplier_support'].apply(lambda x: ' '.join(x.split()[1:]))"
   ]
  },
  {
   "cell_type": "code",
   "execution_count": 24,
   "id": "a844d2e7",
   "metadata": {},
   "outputs": [],
   "source": [
    "# declaring variable type\n",
    "df['weekly_ode_amount']=df['weekly_ode_amount'].astype(str)\n",
    "\n",
    "# removing white spaces\n",
    "df['weekly_ode_amount']=df['weekly_ode_amount'].apply(lambda x: x.replace(' ', ''))"
   ]
  },
  {
   "cell_type": "code",
   "execution_count": 25,
   "id": "7cd79270",
   "metadata": {},
   "outputs": [],
   "source": [
    "# declaring variable type\n",
    "# other modifications\n",
    "df['monthly_sales']=df['monthly_sales'].astype(str)\n",
    "df['monthly_sales']=df['monthly_sales'].replace('15 000 - 25 000', '20 000')\n",
    "df['monthly_sales']=df['monthly_sales'].replace('CONFIDENTIAL', '0')\n",
    "df['monthly_sales']=df['monthly_sales'].apply(lambda x: x.replace(' ', ''))"
   ]
  },
  {
   "cell_type": "code",
   "execution_count": 26,
   "id": "56d3eccc",
   "metadata": {},
   "outputs": [],
   "source": [
    "df['brands_in-store_desc']=df['brands_in-store'].replace(['\"1\"', '\"2\"', '\"3\"', '\"4\"', '\"5\"', '\"6\"', '\"7\"', '\"8\"', '\"9\"', '\"10\"', '\"11\"', '\"12\"', '\"13\"', '\"14\"', '\"15\"', '\"16\"', '\"17\"', '\"18\"', '\"19\"', '\"20\"', '\"21\"', '\"22\"', '\"23\"', '\"24\"', '\"25\"', '\"26\"', '\"27\"', '\"28\"', '\"29\"', '\"30\"', '\"31\"', '\"32\"', '\"33\"', '\"34\"', '\"35\"', '\"36\"'], ['n_a', 'ace', 'all_gold', 'aunt_caroline', \"benny's\", 'black_cat', 'brookes', 'cross_&_blackwell', 'dolly_varden', 'doom', 'energade', \"fatti's_&_moni's\", 'fizzer', 'golden_cloud', \"hugo's\", 'ingrams', 'jeyes_fluid', 'jungle_oats', 'king_korn', 'koo', 'morvite', 'mrs_balls', 'oros', 'purity', 'sixo', 'smoothies', 'status_wild', 'tastic_rice', \"wilson's\", 'wonderbar', 'pepsi', 'refresh', 'reboost', 'kotex', 'baby_soft', 'huggies'], regex=True)"
   ]
  },
  {
   "cell_type": "code",
   "execution_count": 27,
   "id": "1ffeb28a",
   "metadata": {},
   "outputs": [
    {
     "data": {
      "text/plain": [
       "False    222\n",
       "Name: count, dtype: int64"
      ]
     },
     "execution_count": 27,
     "metadata": {},
     "output_type": "execute_result"
    }
   ],
   "source": [
    "# checking for duplicates\n",
    "df.duplicated().value_counts()"
   ]
  },
  {
   "cell_type": "code",
   "execution_count": 28,
   "id": "7e7ff7d1",
   "metadata": {},
   "outputs": [],
   "source": [
    "# dropping a list of columns\n",
    "df=df.drop(['payload_objectid','completed_at','spaza_location', 'spaza_type','deposit_frequency', 'role', 'nationality', 'spaza_age', 'stock_frequency', 'buying_group/stokvel', 'credit', 'store_fridges', 'shelving', 'till_points', 'supplier_support', 'supplier_support_1'], axis=1, inplace=False)"
   ]
  },
  {
   "cell_type": "code",
   "execution_count": 44,
   "id": "f414740f",
   "metadata": {},
   "outputs": [],
   "source": [
    "df.head(n =2)\n",
    "df['0_supplier_wholesalers']=df['0_supplier_wholesalers'].astype(str)\n",
    "df['1_supplier_wholesalers']=df['1_supplier_wholesalers'].astype(str)\n",
    "df['2_supplier_wholesalers']=df['2_supplier_wholesalers'].astype(str)\n",
    "df['spaza_name']=df['spaza_name'].astype(str)\n",
    "df['spaza_type_descr']=df['spaza_type_descr'].astype(str)\n",
    "df['lon']=df['lon'].astype(float).round(1)\n",
    "\n",
    "df['0_supplier_wholesalers'].apply(lambda x: x.lower())\n",
    "df['0_supplier_wholesalers']=df['0_supplier_wholesalers'].astype(str)\n",
    "df['0_supplier_wholesalers']=df['0_supplier_wholesalers'].apply(lambda x: x.lower())\n",
    "df['1_supplier_wholesalers']=df['1_supplier_wholesalers'].apply(lambda x: x.lower())\n",
    "df['2_supplier_wholesalers']=df['2_supplier_wholesalers'].apply(lambda x: x.lower())\n",
    "df['spaza_name']=df['spaza_name'].apply(lambda x: x.lower())\n",
    "df['spaza_type_descr']=df['spaza_type_descr'].apply(lambda x: x.lower())\n",
    "df['role_descr']=df['role_descr'].apply(lambda x: x.lower())\n",
    "df['deposit_freq_descr']=df['deposit_freq_descr'].apply(lambda x: x.lower())\n",
    "df['stock_freq_descr']=df['stock_freq_descr'].apply(lambda x: x.lower())\n",
    "df['stock_orders_day_descr']=df['stock_orders_day_descr'].apply(lambda x: x.lower())\n",
    "df['methods_of_pay']=df['methods_of_pay'].apply(lambda x: x.lower())\n",
    "df['shelving_descr']=df['shelving_descr'].apply(lambda x: x.lower())\n",
    "df['items_sold']=df['items_sold'].apply(lambda x: x.lower())"
   ]
  },
  {
   "cell_type": "code",
   "execution_count": 49,
   "id": "efa73c57",
   "metadata": {},
   "outputs": [
    {
     "ename": "AttributeError",
     "evalue": "'str' object has no attribute 'round'",
     "output_type": "error",
     "traceback": [
      "\u001b[1;31m---------------------------------------------------------------------------\u001b[0m",
      "\u001b[1;31mAttributeError\u001b[0m                            Traceback (most recent call last)",
      "Cell \u001b[1;32mIn[49], line 4\u001b[0m\n\u001b[0;32m      1\u001b[0m \u001b[39m# renaming a list of columns\u001b[39;00m\n\u001b[0;32m      2\u001b[0m df\u001b[39m=\u001b[39mdf\u001b[39m.\u001b[39mrename(columns\u001b[39m=\u001b[39m{\u001b[39m'\u001b[39m\u001b[39mspaza_type_1\u001b[39m\u001b[39m'\u001b[39m: \u001b[39m'\u001b[39m\u001b[39mspaza_type\u001b[39m\u001b[39m'\u001b[39m, \u001b[39m'\u001b[39m\u001b[39mrole_1\u001b[39m\u001b[39m'\u001b[39m: \u001b[39m'\u001b[39m\u001b[39mrole\u001b[39m\u001b[39m'\u001b[39m, \u001b[39m'\u001b[39m\u001b[39mspaza_age_1\u001b[39m\u001b[39m'\u001b[39m: \u001b[39m'\u001b[39m\u001b[39mspaza_age\u001b[39m\u001b[39m'\u001b[39m, \u001b[39m'\u001b[39m\u001b[39mstock_frequency_1\u001b[39m\u001b[39m'\u001b[39m: \u001b[39m'\u001b[39m\u001b[39mstock_repl_freq\u001b[39m\u001b[39m'\u001b[39m, \u001b[39m'\u001b[39m\u001b[39mstock_orders_-_day\u001b[39m\u001b[39m'\u001b[39m: \u001b[39m'\u001b[39m\u001b[39mstock_orders_day\u001b[39m\u001b[39m'\u001b[39m}, inplace\u001b[39m=\u001b[39m\u001b[39mFalse\u001b[39;00m)\n\u001b[1;32m----> 4\u001b[0m df[\u001b[39m'\u001b[39m\u001b[39mlon\u001b[39m\u001b[39m'\u001b[39m]\u001b[39m=\u001b[39mdf[\u001b[39m'\u001b[39;49m\u001b[39mlon\u001b[39;49m\u001b[39m'\u001b[39;49m]\u001b[39m.\u001b[39;49mapply(\u001b[39mlambda\u001b[39;49;00m x: x\u001b[39m.\u001b[39;49mround(\u001b[39m1\u001b[39;49m))\n",
      "File \u001b[1;32mc:\\Users\\rtral\\AppData\\Local\\Programs\\Python\\Python311\\Lib\\site-packages\\pandas\\core\\series.py:4630\u001b[0m, in \u001b[0;36mSeries.apply\u001b[1;34m(self, func, convert_dtype, args, **kwargs)\u001b[0m\n\u001b[0;32m   4520\u001b[0m \u001b[39mdef\u001b[39;00m \u001b[39mapply\u001b[39m(\n\u001b[0;32m   4521\u001b[0m     \u001b[39mself\u001b[39m,\n\u001b[0;32m   4522\u001b[0m     func: AggFuncType,\n\u001b[1;32m   (...)\u001b[0m\n\u001b[0;32m   4525\u001b[0m     \u001b[39m*\u001b[39m\u001b[39m*\u001b[39mkwargs,\n\u001b[0;32m   4526\u001b[0m ) \u001b[39m-\u001b[39m\u001b[39m>\u001b[39m DataFrame \u001b[39m|\u001b[39m Series:\n\u001b[0;32m   4527\u001b[0m \u001b[39m    \u001b[39m\u001b[39m\"\"\"\u001b[39;00m\n\u001b[0;32m   4528\u001b[0m \u001b[39m    Invoke function on values of Series.\u001b[39;00m\n\u001b[0;32m   4529\u001b[0m \n\u001b[1;32m   (...)\u001b[0m\n\u001b[0;32m   4628\u001b[0m \u001b[39m    dtype: float64\u001b[39;00m\n\u001b[0;32m   4629\u001b[0m \u001b[39m    \"\"\"\u001b[39;00m\n\u001b[1;32m-> 4630\u001b[0m     \u001b[39mreturn\u001b[39;00m SeriesApply(\u001b[39mself\u001b[39;49m, func, convert_dtype, args, kwargs)\u001b[39m.\u001b[39;49mapply()\n",
      "File \u001b[1;32mc:\\Users\\rtral\\AppData\\Local\\Programs\\Python\\Python311\\Lib\\site-packages\\pandas\\core\\apply.py:1025\u001b[0m, in \u001b[0;36mSeriesApply.apply\u001b[1;34m(self)\u001b[0m\n\u001b[0;32m   1022\u001b[0m     \u001b[39mreturn\u001b[39;00m \u001b[39mself\u001b[39m\u001b[39m.\u001b[39mapply_str()\n\u001b[0;32m   1024\u001b[0m \u001b[39m# self.f is Callable\u001b[39;00m\n\u001b[1;32m-> 1025\u001b[0m \u001b[39mreturn\u001b[39;00m \u001b[39mself\u001b[39;49m\u001b[39m.\u001b[39;49mapply_standard()\n",
      "File \u001b[1;32mc:\\Users\\rtral\\AppData\\Local\\Programs\\Python\\Python311\\Lib\\site-packages\\pandas\\core\\apply.py:1076\u001b[0m, in \u001b[0;36mSeriesApply.apply_standard\u001b[1;34m(self)\u001b[0m\n\u001b[0;32m   1074\u001b[0m     \u001b[39melse\u001b[39;00m:\n\u001b[0;32m   1075\u001b[0m         values \u001b[39m=\u001b[39m obj\u001b[39m.\u001b[39mastype(\u001b[39mobject\u001b[39m)\u001b[39m.\u001b[39m_values\n\u001b[1;32m-> 1076\u001b[0m         mapped \u001b[39m=\u001b[39m lib\u001b[39m.\u001b[39;49mmap_infer(\n\u001b[0;32m   1077\u001b[0m             values,\n\u001b[0;32m   1078\u001b[0m             f,\n\u001b[0;32m   1079\u001b[0m             convert\u001b[39m=\u001b[39;49m\u001b[39mself\u001b[39;49m\u001b[39m.\u001b[39;49mconvert_dtype,\n\u001b[0;32m   1080\u001b[0m         )\n\u001b[0;32m   1082\u001b[0m \u001b[39mif\u001b[39;00m \u001b[39mlen\u001b[39m(mapped) \u001b[39mand\u001b[39;00m \u001b[39misinstance\u001b[39m(mapped[\u001b[39m0\u001b[39m], ABCSeries):\n\u001b[0;32m   1083\u001b[0m     \u001b[39m# GH#43986 Need to do list(mapped) in order to get treated as nested\u001b[39;00m\n\u001b[0;32m   1084\u001b[0m     \u001b[39m#  See also GH#25959 regarding EA support\u001b[39;00m\n\u001b[0;32m   1085\u001b[0m     \u001b[39mreturn\u001b[39;00m obj\u001b[39m.\u001b[39m_constructor_expanddim(\u001b[39mlist\u001b[39m(mapped), index\u001b[39m=\u001b[39mobj\u001b[39m.\u001b[39mindex)\n",
      "File \u001b[1;32mc:\\Users\\rtral\\AppData\\Local\\Programs\\Python\\Python311\\Lib\\site-packages\\pandas\\_libs\\lib.pyx:2834\u001b[0m, in \u001b[0;36mpandas._libs.lib.map_infer\u001b[1;34m()\u001b[0m\n",
      "Cell \u001b[1;32mIn[49], line 4\u001b[0m, in \u001b[0;36m<lambda>\u001b[1;34m(x)\u001b[0m\n\u001b[0;32m      1\u001b[0m \u001b[39m# renaming a list of columns\u001b[39;00m\n\u001b[0;32m      2\u001b[0m df\u001b[39m=\u001b[39mdf\u001b[39m.\u001b[39mrename(columns\u001b[39m=\u001b[39m{\u001b[39m'\u001b[39m\u001b[39mspaza_type_1\u001b[39m\u001b[39m'\u001b[39m: \u001b[39m'\u001b[39m\u001b[39mspaza_type\u001b[39m\u001b[39m'\u001b[39m, \u001b[39m'\u001b[39m\u001b[39mrole_1\u001b[39m\u001b[39m'\u001b[39m: \u001b[39m'\u001b[39m\u001b[39mrole\u001b[39m\u001b[39m'\u001b[39m, \u001b[39m'\u001b[39m\u001b[39mspaza_age_1\u001b[39m\u001b[39m'\u001b[39m: \u001b[39m'\u001b[39m\u001b[39mspaza_age\u001b[39m\u001b[39m'\u001b[39m, \u001b[39m'\u001b[39m\u001b[39mstock_frequency_1\u001b[39m\u001b[39m'\u001b[39m: \u001b[39m'\u001b[39m\u001b[39mstock_repl_freq\u001b[39m\u001b[39m'\u001b[39m, \u001b[39m'\u001b[39m\u001b[39mstock_orders_-_day\u001b[39m\u001b[39m'\u001b[39m: \u001b[39m'\u001b[39m\u001b[39mstock_orders_day\u001b[39m\u001b[39m'\u001b[39m}, inplace\u001b[39m=\u001b[39m\u001b[39mFalse\u001b[39;00m)\n\u001b[1;32m----> 4\u001b[0m df[\u001b[39m'\u001b[39m\u001b[39mlon\u001b[39m\u001b[39m'\u001b[39m]\u001b[39m=\u001b[39mdf[\u001b[39m'\u001b[39m\u001b[39mlon\u001b[39m\u001b[39m'\u001b[39m]\u001b[39m.\u001b[39mapply(\u001b[39mlambda\u001b[39;00m x: x\u001b[39m.\u001b[39;49mround(\u001b[39m1\u001b[39m))\n",
      "\u001b[1;31mAttributeError\u001b[0m: 'str' object has no attribute 'round'"
     ]
    }
   ],
   "source": [
    "\n",
    "# renaming a list of columns\n",
    "df=df.rename(columns={'spaza_type_1': 'spaza_type', 'role_1': 'role', 'spaza_age_1': 'spaza_age', 'stock_frequency_1': 'stock_repl_freq', 'stock_orders_-_day': 'stock_orders_day'}, inplace=False)\n",
    "\n",
    "df['lon']=df['lon'].apply(lambda x: x.round(1))"
   ]
  },
  {
   "cell_type": "code",
   "execution_count": 30,
   "id": "a5251286",
   "metadata": {},
   "outputs": [
    {
     "data": {
      "text/html": [
       "<div>\n",
       "<style scoped>\n",
       "    .dataframe tbody tr th:only-of-type {\n",
       "        vertical-align: middle;\n",
       "    }\n",
       "\n",
       "    .dataframe tbody tr th {\n",
       "        vertical-align: top;\n",
       "    }\n",
       "\n",
       "    .dataframe thead th {\n",
       "        text-align: right;\n",
       "    }\n",
       "</style>\n",
       "<table border=\"1\" class=\"dataframe\">\n",
       "  <thead>\n",
       "    <tr style=\"text-align: right;\">\n",
       "      <th></th>\n",
       "      <th>jobber_id</th>\n",
       "      <th>spaza_type</th>\n",
       "      <th>role</th>\n",
       "      <th>number_of_spazas</th>\n",
       "      <th>spaza_age</th>\n",
       "      <th>stock_repl_freq</th>\n",
       "      <th>stock_orders_day</th>\n",
       "      <th>store_items</th>\n",
       "      <th>shelving_1</th>\n",
       "      <th>till_points_1</th>\n",
       "      <th>weekly_ode_amount</th>\n",
       "      <th>monthly_sales</th>\n",
       "      <th>brands_in-store</th>\n",
       "      <th>0_supplier_wholesalers</th>\n",
       "      <th>0_order_%_wholesalers</th>\n",
       "      <th>1_supplier_wholesalers</th>\n",
       "      <th>1_order_%_wholesalers</th>\n",
       "      <th>2_supplier_wholesalers</th>\n",
       "      <th>2_order_%_wholesalers</th>\n",
       "      <th>till_slip_submission_-_visit_1</th>\n",
       "      <th>till_slip_submission_-_visit_2</th>\n",
       "      <th>date_completed</th>\n",
       "      <th>time_completed</th>\n",
       "      <th>lon</th>\n",
       "      <th>lat</th>\n",
       "      <th>spaza_name</th>\n",
       "      <th>spaza_type_descr</th>\n",
       "      <th>role_descr</th>\n",
       "      <th>nationality_descr</th>\n",
       "      <th>spaza_age_descr</th>\n",
       "      <th>deposit_freq_descr</th>\n",
       "      <th>stock_freq_descr</th>\n",
       "      <th>stock_orders_day_descr</th>\n",
       "      <th>items_sold</th>\n",
       "      <th>shelving_descr</th>\n",
       "      <th>no_of_fridges</th>\n",
       "      <th>methods_of_pay</th>\n",
       "      <th>brands_in-store_desc</th>\n",
       "    </tr>\n",
       "  </thead>\n",
       "  <tbody>\n",
       "    <tr>\n",
       "      <th>0</th>\n",
       "      <td>439383</td>\n",
       "      <td>2</td>\n",
       "      <td>1</td>\n",
       "      <td>1</td>\n",
       "      <td>3</td>\n",
       "      <td>5</td>\n",
       "      <td>[\"8\"]</td>\n",
       "      <td>[\"2\", \"3\", \"4\", \"7\", \"8\", \"10\"]</td>\n",
       "      <td>1</td>\n",
       "      <td>1</td>\n",
       "      <td>30000</td>\n",
       "      <td>60000</td>\n",
       "      <td>[\"2\", \"4\", \"5\", \"6\", \"8\", \"9\", \"10\", \"11\", \"12\", \"13\", \"14\", \"18\", \"19\", \"20\", \"21\", \"24\", \"26\", \"33\", \"34\", \"35\", \"36\"]</td>\n",
       "      <td>GATE RITE</td>\n",
       "      <td>100</td>\n",
       "      <td>NaN</td>\n",
       "      <td>0</td>\n",
       "      <td>NaN</td>\n",
       "      <td>0</td>\n",
       "      <td>2: 1 slip</td>\n",
       "      <td>2: 1 slip</td>\n",
       "      <td>2021-11-05</td>\n",
       "      <td>09:00</td>\n",
       "      <td>31.0703980922699</td>\n",
       "      <td>-29.6979692867153</td>\n",
       "      <td>CHEAPEST SUPERMARKET</td>\n",
       "      <td>Gated</td>\n",
       "      <td>Shop Keeper</td>\n",
       "      <td>Ethiopian</td>\n",
       "      <td>3 - 4 years</td>\n",
       "      <td>Weekly</td>\n",
       "      <td>When I need stock</td>\n",
       "      <td>[when_needed]</td>\n",
       "      <td>[Electricity, freezer, perishables, feminine_hygiene_prods, baby_prods, hair_products]</td>\n",
       "      <td>All products have a shelf/ display area</td>\n",
       "      <td>1-2</td>\n",
       "      <td>Cash only till point</td>\n",
       "      <td>[ace, aunt_caroline, benny's, black_cat, cross_&amp;_blackwell, dolly_varden, doom, energade, fatti's_&amp;_moni's, fizzer, golden_cloud, jungle_oats, king_korn, koo, morvite, purity, smoothies, reboost, kotex, baby_soft, huggies]</td>\n",
       "    </tr>\n",
       "  </tbody>\n",
       "</table>\n",
       "</div>"
      ],
      "text/plain": [
       "   jobber_id  spaza_type  role number_of_spazas  spaza_age  stock_repl_freq  \\\n",
       "0     439383           2     1                1          3                5   \n",
       "\n",
       "  stock_orders_day                      store_items  shelving_1  \\\n",
       "0            [\"8\"]  [\"2\", \"3\", \"4\", \"7\", \"8\", \"10\"]           1   \n",
       "\n",
       "   till_points_1 weekly_ode_amount monthly_sales  \\\n",
       "0              1             30000         60000   \n",
       "\n",
       "                                                                                                            brands_in-store  \\\n",
       "0  [\"2\", \"4\", \"5\", \"6\", \"8\", \"9\", \"10\", \"11\", \"12\", \"13\", \"14\", \"18\", \"19\", \"20\", \"21\", \"24\", \"26\", \"33\", \"34\", \"35\", \"36\"]   \n",
       "\n",
       "  0_supplier_wholesalers  0_order_%_wholesalers 1_supplier_wholesalers  \\\n",
       "0             GATE RITE                     100                    NaN   \n",
       "\n",
       "   1_order_%_wholesalers 2_supplier_wholesalers  2_order_%_wholesalers  \\\n",
       "0                      0                    NaN                      0   \n",
       "\n",
       "  till_slip_submission_-_visit_1 till_slip_submission_-_visit_2  \\\n",
       "0                      2: 1 slip                      2: 1 slip   \n",
       "\n",
       "  date_completed time_completed               lon                lat  \\\n",
       "0     2021-11-05          09:00  31.0703980922699  -29.6979692867153   \n",
       "\n",
       "             spaza_name spaza_type_descr   role_descr nationality_descr  \\\n",
       "0  CHEAPEST SUPERMARKET            Gated  Shop Keeper         Ethiopian   \n",
       "\n",
       "  spaza_age_descr deposit_freq_descr   stock_freq_descr  \\\n",
       "0     3 - 4 years             Weekly  When I need stock   \n",
       "\n",
       "  stock_orders_day_descr  \\\n",
       "0          [when_needed]   \n",
       "\n",
       "                                                                               items_sold  \\\n",
       "0  [Electricity, freezer, perishables, feminine_hygiene_prods, baby_prods, hair_products]   \n",
       "\n",
       "                            shelving_descr no_of_fridges  \\\n",
       "0  All products have a shelf/ display area           1-2   \n",
       "\n",
       "         methods_of_pay  \\\n",
       "0  Cash only till point   \n",
       "\n",
       "                                                                                                                                                                                                             brands_in-store_desc  \n",
       "0  [ace, aunt_caroline, benny's, black_cat, cross_&_blackwell, dolly_varden, doom, energade, fatti's_&_moni's, fizzer, golden_cloud, jungle_oats, king_korn, koo, morvite, purity, smoothies, reboost, kotex, baby_soft, huggies]  "
      ]
     },
     "execution_count": 30,
     "metadata": {},
     "output_type": "execute_result"
    }
   ],
   "source": [
    "df.head(n = 1)"
   ]
  },
  {
   "cell_type": "code",
   "execution_count": 31,
   "id": "a121ea73",
   "metadata": {},
   "outputs": [],
   "source": [
    "# data types\n",
    "df.head(n = 2)\n",
    "df['jobber_id']=df['jobber_id'].astype(int)\n",
    "df['spaza_type']=df['spaza_type'].astype('category')\n",
    "df['role']=df['role'].astype('category')\n",
    "df['number_of_spazas']=df['number_of_spazas'].astype(int)\n",
    "df['spaza_age']=df['spaza_age'].astype(int)\n",
    "df['stock_repl_freq']=df['stock_repl_freq'].astype(int)\n",
    "df['stock_orders_day']=df['stock_orders_day'].astype(str)\n",
    "df['date_completed']=pd.to_datetime(df['date_completed'], format='%Y-%m-%d')\n",
    "#df['time_completed']=pd.to_datetime(df['time_completed'], format='%I:%M').dt.time\n",
    "# df['lon']=df['lon']\n",
    "# df['lat']=df['lat']\n",
    "# df['spaza_name']=df['spaza_name']\n",
    "# df['spaza_type_descr']=df['spaza_type_descr']\n",
    "# df['role_descr']=df['role_descr']\n",
    "# df['deposit_freq']=df['deposit_freq']\n",
    "# df['nationality_descr']=df['nationality_descr']\n",
    "# df['spaza_age_descr']=df['spaza_age_descr']\n",
    "# df['deposit_freq_descr']=df['deposit_freq_descr']\n",
    "# df['stock_freq']=df['stock_freq']\n"
   ]
  },
  {
   "cell_type": "code",
   "execution_count": 32,
   "id": "c8864c1c",
   "metadata": {},
   "outputs": [],
   "source": [
    "import plotly.express as px"
   ]
  },
  {
   "cell_type": "code",
   "execution_count": 33,
   "id": "922eba1b",
   "metadata": {},
   "outputs": [
    {
     "data": {
      "application/vnd.plotly.v1+json": {
       "config": {
        "plotlyServerURL": "https://plot.ly"
       },
       "data": [
        {
         "geo": "geo",
         "hovertemplate": "spaza_name=CHEAPEST SUPERMARKET<br>lat=%{lat}<br>lon=%{lon}<extra></extra>",
         "lat": [
          "-29.6979692867153"
         ],
         "legendgroup": "CHEAPEST SUPERMARKET",
         "lon": [
          "31.0703980922699"
         ],
         "marker": {
          "color": "#636efa",
          "symbol": "circle"
         },
         "mode": "markers",
         "name": "CHEAPEST SUPERMARKET",
         "showlegend": true,
         "type": "scattergeo"
        },
        {
         "geo": "geo",
         "hovertemplate": "spaza_name=MULE TUCK SHOP<br>lat=%{lat}<br>lon=%{lon}<extra></extra>",
         "lat": [
          "-29.6538965880754"
         ],
         "legendgroup": "MULE TUCK SHOP",
         "lon": [
          "31.0678124427795"
         ],
         "marker": {
          "color": "#EF553B",
          "symbol": "circle"
         },
         "mode": "markers",
         "name": "MULE TUCK SHOP",
         "showlegend": true,
         "type": "scattergeo"
        },
        {
         "geo": "geo",
         "hovertemplate": "spaza_name=BUS RANK TAKEAWAY* CAFE & GENERAL DEALER<br>lat=%{lat}<br>lon=%{lon}<extra></extra>",
         "lat": [
          "-29.6415885787857"
         ],
         "legendgroup": "BUS RANK TAKEAWAY* CAFE & GENERAL DEALER",
         "lon": [
          "31.0454481840134"
         ],
         "marker": {
          "color": "#00cc96",
          "symbol": "circle"
         },
         "mode": "markers",
         "name": "BUS RANK TAKEAWAY* CAFE & GENERAL DEALER",
         "showlegend": true,
         "type": "scattergeo"
        },
        {
         "geo": "geo",
         "hovertemplate": "spaza_name=HAWKERS PARADISE<br>lat=%{lat}<br>lon=%{lon}<extra></extra>",
         "lat": [
          "-29.6929738604019"
         ],
         "legendgroup": "HAWKERS PARADISE",
         "lon": [
          "31.0723292827606"
         ],
         "marker": {
          "color": "#ab63fa",
          "symbol": "circle"
         },
         "mode": "markers",
         "name": "HAWKERS PARADISE",
         "showlegend": true,
         "type": "scattergeo"
        },
        {
         "geo": "geo",
         "hovertemplate": "spaza_name=NGENA BONA SUPERMARKET<br>lat=%{lat}<br>lon=%{lon}<extra></extra>",
         "lat": [
          "-29.6428380968415"
         ],
         "legendgroup": "NGENA BONA SUPERMARKET",
         "lon": [
          "31.0456144809723"
         ],
         "marker": {
          "color": "#FFA15A",
          "symbol": "circle"
         },
         "mode": "markers",
         "name": "NGENA BONA SUPERMARKET",
         "showlegend": true,
         "type": "scattergeo"
        },
        {
         "geo": "geo",
         "hovertemplate": "spaza_name=THENGARITE SUPERMARKET<br>lat=%{lat}<br>lon=%{lon}<extra></extra>",
         "lat": [
          "-29.6418884179213"
         ],
         "legendgroup": "THENGARITE SUPERMARKET",
         "lon": [
          "31.0458357611456"
         ],
         "marker": {
          "color": "#19d3f3",
          "symbol": "circle"
         },
         "mode": "markers",
         "name": "THENGARITE SUPERMARKET",
         "showlegend": true,
         "type": "scattergeo"
        },
        {
         "geo": "geo",
         "hovertemplate": "spaza_name=SOLANGA TUCK SHOP<br>lat=%{lat}<br>lon=%{lon}<extra></extra>",
         "lat": [
          "-29.8606318930305"
         ],
         "legendgroup": "SOLANGA TUCK SHOP",
         "lon": [
          "30.7680594921112"
         ],
         "marker": {
          "color": "#FF6692",
          "symbol": "circle"
         },
         "mode": "markers",
         "name": "SOLANGA TUCK SHOP",
         "showlegend": true,
         "type": "scattergeo"
        },
        {
         "geo": "geo",
         "hovertemplate": "spaza_name=MKL TUCKSHOP<br>lat=%{lat}<br>lon=%{lon}<extra></extra>",
         "lat": [
          "-29.8589384659127"
         ],
         "legendgroup": "MKL TUCKSHOP",
         "lon": [
          "30.7626628875732"
         ],
         "marker": {
          "color": "#B6E880",
          "symbol": "circle"
         },
         "mode": "markers",
         "name": "MKL TUCKSHOP",
         "showlegend": true,
         "type": "scattergeo"
        },
        {
         "geo": "geo",
         "hovertemplate": "spaza_name=VUKUZAKHE TUCK SHOP<br>lat=%{lat}<br>lon=%{lon}<extra></extra>",
         "lat": [
          "-29.8648188147452"
         ],
         "legendgroup": "VUKUZAKHE TUCK SHOP",
         "lon": [
          "30.7663536071777"
         ],
         "marker": {
          "color": "#FF97FF",
          "symbol": "circle"
         },
         "mode": "markers",
         "name": "VUKUZAKHE TUCK SHOP",
         "showlegend": true,
         "type": "scattergeo"
        },
        {
         "geo": "geo",
         "hovertemplate": "spaza_name=BONGI'S TUCK SHOP<br>lat=%{lat}<br>lon=%{lon}<extra></extra>",
         "lat": [
          "-29.8686334126924"
         ],
         "legendgroup": "BONGI'S TUCK SHOP",
         "lon": [
          "30.7622122764587"
         ],
         "marker": {
          "color": "#FECB52",
          "symbol": "circle"
         },
         "mode": "markers",
         "name": "BONGI'S TUCK SHOP",
         "showlegend": true,
         "type": "scattergeo"
        },
        {
         "geo": "geo",
         "hovertemplate": "spaza_name=QALAKAHLE TUCKSHOP<br>lat=%{lat}<br>lon=%{lon}<extra></extra>",
         "lat": [
          "-29.858510452312"
         ],
         "legendgroup": "QALAKAHLE TUCKSHOP",
         "lon": [
          "30.7636070251465"
         ],
         "marker": {
          "color": "#636efa",
          "symbol": "circle"
         },
         "mode": "markers",
         "name": "QALAKAHLE TUCKSHOP",
         "showlegend": true,
         "type": "scattergeo"
        },
        {
         "geo": "geo",
         "hovertemplate": "spaza_name=UNGIBIYELE FAST FOOD AND SPAZA SHOP<br>lat=%{lat}<br>lon=%{lon}<extra></extra>",
         "lat": [
          "-29.8613762475077"
         ],
         "legendgroup": "UNGIBIYELE FAST FOOD AND SPAZA SHOP",
         "lon": [
          "30.7634353637695"
         ],
         "marker": {
          "color": "#EF553B",
          "symbol": "circle"
         },
         "mode": "markers",
         "name": "UNGIBIYELE FAST FOOD AND SPAZA SHOP",
         "showlegend": true,
         "type": "scattergeo"
        },
        {
         "geo": "geo",
         "hovertemplate": "spaza_name=PETERS SUPERMARKET<br>lat=%{lat}<br>lon=%{lon}<extra></extra>",
         "lat": [
          "-29.6055883437601"
         ],
         "legendgroup": "PETERS SUPERMARKET",
         "lon": [
          "30.3742361068726"
         ],
         "marker": {
          "color": "#00cc96",
          "symbol": "circle"
         },
         "mode": "markers",
         "name": "PETERS SUPERMARKET",
         "showlegend": true,
         "type": "scattergeo"
        },
        {
         "geo": "geo",
         "hovertemplate": "spaza_name=FAMILY SUPERMARKET<br>lat=%{lat}<br>lon=%{lon}<extra></extra>",
         "lat": [
          "-29.8518480909479",
          "-29.8616135093305",
          "-29.8515131001443"
         ],
         "legendgroup": "FAMILY SUPERMARKET",
         "lon": [
          "30.7706022262573",
          "31.0154128074646",
          "31.0160350799561"
         ],
         "marker": {
          "color": "#ab63fa",
          "symbol": "circle"
         },
         "mode": "markers",
         "name": "FAMILY SUPERMARKET",
         "showlegend": true,
         "type": "scattergeo"
        },
        {
         "geo": "geo",
         "hovertemplate": "spaza_name=FREEDOM DISCOUNT SUPERMARKET<br>lat=%{lat}<br>lon=%{lon}<extra></extra>",
         "lat": [
          "-29.6450946498607"
         ],
         "legendgroup": "FREEDOM DISCOUNT SUPERMARKET",
         "lon": [
          "30.3291749954224"
         ],
         "marker": {
          "color": "#FFA15A",
          "symbol": "circle"
         },
         "mode": "markers",
         "name": "FREEDOM DISCOUNT SUPERMARKET",
         "showlegend": true,
         "type": "scattergeo"
        },
        {
         "geo": "geo",
         "hovertemplate": "spaza_name=MM SUPERMARKET<br>lat=%{lat}<br>lon=%{lon}<extra></extra>",
         "lat": [
          "-29.5958046"
         ],
         "legendgroup": "MM SUPERMARKET",
         "lon": [
          "30.3837468"
         ],
         "marker": {
          "color": "#19d3f3",
          "symbol": "circle"
         },
         "mode": "markers",
         "name": "MM SUPERMARKET",
         "showlegend": true,
         "type": "scattergeo"
        },
        {
         "geo": "geo",
         "hovertemplate": "spaza_name=JUST RITE SUPER STORE<br>lat=%{lat}<br>lon=%{lon}<extra></extra>",
         "lat": [
          "-29.6417331133838"
         ],
         "legendgroup": "JUST RITE SUPER STORE",
         "lon": [
          "31.0476100444794"
         ],
         "marker": {
          "color": "#FF6692",
          "symbol": "circle"
         },
         "mode": "markers",
         "name": "JUST RITE SUPER STORE",
         "showlegend": true,
         "type": "scattergeo"
        },
        {
         "geo": "geo",
         "hovertemplate": "spaza_name=GURIMAMO WHOLESALE & RETAIL<br>lat=%{lat}<br>lon=%{lon}<extra></extra>",
         "lat": [
          "-29.6439617173735"
         ],
         "legendgroup": "GURIMAMO WHOLESALE & RETAIL",
         "lon": [
          "31.047540307045"
         ],
         "marker": {
          "color": "#B6E880",
          "symbol": "circle"
         },
         "mode": "markers",
         "name": "GURIMAMO WHOLESALE & RETAIL",
         "showlegend": true,
         "type": "scattergeo"
        },
        {
         "geo": "geo",
         "hovertemplate": "spaza_name=AFRICA WHOLESALERS<br>lat=%{lat}<br>lon=%{lon}<extra></extra>",
         "lat": [
          "-29.6445631522568"
         ],
         "legendgroup": "AFRICA WHOLESALERS",
         "lon": [
          "31.0459524393082"
         ],
         "marker": {
          "color": "#FF97FF",
          "symbol": "circle"
         },
         "mode": "markers",
         "name": "AFRICA WHOLESALERS",
         "showlegend": true,
         "type": "scattergeo"
        },
        {
         "geo": "geo",
         "hovertemplate": "spaza_name=PRETTY'S SWEET \"HOME OF SWEET\"<br>lat=%{lat}<br>lon=%{lon}<extra></extra>",
         "lat": [
          "-29.8594362620308"
         ],
         "legendgroup": "PRETTY'S SWEET \"HOME OF SWEET\"",
         "lon": [
          "31.0219573974609"
         ],
         "marker": {
          "color": "#FECB52",
          "symbol": "circle"
         },
         "mode": "markers",
         "name": "PRETTY'S SWEET \"HOME OF SWEET\"",
         "showlegend": true,
         "type": "scattergeo"
        },
        {
         "geo": "geo",
         "hovertemplate": "spaza_name=JIMA 2 SUPERMAKET<br>lat=%{lat}<br>lon=%{lon}<extra></extra>",
         "lat": [
          "-29.6050286531091"
         ],
         "legendgroup": "JIMA 2 SUPERMAKET",
         "lon": [
          "30.3747510910034"
         ],
         "marker": {
          "color": "#636efa",
          "symbol": "circle"
         },
         "mode": "markers",
         "name": "JIMA 2 SUPERMAKET",
         "showlegend": true,
         "type": "scattergeo"
        },
        {
         "geo": "geo",
         "hovertemplate": "spaza_name=MARAZA<br>lat=%{lat}<br>lon=%{lon}<extra></extra>",
         "lat": [
          "-29.956612402315"
         ],
         "legendgroup": "MARAZA",
         "lon": [
          "30.8855402469635"
         ],
         "marker": {
          "color": "#EF553B",
          "symbol": "circle"
         },
         "mode": "markers",
         "name": "MARAZA",
         "showlegend": true,
         "type": "scattergeo"
        },
        {
         "geo": "geo",
         "hovertemplate": "spaza_name=MIYA'S GENERAL DEALER<br>lat=%{lat}<br>lon=%{lon}<extra></extra>",
         "lat": [
          "-29.741966765415"
         ],
         "legendgroup": "MIYA'S GENERAL DEALER",
         "lon": [
          "30.9177803993225"
         ],
         "marker": {
          "color": "#00cc96",
          "symbol": "circle"
         },
         "mode": "markers",
         "name": "MIYA'S GENERAL DEALER",
         "showlegend": true,
         "type": "scattergeo"
        },
        {
         "geo": "geo",
         "hovertemplate": "spaza_name=BROTHERS SUPERMARKET<br>lat=%{lat}<br>lon=%{lon}<extra></extra>",
         "lat": [
          "-29.8506802709146"
         ],
         "legendgroup": "BROTHERS SUPERMARKET",
         "lon": [
          "31.0178536176682"
         ],
         "marker": {
          "color": "#ab63fa",
          "symbol": "circle"
         },
         "mode": "markers",
         "name": "BROTHERS SUPERMARKET",
         "showlegend": true,
         "type": "scattergeo"
        },
        {
         "geo": "geo",
         "hovertemplate": "spaza_name=BOB'S GROCER<br>lat=%{lat}<br>lon=%{lon}<extra></extra>",
         "lat": [
          "-29.6446890335218"
         ],
         "legendgroup": "BOB'S GROCER",
         "lon": [
          "31.0458076000214"
         ],
         "marker": {
          "color": "#FFA15A",
          "symbol": "circle"
         },
         "mode": "markers",
         "name": "BOB'S GROCER",
         "showlegend": true,
         "type": "scattergeo"
        },
        {
         "geo": "geo",
         "hovertemplate": "spaza_name=ZWELISHA SUPERMARKET<br>lat=%{lat}<br>lon=%{lon}<extra></extra>",
         "lat": [
          "-29.6677086710743"
         ],
         "legendgroup": "ZWELISHA SUPERMARKET",
         "lon": [
          "31.0109120607376"
         ],
         "marker": {
          "color": "#19d3f3",
          "symbol": "circle"
         },
         "mode": "markers",
         "name": "ZWELISHA SUPERMARKET",
         "showlegend": true,
         "type": "scattergeo"
        },
        {
         "geo": "geo",
         "hovertemplate": "spaza_name=FENI SUPERATTE<br>lat=%{lat}<br>lon=%{lon}<extra></extra>",
         "lat": [
          "-29.8581010462808"
         ],
         "legendgroup": "FENI SUPERATTE",
         "lon": [
          "31.0214477777481"
         ],
         "marker": {
          "color": "#FF6692",
          "symbol": "circle"
         },
         "mode": "markers",
         "name": "FENI SUPERATTE",
         "showlegend": true,
         "type": "scattergeo"
        },
        {
         "geo": "geo",
         "hovertemplate": "spaza_name=NKOMBANE SUPERMARKET<br>lat=%{lat}<br>lon=%{lon}<extra></extra>",
         "lat": [
          "-29.8638697945532"
         ],
         "legendgroup": "NKOMBANE SUPERMARKET",
         "lon": [
          "30.7642614841461"
         ],
         "marker": {
          "color": "#B6E880",
          "symbol": "circle"
         },
         "mode": "markers",
         "name": "NKOMBANE SUPERMARKET",
         "showlegend": true,
         "type": "scattergeo"
        },
        {
         "geo": "geo",
         "hovertemplate": "spaza_name=PENEAL SUPER MARKET<br>lat=%{lat}<br>lon=%{lon}<extra></extra>",
         "lat": [
          "-29.6077897635135"
         ],
         "legendgroup": "PENEAL SUPER MARKET",
         "lon": [
          "30.3692579269409"
         ],
         "marker": {
          "color": "#FF97FF",
          "symbol": "circle"
         },
         "mode": "markers",
         "name": "PENEAL SUPER MARKET",
         "showlegend": true,
         "type": "scattergeo"
        },
        {
         "geo": "geo",
         "hovertemplate": "spaza_name=CHECK STORE<br>lat=%{lat}<br>lon=%{lon}<extra></extra>",
         "lat": [
          "-29.6076778280757"
         ],
         "legendgroup": "CHECK STORE",
         "lon": [
          "30.3710174560547"
         ],
         "marker": {
          "color": "#FECB52",
          "symbol": "circle"
         },
         "mode": "markers",
         "name": "CHECK STORE",
         "showlegend": true,
         "type": "scattergeo"
        },
        {
         "geo": "geo",
         "hovertemplate": "spaza_name=MAZANSI STORE<br>lat=%{lat}<br>lon=%{lon}<extra></extra>",
         "lat": [
          "-29.6077151399021"
         ],
         "legendgroup": "MAZANSI STORE",
         "lon": [
          "30.3710603713989"
         ],
         "marker": {
          "color": "#636efa",
          "symbol": "circle"
         },
         "mode": "markers",
         "name": "MAZANSI STORE",
         "showlegend": true,
         "type": "scattergeo"
        },
        {
         "geo": "geo",
         "hovertemplate": "spaza_name=EBENEZER SUPERMARKET<br>lat=%{lat}<br>lon=%{lon}<extra></extra>",
         "lat": [
          "-29.6090210451277"
         ],
         "legendgroup": "EBENEZER SUPERMARKET",
         "lon": [
          "30.3703737258911"
         ],
         "marker": {
          "color": "#EF553B",
          "symbol": "circle"
         },
         "mode": "markers",
         "name": "EBENEZER SUPERMARKET",
         "showlegend": true,
         "type": "scattergeo"
        },
        {
         "geo": "geo",
         "hovertemplate": "spaza_name=AFRICAN PEACE TUCK SHOP<br>lat=%{lat}<br>lon=%{lon}<extra></extra>",
         "lat": [
          "-29.7009421930539"
         ],
         "legendgroup": "AFRICAN PEACE TUCK SHOP",
         "lon": [
          "30.9709632396698"
         ],
         "marker": {
          "color": "#00cc96",
          "symbol": "circle"
         },
         "mode": "markers",
         "name": "AFRICAN PEACE TUCK SHOP",
         "showlegend": true,
         "type": "scattergeo"
        },
        {
         "geo": "geo",
         "hovertemplate": "spaza_name=THANDABANTU SUPERMARKET<br>lat=%{lat}<br>lon=%{lon}<extra></extra>",
         "lat": [
          "-29.6188194585977"
         ],
         "legendgroup": "THANDABANTU SUPERMARKET",
         "lon": [
          "31.0290759801865"
         ],
         "marker": {
          "color": "#ab63fa",
          "symbol": "circle"
         },
         "mode": "markers",
         "name": "THANDABANTU SUPERMARKET",
         "showlegend": true,
         "type": "scattergeo"
        },
        {
         "geo": "geo",
         "hovertemplate": "spaza_name=DISCOUNT SUPERMARKET<br>lat=%{lat}<br>lon=%{lon}<extra></extra>",
         "lat": [
          "-29.8620833791"
         ],
         "legendgroup": "DISCOUNT SUPERMARKET",
         "lon": [
          "31.0144042969"
         ],
         "marker": {
          "color": "#FFA15A",
          "symbol": "circle"
         },
         "mode": "markers",
         "name": "DISCOUNT SUPERMARKET",
         "showlegend": true,
         "type": "scattergeo"
        },
        {
         "geo": "geo",
         "hovertemplate": "spaza_name=JUICES TUCKSHOP<br>lat=%{lat}<br>lon=%{lon}<extra></extra>",
         "lat": [
          "-29.9557525644622"
         ],
         "legendgroup": "JUICES TUCKSHOP",
         "lon": [
          "30.8846256136894"
         ],
         "marker": {
          "color": "#19d3f3",
          "symbol": "circle"
         },
         "mode": "markers",
         "name": "JUICES TUCKSHOP",
         "showlegend": true,
         "type": "scattergeo"
        },
        {
         "geo": "geo",
         "hovertemplate": "spaza_name=AL-BARAKA STORE<br>lat=%{lat}<br>lon=%{lon}<extra></extra>",
         "lat": [
          "-29.8545279769099"
         ],
         "legendgroup": "AL-BARAKA STORE",
         "lon": [
          "31.0191571712494"
         ],
         "marker": {
          "color": "#FF6692",
          "symbol": "circle"
         },
         "mode": "markers",
         "name": "AL-BARAKA STORE",
         "showlegend": true,
         "type": "scattergeo"
        },
        {
         "geo": "geo",
         "hovertemplate": "spaza_name=DANIEL TUCK SHOP<br>lat=%{lat}<br>lon=%{lon}<extra></extra>",
         "lat": [
          "-29.6243921436315"
         ],
         "legendgroup": "DANIEL TUCK SHOP",
         "lon": [
          "31.0295534133911"
         ],
         "marker": {
          "color": "#B6E880",
          "symbol": "circle"
         },
         "mode": "markers",
         "name": "DANIEL TUCK SHOP",
         "showlegend": true,
         "type": "scattergeo"
        },
        {
         "geo": "geo",
         "hovertemplate": "spaza_name=INTOKOZWENI TUCKSHOP<br>lat=%{lat}<br>lon=%{lon}<extra></extra>",
         "lat": [
          "-29.7409467119816"
         ],
         "legendgroup": "INTOKOZWENI TUCKSHOP",
         "lon": [
          "30.9352576732635"
         ],
         "marker": {
          "color": "#FF97FF",
          "symbol": "circle"
         },
         "mode": "markers",
         "name": "INTOKOZWENI TUCKSHOP",
         "showlegend": true,
         "type": "scattergeo"
        },
        {
         "geo": "geo",
         "hovertemplate": "spaza_name=KWAMADODA TUCKSHOP<br>lat=%{lat}<br>lon=%{lon}<extra></extra>",
         "lat": [
          "-29.7403970898485"
         ],
         "legendgroup": "KWAMADODA TUCKSHOP",
         "lon": [
          "30.9354293346405"
         ],
         "marker": {
          "color": "#FECB52",
          "symbol": "circle"
         },
         "mode": "markers",
         "name": "KWAMADODA TUCKSHOP",
         "showlegend": true,
         "type": "scattergeo"
        },
        {
         "geo": "geo",
         "hovertemplate": "spaza_name=KWA KWEZI<br>lat=%{lat}<br>lon=%{lon}<extra></extra>",
         "lat": [
          "-29.5934983346124"
         ],
         "legendgroup": "KWA KWEZI",
         "lon": [
          "30.3860378265381"
         ],
         "marker": {
          "color": "#636efa",
          "symbol": "circle"
         },
         "mode": "markers",
         "name": "KWA KWEZI",
         "showlegend": true,
         "type": "scattergeo"
        },
        {
         "geo": "geo",
         "hovertemplate": "spaza_name=ZIMELENIMAZULU TRADING STORE<br>lat=%{lat}<br>lon=%{lon}<extra></extra>",
         "lat": [
          "-29.7125207778267"
         ],
         "legendgroup": "ZIMELENIMAZULU TRADING STORE",
         "lon": [
          "30.9758877754211"
         ],
         "marker": {
          "color": "#EF553B",
          "symbol": "circle"
         },
         "mode": "markers",
         "name": "ZIMELENIMAZULU TRADING STORE",
         "showlegend": true,
         "type": "scattergeo"
        },
        {
         "geo": "geo",
         "hovertemplate": "spaza_name=ESPLANAGE SUPERMARKET<br>lat=%{lat}<br>lon=%{lon}<extra></extra>",
         "lat": [
          "-29.8610506"
         ],
         "legendgroup": "ESPLANAGE SUPERMARKET",
         "lon": [
          "31.0250884"
         ],
         "marker": {
          "color": "#00cc96",
          "symbol": "circle"
         },
         "mode": "markers",
         "name": "ESPLANAGE SUPERMARKET",
         "showlegend": true,
         "type": "scattergeo"
        },
        {
         "geo": "geo",
         "hovertemplate": "spaza_name=THENGADUZE<br>lat=%{lat}<br>lon=%{lon}<extra></extra>",
         "lat": [
          "-29.9525920154781"
         ],
         "legendgroup": "THENGADUZE",
         "lon": [
          "30.8806774020195"
         ],
         "marker": {
          "color": "#ab63fa",
          "symbol": "circle"
         },
         "mode": "markers",
         "name": "THENGADUZE",
         "showlegend": true,
         "type": "scattergeo"
        },
        {
         "geo": "geo",
         "hovertemplate": "spaza_name=CHRIS TUCK SHOP<br>lat=%{lat}<br>lon=%{lon}<extra></extra>",
         "lat": [
          "-29.6498686779723"
         ],
         "legendgroup": "CHRIS TUCK SHOP",
         "lon": [
          "30.2923107147217"
         ],
         "marker": {
          "color": "#FFA15A",
          "symbol": "circle"
         },
         "mode": "markers",
         "name": "CHRIS TUCK SHOP",
         "showlegend": true,
         "type": "scattergeo"
        },
        {
         "geo": "geo",
         "hovertemplate": "spaza_name=FAMILY SHOP<br>lat=%{lat}<br>lon=%{lon}<extra></extra>",
         "lat": [
          "-29.8594781326191"
         ],
         "legendgroup": "FAMILY SHOP",
         "lon": [
          "31.0219573974609"
         ],
         "marker": {
          "color": "#19d3f3",
          "symbol": "circle"
         },
         "mode": "markers",
         "name": "FAMILY SHOP",
         "showlegend": true,
         "type": "scattergeo"
        },
        {
         "geo": "geo",
         "hovertemplate": "spaza_name=FAMILY STORE & TAKEAWAYS<br>lat=%{lat}<br>lon=%{lon}<extra></extra>",
         "lat": [
          "-29.6046770579686"
         ],
         "legendgroup": "FAMILY STORE & TAKEAWAYS",
         "lon": [
          "30.3753014238464"
         ],
         "marker": {
          "color": "#FF6692",
          "symbol": "circle"
         },
         "mode": "markers",
         "name": "FAMILY STORE & TAKEAWAYS",
         "showlegend": true,
         "type": "scattergeo"
        },
        {
         "geo": "geo",
         "hovertemplate": "spaza_name=MM SUPERMARKET & GENERAL DEALER<br>lat=%{lat}<br>lon=%{lon}<extra></extra>",
         "lat": [
          "-29.591819052064"
         ],
         "legendgroup": "MM SUPERMARKET & GENERAL DEALER",
         "lon": [
          "30.3826904296875"
         ],
         "marker": {
          "color": "#B6E880",
          "symbol": "circle"
         },
         "mode": "markers",
         "name": "MM SUPERMARKET & GENERAL DEALER",
         "showlegend": true,
         "type": "scattergeo"
        },
        {
         "geo": "geo",
         "hovertemplate": "spaza_name=ZULU CAFE SUPERMARKET<br>lat=%{lat}<br>lon=%{lon}<extra></extra>",
         "lat": [
          "-29.5962597606927"
         ],
         "legendgroup": "ZULU CAFE SUPERMARKET",
         "lon": [
          "30.3827333450317"
         ],
         "marker": {
          "color": "#FF97FF",
          "symbol": "circle"
         },
         "mode": "markers",
         "name": "ZULU CAFE SUPERMARKET",
         "showlegend": true,
         "type": "scattergeo"
        },
        {
         "geo": "geo",
         "hovertemplate": "spaza_name=BARCELONA SUPERMARKET<br>lat=%{lat}<br>lon=%{lon}<extra></extra>",
         "lat": [
          "-29.6416631773138"
         ],
         "legendgroup": "BARCELONA SUPERMARKET",
         "lon": [
          "31.0476529598236"
         ],
         "marker": {
          "color": "#FECB52",
          "symbol": "circle"
         },
         "mode": "markers",
         "name": "BARCELONA SUPERMARKET",
         "showlegend": true,
         "type": "scattergeo"
        },
        {
         "geo": "geo",
         "hovertemplate": "spaza_name=MDUZIZI TUCK SHOP<br>lat=%{lat}<br>lon=%{lon}<extra></extra>",
         "lat": [
          "-29.6695322195007"
         ],
         "legendgroup": "MDUZIZI TUCK SHOP",
         "lon": [
          "31.0566774010295"
         ],
         "marker": {
          "color": "#636efa",
          "symbol": "circle"
         },
         "mode": "markers",
         "name": "MDUZIZI TUCK SHOP",
         "showlegend": true,
         "type": "scattergeo"
        },
        {
         "geo": "geo",
         "hovertemplate": "spaza_name=ABUSH SHOP<br>lat=%{lat}<br>lon=%{lon}<extra></extra>",
         "lat": [
          "-29.6224568946358"
         ],
         "legendgroup": "ABUSH SHOP",
         "lon": [
          "31.0310822725296"
         ],
         "marker": {
          "color": "#EF553B",
          "symbol": "circle"
         },
         "mode": "markers",
         "name": "ABUSH SHOP",
         "showlegend": true,
         "type": "scattergeo"
        },
        {
         "geo": "geo",
         "hovertemplate": "spaza_name=HALELUYA DISCOUNT SHOP<br>lat=%{lat}<br>lon=%{lon}<extra></extra>",
         "lat": [
          "-29.621099866545"
         ],
         "legendgroup": "HALELUYA DISCOUNT SHOP",
         "lon": [
          "31.031876206398"
         ],
         "marker": {
          "color": "#00cc96",
          "symbol": "circle"
         },
         "mode": "markers",
         "name": "HALELUYA DISCOUNT SHOP",
         "showlegend": true,
         "type": "scattergeo"
        },
        {
         "geo": "geo",
         "hovertemplate": "spaza_name=UMHLASI LIFE STYLE SUPER SPAZA SHOP<br>lat=%{lat}<br>lon=%{lon}<extra></extra>",
         "lat": [
          "-29.6209786191595"
         ],
         "legendgroup": "UMHLASI LIFE STYLE SUPER SPAZA SHOP",
         "lon": [
          "31.0330617427826"
         ],
         "marker": {
          "color": "#ab63fa",
          "symbol": "circle"
         },
         "mode": "markers",
         "name": "UMHLASI LIFE STYLE SUPER SPAZA SHOP",
         "showlegend": true,
         "type": "scattergeo"
        },
        {
         "geo": "geo",
         "hovertemplate": "spaza_name=SOLOMON TUCK SHOP<br>lat=%{lat}<br>lon=%{lon}<extra></extra>",
         "lat": [
          "-29.7544999995101"
         ],
         "legendgroup": "SOLOMON TUCK SHOP",
         "lon": [
          "30.9960043430328"
         ],
         "marker": {
          "color": "#FFA15A",
          "symbol": "circle"
         },
         "mode": "markers",
         "name": "SOLOMON TUCK SHOP",
         "showlegend": true,
         "type": "scattergeo"
        },
        {
         "geo": "geo",
         "hovertemplate": "spaza_name=AL-SAMEER SUPERMARKET<br>lat=%{lat}<br>lon=%{lon}<extra></extra>",
         "lat": [
          "-29.8609575487974"
         ],
         "legendgroup": "AL-SAMEER SUPERMARKET",
         "lon": [
          "31.0153162479401"
         ],
         "marker": {
          "color": "#19d3f3",
          "symbol": "circle"
         },
         "mode": "markers",
         "name": "AL-SAMEER SUPERMARKET",
         "showlegend": true,
         "type": "scattergeo"
        },
        {
         "geo": "geo",
         "hovertemplate": "spaza_name=HOLA SEVEN SUPERMARKET<br>lat=%{lat}<br>lon=%{lon}<extra></extra>",
         "lat": [
          "-29.5950133"
         ],
         "legendgroup": "HOLA SEVEN SUPERMARKET",
         "lon": [
          "30.3842519"
         ],
         "marker": {
          "color": "#FF6692",
          "symbol": "circle"
         },
         "mode": "markers",
         "name": "HOLA SEVEN SUPERMARKET",
         "showlegend": true,
         "type": "scattergeo"
        },
        {
         "geo": "geo",
         "hovertemplate": "spaza_name=J M TUCK SHOP<br>lat=%{lat}<br>lon=%{lon}<extra></extra>",
         "lat": [
          "-29.625124264284"
         ],
         "legendgroup": "J M TUCK SHOP",
         "lon": [
          "31.0329705476761"
         ],
         "marker": {
          "color": "#B6E880",
          "symbol": "circle"
         },
         "mode": "markers",
         "name": "J M TUCK SHOP",
         "showlegend": true,
         "type": "scattergeo"
        },
        {
         "geo": "geo",
         "hovertemplate": "spaza_name=MAKHOSI TUCK SHOP<br>lat=%{lat}<br>lon=%{lon}<extra></extra>",
         "lat": [
          "-29.9555480613917"
         ],
         "legendgroup": "MAKHOSI TUCK SHOP",
         "lon": [
          "30.8875036239624"
         ],
         "marker": {
          "color": "#FF97FF",
          "symbol": "circle"
         },
         "mode": "markers",
         "name": "MAKHOSI TUCK SHOP",
         "showlegend": true,
         "type": "scattergeo"
        },
        {
         "geo": "geo",
         "hovertemplate": "spaza_name=NOMDAYI TUCK SHOP<br>lat=%{lat}<br>lon=%{lon}<extra></extra>",
         "lat": [
          "-29.7089751236618"
         ],
         "legendgroup": "NOMDAYI TUCK SHOP",
         "lon": [
          "30.9685921669006"
         ],
         "marker": {
          "color": "#FECB52",
          "symbol": "circle"
         },
         "mode": "markers",
         "name": "NOMDAYI TUCK SHOP",
         "showlegend": true,
         "type": "scattergeo"
        },
        {
         "geo": "geo",
         "hovertemplate": "spaza_name=LOXION TIKKA<br>lat=%{lat}<br>lon=%{lon}<extra></extra>",
         "lat": [
          "-29.7041945822732"
         ],
         "legendgroup": "LOXION TIKKA",
         "lon": [
          "30.9684526920319"
         ],
         "marker": {
          "color": "#636efa",
          "symbol": "circle"
         },
         "mode": "markers",
         "name": "LOXION TIKKA",
         "showlegend": true,
         "type": "scattergeo"
        },
        {
         "geo": "geo",
         "hovertemplate": "spaza_name=AD SUPERMARKET<br>lat=%{lat}<br>lon=%{lon}<extra></extra>",
         "lat": [
          "-29.8627044"
         ],
         "legendgroup": "AD SUPERMARKET",
         "lon": [
          "31.0162137"
         ],
         "marker": {
          "color": "#EF553B",
          "symbol": "circle"
         },
         "mode": "markers",
         "name": "AD SUPERMARKET",
         "showlegend": true,
         "type": "scattergeo"
        },
        {
         "geo": "geo",
         "hovertemplate": "spaza_name=BILKAYR TUCK SHOP<br>lat=%{lat}<br>lon=%{lon}<extra></extra>",
         "lat": [
          "-29.8628761"
         ],
         "legendgroup": "BILKAYR TUCK SHOP",
         "lon": [
          "31.0161331"
         ],
         "marker": {
          "color": "#00cc96",
          "symbol": "circle"
         },
         "mode": "markers",
         "name": "BILKAYR TUCK SHOP",
         "showlegend": true,
         "type": "scattergeo"
        },
        {
         "geo": "geo",
         "hovertemplate": "spaza_name=SABETA GENERAL DEALER<br>lat=%{lat}<br>lon=%{lon}<extra></extra>",
         "lat": [
          "-29.5924117"
         ],
         "legendgroup": "SABETA GENERAL DEALER",
         "lon": [
          "30.3875592"
         ],
         "marker": {
          "color": "#ab63fa",
          "symbol": "circle"
         },
         "mode": "markers",
         "name": "SABETA GENERAL DEALER",
         "showlegend": true,
         "type": "scattergeo"
        },
        {
         "geo": "geo",
         "hovertemplate": "spaza_name=MONT BLANC SUPERMARKET AND TAKE AWAY<br>lat=%{lat}<br>lon=%{lon}<extra></extra>",
         "lat": [
          "-29.858510452312"
         ],
         "legendgroup": "MONT BLANC SUPERMARKET AND TAKE AWAY",
         "lon": [
          "31.0391235351563"
         ],
         "marker": {
          "color": "#FFA15A",
          "symbol": "circle"
         },
         "mode": "markers",
         "name": "MONT BLANC SUPERMARKET AND TAKE AWAY",
         "showlegend": true,
         "type": "scattergeo"
        },
        {
         "geo": "geo",
         "hovertemplate": "spaza_name=ANVER'S TAKE AWAY<br>lat=%{lat}<br>lon=%{lon}<extra></extra>",
         "lat": [
          "-29.8581010462808"
         ],
         "legendgroup": "ANVER'S TAKE AWAY",
         "lon": [
          "31.0328257083893"
         ],
         "marker": {
          "color": "#19d3f3",
          "symbol": "circle"
         },
         "mode": "markers",
         "name": "ANVER'S TAKE AWAY",
         "showlegend": true,
         "type": "scattergeo"
        },
        {
         "geo": "geo",
         "hovertemplate": "spaza_name=AL MIN SUPERMARKET<br>lat=%{lat}<br>lon=%{lon}<extra></extra>",
         "lat": [
          "-29.8525118657959"
         ],
         "legendgroup": "AL MIN SUPERMARKET",
         "lon": [
          "31.0164910554886"
         ],
         "marker": {
          "color": "#FF6692",
          "symbol": "circle"
         },
         "mode": "markers",
         "name": "AL MIN SUPERMARKET",
         "showlegend": true,
         "type": "scattergeo"
        },
        {
         "geo": "geo",
         "hovertemplate": "spaza_name=SILVERSPOON SUPERMARKET & TAKE AWAY<br>lat=%{lat}<br>lon=%{lon}<extra></extra>",
         "lat": [
          "-29.8520062806588"
         ],
         "legendgroup": "SILVERSPOON SUPERMARKET & TAKE AWAY",
         "lon": [
          "31.0161477327347"
         ],
         "marker": {
          "color": "#B6E880",
          "symbol": "circle"
         },
         "mode": "markers",
         "name": "SILVERSPOON SUPERMARKET & TAKE AWAY",
         "showlegend": true,
         "type": "scattergeo"
        },
        {
         "geo": "geo",
         "hovertemplate": "spaza_name=TAMANNA SUPERMARKET AND WHOLESALE<br>lat=%{lat}<br>lon=%{lon}<extra></extra>",
         "lat": [
          "-29.5917444166353"
         ],
         "legendgroup": "TAMANNA SUPERMARKET AND WHOLESALE",
         "lon": [
          "30.3904151916504"
         ],
         "marker": {
          "color": "#FF97FF",
          "symbol": "circle"
         },
         "mode": "markers",
         "name": "TAMANNA SUPERMARKET AND WHOLESALE",
         "showlegend": true,
         "type": "scattergeo"
        },
        {
         "geo": "geo",
         "hovertemplate": "spaza_name=POPULAR SUPERMARKET<br>lat=%{lat}<br>lon=%{lon}<extra></extra>",
         "lat": [
          "-29.5919019805064"
         ],
         "legendgroup": "POPULAR SUPERMARKET",
         "lon": [
          "30.3905642035534"
         ],
         "marker": {
          "color": "#FECB52",
          "symbol": "circle"
         },
         "mode": "markers",
         "name": "POPULAR SUPERMARKET",
         "showlegend": true,
         "type": "scattergeo"
        },
        {
         "geo": "geo",
         "hovertemplate": "spaza_name=GREEN GARDEN TUCK SHOP<br>lat=%{lat}<br>lon=%{lon}<extra></extra>",
         "lat": [
          "-29.6647487656812"
         ],
         "legendgroup": "GREEN GARDEN TUCK SHOP",
         "lon": [
          "31.0590255260468"
         ],
         "marker": {
          "color": "#636efa",
          "symbol": "circle"
         },
         "mode": "markers",
         "name": "GREEN GARDEN TUCK SHOP",
         "showlegend": true,
         "type": "scattergeo"
        },
        {
         "geo": "geo",
         "hovertemplate": "spaza_name=ALEX TUCK SHOP<br>lat=%{lat}<br>lon=%{lon}<extra></extra>",
         "lat": [
          "-29.623240325213",
          "-29.6189173912877",
          "-29.6570292955947"
         ],
         "legendgroup": "ALEX TUCK SHOP",
         "lon": [
          "31.0366129875183",
          "31.0286897420883",
          "30.3043270111084"
         ],
         "marker": {
          "color": "#EF553B",
          "symbol": "circle"
         },
         "mode": "markers",
         "name": "ALEX TUCK SHOP",
         "showlegend": true,
         "type": "scattergeo"
        },
        {
         "geo": "geo",
         "hovertemplate": "spaza_name=JONE TUCK SHOP<br>lat=%{lat}<br>lon=%{lon}<extra></extra>",
         "lat": [
          "-29.6607958743161"
         ],
         "legendgroup": "JONE TUCK SHOP",
         "lon": [
          "31.049884557724"
         ],
         "marker": {
          "color": "#00cc96",
          "symbol": "circle"
         },
         "mode": "markers",
         "name": "JONE TUCK SHOP",
         "showlegend": true,
         "type": "scattergeo"
        },
        {
         "geo": "geo",
         "hovertemplate": "spaza_name=NJURA'S TUCK SHOP<br>lat=%{lat}<br>lon=%{lon}<extra></extra>",
         "lat": [
          "-29.6530761009432"
         ],
         "legendgroup": "NJURA'S TUCK SHOP",
         "lon": [
          "30.302996635437"
         ],
         "marker": {
          "color": "#ab63fa",
          "symbol": "circle"
         },
         "mode": "markers",
         "name": "NJURA'S TUCK SHOP",
         "showlegend": true,
         "type": "scattergeo"
        },
        {
         "geo": "geo",
         "hovertemplate": "spaza_name=PARK NORTH SUPERMARKET<br>lat=%{lat}<br>lon=%{lon}<extra></extra>",
         "lat": [
          "-29.8628649398063"
         ],
         "legendgroup": "PARK NORTH SUPERMARKET",
         "lon": [
          "31.0165500640869"
         ],
         "marker": {
          "color": "#FFA15A",
          "symbol": "circle"
         },
         "mode": "markers",
         "name": "PARK NORTH SUPERMARKET",
         "showlegend": true,
         "type": "scattergeo"
        },
        {
         "geo": "geo",
         "hovertemplate": "spaza_name=MTIMANDE TUCK SHOP<br>lat=%{lat}<br>lon=%{lon}<extra></extra>",
         "lat": [
          "-29.6184603712533"
         ],
         "legendgroup": "MTIMANDE TUCK SHOP",
         "lon": [
          "31.0306960344315"
         ],
         "marker": {
          "color": "#19d3f3",
          "symbol": "circle"
         },
         "mode": "markers",
         "name": "MTIMANDE TUCK SHOP",
         "showlegend": true,
         "type": "scattergeo"
        },
        {
         "geo": "geo",
         "hovertemplate": "spaza_name=TEDDY TUCK SHOP<br>lat=%{lat}<br>lon=%{lon}<extra></extra>",
         "lat": [
          "-29.6258144113655"
         ],
         "legendgroup": "TEDDY TUCK SHOP",
         "lon": [
          "31.0284858942032"
         ],
         "marker": {
          "color": "#FF6692",
          "symbol": "circle"
         },
         "mode": "markers",
         "name": "TEDDY TUCK SHOP",
         "showlegend": true,
         "type": "scattergeo"
        },
        {
         "geo": "geo",
         "hovertemplate": "spaza_name=C & D TUCK SHOP<br>lat=%{lat}<br>lon=%{lon}<extra></extra>",
         "lat": [
          "-29.6264439332968"
         ],
         "legendgroup": "C & D TUCK SHOP",
         "lon": [
          "31.0308837890625"
         ],
         "marker": {
          "color": "#B6E880",
          "symbol": "circle"
         },
         "mode": "markers",
         "name": "C & D TUCK SHOP",
         "showlegend": true,
         "type": "scattergeo"
        },
        {
         "geo": "geo",
         "hovertemplate": "spaza_name=BLESSING SHOP<br>lat=%{lat}<br>lon=%{lon}<extra></extra>",
         "lat": [
          "-29.8582127026377"
         ],
         "legendgroup": "BLESSING SHOP",
         "lon": [
          "31.0314095020294"
         ],
         "marker": {
          "color": "#FF97FF",
          "symbol": "circle"
         },
         "mode": "markers",
         "name": "BLESSING SHOP",
         "showlegend": true,
         "type": "scattergeo"
        },
        {
         "geo": "geo",
         "hovertemplate": "spaza_name=DISCOUNT SUPERMARKT<br>lat=%{lat}<br>lon=%{lon}<extra></extra>",
         "lat": [
          "-29.8580731321721"
         ],
         "legendgroup": "DISCOUNT SUPERMARKT",
         "lon": [
          "31.0325735807419"
         ],
         "marker": {
          "color": "#FECB52",
          "symbol": "circle"
         },
         "mode": "markers",
         "name": "DISCOUNT SUPERMARKT",
         "showlegend": true,
         "type": "scattergeo"
        },
        {
         "geo": "geo",
         "hovertemplate": "spaza_name=JIMI SUPER<br>lat=%{lat}<br>lon=%{lon}<extra></extra>",
         "lat": [
          "-29.5932744318876"
         ],
         "legendgroup": "JIMI SUPER",
         "lon": [
          "30.3862953186035"
         ],
         "marker": {
          "color": "#636efa",
          "symbol": "circle"
         },
         "mode": "markers",
         "name": "JIMI SUPER",
         "showlegend": true,
         "type": "scattergeo"
        },
        {
         "geo": "geo",
         "hovertemplate": "spaza_name=MIYA'S FAST FOOD<br>lat=%{lat}<br>lon=%{lon}<extra></extra>",
         "lat": [
          "-29.7371551895453"
         ],
         "legendgroup": "MIYA'S FAST FOOD",
         "lon": [
          "30.919486284256"
         ],
         "marker": {
          "color": "#EF553B",
          "symbol": "circle"
         },
         "mode": "markers",
         "name": "MIYA'S FAST FOOD",
         "showlegend": true,
         "type": "scattergeo"
        },
        {
         "geo": "geo",
         "hovertemplate": "spaza_name=HT TUCK SHOP<br>lat=%{lat}<br>lon=%{lon}<extra></extra>",
         "lat": [
          "-29.6038346360042"
         ],
         "legendgroup": "HT TUCK SHOP",
         "lon": [
          "30.3689575195313"
         ],
         "marker": {
          "color": "#00cc96",
          "symbol": "circle"
         },
         "mode": "markers",
         "name": "HT TUCK SHOP",
         "showlegend": true,
         "type": "scattergeo"
        },
        {
         "geo": "geo",
         "hovertemplate": "spaza_name=ARIF SUPERMARKET<br>lat=%{lat}<br>lon=%{lon}<extra></extra>",
         "lat": [
          "-29.590998059312"
         ],
         "legendgroup": "ARIF SUPERMARKET",
         "lon": [
          "30.3899431228638"
         ],
         "marker": {
          "color": "#ab63fa",
          "symbol": "circle"
         },
         "mode": "markers",
         "name": "ARIF SUPERMARKET",
         "showlegend": true,
         "type": "scattergeo"
        },
        {
         "geo": "geo",
         "hovertemplate": "spaza_name=BISMILLASH DISCOUNT SUPERMARKET<br>lat=%{lat}<br>lon=%{lon}<extra></extra>",
         "lat": [
          "-29.5947297907162"
         ],
         "legendgroup": "BISMILLASH DISCOUNT SUPERMARKET",
         "lon": [
          "30.3870677947998"
         ],
         "marker": {
          "color": "#FFA15A",
          "symbol": "circle"
         },
         "mode": "markers",
         "name": "BISMILLASH DISCOUNT SUPERMARKET",
         "showlegend": true,
         "type": "scattergeo"
        },
        {
         "geo": "geo",
         "hovertemplate": "spaza_name=MNYANDU TUCK SHOP<br>lat=%{lat}<br>lon=%{lon}<extra></extra>",
         "lat": [
          "-29.7138299824685"
         ],
         "legendgroup": "MNYANDU TUCK SHOP",
         "lon": [
          "30.963259935379"
         ],
         "marker": {
          "color": "#19d3f3",
          "symbol": "circle"
         },
         "mode": "markers",
         "name": "MNYANDU TUCK SHOP",
         "showlegend": true,
         "type": "scattergeo"
        },
        {
         "geo": "geo",
         "hovertemplate": "spaza_name=SIZABANTU SUPERMARKET<br>lat=%{lat}<br>lon=%{lon}<extra></extra>",
         "lat": [
          "-29.5951775892088"
         ],
         "legendgroup": "SIZABANTU SUPERMARKET",
         "lon": [
          "30.3850507736206"
         ],
         "marker": {
          "color": "#FF6692",
          "symbol": "circle"
         },
         "mode": "markers",
         "name": "SIZABANTU SUPERMARKET",
         "showlegend": true,
         "type": "scattergeo"
        },
        {
         "geo": "geo",
         "hovertemplate": "spaza_name=SIZABANTU TUCK SHOP<br>lat=%{lat}<br>lon=%{lon}<extra></extra>",
         "lat": [
          "-29.6493092332646"
         ],
         "legendgroup": "SIZABANTU TUCK SHOP",
         "lon": [
          "30.2763032913208"
         ],
         "marker": {
          "color": "#B6E880",
          "symbol": "circle"
         },
         "mode": "markers",
         "name": "SIZABANTU TUCK SHOP",
         "showlegend": true,
         "type": "scattergeo"
        },
        {
         "geo": "geo",
         "hovertemplate": "spaza_name=THUTHUKA TAVERN & TAKEAWAY<br>lat=%{lat}<br>lon=%{lon}<extra></extra>",
         "lat": [
          "-29.6417004765572"
         ],
         "legendgroup": "THUTHUKA TAVERN & TAKEAWAY",
         "lon": [
          "30.2702522277832"
         ],
         "marker": {
          "color": "#FF97FF",
          "symbol": "circle"
         },
         "mode": "markers",
         "name": "THUTHUKA TAVERN & TAKEAWAY",
         "showlegend": true,
         "type": "scattergeo"
        },
        {
         "geo": "geo",
         "hovertemplate": "spaza_name=WIPERS TUCK SHOP<br>lat=%{lat}<br>lon=%{lon}<extra></extra>",
         "lat": [
          "-29.6545305962778"
         ],
         "legendgroup": "WIPERS TUCK SHOP",
         "lon": [
          "30.3113222122192"
         ],
         "marker": {
          "color": "#FECB52",
          "symbol": "circle"
         },
         "mode": "markers",
         "name": "WIPERS TUCK SHOP",
         "showlegend": true,
         "type": "scattergeo"
        },
        {
         "geo": "geo",
         "hovertemplate": "spaza_name=SYABONGA TUCK SHOP<br>lat=%{lat}<br>lon=%{lon}<extra></extra>",
         "lat": [
          "-29.6452065437356"
         ],
         "legendgroup": "SYABONGA TUCK SHOP",
         "lon": [
          "30.3281450271606"
         ],
         "marker": {
          "color": "#636efa",
          "symbol": "circle"
         },
         "mode": "markers",
         "name": "SYABONGA TUCK SHOP",
         "showlegend": true,
         "type": "scattergeo"
        },
        {
         "geo": "geo",
         "hovertemplate": "spaza_name=ISINAMUVA TRADING<br>lat=%{lat}<br>lon=%{lon}<extra></extra>",
         "lat": [
          "-29.9555573569949"
         ],
         "legendgroup": "ISINAMUVA TRADING",
         "lon": [
          "30.8848106861115"
         ],
         "marker": {
          "color": "#EF553B",
          "symbol": "circle"
         },
         "mode": "markers",
         "name": "ISINAMUVA TRADING",
         "showlegend": true,
         "type": "scattergeo"
        },
        {
         "geo": "geo",
         "hovertemplate": "spaza_name=MARBERG SUPERETTE<br>lat=%{lat}<br>lon=%{lon}<extra></extra>",
         "lat": [
          "-29.8634418021018"
         ],
         "legendgroup": "MARBERG SUPERETTE",
         "lon": [
          "31.0184168815613"
         ],
         "marker": {
          "color": "#00cc96",
          "symbol": "circle"
         },
         "mode": "markers",
         "name": "MARBERG SUPERETTE",
         "showlegend": true,
         "type": "scattergeo"
        },
        {
         "geo": "geo",
         "hovertemplate": "spaza_name=SANIBONANI SUPERMARKET<br>lat=%{lat}<br>lon=%{lon}<extra></extra>",
         "lat": [
          "-29.6267499"
         ],
         "legendgroup": "SANIBONANI SUPERMARKET",
         "lon": [
          "31.0308466"
         ],
         "marker": {
          "color": "#ab63fa",
          "symbol": "circle"
         },
         "mode": "markers",
         "name": "SANIBONANI SUPERMARKET",
         "showlegend": true,
         "type": "scattergeo"
        },
        {
         "geo": "geo",
         "hovertemplate": "spaza_name=ZONDI FAMILY TUCKSHOP<br>lat=%{lat}<br>lon=%{lon}<extra></extra>",
         "lat": [
          "-29.7380355435267"
         ],
         "legendgroup": "ZONDI FAMILY TUCKSHOP",
         "lon": [
          "30.9314489364624"
         ],
         "marker": {
          "color": "#FFA15A",
          "symbol": "circle"
         },
         "mode": "markers",
         "name": "ZONDI FAMILY TUCKSHOP",
         "showlegend": true,
         "type": "scattergeo"
        },
        {
         "geo": "geo",
         "hovertemplate": "spaza_name=SHALOM SUPERMARKET<br>lat=%{lat}<br>lon=%{lon}<extra></extra>",
         "lat": [
          "-29.6276423456574"
         ],
         "legendgroup": "SHALOM SUPERMARKET",
         "lon": [
          "31.0303688049316"
         ],
         "marker": {
          "color": "#19d3f3",
          "symbol": "circle"
         },
         "mode": "markers",
         "name": "SHALOM SUPERMARKET",
         "showlegend": true,
         "type": "scattergeo"
        },
        {
         "geo": "geo",
         "hovertemplate": "spaza_name=JONNY TUCKSHOP<br>lat=%{lat}<br>lon=%{lon}<extra></extra>",
         "lat": [
          "-29.9533728663366"
         ],
         "legendgroup": "JONNY TUCKSHOP",
         "lon": [
          "30.8770295977593"
         ],
         "marker": {
          "color": "#FF6692",
          "symbol": "circle"
         },
         "mode": "markers",
         "name": "JONNY TUCKSHOP",
         "showlegend": true,
         "type": "scattergeo"
        },
        {
         "geo": "geo",
         "hovertemplate": "spaza_name=DURBAN SUPERMARKET<br>lat=%{lat}<br>lon=%{lon}<extra></extra>",
         "lat": [
          "-29.851745732766"
         ],
         "legendgroup": "DURBAN SUPERMARKET",
         "lon": [
          "31.0167217254639"
         ],
         "marker": {
          "color": "#B6E880",
          "symbol": "circle"
         },
         "mode": "markers",
         "name": "DURBAN SUPERMARKET",
         "showlegend": true,
         "type": "scattergeo"
        },
        {
         "geo": "geo",
         "hovertemplate": "spaza_name=CRAZY SWEETS SUPERMARKET<br>lat=%{lat}<br>lon=%{lon}<extra></extra>",
         "lat": [
          "-29.8523226593287"
         ],
         "legendgroup": "CRAZY SWEETS SUPERMARKET",
         "lon": [
          "31.0162281990051"
         ],
         "marker": {
          "color": "#FF97FF",
          "symbol": "circle"
         },
         "mode": "markers",
         "name": "CRAZY SWEETS SUPERMARKET",
         "showlegend": true,
         "type": "scattergeo"
        },
        {
         "geo": "geo",
         "hovertemplate": "spaza_name=BANGLADESH BEACH SUPERMARKET<br>lat=%{lat}<br>lon=%{lon}<extra></extra>",
         "lat": [
          "-29.8560028140133"
         ],
         "legendgroup": "BANGLADESH BEACH SUPERMARKET",
         "lon": [
          "31.0387051105499"
         ],
         "marker": {
          "color": "#FECB52",
          "symbol": "circle"
         },
         "mode": "markers",
         "name": "BANGLADESH BEACH SUPERMARKET",
         "showlegend": true,
         "type": "scattergeo"
        },
        {
         "geo": "geo",
         "hovertemplate": "spaza_name=RAJA MINI SUPERETTE<br>lat=%{lat}<br>lon=%{lon}<extra></extra>",
         "lat": [
          "-29.8559469846144"
         ],
         "legendgroup": "RAJA MINI SUPERETTE",
         "lon": [
          "31.0387480258942"
         ],
         "marker": {
          "color": "#636efa",
          "symbol": "circle"
         },
         "mode": "markers",
         "name": "RAJA MINI SUPERETTE",
         "showlegend": true,
         "type": "scattergeo"
        },
        {
         "geo": "geo",
         "hovertemplate": "spaza_name=KHULANI TUCK SHOP<br>lat=%{lat}<br>lon=%{lon}<extra></extra>",
         "lat": [
          "-29.6511740368646"
         ],
         "legendgroup": "KHULANI TUCK SHOP",
         "lon": [
          "30.3090047836304"
         ],
         "marker": {
          "color": "#EF553B",
          "symbol": "circle"
         },
         "mode": "markers",
         "name": "KHULANI TUCK SHOP",
         "showlegend": true,
         "type": "scattergeo"
        },
        {
         "geo": "geo",
         "hovertemplate": "spaza_name=MAPHOLOBA TUCK SHOP<br>lat=%{lat}<br>lon=%{lon}<extra></extra>",
         "lat": [
          "-29.6549781290747"
         ],
         "legendgroup": "MAPHOLOBA TUCK SHOP",
         "lon": [
          "30.3163003921509"
         ],
         "marker": {
          "color": "#00cc96",
          "symbol": "circle"
         },
         "mode": "markers",
         "name": "MAPHOLOBA TUCK SHOP",
         "showlegend": true,
         "type": "scattergeo"
        },
        {
         "geo": "geo",
         "hovertemplate": "spaza_name=HALF PRICE SUPERMARKET<br>lat=%{lat}<br>lon=%{lon}<extra></extra>",
         "lat": [
          "-29.6570292955947"
         ],
         "legendgroup": "HALF PRICE SUPERMARKET",
         "lon": [
          "30.3223514556885"
         ],
         "marker": {
          "color": "#ab63fa",
          "symbol": "circle"
         },
         "mode": "markers",
         "name": "HALF PRICE SUPERMARKET",
         "showlegend": true,
         "type": "scattergeo"
        },
        {
         "geo": "geo",
         "hovertemplate": "spaza_name=EBC TUCK SHOP<br>lat=%{lat}<br>lon=%{lon}<extra></extra>",
         "lat": [
          "-29.6672845010023"
         ],
         "legendgroup": "EBC TUCK SHOP",
         "lon": [
          "31.0600984096527"
         ],
         "marker": {
          "color": "#FFA15A",
          "symbol": "circle"
         },
         "mode": "markers",
         "name": "EBC TUCK SHOP",
         "showlegend": true,
         "type": "scattergeo"
        },
        {
         "geo": "geo",
         "hovertemplate": "spaza_name=HAVEN CAFE AND TAKE AWAY<br>lat=%{lat}<br>lon=%{lon}<extra></extra>",
         "lat": [
          "-29.8614879002004"
         ],
         "legendgroup": "HAVEN CAFE AND TAKE AWAY",
         "lon": [
          "31.0212707519531"
         ],
         "marker": {
          "color": "#19d3f3",
          "symbol": "circle"
         },
         "mode": "markers",
         "name": "HAVEN CAFE AND TAKE AWAY",
         "showlegend": true,
         "type": "scattergeo"
        },
        {
         "geo": "geo",
         "hovertemplate": "spaza_name=HALLELUYAH TUCKSHOP<br>lat=%{lat}<br>lon=%{lon}<extra></extra>",
         "lat": [
          "-29.7483057689748"
         ],
         "legendgroup": "HALLELUYAH TUCKSHOP",
         "lon": [
          "30.9406274557114"
         ],
         "marker": {
          "color": "#FF6692",
          "symbol": "circle"
         },
         "mode": "markers",
         "name": "HALLELUYAH TUCKSHOP",
         "showlegend": true,
         "type": "scattergeo"
        },
        {
         "geo": "geo",
         "hovertemplate": "spaza_name=KHUZWAYO TUCKSHOP<br>lat=%{lat}<br>lon=%{lon}<extra></extra>",
         "lat": [
          "-29.7408395824801"
         ],
         "legendgroup": "KHUZWAYO TUCKSHOP",
         "lon": [
          "30.9300434589386"
         ],
         "marker": {
          "color": "#B6E880",
          "symbol": "circle"
         },
         "mode": "markers",
         "name": "KHUZWAYO TUCKSHOP",
         "showlegend": true,
         "type": "scattergeo"
        },
        {
         "geo": "geo",
         "hovertemplate": "spaza_name=SISONKE TUCK SHOP<br>lat=%{lat}<br>lon=%{lon}<extra></extra>",
         "lat": [
          "-29.8582871401395"
         ],
         "legendgroup": "SISONKE TUCK SHOP",
         "lon": [
          "30.7702589035034"
         ],
         "marker": {
          "color": "#FF97FF",
          "symbol": "circle"
         },
         "mode": "markers",
         "name": "SISONKE TUCK SHOP",
         "showlegend": true,
         "type": "scattergeo"
        },
        {
         "geo": "geo",
         "hovertemplate": "spaza_name=BHAI BHAI MINI MARKET<br>lat=%{lat}<br>lon=%{lon}<extra></extra>",
         "lat": [
          "-29.8580545227619"
         ],
         "legendgroup": "BHAI BHAI MINI MARKET",
         "lon": [
          "31.0327827930451"
         ],
         "marker": {
          "color": "#FECB52",
          "symbol": "circle"
         },
         "mode": "markers",
         "name": "BHAI BHAI MINI MARKET",
         "showlegend": true,
         "type": "scattergeo"
        },
        {
         "geo": "geo",
         "hovertemplate": "spaza_name=AYETH COSMETIC & SUPERMARKET<br>lat=%{lat}<br>lon=%{lon}<extra></extra>",
         "lat": [
          "-29.5922229"
         ],
         "legendgroup": "AYETH COSMETIC & SUPERMARKET",
         "lon": [
          "30.3877395"
         ],
         "marker": {
          "color": "#636efa",
          "symbol": "circle"
         },
         "mode": "markers",
         "name": "AYETH COSMETIC & SUPERMARKET",
         "showlegend": true,
         "type": "scattergeo"
        },
        {
         "geo": "geo",
         "hovertemplate": "spaza_name=BUHLE TUCK SHOP<br>lat=%{lat}<br>lon=%{lon}<extra></extra>",
         "lat": [
          "-29.6557613066802"
         ],
         "legendgroup": "BUHLE TUCK SHOP",
         "lon": [
          "30.3172445297241"
         ],
         "marker": {
          "color": "#EF553B",
          "symbol": "circle"
         },
         "mode": "markers",
         "name": "BUHLE TUCK SHOP",
         "showlegend": true,
         "type": "scattergeo"
        },
        {
         "geo": "geo",
         "hovertemplate": "spaza_name=BENRAY TEA ROOM<br>lat=%{lat}<br>lon=%{lon}<extra></extra>",
         "lat": [
          "-29.8607807643701"
         ],
         "legendgroup": "BENRAY TEA ROOM",
         "lon": [
          "31.0157239437103"
         ],
         "marker": {
          "color": "#00cc96",
          "symbol": "circle"
         },
         "mode": "markers",
         "name": "BENRAY TEA ROOM",
         "showlegend": true,
         "type": "scattergeo"
        },
        {
         "geo": "geo",
         "hovertemplate": "spaza_name=LANDAUVILLE STORE<br>lat=%{lat}<br>lon=%{lon}<extra></extra>",
         "lat": [
          "-29.6386791930797"
         ],
         "legendgroup": "LANDAUVILLE STORE",
         "lon": [
          "30.3086185455322"
         ],
         "marker": {
          "color": "#ab63fa",
          "symbol": "circle"
         },
         "mode": "markers",
         "name": "LANDAUVILLE STORE",
         "showlegend": true,
         "type": "scattergeo"
        },
        {
         "geo": "geo",
         "hovertemplate": "spaza_name=MBANJWA TUCK SHOP<br>lat=%{lat}<br>lon=%{lon}<extra></extra>",
         "lat": [
          "-29.6447962655864"
         ],
         "legendgroup": "MBANJWA TUCK SHOP",
         "lon": [
          "30.3034687042236"
         ],
         "marker": {
          "color": "#FFA15A",
          "symbol": "circle"
         },
         "mode": "markers",
         "name": "MBANJWA TUCK SHOP",
         "showlegend": true,
         "type": "scattergeo"
        },
        {
         "geo": "geo",
         "hovertemplate": "spaza_name=OXFORD STORE<br>lat=%{lat}<br>lon=%{lon}<extra></extra>",
         "lat": [
          "-29.6032003086668"
         ],
         "legendgroup": "OXFORD STORE",
         "lon": [
          "30.3694295883179"
         ],
         "marker": {
          "color": "#19d3f3",
          "symbol": "circle"
         },
         "mode": "markers",
         "name": "OXFORD STORE",
         "showlegend": true,
         "type": "scattergeo"
        },
        {
         "geo": "geo",
         "hovertemplate": "spaza_name=MOJO SUPERMARKET<br>lat=%{lat}<br>lon=%{lon}<extra></extra>",
         "lat": [
          "-29.5921922283792"
         ],
         "legendgroup": "MOJO SUPERMARKET",
         "lon": [
          "30.3901147842407"
         ],
         "marker": {
          "color": "#FF6692",
          "symbol": "circle"
         },
         "mode": "markers",
         "name": "MOJO SUPERMARKET",
         "showlegend": true,
         "type": "scattergeo"
        },
        {
         "geo": "geo",
         "hovertemplate": "spaza_name=HASSAN SUPERMARKET<br>lat=%{lat}<br>lon=%{lon}<extra></extra>",
         "lat": [
          "-29.8559004600915"
         ],
         "legendgroup": "HASSAN SUPERMARKET",
         "lon": [
          "31.0384637117386"
         ],
         "marker": {
          "color": "#B6E880",
          "symbol": "circle"
         },
         "mode": "markers",
         "name": "HASSAN SUPERMARKET",
         "showlegend": true,
         "type": "scattergeo"
        },
        {
         "geo": "geo",
         "hovertemplate": "spaza_name=GUMS TUCK SHOP<br>lat=%{lat}<br>lon=%{lon}<extra></extra>",
         "lat": [
          "-29.7150786030178"
         ],
         "legendgroup": "GUMS TUCK SHOP",
         "lon": [
          "30.9615969657898"
         ],
         "marker": {
          "color": "#FF97FF",
          "symbol": "circle"
         },
         "mode": "markers",
         "name": "GUMS TUCK SHOP",
         "showlegend": true,
         "type": "scattergeo"
        },
        {
         "geo": "geo",
         "hovertemplate": "spaza_name=KWA SOSIBO TUCK SHOP<br>lat=%{lat}<br>lon=%{lon}<extra></extra>",
         "lat": [
          "-29.7122924806073"
         ],
         "legendgroup": "KWA SOSIBO TUCK SHOP",
         "lon": [
          "30.9621039032936"
         ],
         "marker": {
          "color": "#FECB52",
          "symbol": "circle"
         },
         "mode": "markers",
         "name": "KWA SOSIBO TUCK SHOP",
         "showlegend": true,
         "type": "scattergeo"
        },
        {
         "geo": "geo",
         "hovertemplate": "spaza_name=PHASE 2 TUCK SHOP<br>lat=%{lat}<br>lon=%{lon}<extra></extra>",
         "lat": [
          "-29.6622129664387"
         ],
         "legendgroup": "PHASE 2 TUCK SHOP",
         "lon": [
          "31.0641753673554"
         ],
         "marker": {
          "color": "#636efa",
          "symbol": "circle"
         },
         "mode": "markers",
         "name": "PHASE 2 TUCK SHOP",
         "showlegend": true,
         "type": "scattergeo"
        },
        {
         "geo": "geo",
         "hovertemplate": "spaza_name=ROBORT TUCK SHOP<br>lat=%{lat}<br>lon=%{lon}<extra></extra>",
         "lat": [
          "-29.608647931075"
         ],
         "legendgroup": "ROBORT TUCK SHOP",
         "lon": [
          "30.3676700592041"
         ],
         "marker": {
          "color": "#EF553B",
          "symbol": "circle"
         },
         "mode": "markers",
         "name": "ROBORT TUCK SHOP",
         "showlegend": true,
         "type": "scattergeo"
        },
        {
         "geo": "geo",
         "hovertemplate": "spaza_name=MALULEKE TUCK SHOP<br>lat=%{lat}<br>lon=%{lon}<extra></extra>",
         "lat": [
          "-29.6692235495859"
         ],
         "legendgroup": "MALULEKE TUCK SHOP",
         "lon": [
          "31.0583817958832"
         ],
         "marker": {
          "color": "#00cc96",
          "symbol": "circle"
         },
         "mode": "markers",
         "name": "MALULEKE TUCK SHOP",
         "showlegend": true,
         "type": "scattergeo"
        },
        {
         "geo": "geo",
         "hovertemplate": "spaza_name=KHAN'S SUPER STORE<br>lat=%{lat}<br>lon=%{lon}<extra></extra>",
         "lat": [
          "-29.6685523446913"
         ],
         "legendgroup": "KHAN'S SUPER STORE",
         "lon": [
          "31.0592830181122"
         ],
         "marker": {
          "color": "#ab63fa",
          "symbol": "circle"
         },
         "mode": "markers",
         "name": "KHAN'S SUPER STORE",
         "showlegend": true,
         "type": "scattergeo"
        },
        {
         "geo": "geo",
         "hovertemplate": "spaza_name=HALF PRICE TUCK SHOP<br>lat=%{lat}<br>lon=%{lon}<extra></extra>",
         "lat": [
          "-29.6216501413069"
         ],
         "legendgroup": "HALF PRICE TUCK SHOP",
         "lon": [
          "31.034215092659"
         ],
         "marker": {
          "color": "#FFA15A",
          "symbol": "circle"
         },
         "mode": "markers",
         "name": "HALF PRICE TUCK SHOP",
         "showlegend": true,
         "type": "scattergeo"
        },
        {
         "geo": "geo",
         "hovertemplate": "spaza_name=AFRICA TUCK SHOP<br>lat=%{lat}<br>lon=%{lon}<extra></extra>",
         "lat": [
          "-29.6466611527917"
         ],
         "legendgroup": "AFRICA TUCK SHOP",
         "lon": [
          "30.2728700637817"
         ],
         "marker": {
          "color": "#19d3f3",
          "symbol": "circle"
         },
         "mode": "markers",
         "name": "AFRICA TUCK SHOP",
         "showlegend": true,
         "type": "scattergeo"
        },
        {
         "geo": "geo",
         "hovertemplate": "spaza_name=KHABAZELA SUPERMARKET<br>lat=%{lat}<br>lon=%{lon}<extra></extra>",
         "lat": [
          "-29.753177353852"
         ],
         "legendgroup": "KHABAZELA SUPERMARKET",
         "lon": [
          "30.9972327947617"
         ],
         "marker": {
          "color": "#FF6692",
          "symbol": "circle"
         },
         "mode": "markers",
         "name": "KHABAZELA SUPERMARKET",
         "showlegend": true,
         "type": "scattergeo"
        },
        {
         "geo": "geo",
         "hovertemplate": "spaza_name=PK STORE<br>lat=%{lat}<br>lon=%{lon}<extra></extra>",
         "lat": [
          "-29.6461389878564"
         ],
         "legendgroup": "PK STORE",
         "lon": [
          "30.3254413604736"
         ],
         "marker": {
          "color": "#B6E880",
          "symbol": "circle"
         },
         "mode": "markers",
         "name": "PK STORE",
         "showlegend": true,
         "type": "scattergeo"
        },
        {
         "geo": "geo",
         "hovertemplate": "spaza_name=ARON TUCK SHOP<br>lat=%{lat}<br>lon=%{lon}<extra></extra>",
         "lat": [
          "-29.6574768172792"
         ],
         "legendgroup": "ARON TUCK SHOP",
         "lon": [
          "30.3033399581909"
         ],
         "marker": {
          "color": "#FF97FF",
          "symbol": "circle"
         },
         "mode": "markers",
         "name": "ARON TUCK SHOP",
         "showlegend": true,
         "type": "scattergeo"
        },
        {
         "geo": "geo",
         "hovertemplate": "spaza_name=MAGALELA TUCK SHOP<br>lat=%{lat}<br>lon=%{lon}<extra></extra>",
         "lat": [
          "-29.6510621496229"
         ],
         "legendgroup": "MAGALELA TUCK SHOP",
         "lon": [
          "30.3250980377197"
         ],
         "marker": {
          "color": "#FECB52",
          "symbol": "circle"
         },
         "mode": "markers",
         "name": "MAGALELA TUCK SHOP",
         "showlegend": true,
         "type": "scattergeo"
        },
        {
         "geo": "geo",
         "hovertemplate": "spaza_name=TASPIA DISCOUNT SUPERMARKET<br>lat=%{lat}<br>lon=%{lon}<extra></extra>",
         "lat": [
          "-29.5927146729016"
         ],
         "legendgroup": "TASPIA DISCOUNT SUPERMARKET",
         "lon": [
          "30.3830766677856"
         ],
         "marker": {
          "color": "#636efa",
          "symbol": "circle"
         },
         "mode": "markers",
         "name": "TASPIA DISCOUNT SUPERMARKET",
         "showlegend": true,
         "type": "scattergeo"
        },
        {
         "geo": "geo",
         "hovertemplate": "spaza_name=ALMADINA TAKE AWAY<br>lat=%{lat}<br>lon=%{lon}<extra></extra>",
         "lat": [
          "-29.5941668858451"
         ],
         "legendgroup": "ALMADINA TAKE AWAY",
         "lon": [
          "30.3849159718266"
         ],
         "marker": {
          "color": "#EF553B",
          "symbol": "circle"
         },
         "mode": "markers",
         "name": "ALMADINA TAKE AWAY",
         "showlegend": true,
         "type": "scattergeo"
        },
        {
         "geo": "geo",
         "hovertemplate": "spaza_name=STIFFANORD TUCK SHOP<br>lat=%{lat}<br>lon=%{lon}<extra></extra>",
         "lat": [
          "-29.6571784697107"
         ],
         "legendgroup": "STIFFANORD TUCK SHOP",
         "lon": [
          "31.0564076900482"
         ],
         "marker": {
          "color": "#00cc96",
          "symbol": "circle"
         },
         "mode": "markers",
         "name": "STIFFANORD TUCK SHOP",
         "showlegend": true,
         "type": "scattergeo"
        },
        {
         "geo": "geo",
         "hovertemplate": "spaza_name=TOMMY'S SUPERMARKET<br>lat=%{lat}<br>lon=%{lon}<extra></extra>",
         "lat": [
          "-29.6065957791035"
         ],
         "legendgroup": "TOMMY'S SUPERMARKET",
         "lon": [
          "30.3730773925781"
         ],
         "marker": {
          "color": "#ab63fa",
          "symbol": "circle"
         },
         "mode": "markers",
         "name": "TOMMY'S SUPERMARKET",
         "showlegend": true,
         "type": "scattergeo"
        },
        {
         "geo": "geo",
         "hovertemplate": "spaza_name=TEDDY SUPERMARKET<br>lat=%{lat}<br>lon=%{lon}<extra></extra>",
         "lat": [
          "-29.6446097749659"
         ],
         "legendgroup": "TEDDY SUPERMARKET",
         "lon": [
          "31.0468429327011"
         ],
         "marker": {
          "color": "#FFA15A",
          "symbol": "circle"
         },
         "mode": "markers",
         "name": "TEDDY SUPERMARKET",
         "showlegend": true,
         "type": "scattergeo"
        },
        {
         "geo": "geo",
         "hovertemplate": "spaza_name=SHOZI TUCK SHOP<br>lat=%{lat}<br>lon=%{lon}<extra></extra>",
         "lat": [
          "-29.7172822872142"
         ],
         "legendgroup": "SHOZI TUCK SHOP",
         "lon": [
          "30.9596845507622"
         ],
         "marker": {
          "color": "#19d3f3",
          "symbol": "circle"
         },
         "mode": "markers",
         "name": "SHOZI TUCK SHOP",
         "showlegend": true,
         "type": "scattergeo"
        },
        {
         "geo": "geo",
         "hovertemplate": "spaza_name=ZIZAMELE TUCK SHOP<br>lat=%{lat}<br>lon=%{lon}<extra></extra>",
         "lat": [
          "-29.9559245326277",
          "-29.6519199486307",
          "-29.6522912441378"
         ],
         "legendgroup": "ZIZAMELE TUCK SHOP",
         "lon": [
          "30.8823215961456",
          "31.0670506954193",
          "31.0655823699926"
         ],
         "marker": {
          "color": "#FF6692",
          "symbol": "circle"
         },
         "mode": "markers",
         "name": "ZIZAMELE TUCK SHOP",
         "showlegend": true,
         "type": "scattergeo"
        },
        {
         "geo": "geo",
         "hovertemplate": "spaza_name=NQANAWE TUCK SHOP<br>lat=%{lat}<br>lon=%{lon}<extra></extra>",
         "lat": [
          "-29.9558315768995"
         ],
         "legendgroup": "NQANAWE TUCK SHOP",
         "lon": [
          "30.884360074997"
         ],
         "marker": {
          "color": "#B6E880",
          "symbol": "circle"
         },
         "mode": "markers",
         "name": "NQANAWE TUCK SHOP",
         "showlegend": true,
         "type": "scattergeo"
        },
        {
         "geo": "geo",
         "hovertemplate": "spaza_name=TOP THOKOZA TUCK SHOP<br>lat=%{lat}<br>lon=%{lon}<extra></extra>",
         "lat": [
          "-29.7125254369482"
         ],
         "legendgroup": "TOP THOKOZA TUCK SHOP",
         "lon": [
          "30.9758877754211"
         ],
         "marker": {
          "color": "#FF97FF",
          "symbol": "circle"
         },
         "mode": "markers",
         "name": "TOP THOKOZA TUCK SHOP",
         "showlegend": true,
         "type": "scattergeo"
        },
        {
         "geo": "geo",
         "hovertemplate": "spaza_name=BIG MAMA SUPER STORE<br>lat=%{lat}<br>lon=%{lon}<extra></extra>",
         "lat": [
          "-29.6700439050408"
         ],
         "legendgroup": "BIG MAMA SUPER STORE",
         "lon": [
          "31.0037586092949"
         ],
         "marker": {
          "color": "#FECB52",
          "symbol": "circle"
         },
         "mode": "markers",
         "name": "BIG MAMA SUPER STORE",
         "showlegend": true,
         "type": "scattergeo"
        },
        {
         "geo": "geo",
         "hovertemplate": "spaza_name=M.O SUPAMARKET<br>lat=%{lat}<br>lon=%{lon}<extra></extra>",
         "lat": [
          "-29.8518760067974"
         ],
         "legendgroup": "M.O SUPAMARKET",
         "lon": [
          "31.0173922777176"
         ],
         "marker": {
          "color": "#636efa",
          "symbol": "circle"
         },
         "mode": "markers",
         "name": "M.O SUPAMARKET",
         "showlegend": true,
         "type": "scattergeo"
        },
        {
         "geo": "geo",
         "hovertemplate": "spaza_name=SY'S SUPAMARKET<br>lat=%{lat}<br>lon=%{lon}<extra></extra>",
         "lat": [
          "-29.8562400886102"
         ],
         "legendgroup": "SY'S SUPAMARKET",
         "lon": [
          "31.0376214981079"
         ],
         "marker": {
          "color": "#EF553B",
          "symbol": "circle"
         },
         "mode": "markers",
         "name": "SY'S SUPAMARKET",
         "showlegend": true,
         "type": "scattergeo"
        },
        {
         "geo": "geo",
         "hovertemplate": "spaza_name=ITIMAN TUCK SHOP<br>lat=%{lat}<br>lon=%{lon}<extra></extra>",
         "lat": [
          "-29.6185583042923"
         ],
         "legendgroup": "ITIMAN TUCK SHOP",
         "lon": [
          "31.0252243280411"
         ],
         "marker": {
          "color": "#00cc96",
          "symbol": "circle"
         },
         "mode": "markers",
         "name": "ITIMAN TUCK SHOP",
         "showlegend": true,
         "type": "scattergeo"
        },
        {
         "geo": "geo",
         "hovertemplate": "spaza_name=SNATHEMBA<br>lat=%{lat}<br>lon=%{lon}<extra></extra>",
         "lat": [
          "-29.9570399945866"
         ],
         "legendgroup": "SNATHEMBA",
         "lon": [
          "30.8830752968788"
         ],
         "marker": {
          "color": "#ab63fa",
          "symbol": "circle"
         },
         "mode": "markers",
         "name": "SNATHEMBA",
         "showlegend": true,
         "type": "scattergeo"
        },
        {
         "geo": "geo",
         "hovertemplate": "spaza_name=MCHOBOZO TUCKSHOP<br>lat=%{lat}<br>lon=%{lon}<extra></extra>",
         "lat": [
          "-29.7379190950308"
         ],
         "legendgroup": "MCHOBOZO TUCKSHOP",
         "lon": [
          "30.9264868497849"
         ],
         "marker": {
          "color": "#FFA15A",
          "symbol": "circle"
         },
         "mode": "markers",
         "name": "MCHOBOZO TUCKSHOP",
         "showlegend": true,
         "type": "scattergeo"
        },
        {
         "geo": "geo",
         "hovertemplate": "spaza_name=CELLMAN SUPERMARKET<br>lat=%{lat}<br>lon=%{lon}<extra></extra>",
         "lat": [
          "-29.8570309998597"
         ],
         "legendgroup": "CELLMAN SUPERMARKET",
         "lon": [
          "31.0327506065369"
         ],
         "marker": {
          "color": "#19d3f3",
          "symbol": "circle"
         },
         "mode": "markers",
         "name": "CELLMAN SUPERMARKET",
         "showlegend": true,
         "type": "scattergeo"
        },
        {
         "geo": "geo",
         "hovertemplate": "spaza_name=INAN TAKE AWAY & GENERAL DEALER<br>lat=%{lat}<br>lon=%{lon}<extra></extra>",
         "lat": [
          "-29.5918563697577"
         ],
         "legendgroup": "INAN TAKE AWAY & GENERAL DEALER",
         "lon": [
          "30.3880548477173"
         ],
         "marker": {
          "color": "#FF6692",
          "symbol": "circle"
         },
         "mode": "markers",
         "name": "INAN TAKE AWAY & GENERAL DEALER",
         "showlegend": true,
         "type": "scattergeo"
        },
        {
         "geo": "geo",
         "hovertemplate": "spaza_name=VULINDLELA TUCK SHOP<br>lat=%{lat}<br>lon=%{lon}<extra></extra>",
         "lat": [
          "-29.7109164742229"
         ],
         "legendgroup": "VULINDLELA TUCK SHOP",
         "lon": [
          "30.9609156847"
         ],
         "marker": {
          "color": "#B6E880",
          "symbol": "circle"
         },
         "mode": "markers",
         "name": "VULINDLELA TUCK SHOP",
         "showlegend": true,
         "type": "scattergeo"
        },
        {
         "geo": "geo",
         "hovertemplate": "spaza_name=SIPHESANDE TUCK SHOP<br>lat=%{lat}<br>lon=%{lon}<extra></extra>",
         "lat": [
          "-29.6243361851463"
         ],
         "legendgroup": "SIPHESANDE TUCK SHOP",
         "lon": [
          "31.0281533002853"
         ],
         "marker": {
          "color": "#FF97FF",
          "symbol": "circle"
         },
         "mode": "markers",
         "name": "SIPHESANDE TUCK SHOP",
         "showlegend": true,
         "type": "scattergeo"
        },
        {
         "geo": "geo",
         "hovertemplate": "spaza_name=DALISU TUCK SHOP<br>lat=%{lat}<br>lon=%{lon}<extra></extra>",
         "lat": [
          "-29.6629587963806"
         ],
         "legendgroup": "DALISU TUCK SHOP",
         "lon": [
          "31.062844991684"
         ],
         "marker": {
          "color": "#FECB52",
          "symbol": "circle"
         },
         "mode": "markers",
         "name": "DALISU TUCK SHOP",
         "showlegend": true,
         "type": "scattergeo"
        },
        {
         "geo": "geo",
         "hovertemplate": "spaza_name=SILINDOKUHLE TUCK SHOP<br>lat=%{lat}<br>lon=%{lon}<extra></extra>",
         "lat": [
          "-29.6494211224549"
         ],
         "legendgroup": "SILINDOKUHLE TUCK SHOP",
         "lon": [
          "30.2796077728271"
         ],
         "marker": {
          "color": "#636efa",
          "symbol": "circle"
         },
         "mode": "markers",
         "name": "SILINDOKUHLE TUCK SHOP",
         "showlegend": true,
         "type": "scattergeo"
        },
        {
         "geo": "geo",
         "hovertemplate": "spaza_name=MADIBA TUCK SHOP<br>lat=%{lat}<br>lon=%{lon}<extra></extra>",
         "lat": [
          "-29.6564698906902"
         ],
         "legendgroup": "MADIBA TUCK SHOP",
         "lon": [
          "30.3199911117554"
         ],
         "marker": {
          "color": "#EF553B",
          "symbol": "circle"
         },
         "mode": "markers",
         "name": "MADIBA TUCK SHOP",
         "showlegend": true,
         "type": "scattergeo"
        },
        {
         "geo": "geo",
         "hovertemplate": "spaza_name=786 TUCK SHOP<br>lat=%{lat}<br>lon=%{lon}<extra></extra>",
         "lat": [
          "-29.6958071177534"
         ],
         "legendgroup": "786 TUCK SHOP",
         "lon": [
          "31.0727155208588"
         ],
         "marker": {
          "color": "#00cc96",
          "symbol": "circle"
         },
         "mode": "markers",
         "name": "786 TUCK SHOP",
         "showlegend": true,
         "type": "scattergeo"
        },
        {
         "geo": "geo",
         "hovertemplate": "spaza_name=CENTRAL TUCK SHOP<br>lat=%{lat}<br>lon=%{lon}<extra></extra>",
         "lat": [
          "-29.6243455115626"
         ],
         "legendgroup": "CENTRAL TUCK SHOP",
         "lon": [
          "31.0271126031876"
         ],
         "marker": {
          "color": "#ab63fa",
          "symbol": "circle"
         },
         "mode": "markers",
         "name": "CENTRAL TUCK SHOP",
         "showlegend": true,
         "type": "scattergeo"
        },
        {
         "geo": "geo",
         "hovertemplate": "spaza_name=HALELUYA TUCK SHOP<br>lat=%{lat}<br>lon=%{lon}<extra></extra>",
         "lat": [
          "-29.6623994244425",
          "-29.6598262734685"
         ],
         "legendgroup": "HALELUYA TUCK SHOP",
         "lon": [
          "31.0690677165985",
          "31.0695022344589"
         ],
         "marker": {
          "color": "#FFA15A",
          "symbol": "circle"
         },
         "mode": "markers",
         "name": "HALELUYA TUCK SHOP",
         "showlegend": true,
         "type": "scattergeo"
        },
        {
         "geo": "geo",
         "hovertemplate": "spaza_name=MIYA G TUCK SHOP<br>lat=%{lat}<br>lon=%{lon}<extra></extra>",
         "lat": [
          "-29.6692608386154"
         ],
         "legendgroup": "MIYA G TUCK SHOP",
         "lon": [
          "31.0659402608871"
         ],
         "marker": {
          "color": "#19d3f3",
          "symbol": "circle"
         },
         "mode": "markers",
         "name": "MIYA G TUCK SHOP",
         "showlegend": true,
         "type": "scattergeo"
        },
        {
         "geo": "geo",
         "hovertemplate": "spaza_name=SHENGE TUCK SHOP<br>lat=%{lat}<br>lon=%{lon}<extra></extra>",
         "lat": [
          "-29.703919670927"
         ],
         "legendgroup": "SHENGE TUCK SHOP",
         "lon": [
          "30.9695255756378"
         ],
         "marker": {
          "color": "#FF6692",
          "symbol": "circle"
         },
         "mode": "markers",
         "name": "SHENGE TUCK SHOP",
         "showlegend": true,
         "type": "scattergeo"
        },
        {
         "geo": "geo",
         "hovertemplate": "spaza_name=HALLEYAH TUCK SHOP<br>lat=%{lat}<br>lon=%{lon}<extra></extra>",
         "lat": [
          "-29.6736608470245"
         ],
         "legendgroup": "HALLEYAH TUCK SHOP",
         "lon": [
          "31.0534036159515"
         ],
         "marker": {
          "color": "#B6E880",
          "symbol": "circle"
         },
         "mode": "markers",
         "name": "HALLEYAH TUCK SHOP",
         "showlegend": true,
         "type": "scattergeo"
        },
        {
         "geo": "geo",
         "hovertemplate": "spaza_name=SIYABONGA TUCK SHOP<br>lat=%{lat}<br>lon=%{lon}<extra></extra>",
         "lat": [
          "-29.6607585821485"
         ],
         "legendgroup": "SIYABONGA TUCK SHOP",
         "lon": [
          "31.0697114467621"
         ],
         "marker": {
          "color": "#FF97FF",
          "symbol": "circle"
         },
         "mode": "markers",
         "name": "SIYABONGA TUCK SHOP",
         "showlegend": true,
         "type": "scattergeo"
        },
        {
         "geo": "geo",
         "hovertemplate": "spaza_name=RUSSELL SUPERETE<br>lat=%{lat}<br>lon=%{lon}<extra></extra>",
         "lat": [
          "-29.863981444456"
         ],
         "legendgroup": "RUSSELL SUPERETE",
         "lon": [
          "31.0164213180542"
         ],
         "marker": {
          "color": "#FECB52",
          "symbol": "circle"
         },
         "mode": "markers",
         "name": "RUSSELL SUPERETE",
         "showlegend": true,
         "type": "scattergeo"
        },
        {
         "geo": "geo",
         "hovertemplate": "spaza_name=EMAZOLWENI TUCKSHOP<br>lat=%{lat}<br>lon=%{lon}<extra></extra>",
         "lat": [
          "-29.752106184366"
         ],
         "legendgroup": "EMAZOLWENI TUCKSHOP",
         "lon": [
          "30.941453576088"
         ],
         "marker": {
          "color": "#636efa",
          "symbol": "circle"
         },
         "mode": "markers",
         "name": "EMAZOLWENI TUCKSHOP",
         "showlegend": true,
         "type": "scattergeo"
        },
        {
         "geo": "geo",
         "hovertemplate": "spaza_name=JABULANI DISCOUNT SUPERMARKET<br>lat=%{lat}<br>lon=%{lon}<extra></extra>",
         "lat": [
          "-29.8606691108862"
         ],
         "legendgroup": "JABULANI DISCOUNT SUPERMARKET",
         "lon": [
          "31.0157454013824"
         ],
         "marker": {
          "color": "#EF553B",
          "symbol": "circle"
         },
         "mode": "markers",
         "name": "JABULANI DISCOUNT SUPERMARKET",
         "showlegend": true,
         "type": "scattergeo"
        },
        {
         "geo": "geo",
         "hovertemplate": "spaza_name=KWA MASHISHWANE TUCKSHOP<br>lat=%{lat}<br>lon=%{lon}<extra></extra>",
         "lat": [
          "-29.7378678576498"
         ],
         "legendgroup": "KWA MASHISHWANE TUCKSHOP",
         "lon": [
          "30.9249258041382"
         ],
         "marker": {
          "color": "#00cc96",
          "symbol": "circle"
         },
         "mode": "markers",
         "name": "KWA MASHISHWANE TUCKSHOP",
         "showlegend": true,
         "type": "scattergeo"
        },
        {
         "geo": "geo",
         "hovertemplate": "spaza_name=JOLLY'S SUPERMARKET<br>lat=%{lat}<br>lon=%{lon}<extra></extra>",
         "lat": [
          "-29.5912592850032"
         ],
         "legendgroup": "JOLLY'S SUPERMARKET",
         "lon": [
          "30.3889560699463"
         ],
         "marker": {
          "color": "#ab63fa",
          "symbol": "circle"
         },
         "mode": "markers",
         "name": "JOLLY'S SUPERMARKET",
         "showlegend": true,
         "type": "scattergeo"
        },
        {
         "geo": "geo",
         "hovertemplate": "spaza_name=MORGAN'S CAFE & SUPERMARKET<br>lat=%{lat}<br>lon=%{lon}<extra></extra>",
         "lat": [
          "-29.8561098202739"
         ],
         "legendgroup": "MORGAN'S CAFE & SUPERMARKET",
         "lon": [
          "31.0380077362061"
         ],
         "marker": {
          "color": "#FFA15A",
          "symbol": "circle"
         },
         "mode": "markers",
         "name": "MORGAN'S CAFE & SUPERMARKET",
         "showlegend": true,
         "type": "scattergeo"
        },
        {
         "geo": "geo",
         "hovertemplate": "spaza_name=CHEAPEST TRADING<br>lat=%{lat}<br>lon=%{lon}<extra></extra>",
         "lat": [
          "-29.8568449036589"
         ],
         "legendgroup": "CHEAPEST TRADING",
         "lon": [
          "31.0379379987717"
         ],
         "marker": {
          "color": "#19d3f3",
          "symbol": "circle"
         },
         "mode": "markers",
         "name": "CHEAPEST TRADING",
         "showlegend": true,
         "type": "scattergeo"
        },
        {
         "geo": "geo",
         "hovertemplate": "spaza_name=ENTUTHUKWENI TUCKSHOP<br>lat=%{lat}<br>lon=%{lon}<extra></extra>",
         "lat": [
          "-29.7398381489967"
         ],
         "legendgroup": "ENTUTHUKWENI TUCKSHOP",
         "lon": [
          "30.9290027618408"
         ],
         "marker": {
          "color": "#FF6692",
          "symbol": "circle"
         },
         "mode": "markers",
         "name": "ENTUTHUKWENI TUCKSHOP",
         "showlegend": true,
         "type": "scattergeo"
        },
        {
         "geo": "geo",
         "hovertemplate": "spaza_name=HALELUJA TUCKSHOP<br>lat=%{lat}<br>lon=%{lon}<extra></extra>",
         "lat": [
          "-29.6663895428941"
         ],
         "legendgroup": "HALELUJA TUCKSHOP",
         "lon": [
          "31.0121941566467"
         ],
         "marker": {
          "color": "#B6E880",
          "symbol": "circle"
         },
         "mode": "markers",
         "name": "HALELUJA TUCKSHOP",
         "showlegend": true,
         "type": "scattergeo"
        },
        {
         "geo": "geo",
         "hovertemplate": "spaza_name=BONGINKOSI TUCK SHOP<br>lat=%{lat}<br>lon=%{lon}<extra></extra>",
         "lat": [
          "-29.6553883657235"
         ],
         "legendgroup": "BONGINKOSI TUCK SHOP",
         "lon": [
          "30.3148519992828"
         ],
         "marker": {
          "color": "#FF97FF",
          "symbol": "circle"
         },
         "mode": "markers",
         "name": "BONGINKOSI TUCK SHOP",
         "showlegend": true,
         "type": "scattergeo"
        },
        {
         "geo": "geo",
         "hovertemplate": "spaza_name=ADIS ABABA SUPERMARKERT<br>lat=%{lat}<br>lon=%{lon}<extra></extra>",
         "lat": [
          "-29.6036748809589"
         ],
         "legendgroup": "ADIS ABABA SUPERMARKERT",
         "lon": [
          "30.3772627960643"
         ],
         "marker": {
          "color": "#FECB52",
          "symbol": "circle"
         },
         "mode": "markers",
         "name": "ADIS ABABA SUPERMARKERT",
         "showlegend": true,
         "type": "scattergeo"
        },
        {
         "geo": "geo",
         "hovertemplate": "spaza_name=NSELE TUCK SHOP<br>lat=%{lat}<br>lon=%{lon}<extra></extra>",
         "lat": [
          "-29.6688133693493"
         ],
         "legendgroup": "NSELE TUCK SHOP",
         "lon": [
          "31.0584568977356"
         ],
         "marker": {
          "color": "#636efa",
          "symbol": "circle"
         },
         "mode": "markers",
         "name": "NSELE TUCK SHOP",
         "showlegend": true,
         "type": "scattergeo"
        },
        {
         "geo": "geo",
         "hovertemplate": "spaza_name=KUVUKI LAND<br>lat=%{lat}<br>lon=%{lon}<extra></extra>",
         "lat": [
          "-29.6344641646895"
         ],
         "legendgroup": "KUVUKI LAND",
         "lon": [
          "30.3392171859741"
         ],
         "marker": {
          "color": "#EF553B",
          "symbol": "circle"
         },
         "mode": "markers",
         "name": "KUVUKI LAND",
         "showlegend": true,
         "type": "scattergeo"
        },
        {
         "geo": "geo",
         "hovertemplate": "spaza_name=GREEN TUCK SHOP<br>lat=%{lat}<br>lon=%{lon}<extra></extra>",
         "lat": [
          "-29.6414393815636"
         ],
         "legendgroup": "GREEN TUCK SHOP",
         "lon": [
          "30.347843170166"
         ],
         "marker": {
          "color": "#00cc96",
          "symbol": "circle"
         },
         "mode": "markers",
         "name": "GREEN TUCK SHOP",
         "showlegend": true,
         "type": "scattergeo"
        },
        {
         "geo": "geo",
         "hovertemplate": "spaza_name=MAMUSH TUCK SHOP<br>lat=%{lat}<br>lon=%{lon}<extra></extra>",
         "lat": [
          "-29.6588193703906"
         ],
         "legendgroup": "MAMUSH TUCK SHOP",
         "lon": [
          "30.3080606460571"
         ],
         "marker": {
          "color": "#ab63fa",
          "symbol": "circle"
         },
         "mode": "markers",
         "name": "MAMUSH TUCK SHOP",
         "showlegend": true,
         "type": "scattergeo"
        },
        {
         "geo": "geo",
         "hovertemplate": "spaza_name=JAMAICA TUCK SHOP<br>lat=%{lat}<br>lon=%{lon}<extra></extra>",
         "lat": [
          "-29.6430059413691"
         ],
         "legendgroup": "JAMAICA TUCK SHOP",
         "lon": [
          "30.3471565246582"
         ],
         "marker": {
          "color": "#FFA15A",
          "symbol": "circle"
         },
         "mode": "markers",
         "name": "JAMAICA TUCK SHOP",
         "showlegend": true,
         "type": "scattergeo"
        },
        {
         "geo": "geo",
         "hovertemplate": "spaza_name=BAFANA TUCK SHOP<br>lat=%{lat}<br>lon=%{lon}<extra></extra>",
         "lat": [
          "-29.7181824862041"
         ],
         "legendgroup": "BAFANA TUCK SHOP",
         "lon": [
          "30.9611922508338"
         ],
         "marker": {
          "color": "#19d3f3",
          "symbol": "circle"
         },
         "mode": "markers",
         "name": "BAFANA TUCK SHOP",
         "showlegend": true,
         "type": "scattergeo"
        },
        {
         "geo": "geo",
         "hovertemplate": "spaza_name=THULANI STORE<br>lat=%{lat}<br>lon=%{lon}<extra></extra>",
         "lat": [
          "-29.6966645351509"
         ],
         "legendgroup": "THULANI STORE",
         "lon": [
          "31.070784330368"
         ],
         "marker": {
          "color": "#FF6692",
          "symbol": "circle"
         },
         "mode": "markers",
         "name": "THULANI STORE",
         "showlegend": true,
         "type": "scattergeo"
        },
        {
         "geo": "geo",
         "hovertemplate": "spaza_name=JAMEELA'S TUCK SHOP<br>lat=%{lat}<br>lon=%{lon}<extra></extra>",
         "lat": [
          "-29.6925637770613"
         ],
         "legendgroup": "JAMEELA'S TUCK SHOP",
         "lon": [
          "31.0719859600067"
         ],
         "marker": {
          "color": "#B6E880",
          "symbol": "circle"
         },
         "mode": "markers",
         "name": "JAMEELA'S TUCK SHOP",
         "showlegend": true,
         "type": "scattergeo"
        },
        {
         "geo": "geo",
         "hovertemplate": "spaza_name=NAZISH YASIN TRADING<br>lat=%{lat}<br>lon=%{lon}<extra></extra>",
         "lat": [
          "-29.6936821822299"
         ],
         "legendgroup": "NAZISH YASIN TRADING",
         "lon": [
          "31.0733485221863"
         ],
         "marker": {
          "color": "#FF97FF",
          "symbol": "circle"
         },
         "mode": "markers",
         "name": "NAZISH YASIN TRADING",
         "showlegend": true,
         "type": "scattergeo"
        },
        {
         "geo": "geo",
         "hovertemplate": "spaza_name=MASHALLAH SUPERMARKET<br>lat=%{lat}<br>lon=%{lon}<extra></extra>",
         "lat": [
          "-29.8659103503729"
         ],
         "legendgroup": "MASHALLAH SUPERMARKET",
         "lon": [
          "31.041353791981"
         ],
         "marker": {
          "color": "#FECB52",
          "symbol": "circle"
         },
         "mode": "markers",
         "name": "MASHALLAH SUPERMARKET",
         "showlegend": true,
         "type": "scattergeo"
        },
        {
         "geo": "geo",
         "hovertemplate": "spaza_name=BUDDIEZ 2 SUPERMARKET<br>lat=%{lat}<br>lon=%{lon}<extra></extra>",
         "lat": [
          "-29.8643676924"
         ],
         "legendgroup": "BUDDIEZ 2 SUPERMARKET",
         "lon": [
          "31.040450053"
         ],
         "marker": {
          "color": "#636efa",
          "symbol": "circle"
         },
         "mode": "markers",
         "name": "BUDDIEZ 2 SUPERMARKET",
         "showlegend": true,
         "type": "scattergeo"
        },
        {
         "geo": "geo",
         "hovertemplate": "spaza_name=EZIGXOTSHENI TUCK SHOP<br>lat=%{lat}<br>lon=%{lon}<extra></extra>",
         "lat": [
          "-29.9541867624299"
         ],
         "legendgroup": "EZIGXOTSHENI TUCK SHOP",
         "lon": [
          "30.8755278593162"
         ],
         "marker": {
          "color": "#EF553B",
          "symbol": "circle"
         },
         "mode": "markers",
         "name": "EZIGXOTSHENI TUCK SHOP",
         "showlegend": true,
         "type": "scattergeo"
        },
        {
         "geo": "geo",
         "hovertemplate": "spaza_name=JABULA TUCK SHOP<br>lat=%{lat}<br>lon=%{lon}<extra></extra>",
         "lat": [
          "-29.7108714352226"
         ],
         "legendgroup": "JABULA TUCK SHOP",
         "lon": [
          "30.9732484817505"
         ],
         "marker": {
          "color": "#00cc96",
          "symbol": "circle"
         },
         "mode": "markers",
         "name": "JABULA TUCK SHOP",
         "showlegend": true,
         "type": "scattergeo"
        },
        {
         "geo": "geo",
         "hovertemplate": "spaza_name=BAFANA BAFANA SHOP<br>lat=%{lat}<br>lon=%{lon}<extra></extra>",
         "lat": [
          "-29.6680365124286"
         ],
         "legendgroup": "BAFANA BAFANA SHOP",
         "lon": [
          "31.0630356598449"
         ],
         "marker": {
          "color": "#ab63fa",
          "symbol": "circle"
         },
         "mode": "markers",
         "name": "BAFANA BAFANA SHOP",
         "showlegend": true,
         "type": "scattergeo"
        },
        {
         "geo": "geo",
         "hovertemplate": "spaza_name=AYOBA TUCK SHOP<br>lat=%{lat}<br>lon=%{lon}<extra></extra>",
         "lat": [
          "-29.6545305962778"
         ],
         "legendgroup": "AYOBA TUCK SHOP",
         "lon": [
          "31.068606376648"
         ],
         "marker": {
          "color": "#FFA15A",
          "symbol": "circle"
         },
         "mode": "markers",
         "name": "AYOBA TUCK SHOP",
         "showlegend": true,
         "type": "scattergeo"
        },
        {
         "geo": "geo",
         "hovertemplate": "spaza_name=AFRICAN DELIGHT<br>lat=%{lat}<br>lon=%{lon}<extra></extra>",
         "lat": [
          "-29.8611575939559"
         ],
         "legendgroup": "AFRICAN DELIGHT",
         "lon": [
          "31.0156863927841"
         ],
         "marker": {
          "color": "#19d3f3",
          "symbol": "circle"
         },
         "mode": "markers",
         "name": "AFRICAN DELIGHT",
         "showlegend": true,
         "type": "scattergeo"
        },
        {
         "geo": "geo",
         "hovertemplate": "spaza_name=GILROC SUPERMARKET<br>lat=%{lat}<br>lon=%{lon}<extra></extra>",
         "lat": [
          "-29.8591059489959"
         ],
         "legendgroup": "GILROC SUPERMARKET",
         "lon": [
          "31.0391235351563"
         ],
         "marker": {
          "color": "#FF6692",
          "symbol": "circle"
         },
         "mode": "markers",
         "name": "GILROC SUPERMARKET",
         "showlegend": true,
         "type": "scattergeo"
        },
        {
         "geo": "geo",
         "hovertemplate": "spaza_name=AFRICA MINI MARKET<br>lat=%{lat}<br>lon=%{lon}<extra></extra>",
         "lat": [
          "-29.8585432442"
         ],
         "legendgroup": "AFRICA MINI MARKET",
         "lon": [
          "31.0392402113"
         ],
         "marker": {
          "color": "#B6E880",
          "symbol": "circle"
         },
         "mode": "markers",
         "name": "AFRICA MINI MARKET",
         "showlegend": true,
         "type": "scattergeo"
        },
        {
         "geo": "geo",
         "hovertemplate": "spaza_name=MAKHATHINI TUCK SHOP<br>lat=%{lat}<br>lon=%{lon}<extra></extra>",
         "lat": [
          "-29.9469817936031"
         ],
         "legendgroup": "MAKHATHINI TUCK SHOP",
         "lon": [
          "30.878778398037"
         ],
         "marker": {
          "color": "#FF97FF",
          "symbol": "circle"
         },
         "mode": "markers",
         "name": "MAKHATHINI TUCK SHOP",
         "showlegend": true,
         "type": "scattergeo"
        },
        {
         "geo": "geo",
         "hovertemplate": "spaza_name=THINA'S TUCKSHOP<br>lat=%{lat}<br>lon=%{lon}<extra></extra>",
         "lat": [
          "-29.7403179067505"
         ],
         "legendgroup": "THINA'S TUCKSHOP",
         "lon": [
          "30.9266263246536"
         ],
         "marker": {
          "color": "#FECB52",
          "symbol": "circle"
         },
         "mode": "markers",
         "name": "THINA'S TUCKSHOP",
         "showlegend": true,
         "type": "scattergeo"
        },
        {
         "geo": "geo",
         "hovertemplate": "spaza_name=RUSSEL STREET SUPERMARKET<br>lat=%{lat}<br>lon=%{lon}<extra></extra>",
         "lat": [
          "-29.8614879002004"
         ],
         "legendgroup": "RUSSEL STREET SUPERMARKET",
         "lon": [
          "31.0157775878906"
         ],
         "marker": {
          "color": "#636efa",
          "symbol": "circle"
         },
         "mode": "markers",
         "name": "RUSSEL STREET SUPERMARKET",
         "showlegend": true,
         "type": "scattergeo"
        },
        {
         "geo": "geo",
         "hovertemplate": "spaza_name=AFRICAN DISCOUNT SUPERMAKET<br>lat=%{lat}<br>lon=%{lon}<extra></extra>",
         "lat": [
          "-29.6065957791035"
         ],
         "legendgroup": "AFRICAN DISCOUNT SUPERMAKET",
         "lon": [
          "30.3731203079224"
         ],
         "marker": {
          "color": "#EF553B",
          "symbol": "circle"
         },
         "mode": "markers",
         "name": "AFRICAN DISCOUNT SUPERMAKET",
         "showlegend": true,
         "type": "scattergeo"
        },
        {
         "geo": "geo",
         "hovertemplate": "spaza_name=THULIS TUCK SHOP<br>lat=%{lat}<br>lon=%{lon}<extra></extra>",
         "lat": [
          "-29.6505773034716"
         ],
         "legendgroup": "THULIS TUCK SHOP",
         "lon": [
          "30.3246259689331"
         ],
         "marker": {
          "color": "#00cc96",
          "symbol": "circle"
         },
         "mode": "markers",
         "name": "THULIS TUCK SHOP",
         "showlegend": true,
         "type": "scattergeo"
        },
        {
         "geo": "geo",
         "hovertemplate": "spaza_name=THULI'S TUCK SHOP<br>lat=%{lat}<br>lon=%{lon}<extra></extra>",
         "lat": [
          "-29.6253439512711"
         ],
         "legendgroup": "THULI'S TUCK SHOP",
         "lon": [
          "31.0314664246471"
         ],
         "marker": {
          "color": "#ab63fa",
          "symbol": "circle"
         },
         "mode": "markers",
         "name": "THULI'S TUCK SHOP",
         "showlegend": true,
         "type": "scattergeo"
        },
        {
         "geo": "geo",
         "hovertemplate": "spaza_name=SKY'S TUCK SHOP<br>lat=%{lat}<br>lon=%{lon}<extra></extra>",
         "lat": [
          "-29.6500178627025"
         ],
         "legendgroup": "SKY'S TUCK SHOP",
         "lon": [
          "30.2779340744019"
         ],
         "marker": {
          "color": "#FFA15A",
          "symbol": "circle"
         },
         "mode": "markers",
         "name": "SKY'S TUCK SHOP",
         "showlegend": true,
         "type": "scattergeo"
        },
        {
         "geo": "geo",
         "hovertemplate": "spaza_name=50 /50<br>lat=%{lat}<br>lon=%{lon}<extra></extra>",
         "lat": [
          "-29.7536849910452"
         ],
         "legendgroup": "50 /50",
         "lon": [
          "30.9966695308685"
         ],
         "marker": {
          "color": "#19d3f3",
          "symbol": "circle"
         },
         "mode": "markers",
         "name": "50 /50",
         "showlegend": true,
         "type": "scattergeo"
        },
        {
         "geo": "geo",
         "hovertemplate": "spaza_name=MALEVU STORE<br>lat=%{lat}<br>lon=%{lon}<extra></extra>",
         "lat": [
          "-29.6544187127676"
         ],
         "legendgroup": "MALEVU STORE",
         "lon": [
          "30.3035974502564"
         ],
         "marker": {
          "color": "#FF6692",
          "symbol": "circle"
         },
         "mode": "markers",
         "name": "MALEVU STORE",
         "showlegend": true,
         "type": "scattergeo"
        },
        {
         "geo": "geo",
         "hovertemplate": "spaza_name=DAHLAK GROCERY<br>lat=%{lat}<br>lon=%{lon}<extra></extra>",
         "lat": [
          "-29.8643536098965"
         ],
         "legendgroup": "DAHLAK GROCERY",
         "lon": [
          "31.0404539108276"
         ],
         "marker": {
          "color": "#B6E880",
          "symbol": "circle"
         },
         "mode": "markers",
         "name": "DAHLAK GROCERY",
         "showlegend": true,
         "type": "scattergeo"
        },
        {
         "geo": "geo",
         "hovertemplate": "spaza_name=VUKUZENZELE TUCK SHOP<br>lat=%{lat}<br>lon=%{lon}<extra></extra>",
         "lat": [
          "-29.7112534887454"
         ],
         "legendgroup": "VUKUZENZELE TUCK SHOP",
         "lon": [
          "30.9725752472878"
         ],
         "marker": {
          "color": "#FF97FF",
          "symbol": "circle"
         },
         "mode": "markers",
         "name": "VUKUZENZELE TUCK SHOP",
         "showlegend": true,
         "type": "scattergeo"
        },
        {
         "geo": "geo",
         "hovertemplate": "spaza_name=KWAMAHLOKOHLOKO TUCK SHOP<br>lat=%{lat}<br>lon=%{lon}<extra></extra>",
         "lat": [
          "-29.6674709496059"
         ],
         "legendgroup": "KWAMAHLOKOHLOKO TUCK SHOP",
         "lon": [
          "31.0640090703964"
         ],
         "marker": {
          "color": "#FECB52",
          "symbol": "circle"
         },
         "mode": "markers",
         "name": "KWAMAHLOKOHLOKO TUCK SHOP",
         "showlegend": true,
         "type": "scattergeo"
        },
        {
         "geo": "geo",
         "hovertemplate": "spaza_name=RAAGE SUPERMARKET<br>lat=%{lat}<br>lon=%{lon}<extra></extra>",
         "lat": [
          "-29.8580142021957"
         ],
         "legendgroup": "RAAGE SUPERMARKET",
         "lon": [
          "31.0385730860799"
         ],
         "marker": {
          "color": "#636efa",
          "symbol": "circle"
         },
         "mode": "markers",
         "name": "RAAGE SUPERMARKET",
         "showlegend": true,
         "type": "scattergeo"
        },
        {
         "geo": "geo",
         "hovertemplate": "spaza_name=ABANTU ZONKE SUPERMARKET<br>lat=%{lat}<br>lon=%{lon}<extra></extra>",
         "lat": [
          "-29.8620833791186"
         ],
         "legendgroup": "ABANTU ZONKE SUPERMARKET",
         "lon": [
          "31.0150909423828"
         ],
         "marker": {
          "color": "#EF553B",
          "symbol": "circle"
         },
         "mode": "markers",
         "name": "ABANTU ZONKE SUPERMARKET",
         "showlegend": true,
         "type": "scattergeo"
        },
        {
         "geo": "geo",
         "hovertemplate": "spaza_name=MUNIRA'S MINI SUPAMARKET<br>lat=%{lat}<br>lon=%{lon}<extra></extra>",
         "lat": [
          "-29.8570697698342"
         ],
         "legendgroup": "MUNIRA'S MINI SUPAMARKET",
         "lon": [
          "31.0384204981165"
         ],
         "marker": {
          "color": "#00cc96",
          "symbol": "circle"
         },
         "mode": "markers",
         "name": "MUNIRA'S MINI SUPAMARKET",
         "showlegend": true,
         "type": "scattergeo"
        },
        {
         "geo": "geo",
         "hovertemplate": "spaza_name=ZIKODE TUCK SHOP<br>lat=%{lat}<br>lon=%{lon}<extra></extra>",
         "lat": [
          "-29.7082715689868"
         ],
         "legendgroup": "ZIKODE TUCK SHOP",
         "lon": [
          "30.9792083501816"
         ],
         "marker": {
          "color": "#ab63fa",
          "symbol": "circle"
         },
         "mode": "markers",
         "name": "ZIKODE TUCK SHOP",
         "showlegend": true,
         "type": "scattergeo"
        },
        {
         "geo": "geo",
         "hovertemplate": "spaza_name=4SEASONS SUPAMARKET<br>lat=%{lat}<br>lon=%{lon}<extra></extra>",
         "lat": [
          "-29.8572636196227"
         ],
         "legendgroup": "4SEASONS SUPAMARKET",
         "lon": [
          "31.038002371788"
         ],
         "marker": {
          "color": "#FFA15A",
          "symbol": "circle"
         },
         "mode": "markers",
         "name": "4SEASONS SUPAMARKET",
         "showlegend": true,
         "type": "scattergeo"
        },
        {
         "geo": "geo",
         "hovertemplate": "spaza_name=ZAMOKUHLE TUCKSHOP<br>lat=%{lat}<br>lon=%{lon}<extra></extra>",
         "lat": [
          "-29.7416779842174"
         ],
         "legendgroup": "ZAMOKUHLE TUCKSHOP",
         "lon": [
          "30.9249740839005"
         ],
         "marker": {
          "color": "#19d3f3",
          "symbol": "circle"
         },
         "mode": "markers",
         "name": "ZAMOKUHLE TUCKSHOP",
         "showlegend": true,
         "type": "scattergeo"
        },
        {
         "geo": "geo",
         "hovertemplate": "spaza_name=DAYO'S TUCK SHOP<br>lat=%{lat}<br>lon=%{lon}<extra></extra>",
         "lat": [
          "-29.8617484227"
         ],
         "legendgroup": "DAYO'S TUCK SHOP",
         "lon": [
          "30.7652378082"
         ],
         "marker": {
          "color": "#FF6692",
          "symbol": "circle"
         },
         "mode": "markers",
         "name": "DAYO'S TUCK SHOP",
         "showlegend": true,
         "type": "scattergeo"
        },
        {
         "geo": "geo",
         "hovertemplate": "spaza_name=KISS TUCKSHOP<br>lat=%{lat}<br>lon=%{lon}<extra></extra>",
         "lat": [
          "-29.9559012937038"
         ],
         "legendgroup": "KISS TUCKSHOP",
         "lon": [
          "30.8827587962151"
         ],
         "marker": {
          "color": "#B6E880",
          "symbol": "circle"
         },
         "mode": "markers",
         "name": "KISS TUCKSHOP",
         "showlegend": true,
         "type": "scattergeo"
        },
        {
         "geo": "geo",
         "hovertemplate": "spaza_name=THANDABANTU TUCKSHOP<br>lat=%{lat}<br>lon=%{lon}<extra></extra>",
         "lat": [
          "-29.9556781997579"
         ],
         "legendgroup": "THANDABANTU TUCKSHOP",
         "lon": [
          "30.8869430422783"
         ],
         "marker": {
          "color": "#FF97FF",
          "symbol": "circle"
         },
         "mode": "markers",
         "name": "THANDABANTU TUCKSHOP",
         "showlegend": true,
         "type": "scattergeo"
        },
        {
         "geo": "geo",
         "hovertemplate": "spaza_name=BISMILLAH SUPAMARKET<br>lat=%{lat}<br>lon=%{lon}<extra></extra>",
         "lat": [
          "-29.8512897723175"
         ],
         "legendgroup": "BISMILLAH SUPAMARKET",
         "lon": [
          "31.0160350799561"
         ],
         "marker": {
          "color": "#FECB52",
          "symbol": "circle"
         },
         "mode": "markers",
         "name": "BISMILLAH SUPAMARKET",
         "showlegend": true,
         "type": "scattergeo"
        },
        {
         "geo": "geo",
         "hovertemplate": "spaza_name=GWACELA TUCKSHOP<br>lat=%{lat}<br>lon=%{lon}<extra></extra>",
         "lat": [
          "-29.9553084411601"
         ],
         "legendgroup": "GWACELA TUCKSHOP",
         "lon": [
          "30.879997313059"
         ],
         "marker": {
          "color": "#636efa",
          "symbol": "circle"
         },
         "mode": "markers",
         "name": "GWACELA TUCKSHOP",
         "showlegend": true,
         "type": "scattergeo"
        },
        {
         "geo": "geo",
         "hovertemplate": "spaza_name=BLESSING'S TUCK SHOP<br>lat=%{lat}<br>lon=%{lon}<extra></extra>",
         "lat": [
          "-29.6085049399974"
         ],
         "legendgroup": "BLESSING'S TUCK SHOP",
         "lon": [
          "30.3721297753691"
         ],
         "marker": {
          "color": "#EF553B",
          "symbol": "circle"
         },
         "mode": "markers",
         "name": "BLESSING'S TUCK SHOP",
         "showlegend": true,
         "type": "scattergeo"
        },
        {
         "geo": "geo",
         "hovertemplate": "spaza_name=CABANGAKAHLE TUCK SHOP<br>lat=%{lat}<br>lon=%{lon}<extra></extra>",
         "lat": [
          "-29.8582596"
         ],
         "legendgroup": "CABANGAKAHLE TUCK SHOP",
         "lon": [
          "30.7664187"
         ],
         "marker": {
          "color": "#00cc96",
          "symbol": "circle"
         },
         "mode": "markers",
         "name": "CABANGAKAHLE TUCK SHOP",
         "showlegend": true,
         "type": "scattergeo"
        },
        {
         "geo": "geo",
         "hovertemplate": "spaza_name=MR SUPERMARKET<br>lat=%{lat}<br>lon=%{lon}<extra></extra>",
         "lat": [
          "-29.8605202393801"
         ],
         "legendgroup": "MR SUPERMARKET",
         "lon": [
          "31.0156059265137"
         ],
         "marker": {
          "color": "#ab63fa",
          "symbol": "circle"
         },
         "mode": "markers",
         "name": "MR SUPERMARKET",
         "showlegend": true,
         "type": "scattergeo"
        },
        {
         "geo": "geo",
         "hovertemplate": "spaza_name=BE-YOURSELF TUCK SHOP<br>lat=%{lat}<br>lon=%{lon}<extra></extra>",
         "lat": [
          "-29.8595293077587"
         ],
         "legendgroup": "BE-YOURSELF TUCK SHOP",
         "lon": [
          "30.76819896698"
         ],
         "marker": {
          "color": "#FFA15A",
          "symbol": "circle"
         },
         "mode": "markers",
         "name": "BE-YOURSELF TUCK SHOP",
         "showlegend": true,
         "type": "scattergeo"
        }
       ],
       "layout": {
        "geo": {
         "center": {},
         "domain": {
          "x": [
           0,
           1
          ],
          "y": [
           0,
           1
          ]
         }
        },
        "legend": {
         "title": {
          "text": "spaza_name"
         },
         "tracegroupgap": 0
        },
        "margin": {
         "t": 60
        },
        "template": {
         "data": {
          "bar": [
           {
            "error_x": {
             "color": "#2a3f5f"
            },
            "error_y": {
             "color": "#2a3f5f"
            },
            "marker": {
             "line": {
              "color": "#E5ECF6",
              "width": 0.5
             },
             "pattern": {
              "fillmode": "overlay",
              "size": 10,
              "solidity": 0.2
             }
            },
            "type": "bar"
           }
          ],
          "barpolar": [
           {
            "marker": {
             "line": {
              "color": "#E5ECF6",
              "width": 0.5
             },
             "pattern": {
              "fillmode": "overlay",
              "size": 10,
              "solidity": 0.2
             }
            },
            "type": "barpolar"
           }
          ],
          "carpet": [
           {
            "aaxis": {
             "endlinecolor": "#2a3f5f",
             "gridcolor": "white",
             "linecolor": "white",
             "minorgridcolor": "white",
             "startlinecolor": "#2a3f5f"
            },
            "baxis": {
             "endlinecolor": "#2a3f5f",
             "gridcolor": "white",
             "linecolor": "white",
             "minorgridcolor": "white",
             "startlinecolor": "#2a3f5f"
            },
            "type": "carpet"
           }
          ],
          "choropleth": [
           {
            "colorbar": {
             "outlinewidth": 0,
             "ticks": ""
            },
            "type": "choropleth"
           }
          ],
          "contour": [
           {
            "colorbar": {
             "outlinewidth": 0,
             "ticks": ""
            },
            "colorscale": [
             [
              0,
              "#0d0887"
             ],
             [
              0.1111111111111111,
              "#46039f"
             ],
             [
              0.2222222222222222,
              "#7201a8"
             ],
             [
              0.3333333333333333,
              "#9c179e"
             ],
             [
              0.4444444444444444,
              "#bd3786"
             ],
             [
              0.5555555555555556,
              "#d8576b"
             ],
             [
              0.6666666666666666,
              "#ed7953"
             ],
             [
              0.7777777777777778,
              "#fb9f3a"
             ],
             [
              0.8888888888888888,
              "#fdca26"
             ],
             [
              1,
              "#f0f921"
             ]
            ],
            "type": "contour"
           }
          ],
          "contourcarpet": [
           {
            "colorbar": {
             "outlinewidth": 0,
             "ticks": ""
            },
            "type": "contourcarpet"
           }
          ],
          "heatmap": [
           {
            "colorbar": {
             "outlinewidth": 0,
             "ticks": ""
            },
            "colorscale": [
             [
              0,
              "#0d0887"
             ],
             [
              0.1111111111111111,
              "#46039f"
             ],
             [
              0.2222222222222222,
              "#7201a8"
             ],
             [
              0.3333333333333333,
              "#9c179e"
             ],
             [
              0.4444444444444444,
              "#bd3786"
             ],
             [
              0.5555555555555556,
              "#d8576b"
             ],
             [
              0.6666666666666666,
              "#ed7953"
             ],
             [
              0.7777777777777778,
              "#fb9f3a"
             ],
             [
              0.8888888888888888,
              "#fdca26"
             ],
             [
              1,
              "#f0f921"
             ]
            ],
            "type": "heatmap"
           }
          ],
          "heatmapgl": [
           {
            "colorbar": {
             "outlinewidth": 0,
             "ticks": ""
            },
            "colorscale": [
             [
              0,
              "#0d0887"
             ],
             [
              0.1111111111111111,
              "#46039f"
             ],
             [
              0.2222222222222222,
              "#7201a8"
             ],
             [
              0.3333333333333333,
              "#9c179e"
             ],
             [
              0.4444444444444444,
              "#bd3786"
             ],
             [
              0.5555555555555556,
              "#d8576b"
             ],
             [
              0.6666666666666666,
              "#ed7953"
             ],
             [
              0.7777777777777778,
              "#fb9f3a"
             ],
             [
              0.8888888888888888,
              "#fdca26"
             ],
             [
              1,
              "#f0f921"
             ]
            ],
            "type": "heatmapgl"
           }
          ],
          "histogram": [
           {
            "marker": {
             "pattern": {
              "fillmode": "overlay",
              "size": 10,
              "solidity": 0.2
             }
            },
            "type": "histogram"
           }
          ],
          "histogram2d": [
           {
            "colorbar": {
             "outlinewidth": 0,
             "ticks": ""
            },
            "colorscale": [
             [
              0,
              "#0d0887"
             ],
             [
              0.1111111111111111,
              "#46039f"
             ],
             [
              0.2222222222222222,
              "#7201a8"
             ],
             [
              0.3333333333333333,
              "#9c179e"
             ],
             [
              0.4444444444444444,
              "#bd3786"
             ],
             [
              0.5555555555555556,
              "#d8576b"
             ],
             [
              0.6666666666666666,
              "#ed7953"
             ],
             [
              0.7777777777777778,
              "#fb9f3a"
             ],
             [
              0.8888888888888888,
              "#fdca26"
             ],
             [
              1,
              "#f0f921"
             ]
            ],
            "type": "histogram2d"
           }
          ],
          "histogram2dcontour": [
           {
            "colorbar": {
             "outlinewidth": 0,
             "ticks": ""
            },
            "colorscale": [
             [
              0,
              "#0d0887"
             ],
             [
              0.1111111111111111,
              "#46039f"
             ],
             [
              0.2222222222222222,
              "#7201a8"
             ],
             [
              0.3333333333333333,
              "#9c179e"
             ],
             [
              0.4444444444444444,
              "#bd3786"
             ],
             [
              0.5555555555555556,
              "#d8576b"
             ],
             [
              0.6666666666666666,
              "#ed7953"
             ],
             [
              0.7777777777777778,
              "#fb9f3a"
             ],
             [
              0.8888888888888888,
              "#fdca26"
             ],
             [
              1,
              "#f0f921"
             ]
            ],
            "type": "histogram2dcontour"
           }
          ],
          "mesh3d": [
           {
            "colorbar": {
             "outlinewidth": 0,
             "ticks": ""
            },
            "type": "mesh3d"
           }
          ],
          "parcoords": [
           {
            "line": {
             "colorbar": {
              "outlinewidth": 0,
              "ticks": ""
             }
            },
            "type": "parcoords"
           }
          ],
          "pie": [
           {
            "automargin": true,
            "type": "pie"
           }
          ],
          "scatter": [
           {
            "fillpattern": {
             "fillmode": "overlay",
             "size": 10,
             "solidity": 0.2
            },
            "type": "scatter"
           }
          ],
          "scatter3d": [
           {
            "line": {
             "colorbar": {
              "outlinewidth": 0,
              "ticks": ""
             }
            },
            "marker": {
             "colorbar": {
              "outlinewidth": 0,
              "ticks": ""
             }
            },
            "type": "scatter3d"
           }
          ],
          "scattercarpet": [
           {
            "marker": {
             "colorbar": {
              "outlinewidth": 0,
              "ticks": ""
             }
            },
            "type": "scattercarpet"
           }
          ],
          "scattergeo": [
           {
            "marker": {
             "colorbar": {
              "outlinewidth": 0,
              "ticks": ""
             }
            },
            "type": "scattergeo"
           }
          ],
          "scattergl": [
           {
            "marker": {
             "colorbar": {
              "outlinewidth": 0,
              "ticks": ""
             }
            },
            "type": "scattergl"
           }
          ],
          "scattermapbox": [
           {
            "marker": {
             "colorbar": {
              "outlinewidth": 0,
              "ticks": ""
             }
            },
            "type": "scattermapbox"
           }
          ],
          "scatterpolar": [
           {
            "marker": {
             "colorbar": {
              "outlinewidth": 0,
              "ticks": ""
             }
            },
            "type": "scatterpolar"
           }
          ],
          "scatterpolargl": [
           {
            "marker": {
             "colorbar": {
              "outlinewidth": 0,
              "ticks": ""
             }
            },
            "type": "scatterpolargl"
           }
          ],
          "scatterternary": [
           {
            "marker": {
             "colorbar": {
              "outlinewidth": 0,
              "ticks": ""
             }
            },
            "type": "scatterternary"
           }
          ],
          "surface": [
           {
            "colorbar": {
             "outlinewidth": 0,
             "ticks": ""
            },
            "colorscale": [
             [
              0,
              "#0d0887"
             ],
             [
              0.1111111111111111,
              "#46039f"
             ],
             [
              0.2222222222222222,
              "#7201a8"
             ],
             [
              0.3333333333333333,
              "#9c179e"
             ],
             [
              0.4444444444444444,
              "#bd3786"
             ],
             [
              0.5555555555555556,
              "#d8576b"
             ],
             [
              0.6666666666666666,
              "#ed7953"
             ],
             [
              0.7777777777777778,
              "#fb9f3a"
             ],
             [
              0.8888888888888888,
              "#fdca26"
             ],
             [
              1,
              "#f0f921"
             ]
            ],
            "type": "surface"
           }
          ],
          "table": [
           {
            "cells": {
             "fill": {
              "color": "#EBF0F8"
             },
             "line": {
              "color": "white"
             }
            },
            "header": {
             "fill": {
              "color": "#C8D4E3"
             },
             "line": {
              "color": "white"
             }
            },
            "type": "table"
           }
          ]
         },
         "layout": {
          "annotationdefaults": {
           "arrowcolor": "#2a3f5f",
           "arrowhead": 0,
           "arrowwidth": 1
          },
          "autotypenumbers": "strict",
          "coloraxis": {
           "colorbar": {
            "outlinewidth": 0,
            "ticks": ""
           }
          },
          "colorscale": {
           "diverging": [
            [
             0,
             "#8e0152"
            ],
            [
             0.1,
             "#c51b7d"
            ],
            [
             0.2,
             "#de77ae"
            ],
            [
             0.3,
             "#f1b6da"
            ],
            [
             0.4,
             "#fde0ef"
            ],
            [
             0.5,
             "#f7f7f7"
            ],
            [
             0.6,
             "#e6f5d0"
            ],
            [
             0.7,
             "#b8e186"
            ],
            [
             0.8,
             "#7fbc41"
            ],
            [
             0.9,
             "#4d9221"
            ],
            [
             1,
             "#276419"
            ]
           ],
           "sequential": [
            [
             0,
             "#0d0887"
            ],
            [
             0.1111111111111111,
             "#46039f"
            ],
            [
             0.2222222222222222,
             "#7201a8"
            ],
            [
             0.3333333333333333,
             "#9c179e"
            ],
            [
             0.4444444444444444,
             "#bd3786"
            ],
            [
             0.5555555555555556,
             "#d8576b"
            ],
            [
             0.6666666666666666,
             "#ed7953"
            ],
            [
             0.7777777777777778,
             "#fb9f3a"
            ],
            [
             0.8888888888888888,
             "#fdca26"
            ],
            [
             1,
             "#f0f921"
            ]
           ],
           "sequentialminus": [
            [
             0,
             "#0d0887"
            ],
            [
             0.1111111111111111,
             "#46039f"
            ],
            [
             0.2222222222222222,
             "#7201a8"
            ],
            [
             0.3333333333333333,
             "#9c179e"
            ],
            [
             0.4444444444444444,
             "#bd3786"
            ],
            [
             0.5555555555555556,
             "#d8576b"
            ],
            [
             0.6666666666666666,
             "#ed7953"
            ],
            [
             0.7777777777777778,
             "#fb9f3a"
            ],
            [
             0.8888888888888888,
             "#fdca26"
            ],
            [
             1,
             "#f0f921"
            ]
           ]
          },
          "colorway": [
           "#636efa",
           "#EF553B",
           "#00cc96",
           "#ab63fa",
           "#FFA15A",
           "#19d3f3",
           "#FF6692",
           "#B6E880",
           "#FF97FF",
           "#FECB52"
          ],
          "font": {
           "color": "#2a3f5f"
          },
          "geo": {
           "bgcolor": "white",
           "lakecolor": "white",
           "landcolor": "#E5ECF6",
           "showlakes": true,
           "showland": true,
           "subunitcolor": "white"
          },
          "hoverlabel": {
           "align": "left"
          },
          "hovermode": "closest",
          "mapbox": {
           "style": "light"
          },
          "paper_bgcolor": "white",
          "plot_bgcolor": "#E5ECF6",
          "polar": {
           "angularaxis": {
            "gridcolor": "white",
            "linecolor": "white",
            "ticks": ""
           },
           "bgcolor": "#E5ECF6",
           "radialaxis": {
            "gridcolor": "white",
            "linecolor": "white",
            "ticks": ""
           }
          },
          "scene": {
           "xaxis": {
            "backgroundcolor": "#E5ECF6",
            "gridcolor": "white",
            "gridwidth": 2,
            "linecolor": "white",
            "showbackground": true,
            "ticks": "",
            "zerolinecolor": "white"
           },
           "yaxis": {
            "backgroundcolor": "#E5ECF6",
            "gridcolor": "white",
            "gridwidth": 2,
            "linecolor": "white",
            "showbackground": true,
            "ticks": "",
            "zerolinecolor": "white"
           },
           "zaxis": {
            "backgroundcolor": "#E5ECF6",
            "gridcolor": "white",
            "gridwidth": 2,
            "linecolor": "white",
            "showbackground": true,
            "ticks": "",
            "zerolinecolor": "white"
           }
          },
          "shapedefaults": {
           "line": {
            "color": "#2a3f5f"
           }
          },
          "ternary": {
           "aaxis": {
            "gridcolor": "white",
            "linecolor": "white",
            "ticks": ""
           },
           "baxis": {
            "gridcolor": "white",
            "linecolor": "white",
            "ticks": ""
           },
           "bgcolor": "#E5ECF6",
           "caxis": {
            "gridcolor": "white",
            "linecolor": "white",
            "ticks": ""
           }
          },
          "title": {
           "x": 0.05
          },
          "xaxis": {
           "automargin": true,
           "gridcolor": "white",
           "linecolor": "white",
           "ticks": "",
           "title": {
            "standoff": 15
           },
           "zerolinecolor": "white",
           "zerolinewidth": 2
          },
          "yaxis": {
           "automargin": true,
           "gridcolor": "white",
           "linecolor": "white",
           "ticks": "",
           "title": {
            "standoff": 15
           },
           "zerolinecolor": "white",
           "zerolinewidth": 2
          }
         }
        }
       }
      }
     },
     "metadata": {},
     "output_type": "display_data"
    }
   ],
   "source": [
    "fig = px.scatter_geo(df, lat = 'lat', lon = 'lon', color='spaza_name')\n",
    "\n",
    "fig"
   ]
  },
  {
   "cell_type": "code",
   "execution_count": 34,
   "id": "79e742db",
   "metadata": {},
   "outputs": [
    {
     "data": {
      "text/plain": [
       "{'cells': [{'cell_type': 'markdown',\n",
       "   'id': 'd9c3d11f',\n",
       "   'metadata': {},\n",
       "   'source': ['###### Spaza Dataset\\n',\n",
       "    'Author: Tshepo Ralehoko \\\\\\n',\n",
       "    'Date: 29 July 2023']},\n",
       "  {'cell_type': 'code',\n",
       "   'execution_count': 137,\n",
       "   'id': 'c57ead31',\n",
       "   'metadata': {},\n",
       "   'outputs': [],\n",
       "   'source': ['# loading the requisite modules\\n',\n",
       "    'import numpy as np\\n',\n",
       "    'import pandas as pd\\n',\n",
       "    'import openpyxl as xls\\n',\n",
       "    'import datetime as dt']},\n",
       "  {'cell_type': 'code',\n",
       "   'execution_count': 138,\n",
       "   'id': '388f920f',\n",
       "   'metadata': {},\n",
       "   'outputs': [],\n",
       "   'source': ['# loading the dataset into the notebook\\n',\n",
       "    \"df=pd.read_excel(io=r'C:\\\\Users\\\\rtral\\\\Datasets\\\\Spaza data\\\\Spaza data.xlsx', sheet_name='Data Set 1')\\n\",\n",
       "    '\\n',\n",
       "    '# loading the second sheet into the notebook\\n',\n",
       "    \"ref_sheet=pd.read_excel(io=r'C:\\\\Users\\\\rtral\\\\Datasets\\\\Spaza data\\\\Spaza data.xlsx', sheet_name='Reference Sheet', header=[0],skiprows=[1,2])\"]},\n",
       "  {'cell_type': 'code',\n",
       "   'execution_count': 139,\n",
       "   'id': 'a12a1cd6',\n",
       "   'metadata': {},\n",
       "   'outputs': [{'data': {'text/html': ['<div>\\n',\n",
       "       '<style scoped>\\n',\n",
       "       '    .dataframe tbody tr th:only-of-type {\\n',\n",
       "       '        vertical-align: middle;\\n',\n",
       "       '    }\\n',\n",
       "       '\\n',\n",
       "       '    .dataframe tbody tr th {\\n',\n",
       "       '        vertical-align: top;\\n',\n",
       "       '    }\\n',\n",
       "       '\\n',\n",
       "       '    .dataframe thead th {\\n',\n",
       "       '        text-align: right;\\n',\n",
       "       '    }\\n',\n",
       "       '</style>\\n',\n",
       "       '<table border=\"1\" class=\"dataframe\">\\n',\n",
       "       '  <thead>\\n',\n",
       "       '    <tr style=\"text-align: right;\">\\n',\n",
       "       '      <th></th>\\n',\n",
       "       '      <th>PAYLOAD_OBJECTID</th>\\n',\n",
       "       '      <th>COMPLETED_AT</th>\\n',\n",
       "       '      <th>JOBBER_ID</th>\\n',\n",
       "       '      <th>spaza_location</th>\\n',\n",
       "       '      <th>spaza_type</th>\\n',\n",
       "       '      <th>spaza_type_1</th>\\n',\n",
       "       '      <th>role</th>\\n',\n",
       "       '      <th>Role_1</th>\\n',\n",
       "       '      <th>nationality</th>\\n',\n",
       "       '      <th>number_of_spazas</th>\\n',\n",
       "       '      <th>spaza_age</th>\\n',\n",
       "       '      <th>Spaza_age_1</th>\\n',\n",
       "       '      <th>deposit_frequency</th>\\n',\n",
       "       '      <th>stock_frequency</th>\\n',\n",
       "       '      <th>stock_frequency_1</th>\\n',\n",
       "       '      <th>stock_orders_-_day</th>\\n',\n",
       "       '      <th>buying_group/stokvel</th>\\n',\n",
       "       '      <th>credit</th>\\n',\n",
       "       '      <th>store_items</th>\\n',\n",
       "       '      <th>shelving</th>\\n',\n",
       "       '      <th>shelving_1</th>\\n',\n",
       "       '      <th>store_fridges</th>\\n',\n",
       "       '      <th>till_points</th>\\n',\n",
       "       '      <th>till_points_1</th>\\n',\n",
       "       '      <th>supplier_support</th>\\n',\n",
       "       '      <th>supplier_support_1</th>\\n',\n",
       "       '      <th>weekly_ode_amount</th>\\n',\n",
       "       '      <th>monthly_sales</th>\\n',\n",
       "       '      <th>brands_in-store</th>\\n',\n",
       "       '      <th>0_Supplier_wholesalers</th>\\n',\n",
       "       '      <th>0_Order %_wholesalers</th>\\n',\n",
       "       '      <th>1_Supplier_wholesalers</th>\\n',\n",
       "       '      <th>1_Order %_wholesalers</th>\\n',\n",
       "       '      <th>2_Supplier_wholesalers</th>\\n',\n",
       "       '      <th>2_Order %_wholesalers</th>\\n',\n",
       "       '      <th>till_slip_submission - visit 1</th>\\n',\n",
       "       '      <th>till_slip_submission - visit 2</th>\\n',\n",
       "       '    </tr>\\n',\n",
       "       '  </thead>\\n',\n",
       "       '  <tbody>\\n',\n",
       "       '    <tr>\\n',\n",
       "       '      <th>0</th>\\n',\n",
       "       '      <td>10825571</td>\\n',\n",
       "       '      <td>2021-11-05 09:00:43.023531+00:00</td>\\n',\n",
       "       '      <td>439383</td>\\n',\n",
       "       '      <td>CHEAPEST SUPERMARKET -29.6979692867153 31.0703980922699</td>\\n',\n",
       "       \"      <td>2: Gated (can't walk into the Spaza)</td>\\n\",\n",
       "       '      <td>2</td>\\n',\n",
       "       '      <td>1: Shop Keeper</td>\\n',\n",
       "       '      <td>1</td>\\n',\n",
       "       '      <td>1</td>\\n',\n",
       "       '      <td>1</td>\\n',\n",
       "       '      <td>3: 3 - 4 years</td>\\n',\n",
       "       '      <td>3</td>\\n',\n",
       "       '      <td>2</td>\\n',\n",
       "       '      <td>5: When I need stock</td>\\n',\n",
       "       '      <td>5</td>\\n',\n",
       "       '      <td>[\"8\"]</td>\\n',\n",
       "       '      <td>1</td>\\n',\n",
       "       '      <td>1</td>\\n',\n",
       "       '      <td>[\"2\", \"3\", \"4\", \"7\", \"8\", \"10\"]</td>\\n',\n",
       "       '      <td>1: All products have a shelf/ display area</td>\\n',\n",
       "       '      <td>1</td>\\n',\n",
       "       '      <td>2: 1-2 fridges</td>\\n',\n",
       "       '      <td>1: Cash only till point</td>\\n',\n",
       "       '      <td>1</td>\\n',\n",
       "       '      <td>1: Yes</td>\\n',\n",
       "       '      <td>1</td>\\n',\n",
       "       '      <td>30 000</td>\\n',\n",
       "       '      <td>60 000</td>\\n',\n",
       "       '      <td>[\"2\", \"4\", \"5\", \"6\", \"8\", \"9\", \"10\", \"11\", \"12\", \"13\", \"14\", \"18\", \"19\", \"20\", \"21\", \"24\", \"26\", \"33\", \"34\", \"35\", \"36\"]</td>\\n',\n",
       "       '      <td>GATE RITE</td>\\n',\n",
       "       '      <td>100</td>\\n',\n",
       "       '      <td>NaN</td>\\n',\n",
       "       '      <td>0</td>\\n',\n",
       "       '      <td>NaN</td>\\n',\n",
       "       '      <td>0</td>\\n',\n",
       "       '      <td>2: 1 slip</td>\\n',\n",
       "       '      <td>2: 1 slip</td>\\n',\n",
       "       '    </tr>\\n',\n",
       "       '    <tr>\\n',\n",
       "       '      <th>1</th>\\n',\n",
       "       '      <td>10737966</td>\\n',\n",
       "       '      <td>2021-10-30 10:57:07.889638+00:00</td>\\n',\n",
       "       '      <td>439383</td>\\n',\n",
       "       '      <td>MULE TUCK SHOP -29.6538965880754 31.0678124427795</td>\\n',\n",
       "       \"      <td>2: Gated (can't walk into the Spaza)</td>\\n\",\n",
       "       '      <td>2</td>\\n',\n",
       "       '      <td>2: Shop Owner</td>\\n',\n",
       "       '      <td>2</td>\\n',\n",
       "       '      <td>1</td>\\n',\n",
       "       '      <td>1</td>\\n',\n",
       "       '      <td>2: 1 - 2 years</td>\\n',\n",
       "       '      <td>2</td>\\n',\n",
       "       '      <td>3</td>\\n',\n",
       "       '      <td>5: When I need stock</td>\\n',\n",
       "       '      <td>5</td>\\n',\n",
       "       '      <td>[\"8\"]</td>\\n',\n",
       "       '      <td>1</td>\\n',\n",
       "       '      <td>1</td>\\n',\n",
       "       '      <td>[\"2\", \"3\", \"4\", \"7\", \"8\"]</td>\\n',\n",
       "       '      <td>2: Some products are on the shelves, some products are on the floor</td>\\n',\n",
       "       '      <td>2</td>\\n',\n",
       "       '      <td>2: 1-2 fridges</td>\\n',\n",
       "       '      <td>1: Cash only till point</td>\\n',\n",
       "       '      <td>1</td>\\n',\n",
       "       '      <td>1: Yes</td>\\n',\n",
       "       '      <td>1</td>\\n',\n",
       "       '      <td>21 000</td>\\n',\n",
       "       '      <td>30 000</td>\\n',\n",
       "       '      <td>[\"2\", \"3\", \"4\", \"5\", \"6\", \"8\", \"10\", \"11\", \"12\", \"13\", \"20\", \"21\", \"24\", \"33\", \"34\", \"35\"]</td>\\n',\n",
       "       '      <td>GATERITE</td>\\n',\n",
       "       '      <td>100</td>\\n',\n",
       "       '      <td>NaN</td>\\n',\n",
       "       '      <td>0</td>\\n',\n",
       "       '      <td>NaN</td>\\n',\n",
       "       '      <td>0</td>\\n',\n",
       "       '      <td>2: 1 slip</td>\\n',\n",
       "       '      <td>2: 1 slip</td>\\n',\n",
       "       '    </tr>\\n',\n",
       "       '  </tbody>\\n',\n",
       "       '</table>\\n',\n",
       "       '</div>'],\n",
       "      'text/plain': ['   PAYLOAD_OBJECTID                      COMPLETED_AT  JOBBER_ID  \\\\\\n',\n",
       "       '0          10825571  2021-11-05 09:00:43.023531+00:00     439383   \\n',\n",
       "       '1          10737966  2021-10-30 10:57:07.889638+00:00     439383   \\n',\n",
       "       '\\n',\n",
       "       '                                            spaza_location  \\\\\\n',\n",
       "       '0  CHEAPEST SUPERMARKET -29.6979692867153 31.0703980922699   \\n',\n",
       "       '1        MULE TUCK SHOP -29.6538965880754 31.0678124427795   \\n',\n",
       "       '\\n',\n",
       "       '                             spaza_type  spaza_type_1            role  Role_1  \\\\\\n',\n",
       "       \"0  2: Gated (can't walk into the Spaza)             2  1: Shop Keeper       1   \\n\",\n",
       "       \"1  2: Gated (can't walk into the Spaza)             2   2: Shop Owner       2   \\n\",\n",
       "       '\\n',\n",
       "       '  nationality number_of_spazas       spaza_age  Spaza_age_1 deposit_frequency  \\\\\\n',\n",
       "       '0           1                1  3: 3 - 4 years            3                 2   \\n',\n",
       "       '1           1                1  2: 1 - 2 years            2                 3   \\n',\n",
       "       '\\n',\n",
       "       '        stock_frequency  stock_frequency_1 stock_orders_-_day  \\\\\\n',\n",
       "       '0  5: When I need stock                  5              [\"8\"]   \\n',\n",
       "       '1  5: When I need stock                  5              [\"8\"]   \\n',\n",
       "       '\\n',\n",
       "       '   buying_group/stokvel  credit                      store_items  \\\\\\n',\n",
       "       '0                     1       1  [\"2\", \"3\", \"4\", \"7\", \"8\", \"10\"]   \\n',\n",
       "       '1                     1       1        [\"2\", \"3\", \"4\", \"7\", \"8\"]   \\n',\n",
       "       '\\n',\n",
       "       '                                                              shelving  \\\\\\n',\n",
       "       '0                           1: All products have a shelf/ display area   \\n',\n",
       "       '1  2: Some products are on the shelves, some products are on the floor   \\n',\n",
       "       '\\n',\n",
       "       '   shelving_1   store_fridges              till_points  till_points_1  \\\\\\n',\n",
       "       '0           1  2: 1-2 fridges  1: Cash only till point              1   \\n',\n",
       "       '1           2  2: 1-2 fridges  1: Cash only till point              1   \\n',\n",
       "       '\\n',\n",
       "       '  supplier_support  supplier_support_1 weekly_ode_amount monthly_sales  \\\\\\n',\n",
       "       '0           1: Yes                   1            30 000        60 000   \\n',\n",
       "       '1           1: Yes                   1            21 000        30 000   \\n',\n",
       "       '\\n',\n",
       "       '                                                                                                            brands_in-store  \\\\\\n',\n",
       "       '0  [\"2\", \"4\", \"5\", \"6\", \"8\", \"9\", \"10\", \"11\", \"12\", \"13\", \"14\", \"18\", \"19\", \"20\", \"21\", \"24\", \"26\", \"33\", \"34\", \"35\", \"36\"]   \\n',\n",
       "       '1                                [\"2\", \"3\", \"4\", \"5\", \"6\", \"8\", \"10\", \"11\", \"12\", \"13\", \"20\", \"21\", \"24\", \"33\", \"34\", \"35\"]   \\n',\n",
       "       '\\n',\n",
       "       '  0_Supplier_wholesalers  0_Order %_wholesalers 1_Supplier_wholesalers  \\\\\\n',\n",
       "       '0             GATE RITE                     100                    NaN   \\n',\n",
       "       '1               GATERITE                    100                    NaN   \\n',\n",
       "       '\\n',\n",
       "       '   1_Order %_wholesalers 2_Supplier_wholesalers  2_Order %_wholesalers  \\\\\\n',\n",
       "       '0                      0                    NaN                      0   \\n',\n",
       "       '1                      0                    NaN                      0   \\n',\n",
       "       '\\n',\n",
       "       '  till_slip_submission - visit 1 till_slip_submission - visit 2  \\n',\n",
       "       '0                      2: 1 slip                      2: 1 slip  \\n',\n",
       "       '1                      2: 1 slip                      2: 1 slip  ']},\n",
       "     'execution_count': 139,\n",
       "     'metadata': {},\n",
       "     'output_type': 'execute_result'}],\n",
       "   'source': ['# controlling the number of columns to be printed\\n',\n",
       "    '# controlling the column width\\n',\n",
       "    \"pd.set_option('display.max_colwidth', None)\\n\",\n",
       "    \"pd.set_option('display.max_columns', None)\\n\",\n",
       "    '\\n',\n",
       "    '# inspecting the first few observations\\n',\n",
       "    'df.head(n=2)']},\n",
       "  {'cell_type': 'code',\n",
       "   'execution_count': 140,\n",
       "   'id': 'b7ed6902',\n",
       "   'metadata': {},\n",
       "   'outputs': [],\n",
       "   'source': ['# cleaning column names\\n',\n",
       "    '# small letters, remove white spaces etc\\n',\n",
       "    'df.columns=df.columns.str.strip()\\n',\n",
       "    'df.columns=df.columns.str.lower()\\n',\n",
       "    \"df.columns=df.columns.str.replace(' ','_')\"]},\n",
       "  {'cell_type': 'code',\n",
       "   'execution_count': 141,\n",
       "   'id': '040dbc8a',\n",
       "   'metadata': {},\n",
       "   'outputs': [{'data': {'text/plain': [\"Index(['payload_objectid', 'completed_at', 'jobber_id', 'spaza_location',\\n\",\n",
       "       \"       'spaza_type', 'spaza_type_1', 'role', 'role_1', 'nationality',\\n\",\n",
       "       \"       'number_of_spazas', 'spaza_age', 'spaza_age_1', 'deposit_frequency',\\n\",\n",
       "       \"       'stock_frequency', 'stock_frequency_1', 'stock_orders_-_day',\\n\",\n",
       "       \"       'buying_group/stokvel', 'credit', 'store_items', 'shelving',\\n\",\n",
       "       \"       'shelving_1', 'store_fridges', 'till_points', 'till_points_1',\\n\",\n",
       "       \"       'supplier_support', 'supplier_support_1', 'weekly_ode_amount',\\n\",\n",
       "       \"       'monthly_sales', 'brands_in-store', '0_supplier_wholesalers',\\n\",\n",
       "       \"       '0_order_%_wholesalers', '1_supplier_wholesalers',\\n\",\n",
       "       \"       '1_order_%_wholesalers', '2_supplier_wholesalers',\\n\",\n",
       "       \"       '2_order_%_wholesalers', 'till_slip_submission_-_visit_1',\\n\",\n",
       "       \"       'till_slip_submission_-_visit_2'],\\n\",\n",
       "       \"      dtype='object')\"]},\n",
       "     'execution_count': 141,\n",
       "     'metadata': {},\n",
       "     'output_type': 'execute_result'}],\n",
       "   'source': ['# column names\\n', 'df.columns']},\n",
       "  {'cell_type': 'code',\n",
       "   'execution_count': 142,\n",
       "   'id': '40f26c58',\n",
       "   'metadata': {},\n",
       "   'outputs': [],\n",
       "   'source': ['# adding new columns\\n',\n",
       "    '# date completed\\n',\n",
       "    \"df['date_completed']=df['completed_at'].apply(lambda x: x[0:10])\\n\",\n",
       "    '\\n',\n",
       "    '#time completed\\n',\n",
       "    \"df['time_completed']=df['completed_at'].apply(lambda x: x[10:16])\\n\"]},\n",
       "  {'cell_type': 'code',\n",
       "   'execution_count': 143,\n",
       "   'id': '981c4ccc',\n",
       "   'metadata': {},\n",
       "   'outputs': [{'data': {'text/html': ['<div>\\n',\n",
       "       '<style scoped>\\n',\n",
       "       '    .dataframe tbody tr th:only-of-type {\\n',\n",
       "       '        vertical-align: middle;\\n',\n",
       "       '    }\\n',\n",
       "       '\\n',\n",
       "       '    .dataframe tbody tr th {\\n',\n",
       "       '        vertical-align: top;\\n',\n",
       "       '    }\\n',\n",
       "       '\\n',\n",
       "       '    .dataframe thead th {\\n',\n",
       "       '        text-align: right;\\n',\n",
       "       '    }\\n',\n",
       "       '</style>\\n',\n",
       "       '<table border=\"1\" class=\"dataframe\">\\n',\n",
       "       '  <thead>\\n',\n",
       "       '    <tr style=\"text-align: right;\">\\n',\n",
       "       '      <th></th>\\n',\n",
       "       '      <th>payload_objectid</th>\\n',\n",
       "       '      <th>completed_at</th>\\n',\n",
       "       '      <th>jobber_id</th>\\n',\n",
       "       '      <th>spaza_location</th>\\n',\n",
       "       '      <th>spaza_type</th>\\n',\n",
       "       '      <th>spaza_type_1</th>\\n',\n",
       "       '      <th>role</th>\\n',\n",
       "       '      <th>role_1</th>\\n',\n",
       "       '      <th>nationality</th>\\n',\n",
       "       '      <th>number_of_spazas</th>\\n',\n",
       "       '      <th>spaza_age</th>\\n',\n",
       "       '      <th>spaza_age_1</th>\\n',\n",
       "       '      <th>deposit_frequency</th>\\n',\n",
       "       '      <th>stock_frequency</th>\\n',\n",
       "       '      <th>stock_frequency_1</th>\\n',\n",
       "       '      <th>stock_orders_-_day</th>\\n',\n",
       "       '      <th>buying_group/stokvel</th>\\n',\n",
       "       '      <th>credit</th>\\n',\n",
       "       '      <th>store_items</th>\\n',\n",
       "       '      <th>shelving</th>\\n',\n",
       "       '      <th>shelving_1</th>\\n',\n",
       "       '      <th>store_fridges</th>\\n',\n",
       "       '      <th>till_points</th>\\n',\n",
       "       '      <th>till_points_1</th>\\n',\n",
       "       '      <th>supplier_support</th>\\n',\n",
       "       '      <th>supplier_support_1</th>\\n',\n",
       "       '      <th>weekly_ode_amount</th>\\n',\n",
       "       '      <th>monthly_sales</th>\\n',\n",
       "       '      <th>brands_in-store</th>\\n',\n",
       "       '      <th>0_supplier_wholesalers</th>\\n',\n",
       "       '      <th>0_order_%_wholesalers</th>\\n',\n",
       "       '      <th>1_supplier_wholesalers</th>\\n',\n",
       "       '      <th>1_order_%_wholesalers</th>\\n',\n",
       "       '      <th>2_supplier_wholesalers</th>\\n',\n",
       "       '      <th>2_order_%_wholesalers</th>\\n',\n",
       "       '      <th>till_slip_submission_-_visit_1</th>\\n',\n",
       "       '      <th>till_slip_submission_-_visit_2</th>\\n',\n",
       "       '      <th>date_completed</th>\\n',\n",
       "       '      <th>time_completed</th>\\n',\n",
       "       '    </tr>\\n',\n",
       "       '  </thead>\\n',\n",
       "       '  <tbody>\\n',\n",
       "       '    <tr>\\n',\n",
       "       '      <th>0</th>\\n',\n",
       "       '      <td>10825571</td>\\n',\n",
       "       '      <td>2021-11-05 09:00:43.023531+00:00</td>\\n',\n",
       "       '      <td>439383</td>\\n',\n",
       "       '      <td>CHEAPEST SUPERMARKET -29.6979692867153 31.0703980922699</td>\\n',\n",
       "       \"      <td>2: Gated (can't walk into the Spaza)</td>\\n\",\n",
       "       '      <td>2</td>\\n',\n",
       "       '      <td>1: Shop Keeper</td>\\n',\n",
       "       '      <td>1</td>\\n',\n",
       "       '      <td>1</td>\\n',\n",
       "       '      <td>1</td>\\n',\n",
       "       '      <td>3: 3 - 4 years</td>\\n',\n",
       "       '      <td>3</td>\\n',\n",
       "       '      <td>2</td>\\n',\n",
       "       '      <td>5: When I need stock</td>\\n',\n",
       "       '      <td>5</td>\\n',\n",
       "       '      <td>[\"8\"]</td>\\n',\n",
       "       '      <td>1</td>\\n',\n",
       "       '      <td>1</td>\\n',\n",
       "       '      <td>[\"2\", \"3\", \"4\", \"7\", \"8\", \"10\"]</td>\\n',\n",
       "       '      <td>1: All products have a shelf/ display area</td>\\n',\n",
       "       '      <td>1</td>\\n',\n",
       "       '      <td>2: 1-2 fridges</td>\\n',\n",
       "       '      <td>1: Cash only till point</td>\\n',\n",
       "       '      <td>1</td>\\n',\n",
       "       '      <td>1: Yes</td>\\n',\n",
       "       '      <td>1</td>\\n',\n",
       "       '      <td>30 000</td>\\n',\n",
       "       '      <td>60 000</td>\\n',\n",
       "       '      <td>[\"2\", \"4\", \"5\", \"6\", \"8\", \"9\", \"10\", \"11\", \"12\", \"13\", \"14\", \"18\", \"19\", \"20\", \"21\", \"24\", \"26\", \"33\", \"34\", \"35\", \"36\"]</td>\\n',\n",
       "       '      <td>GATE RITE</td>\\n',\n",
       "       '      <td>100</td>\\n',\n",
       "       '      <td>NaN</td>\\n',\n",
       "       '      <td>0</td>\\n',\n",
       "       '      <td>NaN</td>\\n',\n",
       "       '      <td>0</td>\\n',\n",
       "       '      <td>2: 1 slip</td>\\n',\n",
       "       '      <td>2: 1 slip</td>\\n',\n",
       "       '      <td>2021-11-05</td>\\n',\n",
       "       '      <td>09:00</td>\\n',\n",
       "       '    </tr>\\n',\n",
       "       '    <tr>\\n',\n",
       "       '      <th>1</th>\\n',\n",
       "       '      <td>10737966</td>\\n',\n",
       "       '      <td>2021-10-30 10:57:07.889638+00:00</td>\\n',\n",
       "       '      <td>439383</td>\\n',\n",
       "       '      <td>MULE TUCK SHOP -29.6538965880754 31.0678124427795</td>\\n',\n",
       "       \"      <td>2: Gated (can't walk into the Spaza)</td>\\n\",\n",
       "       '      <td>2</td>\\n',\n",
       "       '      <td>2: Shop Owner</td>\\n',\n",
       "       '      <td>2</td>\\n',\n",
       "       '      <td>1</td>\\n',\n",
       "       '      <td>1</td>\\n',\n",
       "       '      <td>2: 1 - 2 years</td>\\n',\n",
       "       '      <td>2</td>\\n',\n",
       "       '      <td>3</td>\\n',\n",
       "       '      <td>5: When I need stock</td>\\n',\n",
       "       '      <td>5</td>\\n',\n",
       "       '      <td>[\"8\"]</td>\\n',\n",
       "       '      <td>1</td>\\n',\n",
       "       '      <td>1</td>\\n',\n",
       "       '      <td>[\"2\", \"3\", \"4\", \"7\", \"8\"]</td>\\n',\n",
       "       '      <td>2: Some products are on the shelves, some products are on the floor</td>\\n',\n",
       "       '      <td>2</td>\\n',\n",
       "       '      <td>2: 1-2 fridges</td>\\n',\n",
       "       '      <td>1: Cash only till point</td>\\n',\n",
       "       '      <td>1</td>\\n',\n",
       "       '      <td>1: Yes</td>\\n',\n",
       "       '      <td>1</td>\\n',\n",
       "       '      <td>21 000</td>\\n',\n",
       "       '      <td>30 000</td>\\n',\n",
       "       '      <td>[\"2\", \"3\", \"4\", \"5\", \"6\", \"8\", \"10\", \"11\", \"12\", \"13\", \"20\", \"21\", \"24\", \"33\", \"34\", \"35\"]</td>\\n',\n",
       "       '      <td>GATERITE</td>\\n',\n",
       "       '      <td>100</td>\\n',\n",
       "       '      <td>NaN</td>\\n',\n",
       "       '      <td>0</td>\\n',\n",
       "       '      <td>NaN</td>\\n',\n",
       "       '      <td>0</td>\\n',\n",
       "       '      <td>2: 1 slip</td>\\n',\n",
       "       '      <td>2: 1 slip</td>\\n',\n",
       "       '      <td>2021-10-30</td>\\n',\n",
       "       '      <td>10:57</td>\\n',\n",
       "       '    </tr>\\n',\n",
       "       '  </tbody>\\n',\n",
       "       '</table>\\n',\n",
       "       '</div>'],\n",
       "      'text/plain': ['   payload_objectid                      completed_at  jobber_id  \\\\\\n',\n",
       "       '0          10825571  2021-11-05 09:00:43.023531+00:00     439383   \\n',\n",
       "       '1          10737966  2021-10-30 10:57:07.889638+00:00     439383   \\n',\n",
       "       '\\n',\n",
       "       '                                            spaza_location  \\\\\\n',\n",
       "       '0  CHEAPEST SUPERMARKET -29.6979692867153 31.0703980922699   \\n',\n",
       "       '1        MULE TUCK SHOP -29.6538965880754 31.0678124427795   \\n',\n",
       "       '\\n',\n",
       "       '                             spaza_type  spaza_type_1            role  role_1  \\\\\\n',\n",
       "       \"0  2: Gated (can't walk into the Spaza)             2  1: Shop Keeper       1   \\n\",\n",
       "       \"1  2: Gated (can't walk into the Spaza)             2   2: Shop Owner       2   \\n\",\n",
       "       '\\n',\n",
       "       '  nationality number_of_spazas       spaza_age  spaza_age_1 deposit_frequency  \\\\\\n',\n",
       "       '0           1                1  3: 3 - 4 years            3                 2   \\n',\n",
       "       '1           1                1  2: 1 - 2 years            2                 3   \\n',\n",
       "       '\\n',\n",
       "       '        stock_frequency  stock_frequency_1 stock_orders_-_day  \\\\\\n',\n",
       "       '0  5: When I need stock                  5              [\"8\"]   \\n',\n",
       "       '1  5: When I need stock                  5              [\"8\"]   \\n',\n",
       "       '\\n',\n",
       "       '   buying_group/stokvel  credit                      store_items  \\\\\\n',\n",
       "       '0                     1       1  [\"2\", \"3\", \"4\", \"7\", \"8\", \"10\"]   \\n',\n",
       "       '1                     1       1        [\"2\", \"3\", \"4\", \"7\", \"8\"]   \\n',\n",
       "       '\\n',\n",
       "       '                                                              shelving  \\\\\\n',\n",
       "       '0                           1: All products have a shelf/ display area   \\n',\n",
       "       '1  2: Some products are on the shelves, some products are on the floor   \\n',\n",
       "       '\\n',\n",
       "       '   shelving_1   store_fridges              till_points  till_points_1  \\\\\\n',\n",
       "       '0           1  2: 1-2 fridges  1: Cash only till point              1   \\n',\n",
       "       '1           2  2: 1-2 fridges  1: Cash only till point              1   \\n',\n",
       "       '\\n',\n",
       "       '  supplier_support  supplier_support_1 weekly_ode_amount monthly_sales  \\\\\\n',\n",
       "       '0           1: Yes                   1            30 000        60 000   \\n',\n",
       "       '1           1: Yes                   1            21 000        30 000   \\n',\n",
       "       '\\n',\n",
       "       '                                                                                                            brands_in-store  \\\\\\n',\n",
       "       '0  [\"2\", \"4\", \"5\", \"6\", \"8\", \"9\", \"10\", \"11\", \"12\", \"13\", \"14\", \"18\", \"19\", \"20\", \"21\", \"24\", \"26\", \"33\", \"34\", \"35\", \"36\"]   \\n',\n",
       "       '1                                [\"2\", \"3\", \"4\", \"5\", \"6\", \"8\", \"10\", \"11\", \"12\", \"13\", \"20\", \"21\", \"24\", \"33\", \"34\", \"35\"]   \\n',\n",
       "       '\\n',\n",
       "       '  0_supplier_wholesalers  0_order_%_wholesalers 1_supplier_wholesalers  \\\\\\n',\n",
       "       '0             GATE RITE                     100                    NaN   \\n',\n",
       "       '1               GATERITE                    100                    NaN   \\n',\n",
       "       '\\n',\n",
       "       '   1_order_%_wholesalers 2_supplier_wholesalers  2_order_%_wholesalers  \\\\\\n',\n",
       "       '0                      0                    NaN                      0   \\n',\n",
       "       '1                      0                    NaN                      0   \\n',\n",
       "       '\\n',\n",
       "       '  till_slip_submission_-_visit_1 till_slip_submission_-_visit_2  \\\\\\n',\n",
       "       '0                      2: 1 slip                      2: 1 slip   \\n',\n",
       "       '1                      2: 1 slip                      2: 1 slip   \\n',\n",
       "       '\\n',\n",
       "       '  date_completed time_completed  \\n',\n",
       "       '0     2021-11-05          09:00  \\n',\n",
       "       '1     2021-10-30          10:57  ']},\n",
       "     'execution_count': 143,\n",
       "     'metadata': {},\n",
       "     'output_type': 'execute_result'}],\n",
       "   'source': ['df.head(n=2)']},\n",
       "  {'cell_type': 'code',\n",
       "   'execution_count': 144,\n",
       "   'id': '4f50454e',\n",
       "   'metadata': {},\n",
       "   'outputs': [{'data': {'text/html': ['<div>\\n',\n",
       "       '<style scoped>\\n',\n",
       "       '    .dataframe tbody tr th:only-of-type {\\n',\n",
       "       '        vertical-align: middle;\\n',\n",
       "       '    }\\n',\n",
       "       '\\n',\n",
       "       '    .dataframe tbody tr th {\\n',\n",
       "       '        vertical-align: top;\\n',\n",
       "       '    }\\n',\n",
       "       '\\n',\n",
       "       '    .dataframe thead th {\\n',\n",
       "       '        text-align: right;\\n',\n",
       "       '    }\\n',\n",
       "       '</style>\\n',\n",
       "       '<table border=\"1\" class=\"dataframe\">\\n',\n",
       "       '  <thead>\\n',\n",
       "       '    <tr style=\"text-align: right;\">\\n',\n",
       "       '      <th></th>\\n',\n",
       "       '      <th>payload_objectid</th>\\n',\n",
       "       '      <th>completed_at</th>\\n',\n",
       "       '      <th>jobber_id</th>\\n',\n",
       "       '      <th>spaza_location</th>\\n',\n",
       "       '      <th>spaza_type</th>\\n',\n",
       "       '      <th>spaza_type_1</th>\\n',\n",
       "       '      <th>role</th>\\n',\n",
       "       '      <th>role_1</th>\\n',\n",
       "       '      <th>nationality</th>\\n',\n",
       "       '      <th>number_of_spazas</th>\\n',\n",
       "       '      <th>spaza_age</th>\\n',\n",
       "       '      <th>spaza_age_1</th>\\n',\n",
       "       '      <th>deposit_frequency</th>\\n',\n",
       "       '      <th>stock_frequency</th>\\n',\n",
       "       '      <th>stock_frequency_1</th>\\n',\n",
       "       '      <th>stock_orders_-_day</th>\\n',\n",
       "       '      <th>buying_group/stokvel</th>\\n',\n",
       "       '      <th>credit</th>\\n',\n",
       "       '      <th>store_items</th>\\n',\n",
       "       '      <th>shelving</th>\\n',\n",
       "       '      <th>shelving_1</th>\\n',\n",
       "       '      <th>store_fridges</th>\\n',\n",
       "       '      <th>till_points</th>\\n',\n",
       "       '      <th>till_points_1</th>\\n',\n",
       "       '      <th>supplier_support</th>\\n',\n",
       "       '      <th>supplier_support_1</th>\\n',\n",
       "       '      <th>weekly_ode_amount</th>\\n',\n",
       "       '      <th>monthly_sales</th>\\n',\n",
       "       '      <th>brands_in-store</th>\\n',\n",
       "       '      <th>0_supplier_wholesalers</th>\\n',\n",
       "       '      <th>0_order_%_wholesalers</th>\\n',\n",
       "       '      <th>1_supplier_wholesalers</th>\\n',\n",
       "       '      <th>1_order_%_wholesalers</th>\\n',\n",
       "       '      <th>2_supplier_wholesalers</th>\\n',\n",
       "       '      <th>2_order_%_wholesalers</th>\\n',\n",
       "       '      <th>till_slip_submission_-_visit_1</th>\\n',\n",
       "       '      <th>till_slip_submission_-_visit_2</th>\\n',\n",
       "       '      <th>date_completed</th>\\n',\n",
       "       '      <th>time_completed</th>\\n',\n",
       "       '    </tr>\\n',\n",
       "       '  </thead>\\n',\n",
       "       '  <tbody>\\n',\n",
       "       '    <tr>\\n',\n",
       "       '      <th>199</th>\\n',\n",
       "       '      <td>10986938</td>\\n',\n",
       "       '      <td>2021-11-17 17:56:17.439732+00:00</td>\\n',\n",
       "       '      <td>869137</td>\\n',\n",
       "       '      <td>THANDO AND YENZO GENERAL DEALER -29.6039317 30.3782972</td>\\n',\n",
       "       '      <td>1: Walk-in (can walk into Spaza)</td>\\n',\n",
       "       '      <td>1</td>\\n',\n",
       "       '      <td>2: Shop Owner</td>\\n',\n",
       "       '      <td>2</td>\\n',\n",
       "       '      <td>Currently closed</td>\\n',\n",
       "       '      <td>Currently closed</td>\\n',\n",
       "       '      <td>1: Less than a year</td>\\n',\n",
       "       '      <td>1</td>\\n',\n",
       "       '      <td>Tho store is currently closed</td>\\n',\n",
       "       '      <td>5: When I need stock</td>\\n',\n",
       "       '      <td>5</td>\\n',\n",
       "       '      <td>[\"8\"]</td>\\n',\n",
       "       '      <td>1</td>\\n',\n",
       "       '      <td>1</td>\\n',\n",
       "       '      <td>[\"1\"]</td>\\n',\n",
       "       '      <td>3: Products do not have a specific space (all over)</td>\\n',\n",
       "       '      <td>3</td>\\n',\n",
       "       '      <td>1: 0 Fridges</td>\\n',\n",
       "       '      <td>1: Cash only till point</td>\\n',\n",
       "       '      <td>1</td>\\n',\n",
       "       '      <td>2: No</td>\\n',\n",
       "       '      <td>2</td>\\n',\n",
       "       '      <td>2000</td>\\n',\n",
       "       '      <td>12000</td>\\n',\n",
       "       '      <td>[\"1\"]</td>\\n',\n",
       "       '      <td>Phoenix cash and carry</td>\\n',\n",
       "       '      <td>100</td>\\n',\n",
       "       '      <td>NaN</td>\\n',\n",
       "       '      <td>0</td>\\n',\n",
       "       '      <td>NaN</td>\\n',\n",
       "       '      <td>0</td>\\n',\n",
       "       '      <td>2: 1 slip</td>\\n',\n",
       "       '      <td>1: No slip to submit</td>\\n',\n",
       "       '      <td>2021-11-17</td>\\n',\n",
       "       '      <td>17:56</td>\\n',\n",
       "       '    </tr>\\n',\n",
       "       '  </tbody>\\n',\n",
       "       '</table>\\n',\n",
       "       '</div>'],\n",
       "      'text/plain': ['     payload_objectid                      completed_at  jobber_id  \\\\\\n',\n",
       "       '199          10986938  2021-11-17 17:56:17.439732+00:00     869137   \\n',\n",
       "       '\\n',\n",
       "       '                                             spaza_location  \\\\\\n',\n",
       "       '199  THANDO AND YENZO GENERAL DEALER -29.6039317 30.3782972   \\n',\n",
       "       '\\n',\n",
       "       '                           spaza_type  spaza_type_1           role  role_1  \\\\\\n',\n",
       "       '199  1: Walk-in (can walk into Spaza)             1  2: Shop Owner       2   \\n',\n",
       "       '\\n',\n",
       "       '          nationality  number_of_spazas            spaza_age  spaza_age_1  \\\\\\n',\n",
       "       '199  Currently closed  Currently closed  1: Less than a year            1   \\n',\n",
       "       '\\n',\n",
       "       '                 deposit_frequency       stock_frequency  stock_frequency_1  \\\\\\n',\n",
       "       '199  Tho store is currently closed  5: When I need stock                  5   \\n',\n",
       "       '\\n',\n",
       "       '    stock_orders_-_day  buying_group/stokvel  credit store_items  \\\\\\n',\n",
       "       '199              [\"8\"]                     1       1       [\"1\"]   \\n',\n",
       "       '\\n',\n",
       "       '                                                shelving  shelving_1  \\\\\\n',\n",
       "       '199  3: Products do not have a specific space (all over)           3   \\n',\n",
       "       '\\n',\n",
       "       '    store_fridges              till_points  till_points_1 supplier_support  \\\\\\n',\n",
       "       '199  1: 0 Fridges  1: Cash only till point              1            2: No   \\n',\n",
       "       '\\n',\n",
       "       '     supplier_support_1 weekly_ode_amount monthly_sales brands_in-store  \\\\\\n',\n",
       "       '199                   2              2000         12000           [\"1\"]   \\n',\n",
       "       '\\n',\n",
       "       '     0_supplier_wholesalers  0_order_%_wholesalers 1_supplier_wholesalers  \\\\\\n',\n",
       "       '199  Phoenix cash and carry                    100                    NaN   \\n',\n",
       "       '\\n',\n",
       "       '     1_order_%_wholesalers 2_supplier_wholesalers  2_order_%_wholesalers  \\\\\\n',\n",
       "       '199                      0                    NaN                      0   \\n',\n",
       "       '\\n',\n",
       "       '    till_slip_submission_-_visit_1 till_slip_submission_-_visit_2  \\\\\\n',\n",
       "       '199                      2: 1 slip           1: No slip to submit   \\n',\n",
       "       '\\n',\n",
       "       '    date_completed time_completed  \\n',\n",
       "       '199     2021-11-17          17:56  ']},\n",
       "     'execution_count': 144,\n",
       "     'metadata': {},\n",
       "     'output_type': 'execute_result'}],\n",
       "   'source': ['# printing the unique values of the deposit frequency column\\n',\n",
       "    '# the particular seems to be closed. therefore we remove the observation\\n',\n",
       "    \"df['deposit_frequency'].unique()\\n\",\n",
       "    \"df.loc[df['deposit_frequency'] == 'Tho store is currently closed']\"]},\n",
       "  {'cell_type': 'code',\n",
       "   'execution_count': 145,\n",
       "   'id': '93bbf87f',\n",
       "   'metadata': {},\n",
       "   'outputs': [],\n",
       "   'source': ['# removing the observation indicated above\\n',\n",
       "    \"df=df.drop(df.loc[df['deposit_frequency'] == 'Tho store is currently closed'].index, inplace=False)\"]},\n",
       "  {'cell_type': 'code',\n",
       "   'execution_count': 146,\n",
       "   'id': '7c1155b1',\n",
       "   'metadata': {},\n",
       "   'outputs': [],\n",
       "   'source': ['# extracting the latitude and longitude from the spaza location variable\\n',\n",
       "    \"df['lon']=df['spaza_location'].str.split().str[-1]\\n\",\n",
       "    \"df['lat']=df['spaza_location'].str.split().str[-2]\\n\",\n",
       "    '\\n',\n",
       "    '# extracting the spaza address from the spaza location variable\\n',\n",
       "    '# joining the physical address. leaving a space between each address detail\\n',\n",
       "    \"df['spaza_name']=df['spaza_location'].apply(lambda x: ' '.join(x.split()[:-2]))\"]},\n",
       "  {'cell_type': 'code',\n",
       "   'execution_count': 147,\n",
       "   'id': 'c971fb80',\n",
       "   'metadata': {},\n",
       "   'outputs': [],\n",
       "   'source': ['# removing the white space between the colon and the string of interest in each column\\n',\n",
       "    \"df['spaza_type']=df['spaza_type'].str.replace(': ', ':')\\n\",\n",
       "    '\\n',\n",
       "    '# extract the character between a colon (:) and the first instance of a white space (\\\\s)\\n',\n",
       "    \"df['spaza_type_descr']=df['spaza_type'].str.extract(':(.*?)\\\\s')\"]},\n",
       "  {'cell_type': 'code',\n",
       "   'execution_count': 148,\n",
       "   'id': 'cd80aecb',\n",
       "   'metadata': {},\n",
       "   'outputs': [{'data': {'text/html': ['<div>\\n',\n",
       "       '<style scoped>\\n',\n",
       "       '    .dataframe tbody tr th:only-of-type {\\n',\n",
       "       '        vertical-align: middle;\\n',\n",
       "       '    }\\n',\n",
       "       '\\n',\n",
       "       '    .dataframe tbody tr th {\\n',\n",
       "       '        vertical-align: top;\\n',\n",
       "       '    }\\n',\n",
       "       '\\n',\n",
       "       '    .dataframe thead th {\\n',\n",
       "       '        text-align: right;\\n',\n",
       "       '    }\\n',\n",
       "       '</style>\\n',\n",
       "       '<table border=\"1\" class=\"dataframe\">\\n',\n",
       "       '  <thead>\\n',\n",
       "       '    <tr style=\"text-align: right;\">\\n',\n",
       "       '      <th></th>\\n',\n",
       "       '      <th>payload_objectid</th>\\n',\n",
       "       '      <th>completed_at</th>\\n',\n",
       "       '      <th>jobber_id</th>\\n',\n",
       "       '      <th>spaza_location</th>\\n',\n",
       "       '      <th>spaza_type</th>\\n',\n",
       "       '      <th>spaza_type_1</th>\\n',\n",
       "       '      <th>role</th>\\n',\n",
       "       '      <th>role_1</th>\\n',\n",
       "       '      <th>nationality</th>\\n',\n",
       "       '      <th>number_of_spazas</th>\\n',\n",
       "       '      <th>spaza_age</th>\\n',\n",
       "       '      <th>spaza_age_1</th>\\n',\n",
       "       '      <th>deposit_frequency</th>\\n',\n",
       "       '      <th>stock_frequency</th>\\n',\n",
       "       '      <th>stock_frequency_1</th>\\n',\n",
       "       '      <th>stock_orders_-_day</th>\\n',\n",
       "       '      <th>buying_group/stokvel</th>\\n',\n",
       "       '      <th>credit</th>\\n',\n",
       "       '      <th>store_items</th>\\n',\n",
       "       '      <th>shelving</th>\\n',\n",
       "       '      <th>shelving_1</th>\\n',\n",
       "       '      <th>store_fridges</th>\\n',\n",
       "       '      <th>till_points</th>\\n',\n",
       "       '      <th>till_points_1</th>\\n',\n",
       "       '      <th>supplier_support</th>\\n',\n",
       "       '      <th>supplier_support_1</th>\\n',\n",
       "       '      <th>weekly_ode_amount</th>\\n',\n",
       "       '      <th>monthly_sales</th>\\n',\n",
       "       '      <th>brands_in-store</th>\\n',\n",
       "       '      <th>0_supplier_wholesalers</th>\\n',\n",
       "       '      <th>0_order_%_wholesalers</th>\\n',\n",
       "       '      <th>1_supplier_wholesalers</th>\\n',\n",
       "       '      <th>1_order_%_wholesalers</th>\\n',\n",
       "       '      <th>2_supplier_wholesalers</th>\\n',\n",
       "       '      <th>2_order_%_wholesalers</th>\\n',\n",
       "       '      <th>till_slip_submission_-_visit_1</th>\\n',\n",
       "       '      <th>till_slip_submission_-_visit_2</th>\\n',\n",
       "       '      <th>date_completed</th>\\n',\n",
       "       '      <th>time_completed</th>\\n',\n",
       "       '      <th>lon</th>\\n',\n",
       "       '      <th>lat</th>\\n',\n",
       "       '      <th>spaza_name</th>\\n',\n",
       "       '      <th>spaza_type_descr</th>\\n',\n",
       "       '      <th>role_descr</th>\\n',\n",
       "       '    </tr>\\n',\n",
       "       '  </thead>\\n',\n",
       "       '  <tbody>\\n',\n",
       "       '    <tr>\\n',\n",
       "       '      <th>0</th>\\n',\n",
       "       '      <td>10825571</td>\\n',\n",
       "       '      <td>2021-11-05 09:00:43.023531+00:00</td>\\n',\n",
       "       '      <td>439383</td>\\n',\n",
       "       '      <td>CHEAPEST SUPERMARKET -29.6979692867153 31.0703980922699</td>\\n',\n",
       "       \"      <td>2:Gated (can't walk into the Spaza)</td>\\n\",\n",
       "       '      <td>2</td>\\n',\n",
       "       '      <td>1: Shop Keeper</td>\\n',\n",
       "       '      <td>1</td>\\n',\n",
       "       '      <td>1</td>\\n',\n",
       "       '      <td>1</td>\\n',\n",
       "       '      <td>3: 3 - 4 years</td>\\n',\n",
       "       '      <td>3</td>\\n',\n",
       "       '      <td>2</td>\\n',\n",
       "       '      <td>5: When I need stock</td>\\n',\n",
       "       '      <td>5</td>\\n',\n",
       "       '      <td>[\"8\"]</td>\\n',\n",
       "       '      <td>1</td>\\n',\n",
       "       '      <td>1</td>\\n',\n",
       "       '      <td>[\"2\", \"3\", \"4\", \"7\", \"8\", \"10\"]</td>\\n',\n",
       "       '      <td>1: All products have a shelf/ display area</td>\\n',\n",
       "       '      <td>1</td>\\n',\n",
       "       '      <td>2: 1-2 fridges</td>\\n',\n",
       "       '      <td>1: Cash only till point</td>\\n',\n",
       "       '      <td>1</td>\\n',\n",
       "       '      <td>1: Yes</td>\\n',\n",
       "       '      <td>1</td>\\n',\n",
       "       '      <td>30 000</td>\\n',\n",
       "       '      <td>60 000</td>\\n',\n",
       "       '      <td>[\"2\", \"4\", \"5\", \"6\", \"8\", \"9\", \"10\", \"11\", \"12\", \"13\", \"14\", \"18\", \"19\", \"20\", \"21\", \"24\", \"26\", \"33\", \"34\", \"35\", \"36\"]</td>\\n',\n",
       "       '      <td>GATE RITE</td>\\n',\n",
       "       '      <td>100</td>\\n',\n",
       "       '      <td>NaN</td>\\n',\n",
       "       '      <td>0</td>\\n',\n",
       "       '      <td>NaN</td>\\n',\n",
       "       '      <td>0</td>\\n',\n",
       "       '      <td>2: 1 slip</td>\\n',\n",
       "       '      <td>2: 1 slip</td>\\n',\n",
       "       '      <td>2021-11-05</td>\\n',\n",
       "       '      <td>09:00</td>\\n',\n",
       "       '      <td>31.0703980922699</td>\\n',\n",
       "       '      <td>-29.6979692867153</td>\\n',\n",
       "       '      <td>CHEAPEST SUPERMARKET</td>\\n',\n",
       "       '      <td>Gated</td>\\n',\n",
       "       '      <td>Shop Keeper</td>\\n',\n",
       "       '    </tr>\\n',\n",
       "       '    <tr>\\n',\n",
       "       '      <th>1</th>\\n',\n",
       "       '      <td>10737966</td>\\n',\n",
       "       '      <td>2021-10-30 10:57:07.889638+00:00</td>\\n',\n",
       "       '      <td>439383</td>\\n',\n",
       "       '      <td>MULE TUCK SHOP -29.6538965880754 31.0678124427795</td>\\n',\n",
       "       \"      <td>2:Gated (can't walk into the Spaza)</td>\\n\",\n",
       "       '      <td>2</td>\\n',\n",
       "       '      <td>2: Shop Owner</td>\\n',\n",
       "       '      <td>2</td>\\n',\n",
       "       '      <td>1</td>\\n',\n",
       "       '      <td>1</td>\\n',\n",
       "       '      <td>2: 1 - 2 years</td>\\n',\n",
       "       '      <td>2</td>\\n',\n",
       "       '      <td>3</td>\\n',\n",
       "       '      <td>5: When I need stock</td>\\n',\n",
       "       '      <td>5</td>\\n',\n",
       "       '      <td>[\"8\"]</td>\\n',\n",
       "       '      <td>1</td>\\n',\n",
       "       '      <td>1</td>\\n',\n",
       "       '      <td>[\"2\", \"3\", \"4\", \"7\", \"8\"]</td>\\n',\n",
       "       '      <td>2: Some products are on the shelves, some products are on the floor</td>\\n',\n",
       "       '      <td>2</td>\\n',\n",
       "       '      <td>2: 1-2 fridges</td>\\n',\n",
       "       '      <td>1: Cash only till point</td>\\n',\n",
       "       '      <td>1</td>\\n',\n",
       "       '      <td>1: Yes</td>\\n',\n",
       "       '      <td>1</td>\\n',\n",
       "       '      <td>21 000</td>\\n',\n",
       "       '      <td>30 000</td>\\n',\n",
       "       '      <td>[\"2\", \"3\", \"4\", \"5\", \"6\", \"8\", \"10\", \"11\", \"12\", \"13\", \"20\", \"21\", \"24\", \"33\", \"34\", \"35\"]</td>\\n',\n",
       "       '      <td>GATERITE</td>\\n',\n",
       "       '      <td>100</td>\\n',\n",
       "       '      <td>NaN</td>\\n',\n",
       "       '      <td>0</td>\\n',\n",
       "       '      <td>NaN</td>\\n',\n",
       "       '      <td>0</td>\\n',\n",
       "       '      <td>2: 1 slip</td>\\n',\n",
       "       '      <td>2: 1 slip</td>\\n',\n",
       "       '      <td>2021-10-30</td>\\n',\n",
       "       '      <td>10:57</td>\\n',\n",
       "       '      <td>31.0678124427795</td>\\n',\n",
       "       '      <td>-29.6538965880754</td>\\n',\n",
       "       '      <td>MULE TUCK SHOP</td>\\n',\n",
       "       '      <td>Gated</td>\\n',\n",
       "       '      <td>Shop Owner</td>\\n',\n",
       "       '    </tr>\\n',\n",
       "       '  </tbody>\\n',\n",
       "       '</table>\\n',\n",
       "       '</div>'],\n",
       "      'text/plain': ['   payload_objectid                      completed_at  jobber_id  \\\\\\n',\n",
       "       '0          10825571  2021-11-05 09:00:43.023531+00:00     439383   \\n',\n",
       "       '1          10737966  2021-10-30 10:57:07.889638+00:00     439383   \\n',\n",
       "       '\\n',\n",
       "       '                                            spaza_location  \\\\\\n',\n",
       "       '0  CHEAPEST SUPERMARKET -29.6979692867153 31.0703980922699   \\n',\n",
       "       '1        MULE TUCK SHOP -29.6538965880754 31.0678124427795   \\n',\n",
       "       '\\n',\n",
       "       '                            spaza_type  spaza_type_1            role  role_1  \\\\\\n',\n",
       "       \"0  2:Gated (can't walk into the Spaza)             2  1: Shop Keeper       1   \\n\",\n",
       "       \"1  2:Gated (can't walk into the Spaza)             2   2: Shop Owner       2   \\n\",\n",
       "       '\\n',\n",
       "       '  nationality number_of_spazas       spaza_age  spaza_age_1 deposit_frequency  \\\\\\n',\n",
       "       '0           1                1  3: 3 - 4 years            3                 2   \\n',\n",
       "       '1           1                1  2: 1 - 2 years            2                 3   \\n',\n",
       "       '\\n',\n",
       "       '        stock_frequency  stock_frequency_1 stock_orders_-_day  \\\\\\n',\n",
       "       '0  5: When I need stock                  5              [\"8\"]   \\n',\n",
       "       '1  5: When I need stock                  5              [\"8\"]   \\n',\n",
       "       '\\n',\n",
       "       '   buying_group/stokvel  credit                      store_items  \\\\\\n',\n",
       "       '0                     1       1  [\"2\", \"3\", \"4\", \"7\", \"8\", \"10\"]   \\n',\n",
       "       '1                     1       1        [\"2\", \"3\", \"4\", \"7\", \"8\"]   \\n',\n",
       "       '\\n',\n",
       "       '                                                              shelving  \\\\\\n',\n",
       "       '0                           1: All products have a shelf/ display area   \\n',\n",
       "       '1  2: Some products are on the shelves, some products are on the floor   \\n',\n",
       "       '\\n',\n",
       "       '   shelving_1   store_fridges              till_points  till_points_1  \\\\\\n',\n",
       "       '0           1  2: 1-2 fridges  1: Cash only till point              1   \\n',\n",
       "       '1           2  2: 1-2 fridges  1: Cash only till point              1   \\n',\n",
       "       '\\n',\n",
       "       '  supplier_support  supplier_support_1 weekly_ode_amount monthly_sales  \\\\\\n',\n",
       "       '0           1: Yes                   1            30 000        60 000   \\n',\n",
       "       '1           1: Yes                   1            21 000        30 000   \\n',\n",
       "       '\\n',\n",
       "       '                                                                                                            brands_in-store  \\\\\\n',\n",
       "       '0  [\"2\", \"4\", \"5\", \"6\", \"8\", \"9\", \"10\", \"11\", \"12\", \"13\", \"14\", \"18\", \"19\", \"20\", \"21\", \"24\", \"26\", \"33\", \"34\", \"35\", \"36\"]   \\n',\n",
       "       '1                                [\"2\", \"3\", \"4\", \"5\", \"6\", \"8\", \"10\", \"11\", \"12\", \"13\", \"20\", \"21\", \"24\", \"33\", \"34\", \"35\"]   \\n',\n",
       "       '\\n',\n",
       "       '  0_supplier_wholesalers  0_order_%_wholesalers 1_supplier_wholesalers  \\\\\\n',\n",
       "       '0             GATE RITE                     100                    NaN   \\n',\n",
       "       '1               GATERITE                    100                    NaN   \\n',\n",
       "       '\\n',\n",
       "       '   1_order_%_wholesalers 2_supplier_wholesalers  2_order_%_wholesalers  \\\\\\n',\n",
       "       '0                      0                    NaN                      0   \\n',\n",
       "       '1                      0                    NaN                      0   \\n',\n",
       "       '\\n',\n",
       "       '  till_slip_submission_-_visit_1 till_slip_submission_-_visit_2  \\\\\\n',\n",
       "       '0                      2: 1 slip                      2: 1 slip   \\n',\n",
       "       '1                      2: 1 slip                      2: 1 slip   \\n',\n",
       "       '\\n',\n",
       "       '  date_completed time_completed               lon                lat  \\\\\\n',\n",
       "       '0     2021-11-05          09:00  31.0703980922699  -29.6979692867153   \\n',\n",
       "       '1     2021-10-30          10:57  31.0678124427795  -29.6538965880754   \\n',\n",
       "       '\\n',\n",
       "       '             spaza_name spaza_type_descr   role_descr  \\n',\n",
       "       '0  CHEAPEST SUPERMARKET            Gated  Shop Keeper  \\n',\n",
       "       '1        MULE TUCK SHOP            Gated   Shop Owner  ']},\n",
       "     'execution_count': 148,\n",
       "     'metadata': {},\n",
       "     'output_type': 'execute_result'}],\n",
       "   'source': ['# replacing any white space after the colon(:) with a colon (:)\\n',\n",
       "    \"df['role_descr']=df['role'].str.replace(': ', ':')\\n\",\n",
       "    '\\n',\n",
       "    '# extracting the last two characters in each row and the joining the two separate characters\\n',\n",
       "    \"df['role_descr']=df['role'].apply(lambda x: ' '.join(x.split()[1:]))\\n\",\n",
       "    '\\n',\n",
       "    'df.head(n = 2)']},\n",
       "  {'cell_type': 'code',\n",
       "   'execution_count': 149,\n",
       "   'id': '447d8f46',\n",
       "   'metadata': {},\n",
       "   'outputs': [{'data': {'text/plain': ['payload_objectid                   int64\\n',\n",
       "       'completed_at                      object\\n',\n",
       "       'jobber_id                          int64\\n',\n",
       "       'spaza_location                    object\\n',\n",
       "       'spaza_type                        object\\n',\n",
       "       'spaza_type_1                       int64\\n',\n",
       "       'role                              object\\n',\n",
       "       'role_1                             int64\\n',\n",
       "       'nationality                       object\\n',\n",
       "       'number_of_spazas                  object\\n',\n",
       "       'spaza_age                         object\\n',\n",
       "       'spaza_age_1                        int64\\n',\n",
       "       'deposit_frequency                 object\\n',\n",
       "       'stock_frequency                   object\\n',\n",
       "       'stock_frequency_1                  int64\\n',\n",
       "       'stock_orders_-_day                object\\n',\n",
       "       'buying_group/stokvel               int64\\n',\n",
       "       'credit                             int64\\n',\n",
       "       'store_items                       object\\n',\n",
       "       'shelving                          object\\n',\n",
       "       'shelving_1                         int64\\n',\n",
       "       'store_fridges                     object\\n',\n",
       "       'till_points                       object\\n',\n",
       "       'till_points_1                      int64\\n',\n",
       "       'supplier_support                  object\\n',\n",
       "       'supplier_support_1                 int64\\n',\n",
       "       'weekly_ode_amount                 object\\n',\n",
       "       'monthly_sales                     object\\n',\n",
       "       'brands_in-store                   object\\n',\n",
       "       '0_supplier_wholesalers            object\\n',\n",
       "       '0_order_%_wholesalers              int64\\n',\n",
       "       '1_supplier_wholesalers            object\\n',\n",
       "       '1_order_%_wholesalers              int64\\n',\n",
       "       '2_supplier_wholesalers            object\\n',\n",
       "       '2_order_%_wholesalers              int64\\n',\n",
       "       'till_slip_submission_-_visit_1    object\\n',\n",
       "       'till_slip_submission_-_visit_2    object\\n',\n",
       "       'date_completed                    object\\n',\n",
       "       'time_completed                    object\\n',\n",
       "       'lon                               object\\n',\n",
       "       'lat                               object\\n',\n",
       "       'spaza_name                        object\\n',\n",
       "       'spaza_type_descr                  object\\n',\n",
       "       'role_descr                        object\\n',\n",
       "       'dtype: object']},\n",
       "     'execution_count': 149,\n",
       "     'metadata': {},\n",
       "     'output_type': 'execute_result'}],\n",
       "   'source': ['# changing the variable type of nationality variable\\n',\n",
       "    \"df['nationality']=df['nationality'].astype(str)\\n\",\n",
       "    '\\n',\n",
       "    '# changing the variable type of deposit frequency variable\\n',\n",
       "    \"df['deposit_frequency'] = df['deposit_frequency'].astype(str)\\n\",\n",
       "    'df.dtypes']},\n",
       "  {'cell_type': 'code',\n",
       "   'execution_count': 150,\n",
       "   'id': '5071476e',\n",
       "   'metadata': {},\n",
       "   'outputs': [],\n",
       "   'source': ['# adding nationality description\\n',\n",
       "    \"df['nationality_descr']=df['nationality'].map({'1': 'Ethiopian', '2': 'Bangladeshi', '3': 'Somalian', '4': 'South_African', '5': 'Kenyan', '6': 'Indian', '7': 'Malawian', '9': 'Pakistani'})\"]},\n",
       "  {'cell_type': 'code',\n",
       "   'execution_count': 151,\n",
       "   'id': '275a1f72',\n",
       "   'metadata': {},\n",
       "   'outputs': [],\n",
       "   'source': ['# adding a white space between the colon(:) and the number of years\\n',\n",
       "    '# this helps us to extract the string that we are looking for\\n',\n",
       "    \"df['spaza_age']=df['spaza_age'].str.replace(':', ': ', regex=False)\\n\",\n",
       "    '\\n',\n",
       "    '# extracting the string of interest\\n',\n",
       "    \"df['spaza_age_descr']=df['spaza_age'].apply(lambda x: ' '.join(x.split()[1:]))\"]},\n",
       "  {'cell_type': 'code',\n",
       "   'execution_count': 152,\n",
       "   'id': 'bc547824',\n",
       "   'metadata': {},\n",
       "   'outputs': [],\n",
       "   'source': ['# adding a new column\\n',\n",
       "    '# this is a description of the deposit frequency\\n',\n",
       "    \"df['deposit_freq_descr']=df['deposit_frequency'].map({'1': 'Daily', '2': 'Weekly', '3': 'Monthly','WHEN THERE IS A NEED.': 'when there is a need', 'WHENEVER I NEED TO': 'when there is a need', 'ANYTIME THERE IS A NEED.': 'when there is a need'})\"]},\n",
       "  {'cell_type': 'code',\n",
       "   'execution_count': 153,\n",
       "   'id': '5d8fb5c4',\n",
       "   'metadata': {},\n",
       "   'outputs': [],\n",
       "   'source': ['# conveniently adding a white space after the colon (:)\\n',\n",
       "    \"df['stock_frequency']=df['stock_frequency'].str.replace(':', ': ')\\n\",\n",
       "    '\\n',\n",
       "    '# adding a new column by extracting the relevant string from stock_frequency\\n',\n",
       "    \"df['stock_freq_descr']=df['stock_frequency'].apply(lambda x: ' '.join(x.split()[1:]))\"]},\n",
       "  {'cell_type': 'code',\n",
       "   'execution_count': 154,\n",
       "   'id': '1883f67d',\n",
       "   'metadata': {},\n",
       "   'outputs': [],\n",
       "   'source': ['# adding a new column\\n',\n",
       "    'df[\\'stock_orders_day_descr\\']=df[\\'stock_orders_-_day\\'].replace([\\'\"1\"\\', \\'\"2\"\\', \\'\"3\"\\', \\'\"4\"\\', \\'\"5\"\\',\\'\"6\"\\', \\'\"7\"\\', \\'\"8\"\\'], [\\'Mon\\', \\'Tue\\', \\'Wed\\', \\'Thu\\' , \\'Fri\\', \\'Sat\\', \\'Sun\\', \\'when_needed\\'], regex=True)']},\n",
       "  {'cell_type': 'code',\n",
       "   'execution_count': 155,\n",
       "   'id': 'b7e4c217',\n",
       "   'metadata': {},\n",
       "   'outputs': [],\n",
       "   'source': ['# adding a new column\\n',\n",
       "    'df[\\'items_sold\\']=df[\\'store_items\\'].replace([\\'\"1\"\\', \\'\"2\"\\', \\'\"3\"\\', \\'\"4\"\\', \\'\"5\"\\', \\'\"6\"\\', \\'\"7\"\\', \\'\"8\"\\', \\'\"9\"\\', \\'\"10\"\\', \\'\"11\"\\', \\'\"12\"\\'], [\\'n_a\\', \\'Electricity\\', \\'freezer\\', \\'perishables\\', \\'cleaning_prods\\', \\'medicine\\', \\'feminine_hygiene_prods\\', \\'baby_prods\\', \\'general_items\\', \\'hair_products\\', \\'fast_food\\', \\'has_atm_inside\\'], regex=True)']},\n",
       "  {'cell_type': 'code',\n",
       "   'execution_count': 156,\n",
       "   'id': 'd7663d2d',\n",
       "   'metadata': {},\n",
       "   'outputs': [],\n",
       "   'source': ['# adding a white space for convenience\\n',\n",
       "    \"df['shelving']=df['shelving'].str.replace(':', ': ')\\n\",\n",
       "    '\\n',\n",
       "    '# adding a new column\\n',\n",
       "    \"df['shelving_descr']=df['shelving'].apply(lambda x: ' '.join(x.split()[1:]))\"]},\n",
       "  {'cell_type': 'code',\n",
       "   'execution_count': 157,\n",
       "   'id': 'cc5103f8',\n",
       "   'metadata': {},\n",
       "   'outputs': [],\n",
       "   'source': ['# adding a white space\\n',\n",
       "    \"df['store_fridges']=df['store_fridges'].str.replace(':', ': ')\\n\",\n",
       "    '\\n',\n",
       "    '# adding a new column\\n',\n",
       "    \"df['no_of_fridges']=df['store_fridges'].apply(lambda x: ' '.join(x.split()[1:-1]))\"]},\n",
       "  {'cell_type': 'code',\n",
       "   'execution_count': 158,\n",
       "   'id': '6c0d1bab',\n",
       "   'metadata': {},\n",
       "   'outputs': [],\n",
       "   'source': ['# adding a white space\\n',\n",
       "    \"df['till_points']=df['till_points'].str.replace(':', ': ')\\n\",\n",
       "    '\\n',\n",
       "    '# adding a new column\\n',\n",
       "    \"df['methods_of_pay']=df['till_points'].apply(lambda x: ' '.join(x.split()[1:]))\"]},\n",
       "  {'cell_type': 'code',\n",
       "   'execution_count': 159,\n",
       "   'id': 'ca9f54cd',\n",
       "   'metadata': {},\n",
       "   'outputs': [],\n",
       "   'source': [\"df['supplier_support']=df['supplier_support'].str.replace(':', ': ')\\n\",\n",
       "    '\\n',\n",
       "    \"df['supplier_support']=df['supplier_support'].apply(lambda x: ' '.join(x.split()[1:]))\"]},\n",
       "  {'cell_type': 'code',\n",
       "   'execution_count': 160,\n",
       "   'id': 'a844d2e7',\n",
       "   'metadata': {},\n",
       "   'outputs': [],\n",
       "   'source': ['# declaring variable type\\n',\n",
       "    \"df['weekly_ode_amount']=df['weekly_ode_amount'].astype(str)\\n\",\n",
       "    '\\n',\n",
       "    '# removing white spaces\\n',\n",
       "    \"df['weekly_ode_amount']=df['weekly_ode_amount'].apply(lambda x: x.replace(' ', ''))\"]},\n",
       "  {'cell_type': 'code',\n",
       "   'execution_count': 161,\n",
       "   'metadata': {},\n",
       "   'outputs': [],\n",
       "   'source': ['# declaring variable type\\n',\n",
       "    '# other modifications\\n',\n",
       "    \"df['monthly_sales']=df['monthly_sales'].astype(str)\\n\",\n",
       "    \"df['monthly_sales']=df['monthly_sales'].replace('15 000 - 25 000', '20 000')\\n\",\n",
       "    \"df['monthly_sales']=df['monthly_sales'].replace('CONFIDENTIAL', '0')\\n\",\n",
       "    \"df['monthly_sales']=df['monthly_sales'].apply(lambda x: x.replace(' ', ''))\"]},\n",
       "  {'cell_type': 'code',\n",
       "   'execution_count': 162,\n",
       "   'id': '56d3eccc',\n",
       "   'metadata': {},\n",
       "   'outputs': [],\n",
       "   'source': ['df[\\'brands_in-store_desc\\']=df[\\'brands_in-store\\'].replace([\\'\"1\"\\', \\'\"2\"\\', \\'\"3\"\\', \\'\"4\"\\', \\'\"5\"\\', \\'\"6\"\\', \\'\"7\"\\', \\'\"8\"\\', \\'\"9\"\\', \\'\"10\"\\', \\'\"11\"\\', \\'\"12\"\\', \\'\"13\"\\', \\'\"14\"\\', \\'\"15\"\\', \\'\"16\"\\', \\'\"17\"\\', \\'\"18\"\\', \\'\"19\"\\', \\'\"20\"\\', \\'\"21\"\\', \\'\"22\"\\', \\'\"23\"\\', \\'\"24\"\\', \\'\"25\"\\', \\'\"26\"\\', \\'\"27\"\\', \\'\"28\"\\', \\'\"29\"\\', \\'\"30\"\\', \\'\"31\"\\', \\'\"32\"\\', \\'\"33\"\\', \\'\"34\"\\', \\'\"35\"\\', \\'\"36\"\\'], [\\'n_a\\', \\'ace\\', \\'all_gold\\', \\'aunt_caroline\\', \"benny\\'s\", \\'black_cat\\', \\'brookes\\', \\'cross_&_blackwell\\', \\'dolly_varden\\', \\'doom\\', \\'energade\\', \"fatti\\'s_&_moni\\'s\", \\'fizzer\\', \\'golden_cloud\\', \"hugo\\'s\", \\'ingrams\\', \\'jeyes_fluid\\', \\'jungle_oats\\', \\'king_korn\\', \\'koo\\', \\'morvite\\', \\'mrs_balls\\', \\'oros\\', \\'purity\\', \\'sixo\\', \\'smoothies\\', \\'status_wild\\', \\'tastic_rice\\', \"wilson\\'s\", \\'wonderbar\\', \\'pepsi\\', \\'refresh\\', \\'reboost\\', \\'kotex\\', \\'baby_soft\\', \\'huggies\\'], regex=True)']},\n",
       "  {'cell_type': 'code',\n",
       "   'execution_count': 163,\n",
       "   'id': '1ffeb28a',\n",
       "   'metadata': {},\n",
       "   'outputs': [{'data': {'text/plain': ['False    222\\n',\n",
       "       'Name: count, dtype: int64']},\n",
       "     'execution_count': 163,\n",
       "     'metadata': {},\n",
       "     'output_type': 'execute_result'}],\n",
       "   'source': ['# checking for duplicates\\n',\n",
       "    'df.duplicated().value_counts()']},\n",
       "  {'cell_type': 'code',\n",
       "   'execution_count': 164,\n",
       "   'id': '7e7ff7d1',\n",
       "   'metadata': {},\n",
       "   'outputs': [],\n",
       "   'source': ['# dropping a list of columns\\n',\n",
       "    \"df=df.drop(['payload_objectid','completed_at','spaza_location', 'spaza_type','deposit_frequency', 'role', 'nationality', 'spaza_age', 'stock_frequency', 'buying_group/stokvel', 'credit', 'store_fridges', 'shelving', 'till_points', 'supplier_support', 'supplier_support_1'], axis=1, inplace=False)\"]},\n",
       "  {'cell_type': 'code',\n",
       "   'execution_count': 165,\n",
       "   'id': 'efa73c57',\n",
       "   'metadata': {},\n",
       "   'outputs': [],\n",
       "   'source': ['# renaming a list of columns\\n',\n",
       "    \"df=df.rename(columns={'spaza_type_1': 'spaza_type', 'role_1': 'role', 'spaza_age_1': 'spaza_age', 'stock_frequency_1': 'stock_repl_freq', 'stock_orders_-_day': 'stock_orders_day'}, inplace=False)\"]},\n",
       "  {'cell_type': 'code',\n",
       "   'execution_count': 166,\n",
       "   'id': 'a5251286',\n",
       "   'metadata': {},\n",
       "   'outputs': [{'data': {'text/html': ['<div>\\n',\n",
       "       '<style scoped>\\n',\n",
       "       '    .dataframe tbody tr th:only-of-type {\\n',\n",
       "       '        vertical-align: middle;\\n',\n",
       "       '    }\\n',\n",
       "       '\\n',\n",
       "       '    .dataframe tbody tr th {\\n',\n",
       "       '        vertical-align: top;\\n',\n",
       "       '    }\\n',\n",
       "       '\\n',\n",
       "       '    .dataframe thead th {\\n',\n",
       "       '        text-align: right;\\n',\n",
       "       '    }\\n',\n",
       "       '</style>\\n',\n",
       "       '<table border=\"1\" class=\"dataframe\">\\n',\n",
       "       '  <thead>\\n',\n",
       "       '    <tr style=\"text-align: right;\">\\n',\n",
       "       '      <th></th>\\n',\n",
       "       '      <th>jobber_id</th>\\n',\n",
       "       '      <th>spaza_type</th>\\n',\n",
       "       '      <th>role</th>\\n',\n",
       "       '      <th>number_of_spazas</th>\\n',\n",
       "       '      <th>spaza_age</th>\\n',\n",
       "       '      <th>stock_repl_freq</th>\\n',\n",
       "       '      <th>stock_orders_day</th>\\n',\n",
       "       '      <th>store_items</th>\\n',\n",
       "       '      <th>shelving_1</th>\\n',\n",
       "       '      <th>till_points_1</th>\\n',\n",
       "       '      <th>weekly_ode_amount</th>\\n',\n",
       "       '      <th>monthly_sales</th>\\n',\n",
       "       '      <th>brands_in-store</th>\\n',\n",
       "       '      <th>0_supplier_wholesalers</th>\\n',\n",
       "       '      <th>0_order_%_wholesalers</th>\\n',\n",
       "       '      <th>1_supplier_wholesalers</th>\\n',\n",
       "       '      <th>1_order_%_wholesalers</th>\\n',\n",
       "       '      <th>2_supplier_wholesalers</th>\\n',\n",
       "       '      <th>2_order_%_wholesalers</th>\\n',\n",
       "       '      <th>till_slip_submission_-_visit_1</th>\\n',\n",
       "       '      <th>till_slip_submission_-_visit_2</th>\\n',\n",
       "       '      <th>date_completed</th>\\n',\n",
       "       '      <th>time_completed</th>\\n',\n",
       "       '      <th>lon</th>\\n',\n",
       "       '      <th>lat</th>\\n',\n",
       "       '      <th>spaza_name</th>\\n',\n",
       "       '      <th>spaza_type_descr</th>\\n',\n",
       "       '      <th>role_descr</th>\\n',\n",
       "       '      <th>nationality_descr</th>\\n',\n",
       "       '      <th>spaza_age_descr</th>\\n',\n",
       "       '      <th>deposit_freq_descr</th>\\n',\n",
       "       '      <th>stock_freq_descr</th>\\n',\n",
       "       '      <th>stock_orders_day_descr</th>\\n',\n",
       "       '      <th>items_sold</th>\\n',\n",
       "       '      <th>shelving_descr</th>\\n',\n",
       "       '      <th>no_of_fridges</th>\\n',\n",
       "       '      <th>methods_of_pay</th>\\n',\n",
       "       '      <th>brands_in-store_desc</th>\\n',\n",
       "       '    </tr>\\n',\n",
       "       '  </thead>\\n',\n",
       "       '  <tbody>\\n',\n",
       "       '    <tr>\\n',\n",
       "       '      <th>0</th>\\n',\n",
       "       '      <td>439383</td>\\n',\n",
       "       '      <td>2</td>\\n',\n",
       "       '      <td>1</td>\\n',\n",
       "       '      <td>1</td>\\n',\n",
       "       '      <td>3</td>\\n',\n",
       "       '      <td>5</td>\\n',\n",
       "       '      <td>[\"8\"]</td>\\n',\n",
       "       '      <td>[\"2\", \"3\", \"4\", \"7\", \"8\", \"10\"]</td>\\n',\n",
       "       '      <td>1</td>\\n',\n",
       "       '      <td>1</td>\\n',\n",
       "       '      <td>30000</td>\\n',\n",
       "       '      <td>60000</td>\\n',\n",
       "       '      <td>[\"2\", \"4\", \"5\", \"6\", \"8\", \"9\", \"10\", \"11\", \"12\", \"13\", \"14\", \"18\", \"19\", \"20\", \"21\", \"24\", \"26\", \"33\", \"34\", \"35\", \"36\"]</td>\\n',\n",
       "       '      <td>GATE RITE</td>\\n',\n",
       "       '      <td>100</td>\\n',\n",
       "       '      <td>NaN</td>\\n',\n",
       "       '      <td>0</td>\\n',\n",
       "       '      <td>NaN</td>\\n',\n",
       "       '      <td>0</td>\\n',\n",
       "       '      <td>2: 1 slip</td>\\n',\n",
       "       '      <td>2: 1 slip</td>\\n',\n",
       "       '      <td>2021-11-05</td>\\n',\n",
       "       '      <td>09:00</td>\\n',\n",
       "       '      <td>31.0703980922699</td>\\n',\n",
       "       '      <td>-29.6979692867153</td>\\n',\n",
       "       '      <td>CHEAPEST SUPERMARKET</td>\\n',\n",
       "       '      <td>Gated</td>\\n',\n",
       "       '      <td>Shop Keeper</td>\\n',\n",
       "       '      <td>Ethiopian</td>\\n',\n",
       "       '      <td>3 - 4 years</td>\\n',\n",
       "       '      <td>Weekly</td>\\n',\n",
       "       '      <td>When I need stock</td>\\n',\n",
       "       '      <td>[when_needed]</td>\\n',\n",
       "       '      <td>[Electricity, freezer, perishables, feminine_hygiene_prods, baby_prods, hair_products]</td>\\n',\n",
       "       '      <td>All products have a shelf/ display area</td>\\n',\n",
       "       '      <td>1-2</td>\\n',\n",
       "       '      <td>Cash only till point</td>\\n',\n",
       "       \"      <td>[ace, aunt_caroline, benny's, black_cat, cross_&amp;_blackwell, dolly_varden, doom, energade, fatti's_&amp;_moni's, fizzer, golden_cloud, jungle_oats, king_korn, koo, morvite, purity, smoothies, reboost, kotex, baby_soft, huggies]</td>\\n\",\n",
       "       '    </tr>\\n',\n",
       "       '  </tbody>\\n',\n",
       "       '</table>\\n',\n",
       "       '</div>'],\n",
       "      'text/plain': ['   jobber_id  spaza_type  role number_of_spazas  spaza_age  stock_repl_freq  \\\\\\n',\n",
       "       '0     439383           2     1                1          3                5   \\n',\n",
       "       '\\n',\n",
       "       '  stock_orders_day                      store_items  shelving_1  \\\\\\n',\n",
       "       '0            [\"8\"]  [\"2\", \"3\", \"4\", \"7\", \"8\", \"10\"]           1   \\n',\n",
       "       '\\n',\n",
       "       '   till_points_1 weekly_ode_amount monthly_sales  \\\\\\n',\n",
       "       '0              1             30000         60000   \\n',\n",
       "       '\\n',\n",
       "       '                                                                                                            brands_in-store  \\\\\\n',\n",
       "       '0  [\"2\", \"4\", \"5\", \"6\", \"8\", \"9\", \"10\", \"11\", \"12\", \"13\", \"14\", \"18\", \"19\", \"20\", \"21\", \"24\", \"26\", \"33\", \"34\", \"35\", \"36\"]   \\n',\n",
       "       '\\n',\n",
       "       '  0_supplier_wholesalers  0_order_%_wholesalers 1_supplier_wholesalers  \\\\\\n',\n",
       "       '0             GATE RITE                     100                    NaN   \\n',\n",
       "       '\\n',\n",
       "       '   1_order_%_wholesalers 2_supplier_wholesalers  2_order_%_wholesalers  \\\\\\n',\n",
       "       '0                      0                    NaN                      0   \\n',\n",
       "       '\\n',\n",
       "       '  till_slip_submission_-_visit_1 till_slip_submission_-_visit_2  \\\\\\n',\n",
       "       '0                      2: 1 slip                      2: 1 slip   \\n',\n",
       "       '\\n',\n",
       "       '  date_completed time_completed               lon                lat  \\\\\\n',\n",
       "       '0     2021-11-05          09:00  31.0703980922699  -29.6979692867153   \\n',\n",
       "       '\\n',\n",
       "       '             spaza_name spaza_type_descr   role_descr nationality_descr  \\\\\\n',\n",
       "       '0  CHEAPEST SUPERMARKET            Gated  Shop Keeper         Ethiopian   \\n',\n",
       "       '\\n',\n",
       "       '  spaza_age_descr deposit_freq_descr   stock_freq_descr  \\\\\\n',\n",
       "       '0     3 - 4 years             Weekly  When I need stock   \\n',\n",
       "       '\\n',\n",
       "       '  stock_orders_day_descr  \\\\\\n',\n",
       "       '0          [when_needed]   \\n',\n",
       "       '\\n',\n",
       "       '                                                                               items_sold  \\\\\\n',\n",
       "       '0  [Electricity, freezer, perishables, feminine_hygiene_prods, baby_prods, hair_products]   \\n',\n",
       "       '\\n',\n",
       "       '                            shelving_descr no_of_fridges  \\\\\\n',\n",
       "       '0  All products have a shelf/ display area           1-2   \\n',\n",
       "       '\\n',\n",
       "       '         methods_of_pay  \\\\\\n',\n",
       "       '0  Cash only till point   \\n',\n",
       "       '\\n',\n",
       "       '                                                                                                                                                                                                             brands_in-store_desc  \\n',\n",
       "       \"0  [ace, aunt_caroline, benny's, black_cat, cross_&_blackwell, dolly_varden, doom, energade, fatti's_&_moni's, fizzer, golden_cloud, jungle_oats, king_korn, koo, morvite, purity, smoothies, reboost, kotex, baby_soft, huggies]  \"]},\n",
       "     'execution_count': 166,\n",
       "     'metadata': {},\n",
       "     'output_type': 'execute_result'}],\n",
       "   'source': ['df.head(n = 1)']},\n",
       "  {'cell_type': 'code',\n",
       "   'execution_count': 167,\n",
       "   'id': 'a121ea73',\n",
       "   'metadata': {},\n",
       "   'outputs': [],\n",
       "   'source': ['# data types\\n',\n",
       "    'df.head(n = 2)\\n',\n",
       "    \"df['jobber_id']=df['jobber_id'].astype(int)\\n\",\n",
       "    \"df['spaza_type']=df['spaza_type'].astype('category')\\n\",\n",
       "    \"df['role']=df['role'].astype('category')\\n\",\n",
       "    \"df['number_of_spazas']=df['number_of_spazas'].astype(int)\\n\",\n",
       "    \"df['spaza_age']=df['spaza_age'].astype(int)\\n\",\n",
       "    \"df['stock_repl_freq']=df['stock_repl_freq'].astype(int)\\n\",\n",
       "    \"df['stock_orders_day']=df['stock_orders_day'].astype(str)\\n\",\n",
       "    \"df['date_completed']=pd.to_datetime(df['date_completed'], format='%Y-%m-%d')\\n\",\n",
       "    \"#df['time_completed']=pd.to_datetime(df['time_completed'], format='%I:%M').dt.time\\n\",\n",
       "    \"# df['lon']=df['lon']\\n\",\n",
       "    \"# df['lat']=df['lat']\\n\",\n",
       "    \"# df['spaza_name']=df['spaza_name']\\n\",\n",
       "    \"# df['spaza_type_descr']=df['spaza_type_descr']\\n\",\n",
       "    \"# df['role_descr']=df['role_descr']\\n\",\n",
       "    \"# df['deposit_freq']=df['deposit_freq']\\n\",\n",
       "    \"# df['nationality_descr']=df['nationality_descr']\\n\",\n",
       "    \"# df['spaza_age_descr']=df['spaza_age_descr']\\n\",\n",
       "    \"# df['deposit_freq_descr']=df['deposit_freq_descr']\\n\",\n",
       "    \"# df['stock_freq']=df['stock_freq']\\n\"]},\n",
       "  {'cell_type': 'code',\n",
       "   'execution_count': 168,\n",
       "   'id': 'c8864c1c',\n",
       "   'metadata': {},\n",
       "   'outputs': [],\n",
       "   'source': ['import plotly.express as px']},\n",
       "  {'cell_type': 'code',\n",
       "   'execution_count': 172,\n",
       "   'id': '922eba1b',\n",
       "   'metadata': {},\n",
       "   'outputs': [{'data': {'application/vnd.plotly.v1+json': {'config': {'plotlyServerURL': 'https://plot.ly'},\n",
       "       'data': [{'geo': 'geo',\n",
       "         'hovertemplate': 'spaza_name=CHEAPEST SUPERMARKET<br>lat=%{lat}<br>lon=%{lon}<extra></extra>',\n",
       "         'lat': ['-29.6979692867153'],\n",
       "         'legendgroup': 'CHEAPEST SUPERMARKET',\n",
       "         'lon': ['31.0703980922699'],\n",
       "         'marker': {'color': '#636efa', 'symbol': 'circle'},\n",
       "         'mode': 'markers',\n",
       "         'name': 'CHEAPEST SUPERMARKET',\n",
       "         'showlegend': True,\n",
       "         'type': 'scattergeo'},\n",
       "        {'geo': 'geo',\n",
       "         'hovertemplate': 'spaza_name=MULE TUCK SHOP<br>lat=%{lat}<br>lon=%{lon}<extra></extra>',\n",
       "         'lat': ['-29.6538965880754'],\n",
       "         'legendgroup': 'MULE TUCK SHOP',\n",
       "         'lon': ['31.0678124427795'],\n",
       "         'marker': {'color': '#EF553B', 'symbol': 'circle'},\n",
       "         'mode': 'markers',\n",
       "         'name': 'MULE TUCK SHOP',\n",
       "         'showlegend': True,\n",
       "         'type': 'scattergeo'},\n",
       "        {'geo': 'geo',\n",
       "         'hovertemplate': 'spaza_name=BUS RANK TAKEAWAY* CAFE & GENERAL DEALER<br>lat=%{lat}<br>lon=%{lon}<extra></extra>',\n",
       "         'lat': ['-29.6415885787857'],\n",
       "         'legendgroup': 'BUS RANK TAKEAWAY* CAFE & GENERAL DEALER',\n",
       "         'lon': ['31.0454481840134'],\n",
       "         'marker': {'color': '#00cc96', 'symbol': 'circle'},\n",
       "         'mode': 'markers',\n",
       "         'name': 'BUS RANK TAKEAWAY* CAFE & GENERAL DEALER',\n",
       "         'showlegend': True,\n",
       "         'type': 'scattergeo'},\n",
       "        {'geo': 'geo',\n",
       "         'hovertemplate': 'spaza_name=HAWKERS PARADISE<br>lat=%{lat}<br>lon=%{lon}<extra></extra>',\n",
       "         'lat': ['-29.6929738604019'],\n",
       "         'legendgroup': 'HAWKERS PARADISE',\n",
       "         'lon': ['31.0723292827606'],\n",
       "         'marker': {'color': '#ab63fa', 'symbol': 'circle'},\n",
       "         'mode': 'markers',\n",
       "         'name': 'HAWKERS PARADISE',\n",
       "         'showlegend': True,\n",
       "         'type': 'scattergeo'},\n",
       "        {'geo': 'geo',\n",
       "         'hovertemplate': 'spaza_name=NGENA BONA SUPERMARKET<br>lat=%{lat}<br>lon=%{lon}<extra></extra>',\n",
       "         'lat': ['-29.6428380968415'],\n",
       "         'legendgroup': 'NGENA BONA SUPERMARKET',\n",
       "         'lon': ['31.0456144809723'],\n",
       "         'marker': {'color': '#FFA15A', 'symbol': 'circle'},\n",
       "         'mode': 'markers',\n",
       "         'name': 'NGENA BONA SUPERMARKET',\n",
       "         'showlegend': True,\n",
       "         'type': 'scattergeo'},\n",
       "        {'geo': 'geo',\n",
       "         'hovertemplate': 'spaza_name=THENGARITE SUPERMARKET<br>lat=%{lat}<br>lon=%{lon}<extra></extra>',\n",
       "         'lat': ['-29.6418884179213'],\n",
       "         'legendgroup': 'THENGARITE SUPERMARKET',\n",
       "         'lon': ['31.0458357611456'],\n",
       "         'marker': {'color': '#19d3f3', 'symbol': 'circle'},\n",
       "         'mode': 'markers',\n",
       "         'name': 'THENGARITE SUPERMARKET',\n",
       "         'showlegend': True,\n",
       "         'type': 'scattergeo'},\n",
       "        {'geo': 'geo',\n",
       "         'hovertemplate': 'spaza_name=SOLANGA TUCK SHOP<br>lat=%{lat}<br>lon=%{lon}<extra></extra>',\n",
       "         'lat': ['-29.8606318930305'],\n",
       "         'legendgroup': 'SOLANGA TUCK SHOP',\n",
       "         'lon': ['30.7680594921112'],\n",
       "         'marker': {'color': '#FF6692', 'symbol': 'circle'},\n",
       "         'mode': 'markers',\n",
       "         'name': 'SOLANGA TUCK SHOP',\n",
       "         'showlegend': True,\n",
       "         'type': 'scattergeo'},\n",
       "        {'geo': 'geo',\n",
       "         'hovertemplate': 'spaza_name=MKL TUCKSHOP<br>lat=%{lat}<br>lon=%{lon}<extra></extra>',\n",
       "         'lat': ['-29.8589384659127'],\n",
       "         'legendgroup': 'MKL TUCKSHOP',\n",
       "         'lon': ['30.7626628875732'],\n",
       "         'marker': {'color': '#B6E880', 'symbol': 'circle'},\n",
       "         'mode': 'markers',\n",
       "         'name': 'MKL TUCKSHOP',\n",
       "         'showlegend': True,\n",
       "         'type': 'scattergeo'},\n",
       "        {'geo': 'geo',\n",
       "         'hovertemplate': 'spaza_name=VUKUZAKHE TUCK SHOP<br>lat=%{lat}<br>lon=%{lon}<extra></extra>',\n",
       "         'lat': ['-29.8648188147452'],\n",
       "         'legendgroup': 'VUKUZAKHE TUCK SHOP',\n",
       "         'lon': ['30.7663536071777'],\n",
       "         'marker': {'color': '#FF97FF', 'symbol': 'circle'},\n",
       "         'mode': 'markers',\n",
       "         'name': 'VUKUZAKHE TUCK SHOP',\n",
       "         'showlegend': True,\n",
       "         'type': 'scattergeo'},\n",
       "        {'geo': 'geo',\n",
       "         'hovertemplate': \"spaza_name=BONGI'S TUCK SHOP<br>lat=%{lat}<br>lon=%{lon}<extra></extra>\",\n",
       "         'lat': ['-29.8686334126924'],\n",
       "         'legendgroup': \"BONGI'S TUCK SHOP\",\n",
       "         'lon': ['30.7622122764587'],\n",
       "         'marker': {'color': '#FECB52', 'symbol': 'circle'},\n",
       "         'mode': 'markers',\n",
       "         'name': \"BONGI'S TUCK SHOP\",\n",
       "         'showlegend': True,\n",
       "         'type': 'scattergeo'},\n",
       "        {'geo': 'geo',\n",
       "         'hovertemplate': 'spaza_name=QALAKAHLE TUCKSHOP<br>lat=%{lat}<br>lon=%{lon}<extra></extra>',\n",
       "         'lat': ['-29.858510452312'],\n",
       "         'legendgroup': 'QALAKAHLE TUCKSHOP',\n",
       "         'lon': ['30.7636070251465'],\n",
       "         'marker': {'color': '#636efa', 'symbol': 'circle'},\n",
       "         'mode': 'markers',\n",
       "         'name': 'QALAKAHLE TUCKSHOP',\n",
       "         'showlegend': True,\n",
       "         'type': 'scattergeo'},\n",
       "        {'geo': 'geo',\n",
       "         'hovertemplate': 'spaza_name=UNGIBIYELE FAST FOOD AND SPAZA SHOP<br>lat=%{lat}<br>lon=%{lon}<extra></extra>',\n",
       "         'lat': ['-29.8613762475077'],\n",
       "         'legendgroup': 'UNGIBIYELE FAST FOOD AND SPAZA SHOP',\n",
       "         'lon': ['30.7634353637695'],\n",
       "         'marker': {'color': '#EF553B', 'symbol': 'circle'},\n",
       "         'mode': 'markers',\n",
       "         'name': 'UNGIBIYELE FAST FOOD AND SPAZA SHOP',\n",
       "         'showlegend': True,\n",
       "         'type': 'scattergeo'},\n",
       "        {'geo': 'geo',\n",
       "         'hovertemplate': 'spaza_name=PETERS SUPERMARKET<br>lat=%{lat}<br>lon=%{lon}<extra></extra>',\n",
       "         'lat': ['-29.6055883437601'],\n",
       "         'legendgroup': 'PETERS SUPERMARKET',\n",
       "         'lon': ['30.3742361068726'],\n",
       "         'marker': {'color': '#00cc96', 'symbol': 'circle'},\n",
       "         'mode': 'markers',\n",
       "         'name': 'PETERS SUPERMARKET',\n",
       "         'showlegend': True,\n",
       "         'type': 'scattergeo'},\n",
       "        {'geo': 'geo',\n",
       "         'hovertemplate': 'spaza_name=FAMILY SUPERMARKET<br>lat=%{lat}<br>lon=%{lon}<extra></extra>',\n",
       "         'lat': ['-29.8518480909479',\n",
       "          '-29.8616135093305',\n",
       "          '-29.8515131001443'],\n",
       "         'legendgroup': 'FAMILY SUPERMARKET',\n",
       "         'lon': ['30.7706022262573', '31.0154128074646', '31.0160350799561'],\n",
       "         'marker': {'color': '#ab63fa', 'symbol': 'circle'},\n",
       "         'mode': 'markers',\n",
       "         'name': 'FAMILY SUPERMARKET',\n",
       "         'showlegend': True,\n",
       "         'type': 'scattergeo'},\n",
       "        {'geo': 'geo',\n",
       "         'hovertemplate': 'spaza_name=FREEDOM DISCOUNT SUPERMARKET<br>lat=%{lat}<br>lon=%{lon}<extra></extra>',\n",
       "         'lat': ['-29.6450946498607'],\n",
       "         'legendgroup': 'FREEDOM DISCOUNT SUPERMARKET',\n",
       "         'lon': ['30.3291749954224'],\n",
       "         'marker': {'color': '#FFA15A', 'symbol': 'circle'},\n",
       "         'mode': 'markers',\n",
       "         'name': 'FREEDOM DISCOUNT SUPERMARKET',\n",
       "         'showlegend': True,\n",
       "         'type': 'scattergeo'},\n",
       "        {'geo': 'geo',\n",
       "         'hovertemplate': 'spaza_name=MM SUPERMARKET<br>lat=%{lat}<br>lon=%{lon}<extra></extra>',\n",
       "         'lat': ['-29.5958046'],\n",
       "         'legendgroup': 'MM SUPERMARKET',\n",
       "         'lon': ['30.3837468'],\n",
       "         'marker': {'color': '#19d3f3', 'symbol': 'circle'},\n",
       "         'mode': 'markers',\n",
       "         'name': 'MM SUPERMARKET',\n",
       "         'showlegend': True,\n",
       "         'type': 'scattergeo'},\n",
       "        {'geo': 'geo',\n",
       "         'hovertemplate': 'spaza_name=JUST RITE SUPER STORE<br>lat=%{lat}<br>lon=%{lon}<extra></extra>',\n",
       "         'lat': ['-29.6417331133838'],\n",
       "         'legendgroup': 'JUST RITE SUPER STORE',\n",
       "         'lon': ['31.0476100444794'],\n",
       "         'marker': {'color': '#FF6692', 'symbol': 'circle'},\n",
       "         'mode': 'markers',\n",
       "         'name': 'JUST RITE SUPER STORE',\n",
       "         'showlegend': True,\n",
       "         'type': 'scattergeo'},\n",
       "        {'geo': 'geo',\n",
       "         'hovertemplate': 'spaza_name=GURIMAMO WHOLESALE & RETAIL<br>lat=%{lat}<br>lon=%{lon}<extra></extra>',\n",
       "         'lat': ['-29.6439617173735'],\n",
       "         'legendgroup': 'GURIMAMO WHOLESALE & RETAIL',\n",
       "         'lon': ['31.047540307045'],\n",
       "         'marker': {'color': '#B6E880', 'symbol': 'circle'},\n",
       "         'mode': 'markers',\n",
       "         'name': 'GURIMAMO WHOLESALE & RETAIL',\n",
       "         'showlegend': True,\n",
       "         'type': 'scattergeo'},\n",
       "        {'geo': 'geo',\n",
       "         'hovertemplate': 'spaza_name=AFRICA WHOLESALERS<br>lat=%{lat}<br>lon=%{lon}<extra></extra>',\n",
       "         'lat': ['-29.6445631522568'],\n",
       "         'legendgroup': 'AFRICA WHOLESALERS',\n",
       "         'lon': ['31.0459524393082'],\n",
       "         'marker': {'color': '#FF97FF', 'symbol': 'circle'},\n",
       "         'mode': 'markers',\n",
       "         'name': 'AFRICA WHOLESALERS',\n",
       "         'showlegend': True,\n",
       "         'type': 'scattergeo'},\n",
       "        {'geo': 'geo',\n",
       "         'hovertemplate': 'spaza_name=PRETTY\\'S SWEET \"HOME OF SWEET\"<br>lat=%{lat}<br>lon=%{lon}<extra></extra>',\n",
       "         'lat': ['-29.8594362620308'],\n",
       "         'legendgroup': 'PRETTY\\'S SWEET \"HOME OF SWEET\"',\n",
       "         'lon': ['31.0219573974609'],\n",
       "         'marker': {'color': '#FECB52', 'symbol': 'circle'},\n",
       "         'mode': 'markers',\n",
       "         'name': 'PRETTY\\'S SWEET \"HOME OF SWEET\"',\n",
       "         'showlegend': True,\n",
       "         'type': 'scattergeo'},\n",
       "        {'geo': 'geo',\n",
       "         'hovertemplate': 'spaza_name=JIMA 2 SUPERMAKET<br>lat=%{lat}<br>lon=%{lon}<extra></extra>',\n",
       "         'lat': ['-29.6050286531091'],\n",
       "         'legendgroup': 'JIMA 2 SUPERMAKET',\n",
       "         'lon': ['30.3747510910034'],\n",
       "         'marker': {'color': '#636efa', 'symbol': 'circle'},\n",
       "         'mode': 'markers',\n",
       "         'name': 'JIMA 2 SUPERMAKET',\n",
       "         'showlegend': True,\n",
       "         'type': 'scattergeo'},\n",
       "        {'geo': 'geo',\n",
       "         'hovertemplate': 'spaza_name=MARAZA<br>lat=%{lat}<br>lon=%{lon}<extra></extra>',\n",
       "         'lat': ['-29.956612402315'],\n",
       "         'legendgroup': 'MARAZA',\n",
       "         'lon': ['30.8855402469635'],\n",
       "         'marker': {'color': '#EF553B', 'symbol': 'circle'},\n",
       "         'mode': 'markers',\n",
       "         'name': 'MARAZA',\n",
       "         'showlegend': True,\n",
       "         'type': 'scattergeo'},\n",
       "        {'geo': 'geo',\n",
       "         'hovertemplate': \"spaza_name=MIYA'S GENERAL DEALER<br>lat=%{lat}<br>lon=%{lon}<extra></extra>\",\n",
       "         'lat': ['-29.741966765415'],\n",
       "         'legendgroup': \"MIYA'S GENERAL DEALER\",\n",
       "         'lon': ['30.9177803993225'],\n",
       "         'marker': {'color': '#00cc96', 'symbol': 'circle'},\n",
       "         'mode': 'markers',\n",
       "         'name': \"MIYA'S GENERAL DEALER\",\n",
       "         'showlegend': True,\n",
       "         'type': 'scattergeo'},\n",
       "        {'geo': 'geo',\n",
       "         'hovertemplate': 'spaza_name=BROTHERS SUPERMARKET<br>lat=%{lat}<br>lon=%{lon}<extra></extra>',\n",
       "         'lat': ['-29.8506802709146'],\n",
       "         'legendgroup': 'BROTHERS SUPERMARKET',\n",
       "         'lon': ['31.0178536176682'],\n",
       "         'marker': {'color': '#ab63fa', 'symbol': 'circle'},\n",
       "         'mode': 'markers',\n",
       "         'name': 'BROTHERS SUPERMARKET',\n",
       "         'showlegend': True,\n",
       "         'type': 'scattergeo'},\n",
       "        {'geo': 'geo',\n",
       "         'hovertemplate': \"spaza_name=BOB'S GROCER<br>lat=%{lat}<br>lon=%{lon}<extra></extra>\",\n",
       "         'lat': ['-29.6446890335218'],\n",
       "         'legendgroup': \"BOB'S GROCER\",\n",
       "         'lon': ['31.0458076000214'],\n",
       "         'marker': {'color': '#FFA15A', 'symbol': 'circle'},\n",
       "         'mode': 'markers',\n",
       "         'name': \"BOB'S GROCER\",\n",
       "         'showlegend': True,\n",
       "         'type': 'scattergeo'},\n",
       "        {'geo': 'geo',\n",
       "         'hovertemplate': 'spaza_name=ZWELISHA SUPERMARKET<br>lat=%{lat}<br>lon=%{lon}<extra></extra>',\n",
       "         'lat': ['-29.6677086710743'],\n",
       "         'legendgroup': 'ZWELISHA SUPERMARKET',\n",
       "         'lon': ['31.0109120607376'],\n",
       "         'marker': {'color': '#19d3f3', 'symbol': 'circle'},\n",
       "         'mode': 'markers',\n",
       "         'name': 'ZWELISHA SUPERMARKET',\n",
       "         'showlegend': True,\n",
       "         'type': 'scattergeo'},\n",
       "        {'geo': 'geo',\n",
       "         'hovertemplate': 'spaza_name=FENI SUPERATTE<br>lat=%{lat}<br>lon=%{lon}<extra></extra>',\n",
       "         'lat': ['-29.8581010462808'],\n",
       "         'legendgroup': 'FENI SUPERATTE',\n",
       "         'lon': ['31.0214477777481'],\n",
       "         'marker': {'color': '#FF6692', 'symbol': 'circle'},\n",
       "         'mode': 'markers',\n",
       "         'name': 'FENI SUPERATTE',\n",
       "         'showlegend': True,\n",
       "         'type': 'scattergeo'},\n",
       "        {'geo': 'geo',\n",
       "         'hovertemplate': 'spaza_name=NKOMBANE SUPERMARKET<br>lat=%{lat}<br>lon=%{lon}<extra></extra>',\n",
       "         'lat': ['-29.8638697945532'],\n",
       "         'legendgroup': 'NKOMBANE SUPERMARKET',\n",
       "         'lon': ['30.7642614841461'],\n",
       "         'marker': {'color': '#B6E880', 'symbol': 'circle'},\n",
       "         'mode': 'markers',\n",
       "         'name': 'NKOMBANE SUPERMARKET',\n",
       "         'showlegend': True,\n",
       "         'type': 'scattergeo'},\n",
       "        {'geo': 'geo',\n",
       "         'hovertemplate': 'spaza_name=PENEAL SUPER MARKET<br>lat=%{lat}<br>lon=%{lon}<extra></extra>',\n",
       "         'lat': ['-29.6077897635135'],\n",
       "         'legendgroup': 'PENEAL SUPER MARKET',\n",
       "         'lon': ['30.3692579269409'],\n",
       "         'marker': {'color': '#FF97FF', 'symbol': 'circle'},\n",
       "         'mode': 'markers',\n",
       "         'name': 'PENEAL SUPER MARKET',\n",
       "         'showlegend': True,\n",
       "         'type': 'scattergeo'},\n",
       "        {'geo': 'geo',\n",
       "         'hovertemplate': 'spaza_name=CHECK STORE<br>lat=%{lat}<br>lon=%{lon}<extra></extra>',\n",
       "         'lat': ['-29.6076778280757'],\n",
       "         'legendgroup': 'CHECK STORE',\n",
       "         'lon': ['30.3710174560547'],\n",
       "         'marker': {'color': '#FECB52', 'symbol': 'circle'},\n",
       "         'mode': 'markers',\n",
       "         'name': 'CHECK STORE',\n",
       "         'showlegend': True,\n",
       "         'type': 'scattergeo'},\n",
       "        {'geo': 'geo',\n",
       "         'hovertemplate': 'spaza_name=MAZANSI STORE<br>lat=%{lat}<br>lon=%{lon}<extra></extra>',\n",
       "         'lat': ['-29.6077151399021'],\n",
       "         'legendgroup': 'MAZANSI STORE',\n",
       "         'lon': ['30.3710603713989'],\n",
       "         'marker': {'color': '#636efa', 'symbol': 'circle'},\n",
       "         'mode': 'markers',\n",
       "         'name': 'MAZANSI STORE',\n",
       "         'showlegend': True,\n",
       "         'type': 'scattergeo'},\n",
       "        {'geo': 'geo',\n",
       "         'hovertemplate': 'spaza_name=EBENEZER SUPERMARKET<br>lat=%{lat}<br>lon=%{lon}<extra></extra>',\n",
       "         'lat': ['-29.6090210451277'],\n",
       "         'legendgroup': 'EBENEZER SUPERMARKET',\n",
       "         'lon': ['30.3703737258911'],\n",
       "         'marker': {'color': '#EF553B', 'symbol': 'circle'},\n",
       "         'mode': 'markers',\n",
       "         'name': 'EBENEZER SUPERMARKET',\n",
       "         'showlegend': True,\n",
       "         'type': 'scattergeo'},\n",
       "        {'geo': 'geo',\n",
       "         'hovertemplate': 'spaza_name=AFRICAN PEACE TUCK SHOP<br>lat=%{lat}<br>lon=%{lon}<extra></extra>',\n",
       "         'lat': ['-29.7009421930539'],\n",
       "         'legendgroup': 'AFRICAN PEACE TUCK SHOP',\n",
       "         'lon': ['30.9709632396698'],\n",
       "         'marker': {'color': '#00cc96', 'symbol': 'circle'},\n",
       "         'mode': 'markers',\n",
       "         'name': 'AFRICAN PEACE TUCK SHOP',\n",
       "         'showlegend': True,\n",
       "         'type': 'scattergeo'},\n",
       "        {'geo': 'geo',\n",
       "         'hovertemplate': 'spaza_name=THANDABANTU SUPERMARKET<br>lat=%{lat}<br>lon=%{lon}<extra></extra>',\n",
       "         'lat': ['-29.6188194585977'],\n",
       "         'legendgroup': 'THANDABANTU SUPERMARKET',\n",
       "         'lon': ['31.0290759801865'],\n",
       "         'marker': {'color': '#ab63fa', 'symbol': 'circle'},\n",
       "         'mode': 'markers',\n",
       "         'name': 'THANDABANTU SUPERMARKET',\n",
       "         'showlegend': True,\n",
       "         'type': 'scattergeo'},\n",
       "        {'geo': 'geo',\n",
       "         'hovertemplate': 'spaza_name=DISCOUNT SUPERMARKET<br>lat=%{lat}<br>lon=%{lon}<extra></extra>',\n",
       "         'lat': ['-29.8620833791'],\n",
       "         'legendgroup': 'DISCOUNT SUPERMARKET',\n",
       "         'lon': ['31.0144042969'],\n",
       "         'marker': {'color': '#FFA15A', 'symbol': 'circle'},\n",
       "         'mode': 'markers',\n",
       "         'name': 'DISCOUNT SUPERMARKET',\n",
       "         'showlegend': True,\n",
       "         'type': 'scattergeo'},\n",
       "        {'geo': 'geo',\n",
       "         'hovertemplate': 'spaza_name=JUICES TUCKSHOP<br>lat=%{lat}<br>lon=%{lon}<extra></extra>',\n",
       "         'lat': ['-29.9557525644622'],\n",
       "         'legendgroup': 'JUICES TUCKSHOP',\n",
       "         'lon': ['30.8846256136894'],\n",
       "         'marker': {'color': '#19d3f3', 'symbol': 'circle'},\n",
       "         'mode': 'markers',\n",
       "         'name': 'JUICES TUCKSHOP',\n",
       "         'showlegend': True,\n",
       "         'type': 'scattergeo'},\n",
       "        {'geo': 'geo',\n",
       "         'hovertemplate': 'spaza_name=AL-BARAKA STORE<br>lat=%{lat}<br>lon=%{lon}<extra></extra>',\n",
       "         'lat': ['-29.8545279769099'],\n",
       "         'legendgroup': 'AL-BARAKA STORE',\n",
       "         'lon': ['31.0191571712494'],\n",
       "         'marker': {'color': '#FF6692', 'symbol': 'circle'},\n",
       "         'mode': 'markers',\n",
       "         'name': 'AL-BARAKA STORE',\n",
       "         'showlegend': True,\n",
       "         'type': 'scattergeo'},\n",
       "        {'geo': 'geo',\n",
       "         'hovertemplate': 'spaza_name=DANIEL TUCK SHOP<br>lat=%{lat}<br>lon=%{lon}<extra></extra>',\n",
       "         'lat': ['-29.6243921436315'],\n",
       "         'legendgroup': 'DANIEL TUCK SHOP',\n",
       "         'lon': ['31.0295534133911'],\n",
       "         'marker': {'color': '#B6E880', 'symbol': 'circle'},\n",
       "         'mode': 'markers',\n",
       "         'name': 'DANIEL TUCK SHOP',\n",
       "         'showlegend': True,\n",
       "         'type': 'scattergeo'},\n",
       "        {'geo': 'geo',\n",
       "         'hovertemplate': 'spaza_name=INTOKOZWENI TUCKSHOP<br>lat=%{lat}<br>lon=%{lon}<extra></extra>',\n",
       "         'lat': ['-29.7409467119816'],\n",
       "         'legendgroup': 'INTOKOZWENI TUCKSHOP',\n",
       "         'lon': ['30.9352576732635'],\n",
       "         'marker': {'color': '#FF97FF', 'symbol': 'circle'},\n",
       "         'mode': 'markers',\n",
       "         'name': 'INTOKOZWENI TUCKSHOP',\n",
       "         'showlegend': True,\n",
       "         'type': 'scattergeo'},\n",
       "        {'geo': 'geo',\n",
       "         'hovertemplate': 'spaza_name=KWAMADODA TUCKSHOP<br>lat=%{lat}<br>lon=%{lon}<extra></extra>',\n",
       "         'lat': ['-29.7403970898485'],\n",
       "         'legendgroup': 'KWAMADODA TUCKSHOP',\n",
       "         'lon': ['30.9354293346405'],\n",
       "         'marker': {'color': '#FECB52', 'symbol': 'circle'},\n",
       "         'mode': 'markers',\n",
       "         'name': 'KWAMADODA TUCKSHOP',\n",
       "         'showlegend': True,\n",
       "         'type': 'scattergeo'},\n",
       "        {'geo': 'geo',\n",
       "         'hovertemplate': 'spaza_name=KWA KWEZI<br>lat=%{lat}<br>lon=%{lon}<extra></extra>',\n",
       "         'lat': ['-29.5934983346124'],\n",
       "         'legendgroup': 'KWA KWEZI',\n",
       "         'lon': ['30.3860378265381'],\n",
       "         'marker': {'color': '#636efa', 'symbol': 'circle'},\n",
       "         'mode': 'markers',\n",
       "         'name': 'KWA KWEZI',\n",
       "         'showlegend': True,\n",
       "         'type': 'scattergeo'},\n",
       "        {'geo': 'geo',\n",
       "         'hovertemplate': 'spaza_name=ZIMELENIMAZULU TRADING STORE<br>lat=%{lat}<br>lon=%{lon}<extra></extra>',\n",
       "         'lat': ['-29.7125207778267'],\n",
       "         'legendgroup': 'ZIMELENIMAZULU TRADING STORE',\n",
       "         'lon': ['30.9758877754211'],\n",
       "         'marker': {'color': '#EF553B', 'symbol': 'circle'},\n",
       "         'mode': 'markers',\n",
       "         'name': 'ZIMELENIMAZULU TRADING STORE',\n",
       "         'showlegend': True,\n",
       "         'type': 'scattergeo'},\n",
       "        {'geo': 'geo',\n",
       "         'hovertemplate': 'spaza_name=ESPLANAGE SUPERMARKET<br>lat=%{lat}<br>lon=%{lon}<extra></extra>',\n",
       "         'lat': ['-29.8610506'],\n",
       "         'legendgroup': 'ESPLANAGE SUPERMARKET',\n",
       "         'lon': ['31.0250884'],\n",
       "         'marker': {'color': '#00cc96', 'symbol': 'circle'},\n",
       "         'mode': 'markers',\n",
       "         'name': 'ESPLANAGE SUPERMARKET',\n",
       "         'showlegend': True,\n",
       "         'type': 'scattergeo'},\n",
       "        {'geo': 'geo',\n",
       "         'hovertemplate': 'spaza_name=THENGADUZE<br>lat=%{lat}<br>lon=%{lon}<extra></extra>',\n",
       "         'lat': ['-29.9525920154781'],\n",
       "         'legendgroup': 'THENGADUZE',\n",
       "         'lon': ['30.8806774020195'],\n",
       "         'marker': {'color': '#ab63fa', 'symbol': 'circle'},\n",
       "         'mode': 'markers',\n",
       "         'name': 'THENGADUZE',\n",
       "         'showlegend': True,\n",
       "         'type': 'scattergeo'},\n",
       "        {'geo': 'geo',\n",
       "         'hovertemplate': 'spaza_name=CHRIS TUCK SHOP<br>lat=%{lat}<br>lon=%{lon}<extra></extra>',\n",
       "         'lat': ['-29.6498686779723'],\n",
       "         'legendgroup': 'CHRIS TUCK SHOP',\n",
       "         'lon': ['30.2923107147217'],\n",
       "         'marker': {'color': '#FFA15A', 'symbol': 'circle'},\n",
       "         'mode': 'markers',\n",
       "         'name': 'CHRIS TUCK SHOP',\n",
       "         'showlegend': True,\n",
       "         'type': 'scattergeo'},\n",
       "        {'geo': 'geo',\n",
       "         'hovertemplate': 'spaza_name=FAMILY SHOP<br>lat=%{lat}<br>lon=%{lon}<extra></extra>',\n",
       "         'lat': ['-29.8594781326191'],\n",
       "         'legendgroup': 'FAMILY SHOP',\n",
       "         'lon': ['31.0219573974609'],\n",
       "         'marker': {'color': '#19d3f3', 'symbol': 'circle'},\n",
       "         'mode': 'markers',\n",
       "         'name': 'FAMILY SHOP',\n",
       "         'showlegend': True,\n",
       "         'type': 'scattergeo'},\n",
       "        {'geo': 'geo',\n",
       "         'hovertemplate': 'spaza_name=FAMILY STORE & TAKEAWAYS<br>lat=%{lat}<br>lon=%{lon}<extra></extra>',\n",
       "         'lat': ['-29.6046770579686'],\n",
       "         'legendgroup': 'FAMILY STORE & TAKEAWAYS',\n",
       "         'lon': ['30.3753014238464'],\n",
       "         'marker': {'color': '#FF6692', 'symbol': 'circle'},\n",
       "         'mode': 'markers',\n",
       "         'name': 'FAMILY STORE & TAKEAWAYS',\n",
       "         'showlegend': True,\n",
       "         'type': 'scattergeo'},\n",
       "        {'geo': 'geo',\n",
       "         'hovertemplate': 'spaza_name=MM SUPERMARKET & GENERAL DEALER<br>lat=%{lat}<br>lon=%{lon}<extra></extra>',\n",
       "         'lat': ['-29.591819052064'],\n",
       "         'legendgroup': 'MM SUPERMARKET & GENERAL DEALER',\n",
       "         'lon': ['30.3826904296875'],\n",
       "         'marker': {'color': '#B6E880', 'symbol': 'circle'},\n",
       "         'mode': 'markers',\n",
       "         'name': 'MM SUPERMARKET & GENERAL DEALER',\n",
       "         'showlegend': True,\n",
       "         'type': 'scattergeo'},\n",
       "        {'geo': 'geo',\n",
       "         'hovertemplate': 'spaza_name=ZULU CAFE SUPERMARKET<br>lat=%{lat}<br>lon=%{lon}<extra></extra>',\n",
       "         'lat': ['-29.5962597606927'],\n",
       "         'legendgroup': 'ZULU CAFE SUPERMARKET',\n",
       "         'lon': ['30.3827333450317'],\n",
       "         'marker': {'color': '#FF97FF', 'symbol': 'circle'},\n",
       "         'mode': 'markers',\n",
       "         'name': 'ZULU CAFE SUPERMARKET',\n",
       "         'showlegend': True,\n",
       "         'type': 'scattergeo'},\n",
       "        {'geo': 'geo',\n",
       "         'hovertemplate': 'spaza_name=BARCELONA SUPERMARKET<br>lat=%{lat}<br>lon=%{lon}<extra></extra>',\n",
       "         'lat': ['-29.6416631773138'],\n",
       "         'legendgroup': 'BARCELONA SUPERMARKET',\n",
       "         'lon': ['31.0476529598236'],\n",
       "         'marker': {'color': '#FECB52', 'symbol': 'circle'},\n",
       "         'mode': 'markers',\n",
       "         'name': 'BARCELONA SUPERMARKET',\n",
       "         'showlegend': True,\n",
       "         'type': 'scattergeo'},\n",
       "        {'geo': 'geo',\n",
       "         'hovertemplate': 'spaza_name=MDUZIZI TUCK SHOP<br>lat=%{lat}<br>lon=%{lon}<extra></extra>',\n",
       "         'lat': ['-29.6695322195007'],\n",
       "         'legendgroup': 'MDUZIZI TUCK SHOP',\n",
       "         'lon': ['31.0566774010295'],\n",
       "         'marker': {'color': '#636efa', 'symbol': 'circle'},\n",
       "         'mode': 'markers',\n",
       "         'name': 'MDUZIZI TUCK SHOP',\n",
       "         'showlegend': True,\n",
       "         'type': 'scattergeo'},\n",
       "        {'geo': 'geo',\n",
       "         'hovertemplate': 'spaza_name=ABUSH SHOP<br>lat=%{lat}<br>lon=%{lon}<extra></extra>',\n",
       "         'lat': ['-29.6224568946358'],\n",
       "         'legendgroup': 'ABUSH SHOP',\n",
       "         'lon': ['31.0310822725296'],\n",
       "         'marker': {'color': '#EF553B', 'symbol': 'circle'},\n",
       "         'mode': 'markers',\n",
       "         'name': 'ABUSH SHOP',\n",
       "         'showlegend': True,\n",
       "         'type': 'scattergeo'},\n",
       "        {'geo': 'geo',\n",
       "         'hovertemplate': 'spaza_name=HALELUYA DISCOUNT SHOP<br>lat=%{lat}<br>lon=%{lon}<extra></extra>',\n",
       "         'lat': ['-29.621099866545'],\n",
       "         'legendgroup': 'HALELUYA DISCOUNT SHOP',\n",
       "         'lon': ['31.031876206398'],\n",
       "         'marker': {'color': '#00cc96', 'symbol': 'circle'},\n",
       "         'mode': 'markers',\n",
       "         'name': 'HALELUYA DISCOUNT SHOP',\n",
       "         'showlegend': True,\n",
       "         'type': 'scattergeo'},\n",
       "        {'geo': 'geo',\n",
       "         'hovertemplate': 'spaza_name=UMHLASI LIFE STYLE SUPER SPAZA SHOP<br>lat=%{lat}<br>lon=%{lon}<extra></extra>',\n",
       "         'lat': ['-29.6209786191595'],\n",
       "         'legendgroup': 'UMHLASI LIFE STYLE SUPER SPAZA SHOP',\n",
       "         'lon': ['31.0330617427826'],\n",
       "         'marker': {'color': '#ab63fa', 'symbol': 'circle'},\n",
       "         'mode': 'markers',\n",
       "         'name': 'UMHLASI LIFE STYLE SUPER SPAZA SHOP',\n",
       "         'showlegend': True,\n",
       "         'type': 'scattergeo'},\n",
       "        {'geo': 'geo',\n",
       "         'hovertemplate': 'spaza_name=SOLOMON TUCK SHOP<br>lat=%{lat}<br>lon=%{lon}<extra></extra>',\n",
       "         'lat': ['-29.7544999995101'],\n",
       "         'legendgroup': 'SOLOMON TUCK SHOP',\n",
       "         'lon': ['30.9960043430328'],\n",
       "         'marker': {'color': '#FFA15A', 'symbol': 'circle'},\n",
       "         'mode': 'markers',\n",
       "         'name': 'SOLOMON TUCK SHOP',\n",
       "         'showlegend': True,\n",
       "         'type': 'scattergeo'},\n",
       "        {'geo': 'geo',\n",
       "         'hovertemplate': 'spaza_name=AL-SAMEER SUPERMARKET<br>lat=%{lat}<br>lon=%{lon}<extra></extra>',\n",
       "         'lat': ['-29.8609575487974'],\n",
       "         'legendgroup': 'AL-SAMEER SUPERMARKET',\n",
       "         'lon': ['31.0153162479401'],\n",
       "         'marker': {'color': '#19d3f3', 'symbol': 'circle'},\n",
       "         'mode': 'markers',\n",
       "         'name': 'AL-SAMEER SUPERMARKET',\n",
       "         'showlegend': True,\n",
       "         'type': 'scattergeo'},\n",
       "        {'geo': 'geo',\n",
       "         'hovertemplate': 'spaza_name=HOLA SEVEN SUPERMARKET<br>lat=%{lat}<br>lon=%{lon}<extra></extra>',\n",
       "         'lat': ['-29.5950133'],\n",
       "         'legendgroup': 'HOLA SEVEN SUPERMARKET',\n",
       "         'lon': ['30.3842519'],\n",
       "         'marker': {'color': '#FF6692', 'symbol': 'circle'},\n",
       "         'mode': 'markers',\n",
       "         'name': 'HOLA SEVEN SUPERMARKET',\n",
       "         'showlegend': True,\n",
       "         'type': 'scattergeo'},\n",
       "        {'geo': 'geo',\n",
       "         'hovertemplate': 'spaza_name=J M TUCK SHOP<br>lat=%{lat}<br>lon=%{lon}<extra></extra>',\n",
       "         'lat': ['-29.625124264284'],\n",
       "         'legendgroup': 'J M TUCK SHOP',\n",
       "         'lon': ['31.0329705476761'],\n",
       "         'marker': {'color': '#B6E880', 'symbol': 'circle'},\n",
       "         'mode': 'markers',\n",
       "         'name': 'J M TUCK SHOP',\n",
       "         'showlegend': True,\n",
       "         'type': 'scattergeo'},\n",
       "        {'geo': 'geo',\n",
       "         'hovertemplate': 'spaza_name=MAKHOSI TUCK SHOP<br>lat=%{lat}<br>lon=%{lon}<extra></extra>',\n",
       "         'lat': ['-29.9555480613917'],\n",
       "         'legendgroup': 'MAKHOSI TUCK SHOP',\n",
       "         'lon': ['30.8875036239624'],\n",
       "         'marker': {'color': '#FF97FF', 'symbol': 'circle'},\n",
       "         'mode': 'markers',\n",
       "         'name': 'MAKHOSI TUCK SHOP',\n",
       "         'showlegend': True,\n",
       "         'type': 'scattergeo'},\n",
       "        {'geo': 'geo',\n",
       "         'hovertemplate': 'spaza_name=NOMDAYI TUCK SHOP<br>lat=%{lat}<br>lon=%{lon}<extra></extra>',\n",
       "         'lat': ['-29.7089751236618'],\n",
       "         'legendgroup': 'NOMDAYI TUCK SHOP',\n",
       "         'lon': ['30.9685921669006'],\n",
       "         'marker': {'color': '#FECB52', 'symbol': 'circle'},\n",
       "         'mode': 'markers',\n",
       "         'name': 'NOMDAYI TUCK SHOP',\n",
       "         'showlegend': True,\n",
       "         'type': 'scattergeo'},\n",
       "        {'geo': 'geo',\n",
       "         'hovertemplate': 'spaza_name=LOXION TIKKA<br>lat=%{lat}<br>lon=%{lon}<extra></extra>',\n",
       "         'lat': ['-29.7041945822732'],\n",
       "         'legendgroup': 'LOXION TIKKA',\n",
       "         'lon': ['30.9684526920319'],\n",
       "         'marker': {'color': '#636efa', 'symbol': 'circle'},\n",
       "         'mode': 'markers',\n",
       "         'name': 'LOXION TIKKA',\n",
       "         'showlegend': True,\n",
       "         'type': 'scattergeo'},\n",
       "        {'geo': 'geo',\n",
       "         'hovertemplate': 'spaza_name=AD SUPERMARKET<br>lat=%{lat}<br>lon=%{lon}<extra></extra>',\n",
       "         'lat': ['-29.8627044'],\n",
       "         'legendgroup': 'AD SUPERMARKET',\n",
       "         'lon': ['31.0162137'],\n",
       "         'marker': {'color': '#EF553B', 'symbol': 'circle'},\n",
       "         'mode': 'markers',\n",
       "         'name': 'AD SUPERMARKET',\n",
       "         'showlegend': True,\n",
       "         'type': 'scattergeo'},\n",
       "        {'geo': 'geo',\n",
       "         'hovertemplate': 'spaza_name=BILKAYR TUCK SHOP<br>lat=%{lat}<br>lon=%{lon}<extra></extra>',\n",
       "         'lat': ['-29.8628761'],\n",
       "         'legendgroup': 'BILKAYR TUCK SHOP',\n",
       "         'lon': ['31.0161331'],\n",
       "         'marker': {'color': '#00cc96', 'symbol': 'circle'},\n",
       "         'mode': 'markers',\n",
       "         'name': 'BILKAYR TUCK SHOP',\n",
       "         'showlegend': True,\n",
       "         'type': 'scattergeo'},\n",
       "        {'geo': 'geo',\n",
       "         'hovertemplate': 'spaza_name=SABETA GENERAL DEALER<br>lat=%{lat}<br>lon=%{lon}<extra></extra>',\n",
       "         'lat': ['-29.5924117'],\n",
       "         'legendgroup': 'SABETA GENERAL DEALER',\n",
       "         'lon': ['30.3875592'],\n",
       "         'marker': {'color': '#ab63fa', 'symbol': 'circle'},\n",
       "         'mode': 'markers',\n",
       "         'name': 'SABETA GENERAL DEALER',\n",
       "         'showlegend': True,\n",
       "         'type': 'scattergeo'},\n",
       "        {'geo': 'geo',\n",
       "         'hovertemplate': 'spaza_name=MONT BLANC SUPERMARKET AND TAKE AWAY<br>lat=%{lat}<br>lon=%{lon}<extra></extra>',\n",
       "         'lat': ['-29.858510452312'],\n",
       "         'legendgroup': 'MONT BLANC SUPERMARKET AND TAKE AWAY',\n",
       "         'lon': ['31.0391235351563'],\n",
       "         'marker': {'color': '#FFA15A', 'symbol': 'circle'},\n",
       "         'mode': 'markers',\n",
       "         'name': 'MONT BLANC SUPERMARKET AND TAKE AWAY',\n",
       "         'showlegend': True,\n",
       "         'type': 'scattergeo'},\n",
       "        {'geo': 'geo',\n",
       "         'hovertemplate': \"spaza_name=ANVER'S TAKE AWAY<br>lat=%{lat}<br>lon=%{lon}<extra></extra>\",\n",
       "         'lat': ['-29.8581010462808'],\n",
       "         'legendgroup': \"ANVER'S TAKE AWAY\",\n",
       "         'lon': ['31.0328257083893'],\n",
       "         'marker': {'color': '#19d3f3', 'symbol': 'circle'},\n",
       "         'mode': 'markers',\n",
       "         'name': \"ANVER'S TAKE AWAY\",\n",
       "         'showlegend': True,\n",
       "         'type': 'scattergeo'},\n",
       "        {'geo': 'geo',\n",
       "         'hovertemplate': 'spaza_name=AL MIN SUPERMARKET<br>lat=%{lat}<br>lon=%{lon}<extra></extra>',\n",
       "         'lat': ['-29.8525118657959'],\n",
       "         'legendgroup': 'AL MIN SUPERMARKET',\n",
       "         'lon': ['31.0164910554886'],\n",
       "         'marker': {'color': '#FF6692', 'symbol': 'circle'},\n",
       "         'mode': 'markers',\n",
       "         'name': 'AL MIN SUPERMARKET',\n",
       "         'showlegend': True,\n",
       "         'type': 'scattergeo'},\n",
       "        {'geo': 'geo',\n",
       "         'hovertemplate': 'spaza_name=SILVERSPOON SUPERMARKET & TAKE AWAY<br>lat=%{lat}<br>lon=%{lon}<extra></extra>',\n",
       "         'lat': ['-29.8520062806588'],\n",
       "         'legendgroup': 'SILVERSPOON SUPERMARKET & TAKE AWAY',\n",
       "         'lon': ['31.0161477327347'],\n",
       "         'marker': {'color': '#B6E880', 'symbol': 'circle'},\n",
       "         'mode': 'markers',\n",
       "         'name': 'SILVERSPOON SUPERMARKET & TAKE AWAY',\n",
       "         'showlegend': True,\n",
       "         'type': 'scattergeo'},\n",
       "        {'geo': 'geo',\n",
       "         'hovertemplate': 'spaza_name=TAMANNA SUPERMARKET AND WHOLESALE<br>lat=%{lat}<br>lon=%{lon}<extra></extra>',\n",
       "         'lat': ['-29.5917444166353'],\n",
       "         'legendgroup': 'TAMANNA SUPERMARKET AND WHOLESALE',\n",
       "         'lon': ['30.3904151916504'],\n",
       "         'marker': {'color': '#FF97FF', 'symbol': 'circle'},\n",
       "         'mode': 'markers',\n",
       "         'name': 'TAMANNA SUPERMARKET AND WHOLESALE',\n",
       "         'showlegend': True,\n",
       "         'type': 'scattergeo'},\n",
       "        {'geo': 'geo',\n",
       "         'hovertemplate': 'spaza_name=POPULAR SUPERMARKET<br>lat=%{lat}<br>lon=%{lon}<extra></extra>',\n",
       "         'lat': ['-29.5919019805064'],\n",
       "         'legendgroup': 'POPULAR SUPERMARKET',\n",
       "         'lon': ['30.3905642035534'],\n",
       "         'marker': {'color': '#FECB52', 'symbol': 'circle'},\n",
       "         'mode': 'markers',\n",
       "         'name': 'POPULAR SUPERMARKET',\n",
       "         'showlegend': True,\n",
       "         'type': 'scattergeo'},\n",
       "        {'geo': 'geo',\n",
       "         'hovertemplate': 'spaza_name=GREEN GARDEN TUCK SHOP<br>lat=%{lat}<br>lon=%{lon}<extra></extra>',\n",
       "         'lat': ['-29.6647487656812'],\n",
       "         'legendgroup': 'GREEN GARDEN TUCK SHOP',\n",
       "         'lon': ['31.0590255260468'],\n",
       "         'marker': {'color': '#636efa', 'symbol': 'circle'},\n",
       "         'mode': 'markers',\n",
       "         'name': 'GREEN GARDEN TUCK SHOP',\n",
       "         'showlegend': True,\n",
       "         'type': 'scattergeo'},\n",
       "        {'geo': 'geo',\n",
       "         'hovertemplate': 'spaza_name=ALEX TUCK SHOP<br>lat=%{lat}<br>lon=%{lon}<extra></extra>',\n",
       "         'lat': ['-29.623240325213', '-29.6189173912877', '-29.6570292955947'],\n",
       "         'legendgroup': 'ALEX TUCK SHOP',\n",
       "         'lon': ['31.0366129875183', '31.0286897420883', '30.3043270111084'],\n",
       "         'marker': {'color': '#EF553B', 'symbol': 'circle'},\n",
       "         'mode': 'markers',\n",
       "         'name': 'ALEX TUCK SHOP',\n",
       "         'showlegend': True,\n",
       "         'type': 'scattergeo'},\n",
       "        {'geo': 'geo',\n",
       "         'hovertemplate': 'spaza_name=JONE TUCK SHOP<br>lat=%{lat}<br>lon=%{lon}<extra></extra>',\n",
       "         'lat': ['-29.6607958743161'],\n",
       "         'legendgroup': 'JONE TUCK SHOP',\n",
       "         'lon': ['31.049884557724'],\n",
       "         'marker': {'color': '#00cc96', 'symbol': 'circle'},\n",
       "         'mode': 'markers',\n",
       "         'name': 'JONE TUCK SHOP',\n",
       "         'showlegend': True,\n",
       "         'type': 'scattergeo'},\n",
       "        {'geo': 'geo',\n",
       "         'hovertemplate': \"spaza_name=NJURA'S TUCK SHOP<br>lat=%{lat}<br>lon=%{lon}<extra></extra>\",\n",
       "         'lat': ['-29.6530761009432'],\n",
       "         'legendgroup': \"NJURA'S TUCK SHOP\",\n",
       "         'lon': ['30.302996635437'],\n",
       "         'marker': {'color': '#ab63fa', 'symbol': 'circle'},\n",
       "         'mode': 'markers',\n",
       "         'name': \"NJURA'S TUCK SHOP\",\n",
       "         'showlegend': True,\n",
       "         'type': 'scattergeo'},\n",
       "        {'geo': 'geo',\n",
       "         'hovertemplate': 'spaza_name=PARK NORTH SUPERMARKET<br>lat=%{lat}<br>lon=%{lon}<extra></extra>',\n",
       "         'lat': ['-29.8628649398063'],\n",
       "         'legendgroup': 'PARK NORTH SUPERMARKET',\n",
       "         'lon': ['31.0165500640869'],\n",
       "         'marker': {'color': '#FFA15A', 'symbol': 'circle'},\n",
       "         'mode': 'markers',\n",
       "         'name': 'PARK NORTH SUPERMARKET',\n",
       "         'showlegend': True,\n",
       "         'type': 'scattergeo'},\n",
       "        {'geo': 'geo',\n",
       "         'hovertemplate': 'spaza_name=MTIMANDE TUCK SHOP<br>lat=%{lat}<br>lon=%{lon}<extra></extra>',\n",
       "         'lat': ['-29.6184603712533'],\n",
       "         'legendgroup': 'MTIMANDE TUCK SHOP',\n",
       "         'lon': ['31.0306960344315'],\n",
       "         'marker': {'color': '#19d3f3', 'symbol': 'circle'},\n",
       "         'mode': 'markers',\n",
       "         'name': 'MTIMANDE TUCK SHOP',\n",
       "         'showlegend': True,\n",
       "         'type': 'scattergeo'},\n",
       "        {'geo': 'geo',\n",
       "         'hovertemplate': 'spaza_name=TEDDY TUCK SHOP<br>lat=%{lat}<br>lon=%{lon}<extra></extra>',\n",
       "         'lat': ['-29.6258144113655'],\n",
       "         'legendgroup': 'TEDDY TUCK SHOP',\n",
       "         'lon': ['31.0284858942032'],\n",
       "         'marker': {'color': '#FF6692', 'symbol': 'circle'},\n",
       "         'mode': 'markers',\n",
       "         'name': 'TEDDY TUCK SHOP',\n",
       "         'showlegend': True,\n",
       "         'type': 'scattergeo'},\n",
       "        {'geo': 'geo',\n",
       "         'hovertemplate': 'spaza_name=C & D TUCK SHOP<br>lat=%{lat}<br>lon=%{lon}<extra></extra>',\n",
       "         'lat': ['-29.6264439332968'],\n",
       "         'legendgroup': 'C & D TUCK SHOP',\n",
       "         'lon': ['31.0308837890625'],\n",
       "         'marker': {'color': '#B6E880', 'symbol': 'circle'},\n",
       "         'mode': 'markers',\n",
       "         'name': 'C & D TUCK SHOP',\n",
       "         'showlegend': True,\n",
       "         'type': 'scattergeo'},\n",
       "        {'geo': 'geo',\n",
       "         'hovertemplate': 'spaza_name=BLESSING SHOP<br>lat=%{lat}<br>lon=%{lon}<extra></extra>',\n",
       "         'lat': ['-29.8582127026377'],\n",
       "         'legendgroup': 'BLESSING SHOP',\n",
       "         'lon': ['31.0314095020294'],\n",
       "         'marker': {'color': '#FF97FF', 'symbol': 'circle'},\n",
       "         'mode': 'markers',\n",
       "         'name': 'BLESSING SHOP',\n",
       "         'showlegend': True,\n",
       "         'type': 'scattergeo'},\n",
       "        {'geo': 'geo',\n",
       "         'hovertemplate': 'spaza_name=DISCOUNT SUPERMARKT<br>lat=%{lat}<br>lon=%{lon}<extra></extra>',\n",
       "         'lat': ['-29.8580731321721'],\n",
       "         'legendgroup': 'DISCOUNT SUPERMARKT',\n",
       "         'lon': ['31.0325735807419'],\n",
       "         'marker': {'color': '#FECB52', 'symbol': 'circle'},\n",
       "         'mode': 'markers',\n",
       "         'name': 'DISCOUNT SUPERMARKT',\n",
       "         'showlegend': True,\n",
       "         'type': 'scattergeo'},\n",
       "        {'geo': 'geo',\n",
       "         'hovertemplate': 'spaza_name=JIMI SUPER<br>lat=%{lat}<br>lon=%{lon}<extra></extra>',\n",
       "         'lat': ['-29.5932744318876'],\n",
       "         'legendgroup': 'JIMI SUPER',\n",
       "         'lon': ['30.3862953186035'],\n",
       "         'marker': {'color': '#636efa', 'symbol': 'circle'},\n",
       "         'mode': 'markers',\n",
       "         'name': 'JIMI SUPER',\n",
       "         'showlegend': True,\n",
       "         'type': 'scattergeo'},\n",
       "        {'geo': 'geo',\n",
       "         'hovertemplate': \"spaza_name=MIYA'S FAST FOOD<br>lat=%{lat}<br>lon=%{lon}<extra></extra>\",\n",
       "         'lat': ['-29.7371551895453'],\n",
       "         'legendgroup': \"MIYA'S FAST FOOD\",\n",
       "         'lon': ['30.919486284256'],\n",
       "         'marker': {'color': '#EF553B', 'symbol': 'circle'},\n",
       "         'mode': 'markers',\n",
       "         'name': \"MIYA'S FAST FOOD\",\n",
       "         'showlegend': True,\n",
       "         'type': 'scattergeo'},\n",
       "        {'geo': 'geo',\n",
       "         'hovertemplate': 'spaza_name=HT TUCK SHOP<br>lat=%{lat}<br>lon=%{lon}<extra></extra>',\n",
       "         'lat': ['-29.6038346360042'],\n",
       "         'legendgroup': 'HT TUCK SHOP',\n",
       "         'lon': ['30.3689575195313'],\n",
       "         'marker': {'color': '#00cc96', 'symbol': 'circle'},\n",
       "         'mode': 'markers',\n",
       "         'name': 'HT TUCK SHOP',\n",
       "         'showlegend': True,\n",
       "         'type': 'scattergeo'},\n",
       "        {'geo': 'geo',\n",
       "         'hovertemplate': 'spaza_name=ARIF SUPERMARKET<br>lat=%{lat}<br>lon=%{lon}<extra></extra>',\n",
       "         'lat': ['-29.590998059312'],\n",
       "         'legendgroup': 'ARIF SUPERMARKET',\n",
       "         'lon': ['30.3899431228638'],\n",
       "         'marker': {'color': '#ab63fa', 'symbol': 'circle'},\n",
       "         'mode': 'markers',\n",
       "         'name': 'ARIF SUPERMARKET',\n",
       "         'showlegend': True,\n",
       "         'type': 'scattergeo'},\n",
       "        {'geo': 'geo',\n",
       "         'hovertemplate': 'spaza_name=BISMILLASH DISCOUNT SUPERMARKET<br>lat=%{lat}<br>lon=%{lon}<extra></extra>',\n",
       "         'lat': ['-29.5947297907162'],\n",
       "         'legendgroup': 'BISMILLASH DISCOUNT SUPERMARKET',\n",
       "         'lon': ['30.3870677947998'],\n",
       "         'marker': {'color': '#FFA15A', 'symbol': 'circle'},\n",
       "         'mode': 'markers',\n",
       "         'name': 'BISMILLASH DISCOUNT SUPERMARKET',\n",
       "         'showlegend': True,\n",
       "         'type': 'scattergeo'},\n",
       "        {'geo': 'geo',\n",
       "         'hovertemplate': 'spaza_name=MNYANDU TUCK SHOP<br>lat=%{lat}<br>lon=%{lon}<extra></extra>',\n",
       "         'lat': ['-29.7138299824685'],\n",
       "         'legendgroup': 'MNYANDU TUCK SHOP',\n",
       "         'lon': ['30.963259935379'],\n",
       "         'marker': {'color': '#19d3f3', 'symbol': 'circle'},\n",
       "         'mode': 'markers',\n",
       "         'name': 'MNYANDU TUCK SHOP',\n",
       "         'showlegend': True,\n",
       "         'type': 'scattergeo'},\n",
       "        {'geo': 'geo',\n",
       "         'hovertemplate': 'spaza_name=SIZABANTU SUPERMARKET<br>lat=%{lat}<br>lon=%{lon}<extra></extra>',\n",
       "         'lat': ['-29.5951775892088'],\n",
       "         'legendgroup': 'SIZABANTU SUPERMARKET',\n",
       "         'lon': ['30.3850507736206'],\n",
       "         'marker': {'color': '#FF6692', 'symbol': 'circle'},\n",
       "         'mode': 'markers',\n",
       "         'name': 'SIZABANTU SUPERMARKET',\n",
       "         'showlegend': True,\n",
       "         'type': 'scattergeo'},\n",
       "        {'geo': 'geo',\n",
       "         'hovertemplate': 'spaza_name=SIZABANTU TUCK SHOP<br>lat=%{lat}<br>lon=%{lon}<extra></extra>',\n",
       "         'lat': ['-29.6493092332646'],\n",
       "         'legendgroup': 'SIZABANTU TUCK SHOP',\n",
       "         'lon': ['30.2763032913208'],\n",
       "         'marker': {'color': '#B6E880', 'symbol': 'circle'},\n",
       "         'mode': 'markers',\n",
       "         'name': 'SIZABANTU TUCK SHOP',\n",
       "         'showlegend': True,\n",
       "         'type': 'scattergeo'},\n",
       "        {'geo': 'geo',\n",
       "         'hovertemplate': 'spaza_name=THUTHUKA TAVERN & TAKEAWAY<br>lat=%{lat}<br>lon=%{lon}<extra></extra>',\n",
       "         'lat': ['-29.6417004765572'],\n",
       "         'legendgroup': 'THUTHUKA TAVERN & TAKEAWAY',\n",
       "         'lon': ['30.2702522277832'],\n",
       "         'marker': {'color': '#FF97FF', 'symbol': 'circle'},\n",
       "         'mode': 'markers',\n",
       "         'name': 'THUTHUKA TAVERN & TAKEAWAY',\n",
       "         'showlegend': True,\n",
       "         'type': 'scattergeo'},\n",
       "        {'geo': 'geo',\n",
       "         'hovertemplate': 'spaza_name=WIPERS TUCK SHOP<br>lat=%{lat}<br>lon=%{lon}<extra></extra>',\n",
       "         'lat': ['-29.6545305962778'],\n",
       "         'legendgroup': 'WIPERS TUCK SHOP',\n",
       "         'lon': ['30.3113222122192'],\n",
       "         'marker': {'color': '#FECB52', 'symbol': 'circle'},\n",
       "         'mode': 'markers',\n",
       "         'name': 'WIPERS TUCK SHOP',\n",
       "         'showlegend': True,\n",
       "         'type': 'scattergeo'},\n",
       "        {'geo': 'geo',\n",
       "         'hovertemplate': 'spaza_name=SYABONGA TUCK SHOP<br>lat=%{lat}<br>lon=%{lon}<extra></extra>',\n",
       "         'lat': ['-29.6452065437356'],\n",
       "         'legendgroup': 'SYABONGA TUCK SHOP',\n",
       "         'lon': ['30.3281450271606'],\n",
       "         'marker': {'color': '#636efa', 'symbol': 'circle'},\n",
       "         'mode': 'markers',\n",
       "         'name': 'SYABONGA TUCK SHOP',\n",
       "         'showlegend': True,\n",
       "         'type': 'scattergeo'},\n",
       "        {'geo': 'geo',\n",
       "         'hovertemplate': 'spaza_name=ISINAMUVA TRADING<br>lat=%{lat}<br>lon=%{lon}<extra></extra>',\n",
       "         'lat': ['-29.9555573569949'],\n",
       "         'legendgroup': 'ISINAMUVA TRADING',\n",
       "         'lon': ['30.8848106861115'],\n",
       "         'marker': {'color': '#EF553B', 'symbol': 'circle'},\n",
       "         'mode': 'markers',\n",
       "         'name': 'ISINAMUVA TRADING',\n",
       "         'showlegend': True,\n",
       "         'type': 'scattergeo'},\n",
       "        {'geo': 'geo',\n",
       "         'hovertemplate': 'spaza_name=MARBERG SUPERETTE<br>lat=%{lat}<br>lon=%{lon}<extra></extra>',\n",
       "         'lat': ['-29.8634418021018'],\n",
       "         'legendgroup': 'MARBERG SUPERETTE',\n",
       "         'lon': ['31.0184168815613'],\n",
       "         'marker': {'color': '#00cc96', 'symbol': 'circle'},\n",
       "         'mode': 'markers',\n",
       "         'name': 'MARBERG SUPERETTE',\n",
       "         'showlegend': True,\n",
       "         'type': 'scattergeo'},\n",
       "        {'geo': 'geo',\n",
       "         'hovertemplate': 'spaza_name=SANIBONANI SUPERMARKET<br>lat=%{lat}<br>lon=%{lon}<extra></extra>',\n",
       "         'lat': ['-29.6267499'],\n",
       "         'legendgroup': 'SANIBONANI SUPERMARKET',\n",
       "         'lon': ['31.0308466'],\n",
       "         'marker': {'color': '#ab63fa', 'symbol': 'circle'},\n",
       "         'mode': 'markers',\n",
       "         'name': 'SANIBONANI SUPERMARKET',\n",
       "         'showlegend': True,\n",
       "         'type': 'scattergeo'},\n",
       "        {'geo': 'geo',\n",
       "         'hovertemplate': 'spaza_name=ZONDI FAMILY TUCKSHOP<br>lat=%{lat}<br>lon=%{lon}<extra></extra>',\n",
       "         'lat': ['-29.7380355435267'],\n",
       "         'legendgroup': 'ZONDI FAMILY TUCKSHOP',\n",
       "         'lon': ['30.9314489364624'],\n",
       "         'marker': {'color': '#FFA15A', 'symbol': 'circle'},\n",
       "         'mode': 'markers',\n",
       "         'name': 'ZONDI FAMILY TUCKSHOP',\n",
       "         'showlegend': True,\n",
       "         'type': 'scattergeo'},\n",
       "        {'geo': 'geo',\n",
       "         'hovertemplate': 'spaza_name=SHALOM SUPERMARKET<br>lat=%{lat}<br>lon=%{lon}<extra></extra>',\n",
       "         'lat': ['-29.6276423456574'],\n",
       "         'legendgroup': 'SHALOM SUPERMARKET',\n",
       "         'lon': ['31.0303688049316'],\n",
       "         'marker': {'color': '#19d3f3', 'symbol': 'circle'},\n",
       "         'mode': 'markers',\n",
       "         'name': 'SHALOM SUPERMARKET',\n",
       "         'showlegend': True,\n",
       "         'type': 'scattergeo'},\n",
       "        {'geo': 'geo',\n",
       "         'hovertemplate': 'spaza_name=JONNY TUCKSHOP<br>lat=%{lat}<br>lon=%{lon}<extra></extra>',\n",
       "         'lat': ['-29.9533728663366'],\n",
       "         'legendgroup': 'JONNY TUCKSHOP',\n",
       "         'lon': ['30.8770295977593'],\n",
       "         'marker': {'color': '#FF6692', 'symbol': 'circle'},\n",
       "         'mode': 'markers',\n",
       "         'name': 'JONNY TUCKSHOP',\n",
       "         'showlegend': True,\n",
       "         'type': 'scattergeo'},\n",
       "        {'geo': 'geo',\n",
       "         'hovertemplate': 'spaza_name=DURBAN SUPERMARKET<br>lat=%{lat}<br>lon=%{lon}<extra></extra>',\n",
       "         'lat': ['-29.851745732766'],\n",
       "         'legendgroup': 'DURBAN SUPERMARKET',\n",
       "         'lon': ['31.0167217254639'],\n",
       "         'marker': {'color': '#B6E880', 'symbol': 'circle'},\n",
       "         'mode': 'markers',\n",
       "         'name': 'DURBAN SUPERMARKET',\n",
       "         'showlegend': True,\n",
       "         'type': 'scattergeo'},\n",
       "        {'geo': 'geo',\n",
       "         'hovertemplate': 'spaza_name=CRAZY SWEETS SUPERMARKET<br>lat=%{lat}<br>lon=%{lon}<extra></extra>',\n",
       "         'lat': ['-29.8523226593287'],\n",
       "         'legendgroup': 'CRAZY SWEETS SUPERMARKET',\n",
       "         'lon': ['31.0162281990051'],\n",
       "         'marker': {'color': '#FF97FF', 'symbol': 'circle'},\n",
       "         'mode': 'markers',\n",
       "         'name': 'CRAZY SWEETS SUPERMARKET',\n",
       "         'showlegend': True,\n",
       "         'type': 'scattergeo'},\n",
       "        {'geo': 'geo',\n",
       "         'hovertemplate': 'spaza_name=BANGLADESH BEACH SUPERMARKET<br>lat=%{lat}<br>lon=%{lon}<extra></extra>',\n",
       "         'lat': ['-29.8560028140133'],\n",
       "         'legendgroup': 'BANGLADESH BEACH SUPERMARKET',\n",
       "         'lon': ['31.0387051105499'],\n",
       "         'marker': {'color': '#FECB52', 'symbol': 'circle'},\n",
       "         'mode': 'markers',\n",
       "         'name': 'BANGLADESH BEACH SUPERMARKET',\n",
       "         'showlegend': True,\n",
       "         'type': 'scattergeo'},\n",
       "        {'geo': 'geo',\n",
       "         'hovertemplate': 'spaza_name=RAJA MINI SUPERETTE<br>lat=%{lat}<br>lon=%{lon}<extra></extra>',\n",
       "         'lat': ['-29.8559469846144'],\n",
       "         'legendgroup': 'RAJA MINI SUPERETTE',\n",
       "         'lon': ['31.0387480258942'],\n",
       "         'marker': {'color': '#636efa', 'symbol': 'circle'},\n",
       "         'mode': 'markers',\n",
       "         'name': 'RAJA MINI SUPERETTE',\n",
       "         'showlegend': True,\n",
       "         'type': 'scattergeo'},\n",
       "        {'geo': 'geo',\n",
       "         'hovertemplate': 'spaza_name=KHULANI TUCK SHOP<br>lat=%{lat}<br>lon=%{lon}<extra></extra>',\n",
       "         'lat': ['-29.6511740368646'],\n",
       "         'legendgroup': 'KHULANI TUCK SHOP',\n",
       "         'lon': ['30.3090047836304'],\n",
       "         'marker': {'color': '#EF553B', 'symbol': 'circle'},\n",
       "         'mode': 'markers',\n",
       "         'name': 'KHULANI TUCK SHOP',\n",
       "         'showlegend': True,\n",
       "         'type': 'scattergeo'},\n",
       "        {'geo': 'geo',\n",
       "         'hovertemplate': 'spaza_name=MAPHOLOBA TUCK SHOP<br>lat=%{lat}<br>lon=%{lon}<extra></extra>',\n",
       "         'lat': ['-29.6549781290747'],\n",
       "         'legendgroup': 'MAPHOLOBA TUCK SHOP',\n",
       "         'lon': ['30.3163003921509'],\n",
       "         'marker': {'color': '#00cc96', 'symbol': 'circle'},\n",
       "         'mode': 'markers',\n",
       "         'name': 'MAPHOLOBA TUCK SHOP',\n",
       "         'showlegend': True,\n",
       "         'type': 'scattergeo'},\n",
       "        {'geo': 'geo',\n",
       "         'hovertemplate': 'spaza_name=HALF PRICE SUPERMARKET<br>lat=%{lat}<br>lon=%{lon}<extra></extra>',\n",
       "         'lat': ['-29.6570292955947'],\n",
       "         'legendgroup': 'HALF PRICE SUPERMARKET',\n",
       "         'lon': ['30.3223514556885'],\n",
       "         'marker': {'color': '#ab63fa', 'symbol': 'circle'},\n",
       "         'mode': 'markers',\n",
       "         'name': 'HALF PRICE SUPERMARKET',\n",
       "         'showlegend': True,\n",
       "         'type': 'scattergeo'},\n",
       "        {'geo': 'geo',\n",
       "         'hovertemplate': 'spaza_name=EBC TUCK SHOP<br>lat=%{lat}<br>lon=%{lon}<extra></extra>',\n",
       "         'lat': ['-29.6672845010023'],\n",
       "         'legendgroup': 'EBC TUCK SHOP',\n",
       "         'lon': ['31.0600984096527'],\n",
       "         'marker': {'color': '#FFA15A', 'symbol': 'circle'},\n",
       "         'mode': 'markers',\n",
       "         'name': 'EBC TUCK SHOP',\n",
       "         'showlegend': True,\n",
       "         'type': 'scattergeo'},\n",
       "        {'geo': 'geo',\n",
       "         'hovertemplate': 'spaza_name=HAVEN CAFE AND TAKE AWAY<br>lat=%{lat}<br>lon=%{lon}<extra></extra>',\n",
       "         'lat': ['-29.8614879002004'],\n",
       "         'legendgroup': 'HAVEN CAFE AND TAKE AWAY',\n",
       "         'lon': ['31.0212707519531'],\n",
       "         'marker': {'color': '#19d3f3', 'symbol': 'circle'},\n",
       "         'mode': 'markers',\n",
       "         'name': 'HAVEN CAFE AND TAKE AWAY',\n",
       "         'showlegend': True,\n",
       "         'type': 'scattergeo'},\n",
       "        {'geo': 'geo',\n",
       "         'hovertemplate': 'spaza_name=HALLELUYAH TUCKSHOP<br>lat=%{lat}<br>lon=%{lon}<extra></extra>',\n",
       "         'lat': ['-29.7483057689748'],\n",
       "         'legendgroup': 'HALLELUYAH TUCKSHOP',\n",
       "         'lon': ['30.9406274557114'],\n",
       "         'marker': {'color': '#FF6692', 'symbol': 'circle'},\n",
       "         'mode': 'markers',\n",
       "         'name': 'HALLELUYAH TUCKSHOP',\n",
       "         'showlegend': True,\n",
       "         'type': 'scattergeo'},\n",
       "        {'geo': 'geo',\n",
       "         'hovertemplate': 'spaza_name=KHUZWAYO TUCKSHOP<br>lat=%{lat}<br>lon=%{lon}<extra></extra>',\n",
       "         'lat': ['-29.7408395824801'],\n",
       "         'legendgroup': 'KHUZWAYO TUCKSHOP',\n",
       "         'lon': ['30.9300434589386'],\n",
       "         'marker': {'color': '#B6E880', 'symbol': 'circle'},\n",
       "         'mode': 'markers',\n",
       "         'name': 'KHUZWAYO TUCKSHOP',\n",
       "         'showlegend': True,\n",
       "         'type': 'scattergeo'},\n",
       "        {'geo': 'geo',\n",
       "         'hovertemplate': 'spaza_name=SISONKE TUCK SHOP<br>lat=%{lat}<br>lon=%{lon}<extra></extra>',\n",
       "         'lat': ['-29.8582871401395'],\n",
       "         'legendgroup': 'SISONKE TUCK SHOP',\n",
       "         'lon': ['30.7702589035034'],\n",
       "         'marker': {'color': '#FF97FF', 'symbol': 'circle'},\n",
       "         'mode': 'markers',\n",
       "         'name': 'SISONKE TUCK SHOP',\n",
       "         'showlegend': True,\n",
       "         'type': 'scattergeo'},\n",
       "        {'geo': 'geo',\n",
       "         'hovertemplate': 'spaza_name=BHAI BHAI MINI MARKET<br>lat=%{lat}<br>lon=%{lon}<extra></extra>',\n",
       "         'lat': ['-29.8580545227619'],\n",
       "         'legendgroup': 'BHAI BHAI MINI MARKET',\n",
       "         'lon': ['31.0327827930451'],\n",
       "         'marker': {'color': '#FECB52', 'symbol': 'circle'},\n",
       "         'mode': 'markers',\n",
       "         'name': 'BHAI BHAI MINI MARKET',\n",
       "         'showlegend': True,\n",
       "         'type': 'scattergeo'},\n",
       "        {'geo': 'geo',\n",
       "         'hovertemplate': 'spaza_name=AYETH COSMETIC & SUPERMARKET<br>lat=%{lat}<br>lon=%{lon}<extra></extra>',\n",
       "         'lat': ['-29.5922229'],\n",
       "         'legendgroup': 'AYETH COSMETIC & SUPERMARKET',\n",
       "         'lon': ['30.3877395'],\n",
       "         'marker': {'color': '#636efa', 'symbol': 'circle'},\n",
       "         'mode': 'markers',\n",
       "         'name': 'AYETH COSMETIC & SUPERMARKET',\n",
       "         'showlegend': True,\n",
       "         'type': 'scattergeo'},\n",
       "        {'geo': 'geo',\n",
       "         'hovertemplate': 'spaza_name=BUHLE TUCK SHOP<br>lat=%{lat}<br>lon=%{lon}<extra></extra>',\n",
       "         'lat': ['-29.6557613066802'],\n",
       "         'legendgroup': 'BUHLE TUCK SHOP',\n",
       "         'lon': ['30.3172445297241'],\n",
       "         'marker': {'color': '#EF553B', 'symbol': 'circle'},\n",
       "         'mode': 'markers',\n",
       "         'name': 'BUHLE TUCK SHOP',\n",
       "         'showlegend': True,\n",
       "         'type': 'scattergeo'},\n",
       "        {'geo': 'geo',\n",
       "         'hovertemplate': 'spaza_name=BENRAY TEA ROOM<br>lat=%{lat}<br>lon=%{lon}<extra></extra>',\n",
       "         'lat': ['-29.8607807643701'],\n",
       "         'legendgroup': 'BENRAY TEA ROOM',\n",
       "         'lon': ['31.0157239437103'],\n",
       "         'marker': {'color': '#00cc96', 'symbol': 'circle'},\n",
       "         'mode': 'markers',\n",
       "         'name': 'BENRAY TEA ROOM',\n",
       "         'showlegend': True,\n",
       "         'type': 'scattergeo'},\n",
       "        {'geo': 'geo',\n",
       "         'hovertemplate': 'spaza_name=LANDAUVILLE STORE<br>lat=%{lat}<br>lon=%{lon}<extra></extra>',\n",
       "         'lat': ['-29.6386791930797'],\n",
       "         'legendgroup': 'LANDAUVILLE STORE',\n",
       "         'lon': ['30.3086185455322'],\n",
       "         'marker': {'color': '#ab63fa', 'symbol': 'circle'},\n",
       "         'mode': 'markers',\n",
       "         'name': 'LANDAUVILLE STORE',\n",
       "         'showlegend': True,\n",
       "         'type': 'scattergeo'},\n",
       "        {'geo': 'geo',\n",
       "         'hovertemplate': 'spaza_name=MBANJWA TUCK SHOP<br>lat=%{lat}<br>lon=%{lon}<extra></extra>',\n",
       "         'lat': ['-29.6447962655864'],\n",
       "         'legendgroup': 'MBANJWA TUCK SHOP',\n",
       "         'lon': ['30.3034687042236'],\n",
       "         'marker': {'color': '#FFA15A', 'symbol': 'circle'},\n",
       "         'mode': 'markers',\n",
       "         'name': 'MBANJWA TUCK SHOP',\n",
       "         'showlegend': True,\n",
       "         'type': 'scattergeo'},\n",
       "        {'geo': 'geo',\n",
       "         'hovertemplate': 'spaza_name=OXFORD STORE<br>lat=%{lat}<br>lon=%{lon}<extra></extra>',\n",
       "         'lat': ['-29.6032003086668'],\n",
       "         'legendgroup': 'OXFORD STORE',\n",
       "         'lon': ['30.3694295883179'],\n",
       "         'marker': {'color': '#19d3f3', 'symbol': 'circle'},\n",
       "         'mode': 'markers',\n",
       "         'name': 'OXFORD STORE',\n",
       "         'showlegend': True,\n",
       "         'type': 'scattergeo'},\n",
       "        {'geo': 'geo',\n",
       "         'hovertemplate': 'spaza_name=MOJO SUPERMARKET<br>lat=%{lat}<br>lon=%{lon}<extra></extra>',\n",
       "         'lat': ['-29.5921922283792'],\n",
       "         'legendgroup': 'MOJO SUPERMARKET',\n",
       "         'lon': ['30.3901147842407'],\n",
       "         'marker': {'color': '#FF6692', 'symbol': 'circle'},\n",
       "         'mode': 'markers',\n",
       "         'name': 'MOJO SUPERMARKET',\n",
       "         'showlegend': True,\n",
       "         'type': 'scattergeo'},\n",
       "        {'geo': 'geo',\n",
       "         'hovertemplate': 'spaza_name=HASSAN SUPERMARKET<br>lat=%{lat}<br>lon=%{lon}<extra></extra>',\n",
       "         'lat': ['-29.8559004600915'],\n",
       "         'legendgroup': 'HASSAN SUPERMARKET',\n",
       "         'lon': ['31.0384637117386'],\n",
       "         'marker': {'color': '#B6E880', 'symbol': 'circle'},\n",
       "         'mode': 'markers',\n",
       "         'name': 'HASSAN SUPERMARKET',\n",
       "         'showlegend': True,\n",
       "         'type': 'scattergeo'},\n",
       "        {'geo': 'geo',\n",
       "         'hovertemplate': 'spaza_name=GUMS TUCK SHOP<br>lat=%{lat}<br>lon=%{lon}<extra></extra>',\n",
       "         'lat': ['-29.7150786030178'],\n",
       "         'legendgroup': 'GUMS TUCK SHOP',\n",
       "         'lon': ['30.9615969657898'],\n",
       "         'marker': {'color': '#FF97FF', 'symbol': 'circle'},\n",
       "         'mode': 'markers',\n",
       "         'name': 'GUMS TUCK SHOP',\n",
       "         'showlegend': True,\n",
       "         'type': 'scattergeo'},\n",
       "        {'geo': 'geo',\n",
       "         'hovertemplate': 'spaza_name=KWA SOSIBO TUCK SHOP<br>lat=%{lat}<br>lon=%{lon}<extra></extra>',\n",
       "         'lat': ['-29.7122924806073'],\n",
       "         'legendgroup': 'KWA SOSIBO TUCK SHOP',\n",
       "         'lon': ['30.9621039032936'],\n",
       "         'marker': {'color': '#FECB52', 'symbol': 'circle'},\n",
       "         'mode': 'markers',\n",
       "         'name': 'KWA SOSIBO TUCK SHOP',\n",
       "         'showlegend': True,\n",
       "         'type': 'scattergeo'},\n",
       "        {'geo': 'geo',\n",
       "         'hovertemplate': 'spaza_name=PHASE 2 TUCK SHOP<br>lat=%{lat}<br>lon=%{lon}<extra></extra>',\n",
       "         'lat': ['-29.6622129664387'],\n",
       "         'legendgroup': 'PHASE 2 TUCK SHOP',\n",
       "         'lon': ['31.0641753673554'],\n",
       "         'marker': {'color': '#636efa', 'symbol': 'circle'},\n",
       "         'mode': 'markers',\n",
       "         'name': 'PHASE 2 TUCK SHOP',\n",
       "         'showlegend': True,\n",
       "         'type': 'scattergeo'},\n",
       "        {'geo': 'geo',\n",
       "         'hovertemplate': 'spaza_name=ROBORT TUCK SHOP<br>lat=%{lat}<br>lon=%{lon}<extra></extra>',\n",
       "         'lat': ['-29.608647931075'],\n",
       "         'legendgroup': 'ROBORT TUCK SHOP',\n",
       "         'lon': ['30.3676700592041'],\n",
       "         'marker': {'color': '#EF553B', 'symbol': 'circle'},\n",
       "         'mode': 'markers',\n",
       "         'name': 'ROBORT TUCK SHOP',\n",
       "         'showlegend': True,\n",
       "         'type': 'scattergeo'},\n",
       "        {'geo': 'geo',\n",
       "         'hovertemplate': 'spaza_name=MALULEKE TUCK SHOP<br>lat=%{lat}<br>lon=%{lon}<extra></extra>',\n",
       "         'lat': ['-29.6692235495859'],\n",
       "         'legendgroup': 'MALULEKE TUCK SHOP',\n",
       "         'lon': ['31.0583817958832'],\n",
       "         'marker': {'color': '#00cc96', 'symbol': 'circle'},\n",
       "         'mode': 'markers',\n",
       "         'name': 'MALULEKE TUCK SHOP',\n",
       "         'showlegend': True,\n",
       "         'type': 'scattergeo'},\n",
       "        {'geo': 'geo',\n",
       "         'hovertemplate': \"spaza_name=KHAN'S SUPER STORE<br>lat=%{lat}<br>lon=%{lon}<extra></extra>\",\n",
       "         'lat': ['-29.6685523446913'],\n",
       "         'legendgroup': \"KHAN'S SUPER STORE\",\n",
       "         'lon': ['31.0592830181122'],\n",
       "         'marker': {'color': '#ab63fa', 'symbol': 'circle'},\n",
       "         'mode': 'markers',\n",
       "         'name': \"KHAN'S SUPER STORE\",\n",
       "         'showlegend': True,\n",
       "         'type': 'scattergeo'},\n",
       "        {'geo': 'geo',\n",
       "         'hovertemplate': 'spaza_name=HALF PRICE TUCK SHOP<br>lat=%{lat}<br>lon=%{lon}<extra></extra>',\n",
       "         'lat': ['-29.6216501413069'],\n",
       "         'legendgroup': 'HALF PRICE TUCK SHOP',\n",
       "         'lon': ['31.034215092659'],\n",
       "         'marker': {'color': '#FFA15A', 'symbol': 'circle'},\n",
       "         'mode': 'markers',\n",
       "         'name': 'HALF PRICE TUCK SHOP',\n",
       "         'showlegend': True,\n",
       "         'type': 'scattergeo'},\n",
       "        {'geo': 'geo',\n",
       "         'hovertemplate': 'spaza_name=AFRICA TUCK SHOP<br>lat=%{lat}<br>lon=%{lon}<extra></extra>',\n",
       "         'lat': ['-29.6466611527917'],\n",
       "         'legendgroup': 'AFRICA TUCK SHOP',\n",
       "         'lon': ['30.2728700637817'],\n",
       "         'marker': {'color': '#19d3f3', 'symbol': 'circle'},\n",
       "         'mode': 'markers',\n",
       "         'name': 'AFRICA TUCK SHOP',\n",
       "         'showlegend': True,\n",
       "         'type': 'scattergeo'},\n",
       "        {'geo': 'geo',\n",
       "         'hovertemplate': 'spaza_name=KHABAZELA SUPERMARKET<br>lat=%{lat}<br>lon=%{lon}<extra></extra>',\n",
       "         'lat': ['-29.753177353852'],\n",
       "         'legendgroup': 'KHABAZELA SUPERMARKET',\n",
       "         'lon': ['30.9972327947617'],\n",
       "         'marker': {'color': '#FF6692', 'symbol': 'circle'},\n",
       "         'mode': 'markers',\n",
       "         'name': 'KHABAZELA SUPERMARKET',\n",
       "         'showlegend': True,\n",
       "         'type': 'scattergeo'},\n",
       "        {'geo': 'geo',\n",
       "         'hovertemplate': 'spaza_name=PK STORE<br>lat=%{lat}<br>lon=%{lon}<extra></extra>',\n",
       "         'lat': ['-29.6461389878564'],\n",
       "         'legendgroup': 'PK STORE',\n",
       "         'lon': ['30.3254413604736'],\n",
       "         'marker': {'color': '#B6E880', 'symbol': 'circle'},\n",
       "         'mode': 'markers',\n",
       "         'name': 'PK STORE',\n",
       "         'showlegend': True,\n",
       "         'type': 'scattergeo'},\n",
       "        {'geo': 'geo',\n",
       "         'hovertemplate': 'spaza_name=ARON TUCK SHOP<br>lat=%{lat}<br>lon=%{lon}<extra></extra>',\n",
       "         'lat': ['-29.6574768172792'],\n",
       "         'legendgroup': 'ARON TUCK SHOP',\n",
       "         'lon': ['30.3033399581909'],\n",
       "         'marker': {'color': '#FF97FF', 'symbol': 'circle'},\n",
       "         'mode': 'markers',\n",
       "         'name': 'ARON TUCK SHOP',\n",
       "         'showlegend': True,\n",
       "         'type': 'scattergeo'},\n",
       "        {'geo': 'geo',\n",
       "         'hovertemplate': 'spaza_name=MAGALELA TUCK SHOP<br>lat=%{lat}<br>lon=%{lon}<extra></extra>',\n",
       "         'lat': ['-29.6510621496229'],\n",
       "         'legendgroup': 'MAGALELA TUCK SHOP',\n",
       "         'lon': ['30.3250980377197'],\n",
       "         'marker': {'color': '#FECB52', 'symbol': 'circle'},\n",
       "         'mode': 'markers',\n",
       "         'name': 'MAGALELA TUCK SHOP',\n",
       "         'showlegend': True,\n",
       "         'type': 'scattergeo'},\n",
       "        {'geo': 'geo',\n",
       "         'hovertemplate': 'spaza_name=TASPIA DISCOUNT SUPERMARKET<br>lat=%{lat}<br>lon=%{lon}<extra></extra>',\n",
       "         'lat': ['-29.5927146729016'],\n",
       "         'legendgroup': 'TASPIA DISCOUNT SUPERMARKET',\n",
       "         'lon': ['30.3830766677856'],\n",
       "         'marker': {'color': '#636efa', 'symbol': 'circle'},\n",
       "         'mode': 'markers',\n",
       "         'name': 'TASPIA DISCOUNT SUPERMARKET',\n",
       "         'showlegend': True,\n",
       "         'type': 'scattergeo'},\n",
       "        {'geo': 'geo',\n",
       "         'hovertemplate': 'spaza_name=ALMADINA TAKE AWAY<br>lat=%{lat}<br>lon=%{lon}<extra></extra>',\n",
       "         'lat': ['-29.5941668858451'],\n",
       "         'legendgroup': 'ALMADINA TAKE AWAY',\n",
       "         'lon': ['30.3849159718266'],\n",
       "         'marker': {'color': '#EF553B', 'symbol': 'circle'},\n",
       "         'mode': 'markers',\n",
       "         'name': 'ALMADINA TAKE AWAY',\n",
       "         'showlegend': True,\n",
       "         'type': 'scattergeo'},\n",
       "        {'geo': 'geo',\n",
       "         'hovertemplate': 'spaza_name=STIFFANORD TUCK SHOP<br>lat=%{lat}<br>lon=%{lon}<extra></extra>',\n",
       "         'lat': ['-29.6571784697107'],\n",
       "         'legendgroup': 'STIFFANORD TUCK SHOP',\n",
       "         'lon': ['31.0564076900482'],\n",
       "         'marker': {'color': '#00cc96', 'symbol': 'circle'},\n",
       "         'mode': 'markers',\n",
       "         'name': 'STIFFANORD TUCK SHOP',\n",
       "         'showlegend': True,\n",
       "         'type': 'scattergeo'},\n",
       "        {'geo': 'geo',\n",
       "         'hovertemplate': \"spaza_name=TOMMY'S SUPERMARKET<br>lat=%{lat}<br>lon=%{lon}<extra></extra>\",\n",
       "         'lat': ['-29.6065957791035'],\n",
       "         'legendgroup': \"TOMMY'S SUPERMARKET\",\n",
       "         'lon': ['30.3730773925781'],\n",
       "         'marker': {'color': '#ab63fa', 'symbol': 'circle'},\n",
       "         'mode': 'markers',\n",
       "         'name': \"TOMMY'S SUPERMARKET\",\n",
       "         'showlegend': True,\n",
       "         'type': 'scattergeo'},\n",
       "        {'geo': 'geo',\n",
       "         'hovertemplate': 'spaza_name=TEDDY SUPERMARKET<br>lat=%{lat}<br>lon=%{lon}<extra></extra>',\n",
       "         'lat': ['-29.6446097749659'],\n",
       "         'legendgroup': 'TEDDY SUPERMARKET',\n",
       "         'lon': ['31.0468429327011'],\n",
       "         'marker': {'color': '#FFA15A', 'symbol': 'circle'},\n",
       "         'mode': 'markers',\n",
       "         'name': 'TEDDY SUPERMARKET',\n",
       "         'showlegend': True,\n",
       "         'type': 'scattergeo'},\n",
       "        {'geo': 'geo',\n",
       "         'hovertemplate': 'spaza_name=SHOZI TUCK SHOP<br>lat=%{lat}<br>lon=%{lon}<extra></extra>',\n",
       "         'lat': ['-29.7172822872142'],\n",
       "         'legendgroup': 'SHOZI TUCK SHOP',\n",
       "         'lon': ['30.9596845507622'],\n",
       "         'marker': {'color': '#19d3f3', 'symbol': 'circle'},\n",
       "         'mode': 'markers',\n",
       "         'name': 'SHOZI TUCK SHOP',\n",
       "         'showlegend': True,\n",
       "         'type': 'scattergeo'},\n",
       "        {'geo': 'geo',\n",
       "         'hovertemplate': 'spaza_name=ZIZAMELE TUCK SHOP<br>lat=%{lat}<br>lon=%{lon}<extra></extra>',\n",
       "         'lat': ['-29.9559245326277',\n",
       "          '-29.6519199486307',\n",
       "          '-29.6522912441378'],\n",
       "         'legendgroup': 'ZIZAMELE TUCK SHOP',\n",
       "         'lon': ['30.8823215961456', '31.0670506954193', '31.0655823699926'],\n",
       "         'marker': {'color': '#FF6692', 'symbol': 'circle'},\n",
       "         'mode': 'markers',\n",
       "         'name': 'ZIZAMELE TUCK SHOP',\n",
       "         'showlegend': True,\n",
       "         'type': 'scattergeo'},\n",
       "        {'geo': 'geo',\n",
       "         'hovertemplate': 'spaza_name=NQANAWE TUCK SHOP<br>lat=%{lat}<br>lon=%{lon}<extra></extra>',\n",
       "         'lat': ['-29.9558315768995'],\n",
       "         'legendgroup': 'NQANAWE TUCK SHOP',\n",
       "         'lon': ['30.884360074997'],\n",
       "         'marker': {'color': '#B6E880', 'symbol': 'circle'},\n",
       "         'mode': 'markers',\n",
       "         'name': 'NQANAWE TUCK SHOP',\n",
       "         'showlegend': True,\n",
       "         'type': 'scattergeo'},\n",
       "        {'geo': 'geo',\n",
       "         'hovertemplate': 'spaza_name=TOP THOKOZA TUCK SHOP<br>lat=%{lat}<br>lon=%{lon}<extra></extra>',\n",
       "         'lat': ['-29.7125254369482'],\n",
       "         'legendgroup': 'TOP THOKOZA TUCK SHOP',\n",
       "         'lon': ['30.9758877754211'],\n",
       "         'marker': {'color': '#FF97FF', 'symbol': 'circle'},\n",
       "         'mode': 'markers',\n",
       "         'name': 'TOP THOKOZA TUCK SHOP',\n",
       "         'showlegend': True,\n",
       "         'type': 'scattergeo'},\n",
       "        {'geo': 'geo',\n",
       "         'hovertemplate': 'spaza_name=BIG MAMA SUPER STORE<br>lat=%{lat}<br>lon=%{lon}<extra></extra>',\n",
       "         'lat': ['-29.6700439050408'],\n",
       "         'legendgroup': 'BIG MAMA SUPER STORE',\n",
       "         'lon': ['31.0037586092949'],\n",
       "         'marker': {'color': '#FECB52', 'symbol': 'circle'},\n",
       "         'mode': 'markers',\n",
       "         'name': 'BIG MAMA SUPER STORE',\n",
       "         'showlegend': True,\n",
       "         'type': 'scattergeo'},\n",
       "        {'geo': 'geo',\n",
       "         'hovertemplate': 'spaza_name=M.O SUPAMARKET<br>lat=%{lat}<br>lon=%{lon}<extra></extra>',\n",
       "         'lat': ['-29.8518760067974'],\n",
       "         'legendgroup': 'M.O SUPAMARKET',\n",
       "         'lon': ['31.0173922777176'],\n",
       "         'marker': {'color': '#636efa', 'symbol': 'circle'},\n",
       "         'mode': 'markers',\n",
       "         'name': 'M.O SUPAMARKET',\n",
       "         'showlegend': True,\n",
       "         'type': 'scattergeo'},\n",
       "        {'geo': 'geo',\n",
       "         'hovertemplate': \"spaza_name=SY'S SUPAMARKET<br>lat=%{lat}<br>lon=%{lon}<extra></extra>\",\n",
       "         'lat': ['-29.8562400886102'],\n",
       "         'legendgroup': \"SY'S SUPAMARKET\",\n",
       "         'lon': ['31.0376214981079'],\n",
       "         'marker': {'color': '#EF553B', 'symbol': 'circle'},\n",
       "         'mode': 'markers',\n",
       "         'name': \"SY'S SUPAMARKET\",\n",
       "         'showlegend': True,\n",
       "         'type': 'scattergeo'},\n",
       "        {'geo': 'geo',\n",
       "         'hovertemplate': 'spaza_name=ITIMAN TUCK SHOP<br>lat=%{lat}<br>lon=%{lon}<extra></extra>',\n",
       "         'lat': ['-29.6185583042923'],\n",
       "         'legendgroup': 'ITIMAN TUCK SHOP',\n",
       "         'lon': ['31.0252243280411'],\n",
       "         'marker': {'color': '#00cc96', 'symbol': 'circle'},\n",
       "         'mode': 'markers',\n",
       "         'name': 'ITIMAN TUCK SHOP',\n",
       "         'showlegend': True,\n",
       "         'type': 'scattergeo'},\n",
       "        {'geo': 'geo',\n",
       "         'hovertemplate': 'spaza_name=SNATHEMBA<br>lat=%{lat}<br>lon=%{lon}<extra></extra>',\n",
       "         'lat': ['-29.9570399945866'],\n",
       "         'legendgroup': 'SNATHEMBA',\n",
       "         'lon': ['30.8830752968788'],\n",
       "         'marker': {'color': '#ab63fa', 'symbol': 'circle'},\n",
       "         'mode': 'markers',\n",
       "         'name': 'SNATHEMBA',\n",
       "         'showlegend': True,\n",
       "         'type': 'scattergeo'},\n",
       "        {'geo': 'geo',\n",
       "         'hovertemplate': 'spaza_name=MCHOBOZO TUCKSHOP<br>lat=%{lat}<br>lon=%{lon}<extra></extra>',\n",
       "         'lat': ['-29.7379190950308'],\n",
       "         'legendgroup': 'MCHOBOZO TUCKSHOP',\n",
       "         'lon': ['30.9264868497849'],\n",
       "         'marker': {'color': '#FFA15A', 'symbol': 'circle'},\n",
       "         'mode': 'markers',\n",
       "         'name': 'MCHOBOZO TUCKSHOP',\n",
       "         'showlegend': True,\n",
       "         'type': 'scattergeo'},\n",
       "        {'geo': 'geo',\n",
       "         'hovertemplate': 'spaza_name=CELLMAN SUPERMARKET<br>lat=%{lat}<br>lon=%{lon}<extra></extra>',\n",
       "         'lat': ['-29.8570309998597'],\n",
       "         'legendgroup': 'CELLMAN SUPERMARKET',\n",
       "         'lon': ['31.0327506065369'],\n",
       "         'marker': {'color': '#19d3f3', 'symbol': 'circle'},\n",
       "         'mode': 'markers',\n",
       "         'name': 'CELLMAN SUPERMARKET',\n",
       "         'showlegend': True,\n",
       "         'type': 'scattergeo'},\n",
       "        {'geo': 'geo',\n",
       "         'hovertemplate': 'spaza_name=INAN TAKE AWAY & GENERAL DEALER<br>lat=%{lat}<br>lon=%{lon}<extra></extra>',\n",
       "         'lat': ['-29.5918563697577'],\n",
       "         'legendgroup': 'INAN TAKE AWAY & GENERAL DEALER',\n",
       "         'lon': ['30.3880548477173'],\n",
       "         'marker': {'color': '#FF6692', 'symbol': 'circle'},\n",
       "         'mode': 'markers',\n",
       "         'name': 'INAN TAKE AWAY & GENERAL DEALER',\n",
       "         'showlegend': True,\n",
       "         'type': 'scattergeo'},\n",
       "        {'geo': 'geo',\n",
       "         'hovertemplate': 'spaza_name=VULINDLELA TUCK SHOP<br>lat=%{lat}<br>lon=%{lon}<extra></extra>',\n",
       "         'lat': ['-29.7109164742229'],\n",
       "         'legendgroup': 'VULINDLELA TUCK SHOP',\n",
       "         'lon': ['30.9609156847'],\n",
       "         'marker': {'color': '#B6E880', 'symbol': 'circle'},\n",
       "         'mode': 'markers',\n",
       "         'name': 'VULINDLELA TUCK SHOP',\n",
       "         'showlegend': True,\n",
       "         'type': 'scattergeo'},\n",
       "        {'geo': 'geo',\n",
       "         'hovertemplate': 'spaza_name=SIPHESANDE TUCK SHOP<br>lat=%{lat}<br>lon=%{lon}<extra></extra>',\n",
       "         'lat': ['-29.6243361851463'],\n",
       "         'legendgroup': 'SIPHESANDE TUCK SHOP',\n",
       "         'lon': ['31.0281533002853'],\n",
       "         'marker': {'color': '#FF97FF', 'symbol': 'circle'},\n",
       "         'mode': 'markers',\n",
       "         'name': 'SIPHESANDE TUCK SHOP',\n",
       "         'showlegend': True,\n",
       "         'type': 'scattergeo'},\n",
       "        {'geo': 'geo',\n",
       "         'hovertemplate': 'spaza_name=DALISU TUCK SHOP<br>lat=%{lat}<br>lon=%{lon}<extra></extra>',\n",
       "         'lat': ['-29.6629587963806'],\n",
       "         'legendgroup': 'DALISU TUCK SHOP',\n",
       "         'lon': ['31.062844991684'],\n",
       "         'marker': {'color': '#FECB52', 'symbol': 'circle'},\n",
       "         'mode': 'markers',\n",
       "         'name': 'DALISU TUCK SHOP',\n",
       "         'showlegend': True,\n",
       "         'type': 'scattergeo'},\n",
       "        {'geo': 'geo',\n",
       "         'hovertemplate': 'spaza_name=SILINDOKUHLE TUCK SHOP<br>lat=%{lat}<br>lon=%{lon}<extra></extra>',\n",
       "         'lat': ['-29.6494211224549'],\n",
       "         'legendgroup': 'SILINDOKUHLE TUCK SHOP',\n",
       "         'lon': ['30.2796077728271'],\n",
       "         'marker': {'color': '#636efa', 'symbol': 'circle'},\n",
       "         'mode': 'markers',\n",
       "         'name': 'SILINDOKUHLE TUCK SHOP',\n",
       "         'showlegend': True,\n",
       "         'type': 'scattergeo'},\n",
       "        {'geo': 'geo',\n",
       "         'hovertemplate': 'spaza_name=MADIBA TUCK SHOP<br>lat=%{lat}<br>lon=%{lon}<extra></extra>',\n",
       "         'lat': ['-29.6564698906902'],\n",
       "         'legendgroup': 'MADIBA TUCK SHOP',\n",
       "         'lon': ['30.3199911117554'],\n",
       "         'marker': {'color': '#EF553B', 'symbol': 'circle'},\n",
       "         'mode': 'markers',\n",
       "         'name': 'MADIBA TUCK SHOP',\n",
       "         'showlegend': True,\n",
       "         'type': 'scattergeo'},\n",
       "        {'geo': 'geo',\n",
       "         'hovertemplate': 'spaza_name=786 TUCK SHOP<br>lat=%{lat}<br>lon=%{lon}<extra></extra>',\n",
       "         'lat': ['-29.6958071177534'],\n",
       "         'legendgroup': '786 TUCK SHOP',\n",
       "         'lon': ['31.0727155208588'],\n",
       "         'marker': {'color': '#00cc96', 'symbol': 'circle'},\n",
       "         'mode': 'markers',\n",
       "         'name': '786 TUCK SHOP',\n",
       "         'showlegend': True,\n",
       "         'type': 'scattergeo'},\n",
       "        {'geo': 'geo',\n",
       "         'hovertemplate': 'spaza_name=CENTRAL TUCK SHOP<br>lat=%{lat}<br>lon=%{lon}<extra></extra>',\n",
       "         'lat': ['-29.6243455115626'],\n",
       "         'legendgroup': 'CENTRAL TUCK SHOP',\n",
       "         'lon': ['31.0271126031876'],\n",
       "         'marker': {'color': '#ab63fa', 'symbol': 'circle'},\n",
       "         'mode': 'markers',\n",
       "         'name': 'CENTRAL TUCK SHOP',\n",
       "         'showlegend': True,\n",
       "         'type': 'scattergeo'},\n",
       "        {'geo': 'geo',\n",
       "         'hovertemplate': 'spaza_name=HALELUYA TUCK SHOP<br>lat=%{lat}<br>lon=%{lon}<extra></extra>',\n",
       "         'lat': ['-29.6623994244425', '-29.6598262734685'],\n",
       "         'legendgroup': 'HALELUYA TUCK SHOP',\n",
       "         'lon': ['31.0690677165985', '31.0695022344589'],\n",
       "         'marker': {'color': '#FFA15A', 'symbol': 'circle'},\n",
       "         'mode': 'markers',\n",
       "         'name': 'HALELUYA TUCK SHOP',\n",
       "         'showlegend': True,\n",
       "         'type': 'scattergeo'},\n",
       "        {'geo': 'geo',\n",
       "         'hovertemplate': 'spaza_name=MIYA G TUCK SHOP<br>lat=%{lat}<br>lon=%{lon}<extra></extra>',\n",
       "         'lat': ['-29.6692608386154'],\n",
       "         'legendgroup': 'MIYA G TUCK SHOP',\n",
       "         'lon': ['31.0659402608871'],\n",
       "         'marker': {'color': '#19d3f3', 'symbol': 'circle'},\n",
       "         'mode': 'markers',\n",
       "         'name': 'MIYA G TUCK SHOP',\n",
       "         'showlegend': True,\n",
       "         'type': 'scattergeo'},\n",
       "        {'geo': 'geo',\n",
       "         'hovertemplate': 'spaza_name=SHENGE TUCK SHOP<br>lat=%{lat}<br>lon=%{lon}<extra></extra>',\n",
       "         'lat': ['-29.703919670927'],\n",
       "         'legendgroup': 'SHENGE TUCK SHOP',\n",
       "         'lon': ['30.9695255756378'],\n",
       "         'marker': {'color': '#FF6692', 'symbol': 'circle'},\n",
       "         'mode': 'markers',\n",
       "         'name': 'SHENGE TUCK SHOP',\n",
       "         'showlegend': True,\n",
       "         'type': 'scattergeo'},\n",
       "        {'geo': 'geo',\n",
       "         'hovertemplate': 'spaza_name=HALLEYAH TUCK SHOP<br>lat=%{lat}<br>lon=%{lon}<extra></extra>',\n",
       "         'lat': ['-29.6736608470245'],\n",
       "         'legendgroup': 'HALLEYAH TUCK SHOP',\n",
       "         'lon': ['31.0534036159515'],\n",
       "         'marker': {'color': '#B6E880', 'symbol': 'circle'},\n",
       "         'mode': 'markers',\n",
       "         'name': 'HALLEYAH TUCK SHOP',\n",
       "         'showlegend': True,\n",
       "         'type': 'scattergeo'},\n",
       "        {'geo': 'geo',\n",
       "         'hovertemplate': 'spaza_name=SIYABONGA TUCK SHOP<br>lat=%{lat}<br>lon=%{lon}<extra></extra>',\n",
       "         'lat': ['-29.6607585821485'],\n",
       "         'legendgroup': 'SIYABONGA TUCK SHOP',\n",
       "         'lon': ['31.0697114467621'],\n",
       "         'marker': {'color': '#FF97FF', 'symbol': 'circle'},\n",
       "         'mode': 'markers',\n",
       "         'name': 'SIYABONGA TUCK SHOP',\n",
       "         'showlegend': True,\n",
       "         'type': 'scattergeo'},\n",
       "        {'geo': 'geo',\n",
       "         'hovertemplate': 'spaza_name=RUSSELL SUPERETE<br>lat=%{lat}<br>lon=%{lon}<extra></extra>',\n",
       "         'lat': ['-29.863981444456'],\n",
       "         'legendgroup': 'RUSSELL SUPERETE',\n",
       "         'lon': ['31.0164213180542'],\n",
       "         'marker': {'color': '#FECB52', 'symbol': 'circle'},\n",
       "         'mode': 'markers',\n",
       "         'name': 'RUSSELL SUPERETE',\n",
       "         'showlegend': True,\n",
       "         'type': 'scattergeo'},\n",
       "        {'geo': 'geo',\n",
       "         'hovertemplate': 'spaza_name=EMAZOLWENI TUCKSHOP<br>lat=%{lat}<br>lon=%{lon}<extra></extra>',\n",
       "         'lat': ['-29.752106184366'],\n",
       "         'legendgroup': 'EMAZOLWENI TUCKSHOP',\n",
       "         'lon': ['30.941453576088'],\n",
       "         'marker': {'color': '#636efa', 'symbol': 'circle'},\n",
       "         'mode': 'markers',\n",
       "         'name': 'EMAZOLWENI TUCKSHOP',\n",
       "         'showlegend': True,\n",
       "         'type': 'scattergeo'},\n",
       "        {'geo': 'geo',\n",
       "         'hovertemplate': 'spaza_name=JABULANI DISCOUNT SUPERMARKET<br>lat=%{lat}<br>lon=%{lon}<extra></extra>',\n",
       "         'lat': ['-29.8606691108862'],\n",
       "         'legendgroup': 'JABULANI DISCOUNT SUPERMARKET',\n",
       "         'lon': ['31.0157454013824'],\n",
       "         'marker': {'color': '#EF553B', 'symbol': 'circle'},\n",
       "         'mode': 'markers',\n",
       "         'name': 'JABULANI DISCOUNT SUPERMARKET',\n",
       "         'showlegend': True,\n",
       "         'type': 'scattergeo'},\n",
       "        {'geo': 'geo',\n",
       "         'hovertemplate': 'spaza_name=KWA MASHISHWANE TUCKSHOP<br>lat=%{lat}<br>lon=%{lon}<extra></extra>',\n",
       "         'lat': ['-29.7378678576498'],\n",
       "         'legendgroup': 'KWA MASHISHWANE TUCKSHOP',\n",
       "         'lon': ['30.9249258041382'],\n",
       "         'marker': {'color': '#00cc96', 'symbol': 'circle'},\n",
       "         'mode': 'markers',\n",
       "         'name': 'KWA MASHISHWANE TUCKSHOP',\n",
       "         'showlegend': True,\n",
       "         'type': 'scattergeo'},\n",
       "        {'geo': 'geo',\n",
       "         'hovertemplate': \"spaza_name=JOLLY'S SUPERMARKET<br>lat=%{lat}<br>lon=%{lon}<extra></extra>\",\n",
       "         'lat': ['-29.5912592850032'],\n",
       "         'legendgroup': \"JOLLY'S SUPERMARKET\",\n",
       "         'lon': ['30.3889560699463'],\n",
       "         'marker': {'color': '#ab63fa', 'symbol': 'circle'},\n",
       "         'mode': 'markers',\n",
       "         'name': \"JOLLY'S SUPERMARKET\",\n",
       "         'showlegend': True,\n",
       "         'type': 'scattergeo'},\n",
       "        {'geo': 'geo',\n",
       "         'hovertemplate': \"spaza_name=MORGAN'S CAFE & SUPERMARKET<br>lat=%{lat}<br>lon=%{lon}<extra></extra>\",\n",
       "         'lat': ['-29.8561098202739'],\n",
       "         'legendgroup': \"MORGAN'S CAFE & SUPERMARKET\",\n",
       "         'lon': ['31.0380077362061'],\n",
       "         'marker': {'color': '#FFA15A', 'symbol': 'circle'},\n",
       "         'mode': 'markers',\n",
       "         'name': \"MORGAN'S CAFE & SUPERMARKET\",\n",
       "         'showlegend': True,\n",
       "         'type': 'scattergeo'},\n",
       "        {'geo': 'geo',\n",
       "         'hovertemplate': 'spaza_name=CHEAPEST TRADING<br>lat=%{lat}<br>lon=%{lon}<extra></extra>',\n",
       "         'lat': ['-29.8568449036589'],\n",
       "         'legendgroup': 'CHEAPEST TRADING',\n",
       "         'lon': ['31.0379379987717'],\n",
       "         'marker': {'color': '#19d3f3', 'symbol': 'circle'},\n",
       "         'mode': 'markers',\n",
       "         'name': 'CHEAPEST TRADING',\n",
       "         'showlegend': True,\n",
       "         'type': 'scattergeo'},\n",
       "        {'geo': 'geo',\n",
       "         'hovertemplate': 'spaza_name=ENTUTHUKWENI TUCKSHOP<br>lat=%{lat}<br>lon=%{lon}<extra></extra>',\n",
       "         'lat': ['-29.7398381489967'],\n",
       "         'legendgroup': 'ENTUTHUKWENI TUCKSHOP',\n",
       "         'lon': ['30.9290027618408'],\n",
       "         'marker': {'color': '#FF6692', 'symbol': 'circle'},\n",
       "         'mode': 'markers',\n",
       "         'name': 'ENTUTHUKWENI TUCKSHOP',\n",
       "         'showlegend': True,\n",
       "         'type': 'scattergeo'},\n",
       "        {'geo': 'geo',\n",
       "         'hovertemplate': 'spaza_name=HALELUJA TUCKSHOP<br>lat=%{lat}<br>lon=%{lon}<extra></extra>',\n",
       "         'lat': ['-29.6663895428941'],\n",
       "         'legendgroup': 'HALELUJA TUCKSHOP',\n",
       "         'lon': ['31.0121941566467'],\n",
       "         'marker': {'color': '#B6E880', 'symbol': 'circle'},\n",
       "         'mode': 'markers',\n",
       "         'name': 'HALELUJA TUCKSHOP',\n",
       "         'showlegend': True,\n",
       "         'type': 'scattergeo'},\n",
       "        {'geo': 'geo',\n",
       "         'hovertemplate': 'spaza_name=BONGINKOSI TUCK SHOP<br>lat=%{lat}<br>lon=%{lon}<extra></extra>',\n",
       "         'lat': ['-29.6553883657235'],\n",
       "         'legendgroup': 'BONGINKOSI TUCK SHOP',\n",
       "         'lon': ['30.3148519992828'],\n",
       "         'marker': {'color': '#FF97FF', 'symbol': 'circle'},\n",
       "         'mode': 'markers',\n",
       "         'name': 'BONGINKOSI TUCK SHOP',\n",
       "         'showlegend': True,\n",
       "         'type': 'scattergeo'},\n",
       "        {'geo': 'geo',\n",
       "         'hovertemplate': 'spaza_name=ADIS ABABA SUPERMARKERT<br>lat=%{lat}<br>lon=%{lon}<extra></extra>',\n",
       "         'lat': ['-29.6036748809589'],\n",
       "         'legendgroup': 'ADIS ABABA SUPERMARKERT',\n",
       "         'lon': ['30.3772627960643'],\n",
       "         'marker': {'color': '#FECB52', 'symbol': 'circle'},\n",
       "         'mode': 'markers',\n",
       "         'name': 'ADIS ABABA SUPERMARKERT',\n",
       "         'showlegend': True,\n",
       "         'type': 'scattergeo'},\n",
       "        {'geo': 'geo',\n",
       "         'hovertemplate': 'spaza_name=NSELE TUCK SHOP<br>lat=%{lat}<br>lon=%{lon}<extra></extra>',\n",
       "         'lat': ['-29.6688133693493'],\n",
       "         'legendgroup': 'NSELE TUCK SHOP',\n",
       "         'lon': ['31.0584568977356'],\n",
       "         'marker': {'color': '#636efa', 'symbol': 'circle'},\n",
       "         'mode': 'markers',\n",
       "         'name': 'NSELE TUCK SHOP',\n",
       "         'showlegend': True,\n",
       "         'type': 'scattergeo'},\n",
       "        {'geo': 'geo',\n",
       "         'hovertemplate': 'spaza_name=KUVUKI LAND<br>lat=%{lat}<br>lon=%{lon}<extra></extra>',\n",
       "         'lat': ['-29.6344641646895'],\n",
       "         'legendgroup': 'KUVUKI LAND',\n",
       "         'lon': ['30.3392171859741'],\n",
       "         'marker': {'color': '#EF553B', 'symbol': 'circle'},\n",
       "         'mode': 'markers',\n",
       "         'name': 'KUVUKI LAND',\n",
       "         'showlegend': True,\n",
       "         'type': 'scattergeo'},\n",
       "        {'geo': 'geo',\n",
       "         'hovertemplate': 'spaza_name=GREEN TUCK SHOP<br>lat=%{lat}<br>lon=%{lon}<extra></extra>',\n",
       "         'lat': ['-29.6414393815636'],\n",
       "         'legendgroup': 'GREEN TUCK SHOP',\n",
       "         'lon': ['30.347843170166'],\n",
       "         'marker': {'color': '#00cc96', 'symbol': 'circle'},\n",
       "         'mode': 'markers',\n",
       "         'name': 'GREEN TUCK SHOP',\n",
       "         'showlegend': True,\n",
       "         'type': 'scattergeo'},\n",
       "        {'geo': 'geo',\n",
       "         'hovertemplate': 'spaza_name=MAMUSH TUCK SHOP<br>lat=%{lat}<br>lon=%{lon}<extra></extra>',\n",
       "         'lat': ['-29.6588193703906'],\n",
       "         'legendgroup': 'MAMUSH TUCK SHOP',\n",
       "         'lon': ['30.3080606460571'],\n",
       "         'marker': {'color': '#ab63fa', 'symbol': 'circle'},\n",
       "         'mode': 'markers',\n",
       "         'name': 'MAMUSH TUCK SHOP',\n",
       "         'showlegend': True,\n",
       "         'type': 'scattergeo'},\n",
       "        {'geo': 'geo',\n",
       "         'hovertemplate': 'spaza_name=JAMAICA TUCK SHOP<br>lat=%{lat}<br>lon=%{lon}<extra></extra>',\n",
       "         'lat': ['-29.6430059413691'],\n",
       "         'legendgroup': 'JAMAICA TUCK SHOP',\n",
       "         'lon': ['30.3471565246582'],\n",
       "         'marker': {'color': '#FFA15A', 'symbol': 'circle'},\n",
       "         'mode': 'markers',\n",
       "         'name': 'JAMAICA TUCK SHOP',\n",
       "         'showlegend': True,\n",
       "         'type': 'scattergeo'},\n",
       "        {'geo': 'geo',\n",
       "         'hovertemplate': 'spaza_name=BAFANA TUCK SHOP<br>lat=%{lat}<br>lon=%{lon}<extra></extra>',\n",
       "         'lat': ['-29.7181824862041'],\n",
       "         'legendgroup': 'BAFANA TUCK SHOP',\n",
       "         'lon': ['30.9611922508338'],\n",
       "         'marker': {'color': '#19d3f3', 'symbol': 'circle'},\n",
       "         'mode': 'markers',\n",
       "         'name': 'BAFANA TUCK SHOP',\n",
       "         'showlegend': True,\n",
       "         'type': 'scattergeo'},\n",
       "        {'geo': 'geo',\n",
       "         'hovertemplate': 'spaza_name=THULANI STORE<br>lat=%{lat}<br>lon=%{lon}<extra></extra>',\n",
       "         'lat': ['-29.6966645351509'],\n",
       "         'legendgroup': 'THULANI STORE',\n",
       "         'lon': ['31.070784330368'],\n",
       "         'marker': {'color': '#FF6692', 'symbol': 'circle'},\n",
       "         'mode': 'markers',\n",
       "         'name': 'THULANI STORE',\n",
       "         'showlegend': True,\n",
       "         'type': 'scattergeo'},\n",
       "        {'geo': 'geo',\n",
       "         'hovertemplate': \"spaza_name=JAMEELA'S TUCK SHOP<br>lat=%{lat}<br>lon=%{lon}<extra></extra>\",\n",
       "         'lat': ['-29.6925637770613'],\n",
       "         'legendgroup': \"JAMEELA'S TUCK SHOP\",\n",
       "         'lon': ['31.0719859600067'],\n",
       "         'marker': {'color': '#B6E880', 'symbol': 'circle'},\n",
       "         'mode': 'markers',\n",
       "         'name': \"JAMEELA'S TUCK SHOP\",\n",
       "         'showlegend': True,\n",
       "         'type': 'scattergeo'},\n",
       "        {'geo': 'geo',\n",
       "         'hovertemplate': 'spaza_name=NAZISH YASIN TRADING<br>lat=%{lat}<br>lon=%{lon}<extra></extra>',\n",
       "         'lat': ['-29.6936821822299'],\n",
       "         'legendgroup': 'NAZISH YASIN TRADING',\n",
       "         'lon': ['31.0733485221863'],\n",
       "         'marker': {'color': '#FF97FF', 'symbol': 'circle'},\n",
       "         'mode': 'markers',\n",
       "         'name': 'NAZISH YASIN TRADING',\n",
       "         'showlegend': True,\n",
       "         'type': 'scattergeo'},\n",
       "        {'geo': 'geo',\n",
       "         'hovertemplate': 'spaza_name=MASHALLAH SUPERMARKET<br>lat=%{lat}<br>lon=%{lon}<extra></extra>',\n",
       "         'lat': ['-29.8659103503729'],\n",
       "         'legendgroup': 'MASHALLAH SUPERMARKET',\n",
       "         'lon': ['31.041353791981'],\n",
       "         'marker': {'color': '#FECB52', 'symbol': 'circle'},\n",
       "         'mode': 'markers',\n",
       "         'name': 'MASHALLAH SUPERMARKET',\n",
       "         'showlegend': True,\n",
       "         'type': 'scattergeo'},\n",
       "        {'geo': 'geo',\n",
       "         'hovertemplate': 'spaza_name=BUDDIEZ 2 SUPERMARKET<br>lat=%{lat}<br>lon=%{lon}<extra></extra>',\n",
       "         'lat': ['-29.8643676924'],\n",
       "         'legendgroup': 'BUDDIEZ 2 SUPERMARKET',\n",
       "         'lon': ['31.040450053'],\n",
       "         'marker': {'color': '#636efa', 'symbol': 'circle'},\n",
       "         'mode': 'markers',\n",
       "         'name': 'BUDDIEZ 2 SUPERMARKET',\n",
       "         'showlegend': True,\n",
       "         'type': 'scattergeo'},\n",
       "        {'geo': 'geo',\n",
       "         'hovertemplate': 'spaza_name=EZIGXOTSHENI TUCK SHOP<br>lat=%{lat}<br>lon=%{lon}<extra></extra>',\n",
       "         'lat': ['-29.9541867624299'],\n",
       "         'legendgroup': 'EZIGXOTSHENI TUCK SHOP',\n",
       "         'lon': ['30.8755278593162'],\n",
       "         'marker': {'color': '#EF553B', 'symbol': 'circle'},\n",
       "         'mode': 'markers',\n",
       "         'name': 'EZIGXOTSHENI TUCK SHOP',\n",
       "         'showlegend': True,\n",
       "         'type': 'scattergeo'},\n",
       "        {'geo': 'geo',\n",
       "         'hovertemplate': 'spaza_name=JABULA TUCK SHOP<br>lat=%{lat}<br>lon=%{lon}<extra></extra>',\n",
       "         'lat': ['-29.7108714352226'],\n",
       "         'legendgroup': 'JABULA TUCK SHOP',\n",
       "         'lon': ['30.9732484817505'],\n",
       "         'marker': {'color': '#00cc96', 'symbol': 'circle'},\n",
       "         'mode': 'markers',\n",
       "         'name': 'JABULA TUCK SHOP',\n",
       "         'showlegend': True,\n",
       "         'type': 'scattergeo'},\n",
       "        {'geo': 'geo',\n",
       "         'hovertemplate': 'spaza_name=BAFANA BAFANA SHOP<br>lat=%{lat}<br>lon=%{lon}<extra></extra>',\n",
       "         'lat': ['-29.6680365124286'],\n",
       "         'legendgroup': 'BAFANA BAFANA SHOP',\n",
       "         'lon': ['31.0630356598449'],\n",
       "         'marker': {'color': '#ab63fa', 'symbol': 'circle'},\n",
       "         'mode': 'markers',\n",
       "         'name': 'BAFANA BAFANA SHOP',\n",
       "         'showlegend': True,\n",
       "         'type': 'scattergeo'},\n",
       "        {'geo': 'geo',\n",
       "         'hovertemplate': 'spaza_name=AYOBA TUCK SHOP<br>lat=%{lat}<br>lon=%{lon}<extra></extra>',\n",
       "         'lat': ['-29.6545305962778'],\n",
       "         'legendgroup': 'AYOBA TUCK SHOP',\n",
       "         'lon': ['31.068606376648'],\n",
       "         'marker': {'color': '#FFA15A', 'symbol': 'circle'},\n",
       "         'mode': 'markers',\n",
       "         'name': 'AYOBA TUCK SHOP',\n",
       "         'showlegend': True,\n",
       "         'type': 'scattergeo'},\n",
       "        {'geo': 'geo',\n",
       "         'hovertemplate': 'spaza_name=AFRICAN DELIGHT<br>lat=%{lat}<br>lon=%{lon}<extra></extra>',\n",
       "         'lat': ['-29.8611575939559'],\n",
       "         'legendgroup': 'AFRICAN DELIGHT',\n",
       "         'lon': ['31.0156863927841'],\n",
       "         'marker': {'color': '#19d3f3', 'symbol': 'circle'},\n",
       "         'mode': 'markers',\n",
       "         'name': 'AFRICAN DELIGHT',\n",
       "         'showlegend': True,\n",
       "         'type': 'scattergeo'},\n",
       "        {'geo': 'geo',\n",
       "         'hovertemplate': 'spaza_name=GILROC SUPERMARKET<br>lat=%{lat}<br>lon=%{lon}<extra></extra>',\n",
       "         'lat': ['-29.8591059489959'],\n",
       "         'legendgroup': 'GILROC SUPERMARKET',\n",
       "         'lon': ['31.0391235351563'],\n",
       "         'marker': {'color': '#FF6692', 'symbol': 'circle'},\n",
       "         'mode': 'markers',\n",
       "         'name': 'GILROC SUPERMARKET',\n",
       "         'showlegend': True,\n",
       "         'type': 'scattergeo'},\n",
       "        {'geo': 'geo',\n",
       "         'hovertemplate': 'spaza_name=AFRICA MINI MARKET<br>lat=%{lat}<br>lon=%{lon}<extra></extra>',\n",
       "         'lat': ['-29.8585432442'],\n",
       "         'legendgroup': 'AFRICA MINI MARKET',\n",
       "         'lon': ['31.0392402113'],\n",
       "         'marker': {'color': '#B6E880', 'symbol': 'circle'},\n",
       "         'mode': 'markers',\n",
       "         'name': 'AFRICA MINI MARKET',\n",
       "         'showlegend': True,\n",
       "         'type': 'scattergeo'},\n",
       "        {'geo': 'geo',\n",
       "         'hovertemplate': 'spaza_name=MAKHATHINI TUCK SHOP<br>lat=%{lat}<br>lon=%{lon}<extra></extra>',\n",
       "         'lat': ['-29.9469817936031'],\n",
       "         'legendgroup': 'MAKHATHINI TUCK SHOP',\n",
       "         'lon': ['30.878778398037'],\n",
       "         'marker': {'color': '#FF97FF', 'symbol': 'circle'},\n",
       "         'mode': 'markers',\n",
       "         'name': 'MAKHATHINI TUCK SHOP',\n",
       "         'showlegend': True,\n",
       "         'type': 'scattergeo'},\n",
       "        {'geo': 'geo',\n",
       "         'hovertemplate': \"spaza_name=THINA'S TUCKSHOP<br>lat=%{lat}<br>lon=%{lon}<extra></extra>\",\n",
       "         'lat': ['-29.7403179067505'],\n",
       "         'legendgroup': \"THINA'S TUCKSHOP\",\n",
       "         'lon': ['30.9266263246536'],\n",
       "         'marker': {'color': '#FECB52', 'symbol': 'circle'},\n",
       "         'mode': 'markers',\n",
       "         'name': \"THINA'S TUCKSHOP\",\n",
       "         'showlegend': True,\n",
       "         'type': 'scattergeo'},\n",
       "        {'geo': 'geo',\n",
       "         'hovertemplate': 'spaza_name=RUSSEL STREET SUPERMARKET<br>lat=%{lat}<br>lon=%{lon}<extra></extra>',\n",
       "         'lat': ['-29.8614879002004'],\n",
       "         'legendgroup': 'RUSSEL STREET SUPERMARKET',\n",
       "         'lon': ['31.0157775878906'],\n",
       "         'marker': {'color': '#636efa', 'symbol': 'circle'},\n",
       "         'mode': 'markers',\n",
       "         'name': 'RUSSEL STREET SUPERMARKET',\n",
       "         'showlegend': True,\n",
       "         'type': 'scattergeo'},\n",
       "        {'geo': 'geo',\n",
       "         'hovertemplate': 'spaza_name=AFRICAN DISCOUNT SUPERMAKET<br>lat=%{lat}<br>lon=%{lon}<extra></extra>',\n",
       "         'lat': ['-29.6065957791035'],\n",
       "         'legendgroup': 'AFRICAN DISCOUNT SUPERMAKET',\n",
       "         'lon': ['30.3731203079224'],\n",
       "         'marker': {'color': '#EF553B', 'symbol': 'circle'},\n",
       "         'mode': 'markers',\n",
       "         'name': 'AFRICAN DISCOUNT SUPERMAKET',\n",
       "         'showlegend': True,\n",
       "         'type': 'scattergeo'},\n",
       "        {'geo': 'geo',\n",
       "         'hovertemplate': 'spaza_name=THULIS TUCK SHOP<br>lat=%{lat}<br>lon=%{lon}<extra></extra>',\n",
       "         'lat': ['-29.6505773034716'],\n",
       "         'legendgroup': 'THULIS TUCK SHOP',\n",
       "         'lon': ['30.3246259689331'],\n",
       "         'marker': {'color': '#00cc96', 'symbol': 'circle'},\n",
       "         'mode': 'markers',\n",
       "         'name': 'THULIS TUCK SHOP',\n",
       "         'showlegend': True,\n",
       "         'type': 'scattergeo'},\n",
       "        {'geo': 'geo',\n",
       "         'hovertemplate': \"spaza_name=THULI'S TUCK SHOP<br>lat=%{lat}<br>lon=%{lon}<extra></extra>\",\n",
       "         'lat': ['-29.6253439512711'],\n",
       "         'legendgroup': \"THULI'S TUCK SHOP\",\n",
       "         'lon': ['31.0314664246471'],\n",
       "         'marker': {'color': '#ab63fa', 'symbol': 'circle'},\n",
       "         'mode': 'markers',\n",
       "         'name': \"THULI'S TUCK SHOP\",\n",
       "         'showlegend': True,\n",
       "         'type': 'scattergeo'},\n",
       "        {'geo': 'geo',\n",
       "         'hovertemplate': \"spaza_name=SKY'S TUCK SHOP<br>lat=%{lat}<br>lon=%{lon}<extra></extra>\",\n",
       "         'lat': ['-29.6500178627025'],\n",
       "         'legendgroup': \"SKY'S TUCK SHOP\",\n",
       "         'lon': ['30.2779340744019'],\n",
       "         'marker': {'color': '#FFA15A', 'symbol': 'circle'},\n",
       "         'mode': 'markers',\n",
       "         'name': \"SKY'S TUCK SHOP\",\n",
       "         'showlegend': True,\n",
       "         'type': 'scattergeo'},\n",
       "        {'geo': 'geo',\n",
       "         'hovertemplate': 'spaza_name=50 /50<br>lat=%{lat}<br>lon=%{lon}<extra></extra>',\n",
       "         'lat': ['-29.7536849910452'],\n",
       "         'legendgroup': '50 /50',\n",
       "         'lon': ['30.9966695308685'],\n",
       "         'marker': {'color': '#19d3f3', 'symbol': 'circle'},\n",
       "         'mode': 'markers',\n",
       "         'name': '50 /50',\n",
       "         'showlegend': True,\n",
       "         'type': 'scattergeo'},\n",
       "        {'geo': 'geo',\n",
       "         'hovertemplate': 'spaza_name=MALEVU STORE<br>lat=%{lat}<br>lon=%{lon}<extra></extra>',\n",
       "         'lat': ['-29.6544187127676'],\n",
       "         'legendgroup': 'MALEVU STORE',\n",
       "         'lon': ['30.3035974502564'],\n",
       "         'marker': {'color': '#FF6692', 'symbol': 'circle'},\n",
       "         'mode': 'markers',\n",
       "         'name': 'MALEVU STORE',\n",
       "         'showlegend': True,\n",
       "         'type': 'scattergeo'},\n",
       "        {'geo': 'geo',\n",
       "         'hovertemplate': 'spaza_name=DAHLAK GROCERY<br>lat=%{lat}<br>lon=%{lon}<extra></extra>',\n",
       "         'lat': ['-29.8643536098965'],\n",
       "         'legendgroup': 'DAHLAK GROCERY',\n",
       "         'lon': ['31.0404539108276'],\n",
       "         'marker': {'color': '#B6E880', 'symbol': 'circle'},\n",
       "         'mode': 'markers',\n",
       "         'name': 'DAHLAK GROCERY',\n",
       "         'showlegend': True,\n",
       "         'type': 'scattergeo'},\n",
       "        {'geo': 'geo',\n",
       "         'hovertemplate': 'spaza_name=VUKUZENZELE TUCK SHOP<br>lat=%{lat}<br>lon=%{lon}<extra></extra>',\n",
       "         'lat': ['-29.7112534887454'],\n",
       "         'legendgroup': 'VUKUZENZELE TUCK SHOP',\n",
       "         'lon': ['30.9725752472878'],\n",
       "         'marker': {'color': '#FF97FF', 'symbol': 'circle'},\n",
       "         'mode': 'markers',\n",
       "         'name': 'VUKUZENZELE TUCK SHOP',\n",
       "         'showlegend': True,\n",
       "         'type': 'scattergeo'},\n",
       "        {'geo': 'geo',\n",
       "         'hovertemplate': 'spaza_name=KWAMAHLOKOHLOKO TUCK SHOP<br>lat=%{lat}<br>lon=%{lon}<extra></extra>',\n",
       "         'lat': ['-29.6674709496059'],\n",
       "         'legendgroup': 'KWAMAHLOKOHLOKO TUCK SHOP',\n",
       "         'lon': ['31.0640090703964'],\n",
       "         'marker': {'color': '#FECB52', 'symbol': 'circle'},\n",
       "         'mode': 'markers',\n",
       "         'name': 'KWAMAHLOKOHLOKO TUCK SHOP',\n",
       "         'showlegend': True,\n",
       "         'type': 'scattergeo'},\n",
       "        {'geo': 'geo',\n",
       "         'hovertemplate': 'spaza_name=RAAGE SUPERMARKET<br>lat=%{lat}<br>lon=%{lon}<extra></extra>',\n",
       "         'lat': ['-29.8580142021957'],\n",
       "         'legendgroup': 'RAAGE SUPERMARKET',\n",
       "         'lon': ['31.0385730860799'],\n",
       "         'marker': {'color': '#636efa', 'symbol': 'circle'},\n",
       "         'mode': 'markers',\n",
       "         'name': 'RAAGE SUPERMARKET',\n",
       "         'showlegend': True,\n",
       "         'type': 'scattergeo'},\n",
       "        {'geo': 'geo',\n",
       "         'hovertemplate': 'spaza_name=ABANTU ZONKE SUPERMARKET<br>lat=%{lat}<br>lon=%{lon}<extra></extra>',\n",
       "         'lat': ['-29.8620833791186'],\n",
       "         'legendgroup': 'ABANTU ZONKE SUPERMARKET',\n",
       "         'lon': ['31.0150909423828'],\n",
       "         'marker': {'color': '#EF553B', 'symbol': 'circle'},\n",
       "         'mode': 'markers',\n",
       "         'name': 'ABANTU ZONKE SUPERMARKET',\n",
       "         'showlegend': True,\n",
       "         'type': 'scattergeo'},\n",
       "        {'geo': 'geo',\n",
       "         'hovertemplate': \"spaza_name=MUNIRA'S MINI SUPAMARKET<br>lat=%{lat}<br>lon=%{lon}<extra></extra>\",\n",
       "         'lat': ['-29.8570697698342'],\n",
       "         'legendgroup': \"MUNIRA'S MINI SUPAMARKET\",\n",
       "         'lon': ['31.0384204981165'],\n",
       "         'marker': {'color': '#00cc96', 'symbol': 'circle'},\n",
       "         'mode': 'markers',\n",
       "         'name': \"MUNIRA'S MINI SUPAMARKET\",\n",
       "         'showlegend': True,\n",
       "         'type': 'scattergeo'},\n",
       "        {'geo': 'geo',\n",
       "         'hovertemplate': 'spaza_name=ZIKODE TUCK SHOP<br>lat=%{lat}<br>lon=%{lon}<extra></extra>',\n",
       "         'lat': ['-29.7082715689868'],\n",
       "         'legendgroup': 'ZIKODE TUCK SHOP',\n",
       "         'lon': ['30.9792083501816'],\n",
       "         'marker': {'color': '#ab63fa', 'symbol': 'circle'},\n",
       "         'mode': 'markers',\n",
       "         'name': 'ZIKODE TUCK SHOP',\n",
       "         'showlegend': True,\n",
       "         'type': 'scattergeo'},\n",
       "        {'geo': 'geo',\n",
       "         'hovertemplate': 'spaza_name=4SEASONS SUPAMARKET<br>lat=%{lat}<br>lon=%{lon}<extra></extra>',\n",
       "         'lat': ['-29.8572636196227'],\n",
       "         'legendgroup': '4SEASONS SUPAMARKET',\n",
       "         'lon': ['31.038002371788'],\n",
       "         'marker': {'color': '#FFA15A', 'symbol': 'circle'},\n",
       "         'mode': 'markers',\n",
       "         'name': '4SEASONS SUPAMARKET',\n",
       "         'showlegend': True,\n",
       "         'type': 'scattergeo'},\n",
       "        {'geo': 'geo',\n",
       "         'hovertemplate': 'spaza_name=ZAMOKUHLE TUCKSHOP<br>lat=%{lat}<br>lon=%{lon}<extra></extra>',\n",
       "         'lat': ['-29.7416779842174'],\n",
       "         'legendgroup': 'ZAMOKUHLE TUCKSHOP',\n",
       "         'lon': ['30.9249740839005'],\n",
       "         'marker': {'color': '#19d3f3', 'symbol': 'circle'},\n",
       "         'mode': 'markers',\n",
       "         'name': 'ZAMOKUHLE TUCKSHOP',\n",
       "         'showlegend': True,\n",
       "         'type': 'scattergeo'},\n",
       "        {'geo': 'geo',\n",
       "         'hovertemplate': \"spaza_name=DAYO'S TUCK SHOP<br>lat=%{lat}<br>lon=%{lon}<extra></extra>\",\n",
       "         'lat': ['-29.8617484227'],\n",
       "         'legendgroup': \"DAYO'S TUCK SHOP\",\n",
       "         'lon': ['30.7652378082'],\n",
       "         'marker': {'color': '#FF6692', 'symbol': 'circle'},\n",
       "         'mode': 'markers',\n",
       "         'name': \"DAYO'S TUCK SHOP\",\n",
       "         'showlegend': True,\n",
       "         'type': 'scattergeo'},\n",
       "        {'geo': 'geo',\n",
       "         'hovertemplate': 'spaza_name=KISS TUCKSHOP<br>lat=%{lat}<br>lon=%{lon}<extra></extra>',\n",
       "         'lat': ['-29.9559012937038'],\n",
       "         'legendgroup': 'KISS TUCKSHOP',\n",
       "         'lon': ['30.8827587962151'],\n",
       "         'marker': {'color': '#B6E880', 'symbol': 'circle'},\n",
       "         'mode': 'markers',\n",
       "         'name': 'KISS TUCKSHOP',\n",
       "         'showlegend': True,\n",
       "         'type': 'scattergeo'},\n",
       "        {'geo': 'geo',\n",
       "         'hovertemplate': 'spaza_name=THANDABANTU TUCKSHOP<br>lat=%{lat}<br>lon=%{lon}<extra></extra>',\n",
       "         'lat': ['-29.9556781997579'],\n",
       "         'legendgroup': 'THANDABANTU TUCKSHOP',\n",
       "         'lon': ['30.8869430422783'],\n",
       "         'marker': {'color': '#FF97FF', 'symbol': 'circle'},\n",
       "         'mode': 'markers',\n",
       "         'name': 'THANDABANTU TUCKSHOP',\n",
       "         'showlegend': True,\n",
       "         'type': 'scattergeo'},\n",
       "        {'geo': 'geo',\n",
       "         'hovertemplate': 'spaza_name=BISMILLAH SUPAMARKET<br>lat=%{lat}<br>lon=%{lon}<extra></extra>',\n",
       "         'lat': ['-29.8512897723175'],\n",
       "         'legendgroup': 'BISMILLAH SUPAMARKET',\n",
       "         'lon': ['31.0160350799561'],\n",
       "         'marker': {'color': '#FECB52', 'symbol': 'circle'},\n",
       "         'mode': 'markers',\n",
       "         'name': 'BISMILLAH SUPAMARKET',\n",
       "         'showlegend': True,\n",
       "         'type': 'scattergeo'},\n",
       "        {'geo': 'geo',\n",
       "         'hovertemplate': 'spaza_name=GWACELA TUCKSHOP<br>lat=%{lat}<br>lon=%{lon}<extra></extra>',\n",
       "         'lat': ['-29.9553084411601'],\n",
       "         'legendgroup': 'GWACELA TUCKSHOP',\n",
       "         'lon': ['30.879997313059'],\n",
       "         'marker': {'color': '#636efa', 'symbol': 'circle'},\n",
       "         'mode': 'markers',\n",
       "         'name': 'GWACELA TUCKSHOP',\n",
       "         'showlegend': True,\n",
       "         'type': 'scattergeo'},\n",
       "        {'geo': 'geo',\n",
       "         'hovertemplate': \"spaza_name=BLESSING'S TUCK SHOP<br>lat=%{lat}<br>lon=%{lon}<extra></extra>\",\n",
       "         'lat': ['-29.6085049399974'],\n",
       "         'legendgroup': \"BLESSING'S TUCK SHOP\",\n",
       "         'lon': ['30.3721297753691'],\n",
       "         'marker': {'color': '#EF553B', 'symbol': 'circle'},\n",
       "         'mode': 'markers',\n",
       "         'name': \"BLESSING'S TUCK SHOP\",\n",
       "         'showlegend': True,\n",
       "         'type': 'scattergeo'},\n",
       "        {'geo': 'geo',\n",
       "         'hovertemplate': 'spaza_name=CABANGAKAHLE TUCK SHOP<br>lat=%{lat}<br>lon=%{lon}<extra></extra>',\n",
       "         'lat': ['-29.8582596'],\n",
       "         'legendgroup': 'CABANGAKAHLE TUCK SHOP',\n",
       "         'lon': ['30.7664187'],\n",
       "         'marker': {'color': '#00cc96', 'symbol': 'circle'},\n",
       "         'mode': 'markers',\n",
       "         'name': 'CABANGAKAHLE TUCK SHOP',\n",
       "         'showlegend': True,\n",
       "         'type': 'scattergeo'},\n",
       "        {'geo': 'geo',\n",
       "         'hovertemplate': 'spaza_name=MR SUPERMARKET<br>lat=%{lat}<br>lon=%{lon}<extra></extra>',\n",
       "         'lat': ['-29.8605202393801'],\n",
       "         'legendgroup': 'MR SUPERMARKET',\n",
       "         'lon': ['31.0156059265137'],\n",
       "         'marker': {'color': '#ab63fa', 'symbol': 'circle'},\n",
       "         'mode': 'markers',\n",
       "         'name': 'MR SUPERMARKET',\n",
       "         'showlegend': True,\n",
       "         'type': 'scattergeo'},\n",
       "        {'geo': 'geo',\n",
       "         'hovertemplate': 'spaza_name=BE-YOURSELF TUCK SHOP<br>lat=%{lat}<br>lon=%{lon}<extra></extra>',\n",
       "         'lat': ['-29.8595293077587'],\n",
       "         'legendgroup': 'BE-YOURSELF TUCK SHOP',\n",
       "         'lon': ['30.76819896698'],\n",
       "         'marker': {'color': '#FFA15A', 'symbol': 'circle'},\n",
       "         'mode': 'markers',\n",
       "         'name': 'BE-YOURSELF TUCK SHOP',\n",
       "         'showlegend': True,\n",
       "         'type': 'scattergeo'}],\n",
       "       'layout': {'geo': {'center': {}, 'domain': {'x': [0, 1], 'y': [0, 1]}},\n",
       "        'legend': {'title': {'text': 'spaza_name'}, 'tracegroupgap': 0},\n",
       "        'margin': {'t': 60},\n",
       "        'template': {'data': {'bar': [{'error_x': {'color': '#2a3f5f'},\n",
       "            'error_y': {'color': '#2a3f5f'},\n",
       "            'marker': {'line': {'color': '#E5ECF6', 'width': 0.5},\n",
       "             'pattern': {'fillmode': 'overlay', 'size': 10, 'solidity': 0.2}},\n",
       "            'type': 'bar'}],\n",
       "          'barpolar': [{'marker': {'line': {'color': '#E5ECF6', 'width': 0.5},\n",
       "             'pattern': {'fillmode': 'overlay', 'size': 10, 'solidity': 0.2}},\n",
       "            'type': 'barpolar'}],\n",
       "          'carpet': [{'aaxis': {'endlinecolor': '#2a3f5f',\n",
       "             'gridcolor': 'white',\n",
       "             'linecolor': 'white',\n",
       "             'minorgridcolor': 'white',\n",
       "             'startlinecolor': '#2a3f5f'},\n",
       "            'baxis': {'endlinecolor': '#2a3f5f',\n",
       "             'gridcolor': 'white',\n",
       "             'linecolor': 'white',\n",
       "             'minorgridcolor': 'white',\n",
       "             'startlinecolor': '#2a3f5f'},\n",
       "            'type': 'carpet'}],\n",
       "          'choropleth': [{'colorbar': {'outlinewidth': 0, 'ticks': ''},\n",
       "            'type': 'choropleth'}],\n",
       "          'contour': [{'colorbar': {'outlinewidth': 0, 'ticks': ''},\n",
       "            'colorscale': [[0, '#0d0887'],\n",
       "             [0.1111111111111111, '#46039f'],\n",
       "             [0.2222222222222222, '#7201a8'],\n",
       "             [0.3333333333333333, '#9c179e'],\n",
       "             [0.4444444444444444, '#bd3786'],\n",
       "             [0.5555555555555556, '#d8576b'],\n",
       "             [0.6666666666666666, '#ed7953'],\n",
       "             [0.7777777777777778, '#fb9f3a'],\n",
       "             [0.8888888888888888, '#fdca26'],\n",
       "             [1, '#f0f921']],\n",
       "            'type': 'contour'}],\n",
       "          'contourcarpet': [{'colorbar': {'outlinewidth': 0, 'ticks': ''},\n",
       "            'type': 'contourcarpet'}],\n",
       "          'heatmap': [{'colorbar': {'outlinewidth': 0, 'ticks': ''},\n",
       "            'colorscale': [[0, '#0d0887'],\n",
       "             [0.1111111111111111, '#46039f'],\n",
       "             [0.2222222222222222, '#7201a8'],\n",
       "             [0.3333333333333333, '#9c179e'],\n",
       "             [0.4444444444444444, '#bd3786'],\n",
       "             [0.5555555555555556, '#d8576b'],\n",
       "             [0.6666666666666666, '#ed7953'],\n",
       "             [0.7777777777777778, '#fb9f3a'],\n",
       "             [0.8888888888888888, '#fdca26'],\n",
       "             [1, '#f0f921']],\n",
       "            'type': 'heatmap'}],\n",
       "          'heatmapgl': [{'colorbar': {'outlinewidth': 0, 'ticks': ''},\n",
       "            'colorscale': [[0, '#0d0887'],\n",
       "             [0.1111111111111111, '#46039f'],\n",
       "             [0.2222222222222222, '#7201a8'],\n",
       "             [0.3333333333333333, '#9c179e'],\n",
       "             [0.4444444444444444, '#bd3786'],\n",
       "             [0.5555555555555556, '#d8576b'],\n",
       "             [0.6666666666666666, '#ed7953'],\n",
       "             [0.7777777777777778, '#fb9f3a'],\n",
       "             [0.8888888888888888, '#fdca26'],\n",
       "             [1, '#f0f921']],\n",
       "            'type': 'heatmapgl'}],\n",
       "          'histogram': [{'marker': {'pattern': {'fillmode': 'overlay',\n",
       "              'size': 10,\n",
       "              'solidity': 0.2}},\n",
       "            'type': 'histogram'}],\n",
       "          'histogram2d': [{'colorbar': {'outlinewidth': 0, 'ticks': ''},\n",
       "            'colorscale': [[0, '#0d0887'],\n",
       "             [0.1111111111111111, '#46039f'],\n",
       "             [0.2222222222222222, '#7201a8'],\n",
       "             [0.3333333333333333, '#9c179e'],\n",
       "             [0.4444444444444444, '#bd3786'],\n",
       "             [0.5555555555555556, '#d8576b'],\n",
       "             [0.6666666666666666, '#ed7953'],\n",
       "             [0.7777777777777778, '#fb9f3a'],\n",
       "             [0.8888888888888888, '#fdca26'],\n",
       "             [1, '#f0f921']],\n",
       "            'type': 'histogram2d'}],\n",
       "          'histogram2dcontour': [{'colorbar': {'outlinewidth': 0, 'ticks': ''},\n",
       "            'colorscale': [[0, '#0d0887'],\n",
       "             [0.1111111111111111, '#46039f'],\n",
       "             [0.2222222222222222, '#7201a8'],\n",
       "             [0.3333333333333333, '#9c179e'],\n",
       "             [0.4444444444444444, '#bd3786'],\n",
       "             [0.5555555555555556, '#d8576b'],\n",
       "             [0.6666666666666666, '#ed7953'],\n",
       "             [0.7777777777777778, '#fb9f3a'],\n",
       "             [0.8888888888888888, '#fdca26'],\n",
       "             [1, '#f0f921']],\n",
       "            'type': 'histogram2dcontour'}],\n",
       "          'mesh3d': [{'colorbar': {'outlinewidth': 0, 'ticks': ''},\n",
       "            'type': 'mesh3d'}],\n",
       "          'parcoords': [{'line': {'colorbar': {'outlinewidth': 0,\n",
       "              'ticks': ''}},\n",
       "            'type': 'parcoords'}],\n",
       "          'pie': [{'automargin': True, 'type': 'pie'}],\n",
       "          'scatter': [{'fillpattern': {'fillmode': 'overlay',\n",
       "             'size': 10,\n",
       "             'solidity': 0.2},\n",
       "            'type': 'scatter'}],\n",
       "          'scatter3d': [{'line': {'colorbar': {'outlinewidth': 0,\n",
       "              'ticks': ''}},\n",
       "            'marker': {'colorbar': {'outlinewidth': 0, 'ticks': ''}},\n",
       "            'type': 'scatter3d'}],\n",
       "          'scattercarpet': [{'marker': {'colorbar': {'outlinewidth': 0,\n",
       "              'ticks': ''}},\n",
       "            'type': 'scattercarpet'}],\n",
       "          'scattergeo': [{'marker': {'colorbar': {'outlinewidth': 0,\n",
       "              'ticks': ''}},\n",
       "            'type': 'scattergeo'}],\n",
       "          'scattergl': [{'marker': {'colorbar': {'outlinewidth': 0,\n",
       "              'ticks': ''}},\n",
       "            'type': 'scattergl'}],\n",
       "          'scattermapbox': [{'marker': {'colorbar': {'outlinewidth': 0,\n",
       "              'ticks': ''}},\n",
       "            'type': 'scattermapbox'}],\n",
       "          'scatterpolar': [{'marker': {'colorbar': {'outlinewidth': 0,\n",
       "              'ticks': ''}},\n",
       "            'type': 'scatterpolar'}],\n",
       "          'scatterpolargl': [{'marker': {'colorbar': {'outlinewidth': 0,\n",
       "              'ticks': ''}},\n",
       "            'type': 'scatterpolargl'}],\n",
       "          'scatterternary': [{'marker': {'colorbar': {'outlinewidth': 0,\n",
       "              'ticks': ''}},\n",
       "            'type': 'scatterternary'}],\n",
       "          'surface': [{'colorbar': {'outlinewidth': 0, 'ticks': ''},\n",
       "            'colorscale': [[0, '#0d0887'],\n",
       "             [0.1111111111111111, '#46039f'],\n",
       "             [0.2222222222222222, '#7201a8'],\n",
       "             [0.3333333333333333, '#9c179e'],\n",
       "             [0.4444444444444444, '#bd3786'],\n",
       "             [0.5555555555555556, '#d8576b'],\n",
       "             [0.6666666666666666, '#ed7953'],\n",
       "             [0.7777777777777778, '#fb9f3a'],\n",
       "             [0.8888888888888888, '#fdca26'],\n",
       "             [1, '#f0f921']],\n",
       "            'type': 'surface'}],\n",
       "          'table': [{'cells': {'fill': {'color': '#EBF0F8'},\n",
       "             'line': {'color': 'white'}},\n",
       "            'header': {'fill': {'color': '#C8D4E3'},\n",
       "             'line': {'color': 'white'}},\n",
       "            'type': 'table'}]},\n",
       "         'layout': {'annotationdefaults': {'arrowcolor': '#2a3f5f',\n",
       "           'arrowhead': 0,\n",
       "           'arrowwidth': 1},\n",
       "          'autotypenumbers': 'strict',\n",
       "          'coloraxis': {'colorbar': {'outlinewidth': 0, 'ticks': ''}},\n",
       "          'colorscale': {'diverging': [[0, '#8e0152'],\n",
       "            [0.1, '#c51b7d'],\n",
       "            [0.2, '#de77ae'],\n",
       "            [0.3, '#f1b6da'],\n",
       "            [0.4, '#fde0ef'],\n",
       "            [0.5, '#f7f7f7'],\n",
       "            [0.6, '#e6f5d0'],\n",
       "            [0.7, '#b8e186'],\n",
       "            [0.8, '#7fbc41'],\n",
       "            [0.9, '#4d9221'],\n",
       "            [1, '#276419']],\n",
       "           'sequential': [[0, '#0d0887'],\n",
       "            [0.1111111111111111, '#46039f'],\n",
       "            [0.2222222222222222, '#7201a8'],\n",
       "            [0.3333333333333333, '#9c179e'],\n",
       "            [0.4444444444444444, '#bd3786'],\n",
       "            [0.5555555555555556, '#d8576b'],\n",
       "            [0.6666666666666666, '#ed7953'],\n",
       "            [0.7777777777777778, '#fb9f3a'],\n",
       "            [0.8888888888888888, '#fdca26'],\n",
       "            [1, '#f0f921']],\n",
       "           'sequentialminus': [[0, '#0d0887'],\n",
       "            [0.1111111111111111, '#46039f'],\n",
       "            [0.2222222222222222, '#7201a8'],\n",
       "            [0.3333333333333333, '#9c179e'],\n",
       "            [0.4444444444444444, '#bd3786'],\n",
       "            [0.5555555555555556, '#d8576b'],\n",
       "            [0.6666666666666666, '#ed7953'],\n",
       "            [0.7777777777777778, '#fb9f3a'],\n",
       "            [0.8888888888888888, '#fdca26'],\n",
       "            [1, '#f0f921']]},\n",
       "          'colorway': ['#636efa',\n",
       "           '#EF553B',\n",
       "           '#00cc96',\n",
       "           '#ab63fa',\n",
       "           '#FFA15A',\n",
       "           '#19d3f3',\n",
       "           '#FF6692',\n",
       "           '#B6E880',\n",
       "           '#FF97FF',\n",
       "           '#FECB52'],\n",
       "          'font': {'color': '#2a3f5f'},\n",
       "          'geo': {'bgcolor': 'white',\n",
       "           'lakecolor': 'white',\n",
       "           'landcolor': '#E5ECF6',\n",
       "           'showlakes': True,\n",
       "           'showland': True,\n",
       "           'subunitcolor': 'white'},\n",
       "          'hoverlabel': {'align': 'left'},\n",
       "          'hovermode': 'closest',\n",
       "          'mapbox': {'style': 'light'},\n",
       "          'paper_bgcolor': 'white',\n",
       "          'plot_bgcolor': '#E5ECF6',\n",
       "          'polar': {'angularaxis': {'gridcolor': 'white',\n",
       "            'linecolor': 'white',\n",
       "            'ticks': ''},\n",
       "           'bgcolor': '#E5ECF6',\n",
       "           'radialaxis': {'gridcolor': 'white',\n",
       "            'linecolor': 'white',\n",
       "            'ticks': ''}},\n",
       "          'scene': {'xaxis': {'backgroundcolor': '#E5ECF6',\n",
       "            'gridcolor': 'white',\n",
       "            'gridwidth': 2,\n",
       "            'linecolor': 'white',\n",
       "            'showbackground': True,\n",
       "            'ticks': '',\n",
       "            'zerolinecolor': 'white'},\n",
       "           'yaxis': {'backgroundcolor': '#E5ECF6',\n",
       "            'gridcolor': 'white',\n",
       "            'gridwidth': 2,\n",
       "            'linecolor': 'white',\n",
       "            'showbackground': True,\n",
       "            'ticks': '',\n",
       "            'zerolinecolor': 'white'},\n",
       "           'zaxis': {'backgroundcolor': '#E5ECF6',\n",
       "            'gridcolor': 'white',\n",
       "            'gridwidth': 2,\n",
       "            'linecolor': 'white',\n",
       "            'showbackground': True,\n",
       "            'ticks': '',\n",
       "            'zerolinecolor': 'white'}},\n",
       "          'shapedefaults': {'line': {'color': '#2a3f5f'}},\n",
       "          'ternary': {'aaxis': {'gridcolor': 'white',\n",
       "            'linecolor': 'white',\n",
       "            'ticks': ''},\n",
       "           'baxis': {'gridcolor': 'white', 'linecolor': 'white', 'ticks': ''},\n",
       "           'bgcolor': '#E5ECF6',\n",
       "           'caxis': {'gridcolor': 'white', 'linecolor': 'white', 'ticks': ''}},\n",
       "          'title': {'x': 0.05},\n",
       "          'xaxis': {'automargin': True,\n",
       "           'gridcolor': 'white',\n",
       "           'linecolor': 'white',\n",
       "           'ticks': '',\n",
       "           'title': {'standoff': 15},\n",
       "           'zerolinecolor': 'white',\n",
       "           'zerolinewidth': 2},\n",
       "          'yaxis': {'automargin': True,\n",
       "           'gridcolor': 'white',\n",
       "           'linecolor': 'white',\n",
       "           'ticks': '',\n",
       "           'title': {'standoff': 15},\n",
       "           'zerolinecolor': 'white',\n",
       "           'zerolinewidth': 2}}}}}},\n",
       "     'metadata': {},\n",
       "     'output_type': 'display_data'}],\n",
       "   'source': [\"fig = px.scatter_geo(df, lat = 'lat', lon = 'lon', color='spaza_name')\\n\",\n",
       "    '\\n',\n",
       "    'fig']},\n",
       "  {'cell_type': 'code',\n",
       "   'execution_count': None,\n",
       "   'id': '79e742db',\n",
       "   'metadata': {},\n",
       "   'outputs': [{'data': {'text/plain': [\"Index(['jobber_id', 'spaza_type', 'role', 'number_of_spazas', 'spaza_age',\\n\",\n",
       "       \"       'stock_repl_freq', 'stock_orders_day', 'store_items', 'shelving_1',\\n\",\n",
       "       \"       'till_points_1', 'weekly_ode_amount', 'monthly_sales',\\n\",\n",
       "       \"       'brands_in-store', '0_supplier_wholesalers', '0_order_%_wholesalers',\\n\",\n",
       "       \"       '1_supplier_wholesalers', '1_order_%_wholesalers',\\n\",\n",
       "       \"       '2_supplier_wholesalers', '2_order_%_wholesalers',\\n\",\n",
       "       \"       'till_slip_submission_-_visit_1', 'till_slip_submission_-_visit_2',\\n\",\n",
       "       \"       'date_completed', 'time_completed', 'lon', 'lat', 'spaza_name',\\n\",\n",
       "       \"       'spaza_type_descr', 'role_descr', 'nationality_descr',\\n\",\n",
       "       \"       'spaza_age_descr', 'deposit_freq_descr', 'stock_freq_descr',\\n\",\n",
       "       \"       'stock_orders_day_descr', 'items_sold', 'shelving_descr',\\n\",\n",
       "       \"       'no_of_fridges', 'methods_of_pay', 'brands_in-store_desc'],\\n\",\n",
       "       \"      dtype='object')\"]},\n",
       "     'execution_count': 103,\n",
       "     'metadata': {},\n",
       "     'output_type': 'execute_result'}],\n",
       "   'source': ['df.columns']}],\n",
       " 'metadata': {'kernelspec': {'display_name': 'Python 3 (ipykernel)',\n",
       "   'language': 'python',\n",
       "   'name': 'python3'},\n",
       "  'language_info': {'codemirror_mode': {'name': 'ipython', 'version': 3},\n",
       "   'file_extension': '.py',\n",
       "   'mimetype': 'text/x-python',\n",
       "   'name': 'python',\n",
       "   'nbconvert_exporter': 'python',\n",
       "   'pygments_lexer': 'ipython3',\n",
       "   'version': '3.11.4'},\n",
       "  'toc-autonumbering': False},\n",
       " 'nbformat': 4,\n",
       " 'nbformat_minor': 5}"
      ]
     },
     "execution_count": 34,
     "metadata": {},
     "output_type": "execute_result"
    }
   ],
   "source": [
    "import json\n",
    "\n",
    "\n",
    "with open(\"Spaza dataset.ipynb\", encoding = \"UTF-8\") as file:\n",
    "    data = json.load(file)\n",
    "    \n",
    "programming_language = data[\"metadata\"][\"kernelspec\"][\"language\"]\n",
    "\n",
    "data"
   ]
  }
 ],
 "metadata": {
  "kernelspec": {
   "display_name": "Python 3 (ipykernel)",
   "language": "python",
   "name": "python3"
  },
  "language_info": {
   "codemirror_mode": {
    "name": "ipython",
    "version": 3
   },
   "file_extension": ".py",
   "mimetype": "text/x-python",
   "name": "python",
   "nbconvert_exporter": "python",
   "pygments_lexer": "ipython3",
   "version": "3.11.4"
  },
  "toc-autonumbering": false
 },
 "nbformat": 4,
 "nbformat_minor": 5
}
